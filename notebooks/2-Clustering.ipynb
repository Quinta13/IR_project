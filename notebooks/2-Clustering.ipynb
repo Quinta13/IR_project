{
 "cells": [
  {
   "cell_type": "code",
   "execution_count": 1,
   "outputs": [],
   "source": [
    "%load_ext autoreload\n",
    "%autoreload 2"
   ],
   "metadata": {
    "collapsed": false,
    "ExecuteTime": {
     "end_time": "2023-08-30T14:13:10.964992267Z",
     "start_time": "2023-08-30T14:13:10.963916641Z"
    }
   },
   "id": "3f22b6d5b5019ef4"
  },
  {
   "cell_type": "markdown",
   "source": [
    "# Clustering"
   ],
   "metadata": {
    "collapsed": false
   },
   "id": "641a2dbfad61288d"
  },
  {
   "cell_type": "markdown",
   "source": [
    "## 1. Data loading"
   ],
   "metadata": {
    "collapsed": false
   },
   "id": "914abfa53f56b66f"
  },
  {
   "cell_type": "markdown",
   "source": [
    "Load version from settings."
   ],
   "metadata": {
    "collapsed": false
   },
   "id": "d623b6b9304bf4c9"
  },
  {
   "cell_type": "code",
   "execution_count": 2,
   "outputs": [
    {
     "data": {
      "text/plain": "tiny [Docs: 10000; Terms: 8000; Approximation error: 0.35]"
     },
     "execution_count": 2,
     "metadata": {},
     "output_type": "execute_result"
    }
   ],
   "source": [
    "from settings import DATASETS_CONFIG\n",
    "\n",
    "config = DATASETS_CONFIG[\"tiny\"]\n",
    "config"
   ],
   "metadata": {
    "collapsed": false,
    "ExecuteTime": {
     "end_time": "2023-08-30T14:13:13.401850226Z",
     "start_time": "2023-08-30T14:13:11.402266872Z"
    }
   },
   "id": "2bafe305cae35233"
  },
  {
   "cell_type": "code",
   "execution_count": 3,
   "outputs": [
    {
     "name": "stdout",
     "output_type": "stream",
     "text": [
      "INFO: Loading matrix. \n",
      "I/O: Loading /home/sebaq/Documents/GitHub/IR_project/dataset/data.npz. \n",
      "INFO: Removing non informative terms. \n",
      "INFO: Sorting documents by terms count. \n",
      "INFO: Sorting terms by their frequency. \n"
     ]
    }
   ],
   "source": [
    "from model.dataset import RCV1Loader\n",
    "\n",
    "mat = RCV1Loader(config=config).load(sort_docs=True, sort_terms=True).embed()"
   ],
   "metadata": {
    "collapsed": false,
    "ExecuteTime": {
     "end_time": "2023-08-30T14:13:19.056927920Z",
     "start_time": "2023-08-30T14:13:13.363433796Z"
    }
   },
   "id": "113e80be391e7d95"
  },
  {
   "cell_type": "markdown",
   "source": [
    "Load the data."
   ],
   "metadata": {
    "collapsed": false
   },
   "id": "eae14c1fdf48a3fc"
  },
  {
   "cell_type": "markdown",
   "source": [
    "## 3. Clustering"
   ],
   "metadata": {
    "collapsed": false
   },
   "id": "b9854179e3a1bc97"
  },
  {
   "cell_type": "markdown",
   "source": [
    "We perform clustering in the embedded space. We look for a number of cluster which is the root of the number of items."
   ],
   "metadata": {
    "collapsed": false
   },
   "id": "f41d08ca576ce0b7"
  },
  {
   "cell_type": "code",
   "execution_count": 4,
   "outputs": [
    {
     "data": {
      "text/plain": "100"
     },
     "execution_count": 4,
     "metadata": {},
     "output_type": "execute_result"
    }
   ],
   "source": [
    "from model.clustering import KMeansClustering\n",
    "from math import sqrt\n",
    "\n",
    "n_clusters = int(sqrt(config.docs))\n",
    "\n",
    "n_clusters"
   ],
   "metadata": {
    "collapsed": false,
    "ExecuteTime": {
     "end_time": "2023-08-30T14:13:19.185852218Z",
     "start_time": "2023-08-30T14:13:19.056372993Z"
    }
   },
   "id": "e13d853d128a59c1"
  },
  {
   "cell_type": "code",
   "execution_count": 5,
   "outputs": [
    {
     "data": {
      "text/plain": "KMeansClustering[Items: 10000; k: 100;  Labeling-available: True]"
     },
     "execution_count": 5,
     "metadata": {},
     "output_type": "execute_result"
    }
   ],
   "source": [
    "kmeans = KMeansClustering(\n",
    "    mat=mat,\n",
    "    name=config.name,\n",
    "    k=n_clusters\n",
    ")\n",
    "\n",
    "kmeans"
   ],
   "metadata": {
    "collapsed": false,
    "ExecuteTime": {
     "end_time": "2023-08-30T14:13:19.251293410Z",
     "start_time": "2023-08-30T14:13:19.187148120Z"
    }
   },
   "id": "3201f369e50b94b5"
  },
  {
   "cell_type": "markdown",
   "source": [
    "Fit clustering model."
   ],
   "metadata": {
    "collapsed": false
   },
   "id": "fd859a4ffbe276af"
  },
  {
   "cell_type": "code",
   "execution_count": 6,
   "outputs": [
    {
     "name": "stdout",
     "output_type": "stream",
     "text": [
      "INFO: Labels already computed. Loading from disk. \n",
      "I/O: Loading /home/sebaq/Documents/GitHub/IR_project/dataset/tiny/labeling.json \n",
      "CPU times: user 3.95 ms, sys: 0 ns, total: 3.95 ms\n",
      "Wall time: 3.68 ms\n"
     ]
    }
   ],
   "source": [
    "%%time\n",
    "\n",
    "kmeans.labels;"
   ],
   "metadata": {
    "collapsed": false,
    "ExecuteTime": {
     "end_time": "2023-08-30T14:13:19.269890867Z",
     "start_time": "2023-08-30T14:13:19.225760059Z"
    }
   },
   "id": "d09e4c9fcc6de699"
  },
  {
   "cell_type": "markdown",
   "source": [
    "Let's see output labeling."
   ],
   "metadata": {
    "collapsed": false
   },
   "id": "b784864ebbd3d86b"
  },
  {
   "cell_type": "code",
   "execution_count": 7,
   "outputs": [
    {
     "data": {
      "text/plain": "array([80, 80, 99, ...,  4,  4,  4])"
     },
     "execution_count": 7,
     "metadata": {},
     "output_type": "execute_result"
    }
   ],
   "source": [
    "kmeans.labels"
   ],
   "metadata": {
    "collapsed": false,
    "ExecuteTime": {
     "end_time": "2023-08-30T14:13:19.345031161Z",
     "start_time": "2023-08-30T14:13:19.260819496Z"
    }
   },
   "id": "9256447e4a626cf1"
  },
  {
   "cell_type": "markdown",
   "source": [
    "Save labeling."
   ],
   "metadata": {
    "collapsed": false
   },
   "id": "fc34155aa1fce7ad"
  },
  {
   "cell_type": "code",
   "execution_count": 8,
   "outputs": [
    {
     "name": "stdout",
     "output_type": "stream",
     "text": [
      "I/O: Overwriting /home/sebaq/Documents/GitHub/IR_project/dataset/tiny/labeling.json \n"
     ]
    }
   ],
   "source": [
    "kmeans.save_labels()"
   ],
   "metadata": {
    "collapsed": false,
    "ExecuteTime": {
     "end_time": "2023-08-30T14:13:19.373341249Z",
     "start_time": "2023-08-30T14:13:19.296604036Z"
    }
   },
   "id": "6cd184600dd52cd5"
  },
  {
   "cell_type": "markdown",
   "source": [
    "## 4. Clustering split"
   ],
   "metadata": {
    "collapsed": false
   },
   "id": "b5a30301d212c7d6"
  },
  {
   "cell_type": "markdown",
   "source": [
    "Split dataset with resulting clusters."
   ],
   "metadata": {
    "collapsed": false
   },
   "id": "a5727d4c34aa2c33"
  },
  {
   "cell_type": "code",
   "execution_count": 9,
   "outputs": [
    {
     "data": {
      "text/plain": "ClusterDataSplit [Data: 10000, Clusters: 100, Mean-per-Cluster: 100.000]"
     },
     "execution_count": 9,
     "metadata": {},
     "output_type": "execute_result"
    }
   ],
   "source": [
    "clusters = kmeans.clusters\n",
    "clusters"
   ],
   "metadata": {
    "collapsed": false,
    "ExecuteTime": {
     "end_time": "2023-08-30T14:13:19.446380579Z",
     "start_time": "2023-08-30T14:13:19.339991023Z"
    }
   },
   "id": "daa7d9b1cabdee74"
  },
  {
   "cell_type": "markdown",
   "source": [
    "We compute the medoid for each cluster."
   ],
   "metadata": {
    "collapsed": false
   },
   "id": "58f59265e90fd53d"
  },
  {
   "cell_type": "code",
   "execution_count": 10,
   "outputs": [
    {
     "name": "stdout",
     "output_type": "stream",
     "text": [
      "INFO: Loading medoids from disk\n",
      "I/O: Loading /home/sebaq/Documents/GitHub/IR_project/dataset/tiny/medoids.npy. \n"
     ]
    }
   ],
   "source": [
    "clusters.medoids;"
   ],
   "metadata": {
    "collapsed": false,
    "ExecuteTime": {
     "end_time": "2023-08-30T14:13:19.449621196Z",
     "start_time": "2023-08-30T14:13:19.403423322Z"
    }
   },
   "id": "950213d5df51240a"
  },
  {
   "cell_type": "code",
   "execution_count": 11,
   "outputs": [
    {
     "name": "stdout",
     "output_type": "stream",
     "text": [
      "INFO: Saving medoids \n",
      "I/O: Directory /home/sebaq/Documents/GitHub/IR_project/dataset/tiny already exists \n",
      "I/O: Overwriting /home/sebaq/Documents/GitHub/IR_project/dataset/tiny/medoids.npy. \n"
     ]
    }
   ],
   "source": [
    "clusters.save_medoids()"
   ],
   "metadata": {
    "collapsed": false,
    "ExecuteTime": {
     "end_time": "2023-08-30T14:13:19.538487065Z",
     "start_time": "2023-08-30T14:13:19.487893446Z"
    }
   },
   "id": "f95e450133e4f9b9"
  },
  {
   "cell_type": "code",
   "execution_count": 12,
   "outputs": [
    {
     "data": {
      "text/plain": "array([[ 0.        ,  0.01463922,  0.        , ..., -0.01463922,\n         0.        ,  0.        ],\n       [ 0.        ,  0.        ,  0.        , ..., -0.01957361,\n         0.        ,  0.        ],\n       [ 0.        ,  0.        ,  0.        , ...,  0.        ,\n         0.        ,  0.        ],\n       ...,\n       [ 0.        ,  0.        ,  0.        , ...,  0.        ,\n         0.        ,  0.        ],\n       [ 0.        ,  0.        ,  0.        , ...,  0.        ,\n         0.        ,  0.        ],\n       [ 0.        ,  0.        ,  0.        , ...,  0.        ,\n         0.        ,  0.02364533]])"
     },
     "execution_count": 12,
     "metadata": {},
     "output_type": "execute_result"
    }
   ],
   "source": [
    "clusters.medoids"
   ],
   "metadata": {
    "collapsed": false,
    "ExecuteTime": {
     "end_time": "2023-08-30T14:13:26.039597705Z",
     "start_time": "2023-08-30T14:13:25.927887801Z"
    }
   },
   "id": "13c8131b84ac06ea"
  },
  {
   "cell_type": "code",
   "execution_count": null,
   "outputs": [],
   "source": [],
   "metadata": {
    "collapsed": false
   },
   "id": "e582c064a6ada8a6"
  }
 ],
 "metadata": {
  "kernelspec": {
   "display_name": "Python 3",
   "language": "python",
   "name": "python3"
  },
  "language_info": {
   "codemirror_mode": {
    "name": "ipython",
    "version": 2
   },
   "file_extension": ".py",
   "mimetype": "text/x-python",
   "name": "python",
   "nbconvert_exporter": "python",
   "pygments_lexer": "ipython2",
   "version": "2.7.6"
  }
 },
 "nbformat": 4,
 "nbformat_minor": 5
}
