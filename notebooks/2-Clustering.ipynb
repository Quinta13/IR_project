{
 "cells": [
  {
   "cell_type": "code",
   "execution_count": 1,
   "outputs": [],
   "source": [
    "%load_ext autoreload\n",
    "%autoreload 2"
   ],
   "metadata": {
    "collapsed": false,
    "ExecuteTime": {
     "end_time": "2023-08-29T16:02:53.249155271Z",
     "start_time": "2023-08-29T16:02:53.242318375Z"
    }
   },
   "id": "3f22b6d5b5019ef4"
  },
  {
   "cell_type": "markdown",
   "source": [
    "# Clustering"
   ],
   "metadata": {
    "collapsed": false
   },
   "id": "641a2dbfad61288d"
  },
  {
   "cell_type": "markdown",
   "source": [
    "## 1. Data loading"
   ],
   "metadata": {
    "collapsed": false
   },
   "id": "914abfa53f56b66f"
  },
  {
   "cell_type": "markdown",
   "source": [
    "We load data as in previous analysis: docs and terms are sorted by length and frequencies."
   ],
   "metadata": {
    "collapsed": false
   },
   "id": "adcf30a41d21e947"
  },
  {
   "cell_type": "code",
   "execution_count": 2,
   "outputs": [
    {
     "data": {
      "text/plain": "RCV1Loader [File: /home/sebaq/Documents/GitHub/IR_project/dataset/data.npz]"
     },
     "execution_count": 2,
     "metadata": {},
     "output_type": "execute_result"
    }
   ],
   "source": [
    "from model.dataset import RCV1Loader\n",
    "\n",
    "loader = RCV1Loader()\n",
    "loader"
   ],
   "metadata": {
    "collapsed": false,
    "ExecuteTime": {
     "end_time": "2023-08-29T16:02:54.597770449Z",
     "start_time": "2023-08-29T16:02:53.242625632Z"
    }
   },
   "id": "9db583c56ff786fd"
  },
  {
   "cell_type": "code",
   "execution_count": 3,
   "outputs": [
    {
     "name": "stdout",
     "output_type": "stream",
     "text": [
      "INFO: Loading matrix. \n",
      "I/O: Loading /home/sebaq/Documents/GitHub/IR_project/dataset/data.npz. \n",
      "INFO: Removing non informative terms. \n",
      "INFO: Sorting documents by terms count. \n",
      "INFO: Sorting terms by their frequency. \n"
     ]
    }
   ],
   "source": [
    "from settings import DATASETS\n",
    "\n",
    "dataset = DATASETS[\"tiny\"]\n",
    "\n",
    "data = loader.load(\n",
    "    docs=dataset.docs, terms=dataset.terms,\n",
    "    sort_docs=True, sort_terms=True\n",
    ")"
   ],
   "metadata": {
    "collapsed": false,
    "ExecuteTime": {
     "end_time": "2023-08-29T16:03:00.384453146Z",
     "start_time": "2023-08-29T16:02:54.558364780Z"
    }
   },
   "id": "2bafe305cae35233"
  },
  {
   "cell_type": "code",
   "execution_count": 4,
   "outputs": [
    {
     "data": {
      "text/plain": "DocumentsCollection[Docs: 10000; Terms: 5170; Nonzero: 110075]"
     },
     "execution_count": 4,
     "metadata": {},
     "output_type": "execute_result"
    }
   ],
   "source": [
    "data"
   ],
   "metadata": {
    "collapsed": false,
    "ExecuteTime": {
     "end_time": "2023-08-29T16:03:00.419234563Z",
     "start_time": "2023-08-29T16:03:00.381331442Z"
    }
   },
   "id": "f106199d8448c7db"
  },
  {
   "cell_type": "markdown",
   "source": [
    "## 2. Dimensionality reduction"
   ],
   "metadata": {
    "collapsed": false
   },
   "id": "c054c81cc4a62027"
  },
  {
   "cell_type": "markdown",
   "source": [
    "We apply the [Johnson-Lindenstrauss lemma](https://scikit-learn.org/stable/modules/random_projection.html) to perform dimensionality reduction an dramatically reduce the vector space where to apply clustering."
   ],
   "metadata": {
    "collapsed": false
   },
   "id": "da533af7b097d961"
  },
  {
   "cell_type": "code",
   "execution_count": 5,
   "outputs": [],
   "source": [
    "embedding = data.embed(eps=dataset.eps)"
   ],
   "metadata": {
    "collapsed": false,
    "ExecuteTime": {
     "end_time": "2023-08-29T16:03:06.584230308Z",
     "start_time": "2023-08-29T16:03:05.279249483Z"
    }
   },
   "id": "8c67e673e719a42f"
  },
  {
   "cell_type": "markdown",
   "source": [
    "Target dimension with the approximation error:"
   ],
   "metadata": {
    "collapsed": false
   },
   "id": "d0f8cd4d6ac26ebc"
  },
  {
   "cell_type": "code",
   "execution_count": 6,
   "outputs": [
    {
     "data": {
      "text/plain": "(10000, 784)"
     },
     "execution_count": 6,
     "metadata": {},
     "output_type": "execute_result"
    }
   ],
   "source": [
    "embedding.shape"
   ],
   "metadata": {
    "collapsed": false,
    "ExecuteTime": {
     "end_time": "2023-08-29T16:03:08.299791499Z",
     "start_time": "2023-08-29T16:03:08.248523227Z"
    }
   },
   "id": "a4ce55e2e8001b8"
  },
  {
   "cell_type": "code",
   "execution_count": 7,
   "outputs": [
    {
     "data": {
      "text/plain": "array([[-0.03492827,  0.01056052,  0.00830388, ...,  0.00584377,\n         0.02920113,  0.        ],\n       [-0.03445972,  0.00461305,  0.01182234, ...,  0.01039861,\n         0.00465934,  0.        ],\n       [-0.01390731,  0.00449085, -0.0287742 , ...,  0.01459819,\n         0.02523996,  0.01071666],\n       ...,\n       [ 0.        ,  0.        ,  0.        , ...,  0.        ,\n         0.        ,  0.        ],\n       [ 0.        ,  0.        ,  0.        , ...,  0.        ,\n         0.        ,  0.        ],\n       [ 0.        ,  0.        ,  0.        , ...,  0.        ,\n         0.        ,  0.        ]])"
     },
     "execution_count": 7,
     "metadata": {},
     "output_type": "execute_result"
    }
   ],
   "source": [
    "embedding"
   ],
   "metadata": {
    "collapsed": false,
    "ExecuteTime": {
     "end_time": "2023-08-29T16:03:09.512701800Z",
     "start_time": "2023-08-29T16:03:09.420441452Z"
    }
   },
   "id": "d792db14e5c1c311"
  },
  {
   "cell_type": "markdown",
   "source": [
    "## 3. Clustering"
   ],
   "metadata": {
    "collapsed": false
   },
   "id": "b9854179e3a1bc97"
  },
  {
   "cell_type": "markdown",
   "source": [
    "We perform clustering in the embedded space. We look for a number of cluster which is the root of the number of items."
   ],
   "metadata": {
    "collapsed": false
   },
   "id": "f41d08ca576ce0b7"
  },
  {
   "cell_type": "code",
   "execution_count": 8,
   "outputs": [
    {
     "data": {
      "text/plain": "KMeansClustering[Items: 10000; k: 100;  Fitted: False]"
     },
     "execution_count": 8,
     "metadata": {},
     "output_type": "execute_result"
    }
   ],
   "source": [
    "from model.clustering import KMeansClustering\n",
    "from math import sqrt\n",
    "\n",
    "n_clusters = int(sqrt(len(embedding)))\n",
    "\n",
    "kmeans = KMeansClustering(\n",
    "    mat=embedding,\n",
    "    k=n_clusters\n",
    ")\n",
    "\n",
    "kmeans"
   ],
   "metadata": {
    "collapsed": false,
    "ExecuteTime": {
     "end_time": "2023-08-29T16:03:14.041988140Z",
     "start_time": "2023-08-29T16:03:13.789522931Z"
    }
   },
   "id": "e13d853d128a59c1"
  },
  {
   "cell_type": "markdown",
   "source": [
    "Fit clustering model."
   ],
   "metadata": {
    "collapsed": false
   },
   "id": "fd859a4ffbe276af"
  },
  {
   "cell_type": "code",
   "execution_count": 9,
   "outputs": [
    {
     "name": "stdout",
     "output_type": "stream",
     "text": [
      "INFO: Fitting K-Means model. \n",
      "CPU times: user 11 s, sys: 1.25 s, total: 12.3 s\n",
      "Wall time: 3.56 s\n"
     ]
    }
   ],
   "source": [
    "%%time\n",
    "\n",
    "kmeans.fit()"
   ],
   "metadata": {
    "collapsed": false,
    "ExecuteTime": {
     "end_time": "2023-08-29T16:03:18.929476524Z",
     "start_time": "2023-08-29T16:03:15.328362964Z"
    }
   },
   "id": "d09e4c9fcc6de699"
  },
  {
   "cell_type": "markdown",
   "source": [
    "Save labeling."
   ],
   "metadata": {
    "collapsed": false
   },
   "id": "fc34155aa1fce7ad"
  },
  {
   "cell_type": "code",
   "execution_count": 10,
   "outputs": [
    {
     "name": "stdout",
     "output_type": "stream",
     "text": [
      "I/O: Saving /home/sebaq/Documents/GitHub/IR_project/dataset/tiny/labeling.json \n"
     ]
    }
   ],
   "source": [
    "kmeans.save(name=dataset.name)"
   ],
   "metadata": {
    "collapsed": false,
    "ExecuteTime": {
     "end_time": "2023-08-29T16:03:22.117519163Z",
     "start_time": "2023-08-29T16:03:22.068915020Z"
    }
   },
   "id": "6cd184600dd52cd5"
  },
  {
   "cell_type": "markdown",
   "source": [
    "Split dataset with resulting clusters."
   ],
   "metadata": {
    "collapsed": false
   },
   "id": "a5727d4c34aa2c33"
  },
  {
   "cell_type": "code",
   "execution_count": 11,
   "outputs": [
    {
     "data": {
      "text/plain": "ClusterDataSplit [Data: 10000, Clusters: 100, Mean-per-Cluster: 100.000]"
     },
     "execution_count": 11,
     "metadata": {},
     "output_type": "execute_result"
    }
   ],
   "source": [
    "clusters = kmeans.clusters\n",
    "clusters"
   ],
   "metadata": {
    "collapsed": false,
    "ExecuteTime": {
     "end_time": "2023-08-29T16:03:24.470508383Z",
     "start_time": "2023-08-29T16:03:24.321102220Z"
    }
   },
   "id": "daa7d9b1cabdee74"
  },
  {
   "cell_type": "markdown",
   "source": [
    "Take the medoid for each cluster."
   ],
   "metadata": {
    "collapsed": false
   },
   "id": "58f59265e90fd53d"
  },
  {
   "cell_type": "code",
   "execution_count": 12,
   "outputs": [
    {
     "data": {
      "text/plain": "array([[ 0.        ,  0.        ,  0.        , ...,  0.        ,\n         0.        ,  0.        ],\n       [ 0.        ,  0.        ,  0.        , ...,  0.        ,\n         0.        ,  0.        ],\n       [ 0.        ,  0.        ,  0.        , ...,  0.        ,\n         0.        ,  0.        ],\n       ...,\n       [ 0.        ,  0.        , -0.01944182, ...,  0.0533081 ,\n         0.        , -0.02283529],\n       [ 0.        ,  0.03383169,  0.        , ..., -0.03825251,\n         0.        ,  0.        ],\n       [ 0.        ,  0.012582  ,  0.        , ...,  0.        ,\n        -0.01616018,  0.        ]])"
     },
     "execution_count": 12,
     "metadata": {},
     "output_type": "execute_result"
    }
   ],
   "source": [
    "clusters.medoids"
   ],
   "metadata": {
    "collapsed": false,
    "ExecuteTime": {
     "end_time": "2023-08-29T16:03:32.655157681Z",
     "start_time": "2023-08-29T16:03:25.999897122Z"
    }
   },
   "id": "950213d5df51240a"
  }
 ],
 "metadata": {
  "kernelspec": {
   "display_name": "Python 3",
   "language": "python",
   "name": "python3"
  },
  "language_info": {
   "codemirror_mode": {
    "name": "ipython",
    "version": 2
   },
   "file_extension": ".py",
   "mimetype": "text/x-python",
   "name": "python",
   "nbconvert_exporter": "python",
   "pygments_lexer": "ipython2",
   "version": "2.7.6"
  }
 },
 "nbformat": 4,
 "nbformat_minor": 5
}
