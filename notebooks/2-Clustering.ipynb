{
 "cells": [
  {
   "cell_type": "code",
   "execution_count": 1,
   "outputs": [],
   "source": [
    "import numpy as np\n",
    "%load_ext autoreload\n",
    "%autoreload 2"
   ],
   "metadata": {
    "collapsed": false,
    "ExecuteTime": {
     "end_time": "2023-08-28T16:35:40.485270285Z",
     "start_time": "2023-08-28T16:35:40.484919318Z"
    }
   },
   "id": "3f22b6d5b5019ef4"
  },
  {
   "cell_type": "markdown",
   "source": [
    "# Clustering"
   ],
   "metadata": {
    "collapsed": false
   },
   "id": "641a2dbfad61288d"
  },
  {
   "cell_type": "markdown",
   "source": [
    "## 1. Data loading"
   ],
   "metadata": {
    "collapsed": false
   },
   "id": "914abfa53f56b66f"
  },
  {
   "cell_type": "markdown",
   "source": [
    "We load data as in previous analysis: docs and terms are sorted by length and frequencies."
   ],
   "metadata": {
    "collapsed": false
   },
   "id": "adcf30a41d21e947"
  },
  {
   "cell_type": "code",
   "execution_count": 1,
   "outputs": [
    {
     "data": {
      "text/plain": "RCV1Loader [File: /home/sebaq/Documents/GitHub/IR_project/dataset/data.npz]"
     },
     "execution_count": 1,
     "metadata": {},
     "output_type": "execute_result"
    }
   ],
   "source": [
    "from model.dataset import RCV1Loader\n",
    "\n",
    "loader = RCV1Loader()\n",
    "loader"
   ],
   "metadata": {
    "collapsed": false,
    "ExecuteTime": {
     "end_time": "2023-08-28T17:07:54.354530591Z",
     "start_time": "2023-08-28T17:07:53.120878785Z"
    }
   },
   "id": "9db583c56ff786fd"
  },
  {
   "cell_type": "code",
   "execution_count": 2,
   "outputs": [
    {
     "name": "stdout",
     "output_type": "stream",
     "text": [
      "INFO: Loading matrix. \n",
      "I/O: Loading /home/sebaq/Documents/GitHub/IR_project/dataset/data.npz. \n",
      "INFO: Removing non informative terms. \n",
      "INFO: Sorting documents by terms count. \n",
      "INFO: Sorting terms by their frequency. \n"
     ]
    }
   ],
   "source": [
    "# data = loader.load(sort_docs=True, sort_terms=True)\n",
    "data = loader.load(\n",
    "    docs=5000, terms=2000,\n",
    "    sort_docs=True, sort_terms=True\n",
    ")"
   ],
   "metadata": {
    "collapsed": false,
    "ExecuteTime": {
     "end_time": "2023-08-28T17:07:59.766718900Z",
     "start_time": "2023-08-28T17:07:54.354369384Z"
    }
   },
   "id": "2bafe305cae35233"
  },
  {
   "cell_type": "code",
   "execution_count": 3,
   "outputs": [
    {
     "data": {
      "text/plain": "DocumentsCollection[Docs: 5000; Terms: 900; Nonzero: 14563]"
     },
     "execution_count": 3,
     "metadata": {},
     "output_type": "execute_result"
    }
   ],
   "source": [
    "data"
   ],
   "metadata": {
    "collapsed": false,
    "ExecuteTime": {
     "end_time": "2023-08-28T17:07:59.778920200Z",
     "start_time": "2023-08-28T17:07:59.771485626Z"
    }
   },
   "id": "f106199d8448c7db"
  },
  {
   "cell_type": "markdown",
   "source": [
    "## 2. Dimensionality reduction"
   ],
   "metadata": {
    "collapsed": false
   },
   "id": "c054c81cc4a62027"
  },
  {
   "cell_type": "markdown",
   "source": [
    "We apply the [Johnson-Lindenstrauss lemma](https://scikit-learn.org/stable/modules/random_projection.html) to perform dimensionality reduction an dramatically reduce the vector space where to apply clustering."
   ],
   "metadata": {
    "collapsed": false
   },
   "id": "da533af7b097d961"
  },
  {
   "cell_type": "code",
   "execution_count": 4,
   "outputs": [
    {
     "data": {
      "text/plain": "array([[ 0.        ,  0.00698501, -0.00381764, ..., -0.00896949,\n        -0.00166962, -0.01276779],\n       [-0.00278406, -0.00337828, -0.00408574, ...,  0.0012755 ,\n        -0.0061644 , -0.01288296],\n       [ 0.        ,  0.        , -0.00629529, ..., -0.00526008,\n         0.00351907,  0.        ],\n       ...,\n       [ 0.        ,  0.        ,  0.        , ...,  0.        ,\n         0.        ,  0.        ],\n       [ 0.        ,  0.        ,  0.        , ...,  0.        ,\n         0.        ,  0.        ],\n       [ 0.        ,  0.        ,  0.        , ...,  0.        ,\n         0.        ,  0.        ]])"
     },
     "execution_count": 4,
     "metadata": {},
     "output_type": "execute_result"
    }
   ],
   "source": [
    "embedding = data.embed(eps=0.35)\n",
    "embedding"
   ],
   "metadata": {
    "collapsed": false,
    "ExecuteTime": {
     "end_time": "2023-08-28T17:07:59.887573298Z",
     "start_time": "2023-08-28T17:07:59.779178161Z"
    }
   },
   "id": "8c67e673e719a42f"
  },
  {
   "cell_type": "markdown",
   "source": [
    "## 3. Clustering"
   ],
   "metadata": {
    "collapsed": false
   },
   "id": "b9854179e3a1bc97"
  },
  {
   "cell_type": "markdown",
   "source": [
    "We perform clustering in the embedded space. We look for a number of cluster which is the root of the number of items."
   ],
   "metadata": {
    "collapsed": false
   },
   "id": "f41d08ca576ce0b7"
  },
  {
   "cell_type": "code",
   "execution_count": 5,
   "outputs": [
    {
     "data": {
      "text/plain": "KMeansClustering[Items: 5000; k: 70;  Fitted: False]"
     },
     "execution_count": 5,
     "metadata": {},
     "output_type": "execute_result"
    }
   ],
   "source": [
    "from model.clustering import KMeansClustering\n",
    "from math import sqrt\n",
    "\n",
    "kmeans = KMeansClustering(\n",
    "    mat=embedding,\n",
    "    k=int(sqrt(len(embedding)))\n",
    ")\n",
    "kmeans"
   ],
   "metadata": {
    "collapsed": false,
    "ExecuteTime": {
     "end_time": "2023-08-28T17:08:00.018275857Z",
     "start_time": "2023-08-28T17:07:59.878275548Z"
    }
   },
   "id": "e13d853d128a59c1"
  },
  {
   "cell_type": "code",
   "execution_count": 6,
   "outputs": [
    {
     "name": "stdout",
     "output_type": "stream",
     "text": [
      "INFO: Fitting K-Means model. \n",
      "CPU times: user 3.96 s, sys: 920 ms, total: 4.88 s\n",
      "Wall time: 1.74 s\n"
     ]
    }
   ],
   "source": [
    "%%time\n",
    "kmeans.fit()"
   ],
   "metadata": {
    "collapsed": false,
    "ExecuteTime": {
     "end_time": "2023-08-28T17:08:01.766610696Z",
     "start_time": "2023-08-28T17:08:00.006582168Z"
    }
   },
   "id": "d09e4c9fcc6de699"
  },
  {
   "cell_type": "code",
   "execution_count": 7,
   "outputs": [],
   "source": [
    "clusters = kmeans.clusters"
   ],
   "metadata": {
    "collapsed": false,
    "ExecuteTime": {
     "end_time": "2023-08-28T17:08:01.801276786Z",
     "start_time": "2023-08-28T17:08:01.767061960Z"
    }
   },
   "id": "daa7d9b1cabdee74"
  },
  {
   "cell_type": "code",
   "execution_count": 8,
   "outputs": [
    {
     "data": {
      "text/plain": "ClusterDataSplit [Data: 5000, Clusters: 70, Mean-per-Cluster: 71.429]"
     },
     "execution_count": 8,
     "metadata": {},
     "output_type": "execute_result"
    }
   ],
   "source": [
    "clusters"
   ],
   "metadata": {
    "collapsed": false,
    "ExecuteTime": {
     "end_time": "2023-08-28T17:08:01.821987084Z",
     "start_time": "2023-08-28T17:08:01.801563958Z"
    }
   },
   "id": "fb9db23ae4295c42"
  },
  {
   "cell_type": "code",
   "execution_count": 9,
   "outputs": [
    {
     "data": {
      "text/plain": "array([[ 0.        ,  0.        ,  0.        , ...,  0.        ,\n        -0.01125858,  0.        ],\n       [ 0.        ,  0.        ,  0.        , ..., -0.01007577,\n         0.        ,  0.        ],\n       [ 0.        ,  0.        ,  0.        , ..., -0.01007577,\n         0.        ,  0.        ],\n       ...,\n       [ 0.        ,  0.        ,  0.        , ...,  0.        ,\n         0.        ,  0.        ],\n       [ 0.        ,  0.        ,  0.        , ...,  0.        ,\n         0.        ,  0.        ],\n       [ 0.        ,  0.        ,  0.        , ...,  0.        ,\n         0.        ,  0.        ]])"
     },
     "execution_count": 9,
     "metadata": {},
     "output_type": "execute_result"
    }
   ],
   "source": [
    "clusters[0]"
   ],
   "metadata": {
    "collapsed": false,
    "ExecuteTime": {
     "end_time": "2023-08-28T17:08:01.823752968Z",
     "start_time": "2023-08-28T17:08:01.810138932Z"
    }
   },
   "id": "950213d5df51240a"
  },
  {
   "cell_type": "code",
   "execution_count": null,
   "outputs": [],
   "source": [],
   "metadata": {
    "collapsed": false
   },
   "id": "f4eca7bf514813f1"
  }
 ],
 "metadata": {
  "kernelspec": {
   "display_name": "Python 3",
   "language": "python",
   "name": "python3"
  },
  "language_info": {
   "codemirror_mode": {
    "name": "ipython",
    "version": 2
   },
   "file_extension": ".py",
   "mimetype": "text/x-python",
   "name": "python",
   "nbconvert_exporter": "python",
   "pygments_lexer": "ipython2",
   "version": "2.7.6"
  }
 },
 "nbformat": 4,
 "nbformat_minor": 5
}
