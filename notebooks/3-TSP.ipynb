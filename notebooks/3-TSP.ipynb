{
 "cells": [
  {
   "cell_type": "markdown",
   "source": [
    "## Traveling Salesperson Problem"
   ],
   "metadata": {
    "collapsed": false
   },
   "id": "b57d57389d6d2b15"
  },
  {
   "cell_type": "markdown",
   "source": [
    "Compute TSP problem over cluster medoids."
   ],
   "metadata": {
    "collapsed": false
   },
   "id": "2328979846b2515f"
  },
  {
   "cell_type": "markdown",
   "source": [
    "Load labels computed in clustering."
   ],
   "metadata": {
    "collapsed": false
   },
   "id": "f8ac38e97e91d60c"
  },
  {
   "cell_type": "code",
   "execution_count": 1,
   "outputs": [
    {
     "name": "stdout",
     "output_type": "stream",
     "text": [
      "I/O: Loading /home/sebaq/Documents/GitHub/IR_project/dataset/tiny/labeling.json \n"
     ]
    }
   ],
   "source": [
    "from io_ import load_json\n",
    "from model.clustering import ClusteringModel\n",
    "from settings import DATASETS\n",
    "\n",
    "dataset = DATASETS[\"tiny\"]\n",
    "\n",
    "labels_fp = ClusteringModel.get_labeling_fp(name=dataset.name)\n",
    "labels = load_json(path_=labels_fp)"
   ],
   "metadata": {
    "collapsed": false,
    "ExecuteTime": {
     "end_time": "2023-08-29T15:53:33.624924293Z",
     "start_time": "2023-08-29T15:53:32.874391339Z"
    }
   },
   "id": "a2708e6a09439ed"
  },
  {
   "cell_type": "markdown",
   "source": [
    "Load dataset sample."
   ],
   "metadata": {
    "collapsed": false
   },
   "id": "9727c825fedc6610"
  },
  {
   "cell_type": "code",
   "execution_count": 2,
   "outputs": [
    {
     "name": "stdout",
     "output_type": "stream",
     "text": [
      "INFO: Loading matrix. \n",
      "I/O: Loading /home/sebaq/Documents/GitHub/IR_project/dataset/data.npz. \n",
      "INFO: Removing non informative terms. \n",
      "INFO: Sorting documents by terms count. \n",
      "INFO: Sorting terms by their frequency. \n"
     ]
    }
   ],
   "source": [
    "from model.dataset import RCV1Loader\n",
    "\n",
    "loader = RCV1Loader()\n",
    "\n",
    "data = loader.load(\n",
    "    docs=dataset.docs, terms=dataset.terms,\n",
    "    sort_docs=True, sort_terms=True\n",
    ")"
   ],
   "metadata": {
    "collapsed": false,
    "ExecuteTime": {
     "end_time": "2023-08-29T15:54:17.758097896Z",
     "start_time": "2023-08-29T15:54:11.971143860Z"
    }
   },
   "id": "a7d49c8f9dd7b9cb"
  },
  {
   "cell_type": "markdown",
   "source": [
    "Perform dimensionality reduction"
   ],
   "metadata": {
    "collapsed": false
   },
   "id": "9aa6db86330afc94"
  },
  {
   "cell_type": "code",
   "execution_count": 4,
   "outputs": [],
   "source": [
    "embed = data.embed(eps=0.35)"
   ],
   "metadata": {
    "collapsed": false,
    "ExecuteTime": {
     "end_time": "2023-08-29T15:57:35.202581458Z",
     "start_time": "2023-08-29T15:57:34.909917737Z"
    }
   },
   "id": "f10160f830d32f2b"
  },
  {
   "cell_type": "markdown",
   "source": [
    "Divide by cluster."
   ],
   "metadata": {
    "collapsed": false
   },
   "id": "1b170dd34783a9e3"
  },
  {
   "cell_type": "code",
   "execution_count": 6,
   "outputs": [
    {
     "data": {
      "text/plain": "ClusterDataSplit [Data: 10000, Clusters: 100, Mean-per-Cluster: 100.000]"
     },
     "execution_count": 6,
     "metadata": {},
     "output_type": "execute_result"
    }
   ],
   "source": [
    "from model.clustering import Clusters\n",
    "\n",
    "clusters = Clusters(mat=embed, labels=labels)\n",
    "clusters"
   ],
   "metadata": {
    "collapsed": false,
    "ExecuteTime": {
     "end_time": "2023-08-29T15:57:55.589626565Z",
     "start_time": "2023-08-29T15:57:55.392610276Z"
    }
   },
   "id": "6d6eff3ad089458d"
  },
  {
   "cell_type": "markdown",
   "source": [
    "Compute centroids."
   ],
   "metadata": {
    "collapsed": false
   },
   "id": "ba66ca5ef6f1b66c"
  },
  {
   "cell_type": "code",
   "execution_count": 8,
   "outputs": [
    {
     "data": {
      "text/plain": "array([[0., 0., 0., ..., 0., 0., 0.],\n       [0., 0., 0., ..., 0., 0., 0.],\n       [0., 0., 0., ..., 0., 0., 0.],\n       ...,\n       [0., 0., 0., ..., 0., 0., 0.],\n       [0., 0., 0., ..., 0., 0., 0.],\n       [0., 0., 0., ..., 0., 0., 0.]])"
     },
     "execution_count": 8,
     "metadata": {},
     "output_type": "execute_result"
    }
   ],
   "source": [
    "medoids = clusters.medoids\n",
    "medoids"
   ],
   "metadata": {
    "collapsed": false,
    "ExecuteTime": {
     "end_time": "2023-08-29T15:58:47.832673822Z",
     "start_time": "2023-08-29T15:58:44.814171540Z"
    }
   },
   "id": "ae42b1ae416814b2"
  },
  {
   "cell_type": "markdown",
   "source": [
    "Create TSP problem."
   ],
   "metadata": {
    "collapsed": false
   },
   "id": "c52c3161f7148413"
  },
  {
   "cell_type": "code",
   "execution_count": 9,
   "outputs": [],
   "source": [
    "from model.tsp import TravellingSalesmanProblem\n",
    "\n",
    "tsp = TravellingSalesmanProblem(mat=medoids)"
   ],
   "metadata": {
    "collapsed": false,
    "ExecuteTime": {
     "end_time": "2023-08-29T15:58:53.886695744Z",
     "start_time": "2023-08-29T15:58:53.717344520Z"
    }
   },
   "id": "bbbe193f019d640b"
  },
  {
   "cell_type": "code",
   "execution_count": 10,
   "outputs": [
    {
     "data": {
      "text/plain": "TravellingSalesmanProblem[Items: 100]"
     },
     "execution_count": 10,
     "metadata": {},
     "output_type": "execute_result"
    }
   ],
   "source": [
    "tsp"
   ],
   "metadata": {
    "collapsed": false,
    "ExecuteTime": {
     "end_time": "2023-08-29T15:58:54.550217819Z",
     "start_time": "2023-08-29T15:58:54.493145370Z"
    }
   },
   "id": "9413ca00a907bbc3"
  },
  {
   "cell_type": "markdown",
   "source": [
    "Evaluate solutions."
   ],
   "metadata": {
    "collapsed": false
   },
   "id": "d748a52560079b27"
  },
  {
   "cell_type": "code",
   "execution_count": 11,
   "outputs": [
    {
     "name": "stdout",
     "output_type": "stream",
     "text": [
      "INFO: Evaluating solution\n"
     ]
    },
    {
     "data": {
      "text/plain": "array([ 2, 99, 98, 97, 96, 95, 94, 93, 92, 91, 90, 89, 88, 87, 86, 85, 84,\n       83, 82, 81, 80, 79, 78, 77, 76, 75, 74, 73, 72, 71, 70, 69, 68, 67,\n       66, 65, 64, 63, 62, 61, 60, 59, 58, 57, 56, 55, 54, 53, 52, 51, 50,\n       49, 48, 47, 46, 45, 44, 43, 42, 41, 40, 39, 38, 37, 36, 35, 34, 33,\n       32, 31, 30, 29, 28, 27, 26, 25, 24, 23, 22, 21, 20, 19, 18, 17, 16,\n       15, 14, 13, 12, 11, 10,  9,  8,  7,  6,  5,  4,  3,  1,  0])"
     },
     "execution_count": 11,
     "metadata": {},
     "output_type": "execute_result"
    }
   ],
   "source": [
    "tsp.solutions"
   ],
   "metadata": {
    "collapsed": false,
    "ExecuteTime": {
     "end_time": "2023-08-29T15:58:55.642753112Z",
     "start_time": "2023-08-29T15:58:55.578491638Z"
    }
   },
   "id": "417266be1d88253a"
  },
  {
   "cell_type": "code",
   "execution_count": 12,
   "outputs": [
    {
     "data": {
      "text/plain": "array([[0., 0., 0., ..., 0., 0., 0.],\n       [0., 0., 0., ..., 0., 0., 0.],\n       [0., 0., 0., ..., 0., 0., 0.],\n       ...,\n       [0., 0., 0., ..., 0., 0., 0.],\n       [0., 0., 0., ..., 0., 0., 0.],\n       [0., 0., 0., ..., 0., 0., 0.]])"
     },
     "execution_count": 12,
     "metadata": {},
     "output_type": "execute_result"
    }
   ],
   "source": [
    "tsp.sorted_items"
   ],
   "metadata": {
    "collapsed": false,
    "ExecuteTime": {
     "end_time": "2023-08-29T15:59:00.415275861Z",
     "start_time": "2023-08-29T15:59:00.372943132Z"
    }
   },
   "id": "2b1b31651fe923da"
  }
 ],
 "metadata": {
  "kernelspec": {
   "display_name": "Python 3",
   "language": "python",
   "name": "python3"
  },
  "language_info": {
   "codemirror_mode": {
    "name": "ipython",
    "version": 2
   },
   "file_extension": ".py",
   "mimetype": "text/x-python",
   "name": "python",
   "nbconvert_exporter": "python",
   "pygments_lexer": "ipython2",
   "version": "2.7.6"
  }
 },
 "nbformat": 4,
 "nbformat_minor": 5
}
