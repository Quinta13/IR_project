{
 "cells": [
  {
   "cell_type": "code",
   "execution_count": 1,
   "outputs": [],
   "source": [
    "%load_ext autoreload\n",
    "%autoreload 2"
   ],
   "metadata": {
    "collapsed": false,
    "ExecuteTime": {
     "end_time": "2023-09-03T16:36:03.235504533Z",
     "start_time": "2023-09-03T16:36:03.114521972Z"
    }
   },
   "id": "c307ead9f957a099"
  },
  {
   "cell_type": "code",
   "execution_count": null,
   "outputs": [],
   "source": [
    "from model.rcv1 import DataConfig\n",
    "from model.reassignment import DocIdReassignment\n",
    "from model.clustering import KMeansClustering\n",
    "from model.d_gap import DGapComputation, DGapComputationReassigned, DGapInference\n",
    "from model.rcv1 import RCV1Loader"
   ],
   "metadata": {
    "collapsed": false
   },
   "id": "fbc82db056c61815"
  },
  {
   "cell_type": "code",
   "execution_count": 2,
   "outputs": [],
   "source": [
    "config = DataConfig(name=\"rcv1-100\", n_cluster=100)"
   ],
   "metadata": {
    "collapsed": false,
    "ExecuteTime": {
     "end_time": "2023-09-03T16:36:04.687532383Z",
     "start_time": "2023-09-03T16:36:03.120778708Z"
    }
   },
   "id": "d24ba9c4bb7ee84e"
  },
  {
   "cell_type": "code",
   "execution_count": null,
   "outputs": [],
   "source": [
    "\n",
    "loader = RCV1Loader()\n",
    "collection = loader.load()"
   ],
   "metadata": {
    "collapsed": false
   },
   "id": "56e14c149f190f65"
  },
  {
   "cell_type": "code",
   "execution_count": null,
   "outputs": [],
   "source": [
    "print(\"  -  Computing d-gap...\")\n",
    "dgap = DGapComputation(collection=collection, data_name=config.name)\n",
    "dgap.compute_d_gaps()\n",
    "dgap.save_d_gaps()"
   ],
   "metadata": {
    "collapsed": false
   },
   "id": "12a216c9340034f3"
  },
  {
   "cell_type": "code",
   "execution_count": null,
   "outputs": [],
   "source": [
    "print(\"  -  Evaluating clustering...\")\n",
    "kmeans = KMeansClustering(collection=collection, data_name=config.name, k=config.n_cluster)\n",
    "kmeans.fit()\n",
    "kmeans.save_labeling()"
   ],
   "metadata": {
    "collapsed": false
   },
   "id": "5d2b52b044dbb886"
  },
  {
   "cell_type": "code",
   "execution_count": 39,
   "outputs": [
    {
     "name": "stdout",
     "output_type": "stream",
     "text": [
      "  -  Computing centroids...\n"
     ]
    },
    {
     "name": "stderr",
     "output_type": "stream",
     "text": [
      "100%|██████████| 100/100 [00:00<00:00, 264.66it/s]\n"
     ]
    }
   ],
   "source": [
    "print(\"  -  Computing centroids...\")\n",
    "collection_clusters = kmeans.clusters\n",
    "collection_clusters.compute_centroids(try_load=False)\n",
    "collection_clusters.save_centroids()"
   ],
   "metadata": {
    "collapsed": false,
    "ExecuteTime": {
     "end_time": "2023-09-03T16:46:32.028148495Z",
     "start_time": "2023-09-03T16:46:30.647904228Z"
    }
   },
   "id": "b5c6d6b07581ee11"
  },
  {
   "cell_type": "code",
   "execution_count": 21,
   "outputs": [
    {
     "name": "stdout",
     "output_type": "stream",
     "text": [
      "  -  Reassign doc-id...\n"
     ]
    }
   ],
   "source": [
    "print(\"  -  Reassign doc-id...\")\n",
    "reassignment_computation = DocIdReassignment(\n",
    "    cluster=collection_clusters,\n",
    "    data_name=config.name\n",
    ")"
   ],
   "metadata": {
    "collapsed": false,
    "ExecuteTime": {
     "end_time": "2023-09-03T16:44:15.684104518Z",
     "start_time": "2023-09-03T16:44:15.628700169Z"
    }
   },
   "id": "7256c12bd60f52da"
  },
  {
   "cell_type": "code",
   "execution_count": null,
   "outputs": [],
   "source": [
    "reassignment_computation.save_order()\n",
    "collection_reassigned = reassignment_computation.reassign_doc_id()\n",
    "\n",
    "print(\"  -  Computing d-gap after reassignment...\")\n",
    "dgap_reass = DGapComputationReassigned(collection=collection_reassigned, data_name=config.name)\n",
    "dgap_reass.compute_d_gaps()\n",
    "dgap_reass.save_d_gaps()\n",
    "\n",
    "print(\"  -  Performing inference...\")\n",
    "inference = DGapInference(d_gap_original=dgap, d_gap_reassigned=dgap_reass, data_name=config.name)\n",
    "inference.plot_avg_d_gap()\n",
    "inference.avg_compression"
   ],
   "metadata": {
    "collapsed": false
   },
   "id": "46fdc16bd911b7ab"
  }
 ],
 "metadata": {
  "kernelspec": {
   "display_name": "Python 3",
   "language": "python",
   "name": "python3"
  },
  "language_info": {
   "codemirror_mode": {
    "name": "ipython",
    "version": 2
   },
   "file_extension": ".py",
   "mimetype": "text/x-python",
   "name": "python",
   "nbconvert_exporter": "python",
   "pygments_lexer": "ipython2",
   "version": "2.7.6"
  }
 },
 "nbformat": 4,
 "nbformat_minor": 5
}
