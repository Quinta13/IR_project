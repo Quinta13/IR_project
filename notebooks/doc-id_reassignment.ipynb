{
 "cells": [
  {
   "cell_type": "code",
   "execution_count": 1,
   "outputs": [],
   "source": [
    "%load_ext autoreload\n",
    "%autoreload 2"
   ],
   "metadata": {
    "collapsed": false,
    "ExecuteTime": {
     "end_time": "2023-09-02T15:28:33.117324955Z",
     "start_time": "2023-09-02T15:28:33.099970929Z"
    }
   },
   "id": "9c7638612fbd96e6"
  },
  {
   "cell_type": "markdown",
   "source": [
    "# Doc-ID Reassignment"
   ],
   "metadata": {
    "collapsed": false
   },
   "id": "3ac4509c63feb482"
  },
  {
   "cell_type": "markdown",
   "source": [
    "## 1. Data download"
   ],
   "metadata": {
    "collapsed": false
   },
   "id": "f4fb565167dd2a41"
  },
  {
   "cell_type": "markdown",
   "source": [
    "### Downloader instance"
   ],
   "metadata": {
    "collapsed": false
   },
   "id": "c504f8e56ed8e3ab"
  },
  {
   "cell_type": "markdown",
   "source": [
    "We download [RCV1 dataset](https://paperswithcode.com/dataset/rcv1), in particular we use tf-idf representation from [sklearn](https://scikit-learn.org/0.18/datasets/rcv1.html)."
   ],
   "metadata": {
    "collapsed": false
   },
   "id": "95d720c3bca2580e"
  },
  {
   "cell_type": "markdown",
   "source": [
    "Create an instance of downloader."
   ],
   "metadata": {
    "collapsed": false
   },
   "id": "d78edac19ca78807"
  },
  {
   "cell_type": "code",
   "execution_count": 2,
   "outputs": [
    {
     "data": {
      "text/plain": "RCV1Downloader [File: /home/sebaq/Documents/GitHub/IR_project/dataset/data.npz; Downloaded: True]"
     },
     "execution_count": 2,
     "metadata": {},
     "output_type": "execute_result"
    }
   ],
   "source": [
    "from model.rcv1 import RCV1Downloader\n",
    "\n",
    "downloader = RCV1Downloader()\n",
    "downloader"
   ],
   "metadata": {
    "collapsed": false,
    "ExecuteTime": {
     "end_time": "2023-09-02T15:28:35.800567691Z",
     "start_time": "2023-09-02T15:28:34.377089398Z"
    }
   },
   "id": "initial_id"
  },
  {
   "cell_type": "markdown",
   "source": [
    "### Download"
   ],
   "metadata": {
    "collapsed": false
   },
   "id": "314e525e41fad80f"
  },
  {
   "cell_type": "markdown",
   "source": [
    "Download the dataset."
   ],
   "metadata": {
    "collapsed": false
   },
   "id": "4fea00d0e726cb1a"
  },
  {
   "cell_type": "code",
   "execution_count": 3,
   "outputs": [
    {
     "name": "stdout",
     "output_type": "stream",
     "text": [
      "INFO: Dataset is already downloaded at /home/sebaq/Documents/GitHub/IR_project/dataset/data.npz\n",
      "CPU times: user 223 µs, sys: 52 µs, total: 275 µs\n",
      "Wall time: 239 µs\n"
     ]
    }
   ],
   "source": [
    "%%time\n",
    "\n",
    "downloader.download()"
   ],
   "metadata": {
    "collapsed": false,
    "ExecuteTime": {
     "end_time": "2023-09-02T15:28:35.853572313Z",
     "start_time": "2023-09-02T15:28:35.794234588Z"
    }
   },
   "id": "2a248e270f782453"
  },
  {
   "cell_type": "markdown",
   "source": [
    "## 2. Data Loading"
   ],
   "metadata": {
    "collapsed": false
   },
   "id": "fc1f72e2b1d8e8c5"
  },
  {
   "cell_type": "markdown",
   "source": [
    "### Loading collection configurations"
   ],
   "metadata": {
    "collapsed": false
   },
   "id": "801ce68938282d60"
  },
  {
   "cell_type": "markdown",
   "source": [
    "Use dataset configuration specified in the *.settings.py* file."
   ],
   "metadata": {
    "collapsed": false
   },
   "id": "d090df67eeb9e5ba"
  },
  {
   "cell_type": "code",
   "execution_count": 4,
   "outputs": [
    {
     "data": {
      "text/plain": "tiny [Docs: 50000; Terms: 15000; Approximation error: 0.3; N Clusters: 150]"
     },
     "execution_count": 4,
     "metadata": {},
     "output_type": "execute_result"
    }
   ],
   "source": [
    "from settings import DATACONFIG\n",
    "\n",
    "config = DATACONFIG[\"tiny\"]\n",
    "config"
   ],
   "metadata": {
    "collapsed": false,
    "ExecuteTime": {
     "end_time": "2023-09-02T15:28:37.121050228Z",
     "start_time": "2023-09-02T15:28:37.021836930Z"
    }
   },
   "id": "19e18659e55e4567"
  },
  {
   "cell_type": "markdown",
   "source": [
    "### Loader instance"
   ],
   "metadata": {
    "collapsed": false
   },
   "id": "99055d49a6dea3d1"
  },
  {
   "cell_type": "markdown",
   "source": [
    "Create an instance of dataloader."
   ],
   "metadata": {
    "collapsed": false
   },
   "id": "f63a6d1f4cf9189f"
  },
  {
   "cell_type": "code",
   "execution_count": 5,
   "outputs": [
    {
     "data": {
      "text/plain": "RCV1Loader [File: /home/sebaq/Documents/GitHub/IR_project/dataset/data.npz]"
     },
     "execution_count": 5,
     "metadata": {},
     "output_type": "execute_result"
    }
   ],
   "source": [
    "from model.rcv1 import RCV1Loader\n",
    "\n",
    "loader = RCV1Loader()\n",
    "loader"
   ],
   "metadata": {
    "collapsed": false,
    "ExecuteTime": {
     "end_time": "2023-09-02T15:28:43.197069560Z",
     "start_time": "2023-09-02T15:28:38.027736550Z"
    }
   },
   "id": "c5222b8cad65e23d"
  },
  {
   "cell_type": "markdown",
   "source": [
    "### Load"
   ],
   "metadata": {
    "collapsed": false
   },
   "id": "ee3c01fe780f32c3"
  },
  {
   "cell_type": "markdown",
   "source": [
    "We load data sorting terms by decreasing frequency.\n",
    "\n",
    "We only keep the first documents and terms specified by the configuration file."
   ],
   "metadata": {
    "collapsed": false
   },
   "id": "a6db182700c031d4"
  },
  {
   "cell_type": "code",
   "execution_count": 6,
   "outputs": [],
   "source": [
    "collection = loader.load(n_docs=config.docs, n_terms=config.terms)"
   ],
   "metadata": {
    "collapsed": false,
    "ExecuteTime": {
     "end_time": "2023-09-02T15:28:44.356710773Z",
     "start_time": "2023-09-02T15:28:43.198077002Z"
    }
   },
   "id": "39a7711f76e2002"
  },
  {
   "cell_type": "code",
   "execution_count": 7,
   "outputs": [
    {
     "data": {
      "text/plain": "DataCollection [Docs: 50000; Terms: 14980; Nonzero: 1314210]"
     },
     "execution_count": 7,
     "metadata": {},
     "output_type": "execute_result"
    }
   ],
   "source": [
    "collection"
   ],
   "metadata": {
    "collapsed": false,
    "ExecuteTime": {
     "end_time": "2023-09-02T15:28:44.413412048Z",
     "start_time": "2023-09-02T15:28:44.357104939Z"
    }
   },
   "id": "451d9889b80efa53"
  },
  {
   "cell_type": "markdown",
   "source": [
    "## 3. Computing *d*-gap"
   ],
   "metadata": {
    "collapsed": false
   },
   "id": "5a54b8b28e629bfc"
  },
  {
   "cell_type": "markdown",
   "source": [
    "### *d*-gap instance"
   ],
   "metadata": {
    "collapsed": false
   },
   "id": "b4d8c4b76220fc1a"
  },
  {
   "cell_type": "markdown",
   "source": [
    "Create and instance of DGapComputation for the collection."
   ],
   "metadata": {
    "collapsed": false
   },
   "id": "c989b5b03ae82def"
  },
  {
   "cell_type": "code",
   "execution_count": 8,
   "outputs": [
    {
     "data": {
      "text/plain": "DGapComputation(tiny)[Docs: 50000; Terms: 14980; Computed: False]"
     },
     "execution_count": 8,
     "metadata": {},
     "output_type": "execute_result"
    }
   ],
   "source": [
    "from model.d_gap import DGapComputation\n",
    "\n",
    "dgap = DGapComputation(collection=collection, data_name=config.name)\n",
    "dgap"
   ],
   "metadata": {
    "collapsed": false,
    "ExecuteTime": {
     "end_time": "2023-09-02T15:28:48.465833188Z",
     "start_time": "2023-09-02T15:28:47.923044115Z"
    }
   },
   "id": "fd668eae7d693548"
  },
  {
   "cell_type": "markdown",
   "source": [
    "### Compute *d*-gap statistics"
   ],
   "metadata": {
    "collapsed": false
   },
   "id": "4c54982378f890ef"
  },
  {
   "cell_type": "markdown",
   "source": [
    "We compute *d*-gap in the given collection."
   ],
   "metadata": {
    "collapsed": false
   },
   "id": "c7e9de5657be12f8"
  },
  {
   "cell_type": "code",
   "execution_count": 9,
   "outputs": [
    {
     "name": "stdout",
     "output_type": "stream",
     "text": [
      "INFO: Information not present at /home/sebaq/Documents/GitHub/IR_project/dataset/tiny/avg_d_gap.json. \n",
      "INFO: Computing average d-gap per term. \n"
     ]
    },
    {
     "name": "stderr",
     "output_type": "stream",
     "text": [
      "100%|██████████| 50000/50000 [00:02<00:00, 18776.66it/s]"
     ]
    },
    {
     "name": "stdout",
     "output_type": "stream",
     "text": [
      "CPU times: user 2.67 s, sys: 7.6 ms, total: 2.68 s\n",
      "Wall time: 2.67 s\n"
     ]
    },
    {
     "name": "stderr",
     "output_type": "stream",
     "text": [
      "\n"
     ]
    }
   ],
   "source": [
    "%%time\n",
    "\n",
    "dgap.compute_d_gaps()"
   ],
   "metadata": {
    "collapsed": false,
    "ExecuteTime": {
     "end_time": "2023-09-02T15:28:53.186671860Z",
     "start_time": "2023-09-02T15:28:50.410367774Z"
    }
   },
   "id": "5025083ec9c698c1"
  },
  {
   "cell_type": "code",
   "execution_count": 10,
   "outputs": [
    {
     "data": {
      "text/plain": "array([12.87289, 13.70597, 13.79   , ..., 72.     , 80.     , 88.     ])"
     },
     "execution_count": 10,
     "metadata": {},
     "output_type": "execute_result"
    }
   ],
   "source": [
    "avg_d_gaps = dgap.avg_d_gap_pterm\n",
    "avg_d_gaps"
   ],
   "metadata": {
    "collapsed": false,
    "ExecuteTime": {
     "end_time": "2023-09-02T15:28:54.313261798Z",
     "start_time": "2023-09-02T15:28:54.221129981Z"
    }
   },
   "id": "37c9dcec60117596"
  },
  {
   "cell_type": "markdown",
   "source": [
    "### Average *d*-gap per term plot"
   ],
   "metadata": {
    "collapsed": false
   },
   "id": "f637968f779dd92d"
  },
  {
   "cell_type": "code",
   "execution_count": 11,
   "outputs": [
    {
     "data": {
      "text/plain": "<Figure size 640x480 with 1 Axes>",
      "image/png": "[encoded data removed]"
     },
     "metadata": {},
     "output_type": "display_data"
    }
   ],
   "source": [
    "dgap.plot_avg_d_gap()"
   ],
   "metadata": {
    "collapsed": false,
    "ExecuteTime": {
     "end_time": "2023-09-02T15:28:59.298490819Z",
     "start_time": "2023-09-02T15:28:58.959794525Z"
    }
   },
   "id": "3f24cfd195a1b945"
  },
  {
   "cell_type": "markdown",
   "source": [
    "### Average *d*-gap"
   ],
   "metadata": {
    "collapsed": false
   },
   "id": "ade1fcb21f018176"
  },
  {
   "cell_type": "code",
   "execution_count": 12,
   "outputs": [
    {
     "data": {
      "text/plain": "65.23313317089453"
     },
     "execution_count": 12,
     "metadata": {},
     "output_type": "execute_result"
    }
   ],
   "source": [
    "dgap.avg_d_gap"
   ],
   "metadata": {
    "collapsed": false,
    "ExecuteTime": {
     "end_time": "2023-09-02T15:29:00.566944960Z",
     "start_time": "2023-09-02T15:29:00.494341597Z"
    }
   },
   "id": "4ebc74a16c50989d"
  },
  {
   "cell_type": "markdown",
   "source": [
    "### Save statistics"
   ],
   "metadata": {
    "collapsed": false
   },
   "id": "cf99f4647fd60a13"
  },
  {
   "cell_type": "markdown",
   "source": [
    "We save statistics with in the directory with the specific configuration name: it will be no more necessary a second computation for further analysis."
   ],
   "metadata": {
    "collapsed": false
   },
   "id": "6e336f3903947fec"
  },
  {
   "cell_type": "code",
   "execution_count": 13,
   "outputs": [
    {
     "name": "stdout",
     "output_type": "stream",
     "text": [
      "INFO: Saving average d-gap per term to /home/sebaq/Documents/GitHub/IR_project/dataset/tiny/avg_d_gap.json. \n"
     ]
    }
   ],
   "source": [
    "dgap.save_d_gaps()"
   ],
   "metadata": {
    "collapsed": false,
    "ExecuteTime": {
     "end_time": "2023-09-02T15:29:03.164451634Z",
     "start_time": "2023-09-02T15:29:03.097384373Z"
    }
   },
   "id": "5c6ea0c4b08c7300"
  },
  {
   "cell_type": "markdown",
   "source": [
    "## 4. Dimensionality reduction"
   ],
   "metadata": {
    "collapsed": false
   },
   "id": "a1b90d72779c1d1b"
  },
  {
   "cell_type": "markdown",
   "source": [
    "Clustering and TSP are expensive in a high dimensional and sparse vector space. We employ the [Johnson-Lindenstrauss lemma](https://scikit-learn.org/stable/modules/random_projection.html#the-johnson-lindenstrauss-lemma) to embed data points in a lower dense dimensional space through a random projection. Target dimension depends on an approximation factor specified in Dataset configuration."
   ],
   "metadata": {
    "collapsed": false
   },
   "id": "3d7ded8dfbde7e32"
  },
  {
   "cell_type": "markdown",
   "source": [
    "### Approximation factor"
   ],
   "metadata": {
    "collapsed": false
   },
   "id": "50a03bcf2e4912"
  },
  {
   "cell_type": "markdown",
   "source": [
    "The approximation factor is in range [0, 1]"
   ],
   "metadata": {
    "collapsed": false
   },
   "id": "eff033934aaf098a"
  },
  {
   "cell_type": "code",
   "execution_count": 14,
   "outputs": [
    {
     "data": {
      "text/plain": "0.3"
     },
     "execution_count": 14,
     "metadata": {},
     "output_type": "execute_result"
    }
   ],
   "source": [
    "eps = config.eps\n",
    "eps"
   ],
   "metadata": {
    "collapsed": false,
    "ExecuteTime": {
     "end_time": "2023-09-02T15:29:07.736888515Z",
     "start_time": "2023-09-02T15:29:07.669137234Z"
    }
   },
   "id": "ab54da4356c1557e"
  },
  {
   "cell_type": "markdown",
   "source": [
    "Project to embedded space."
   ],
   "metadata": {
    "collapsed": false
   },
   "id": "dae6e79639c738a6"
  },
  {
   "cell_type": "code",
   "execution_count": 15,
   "outputs": [
    {
     "data": {
      "text/plain": "(50000, 1202)"
     },
     "execution_count": 15,
     "metadata": {},
     "output_type": "execute_result"
    }
   ],
   "source": [
    "embedded = collection.embed(eps=eps)\n",
    "embedded.shape"
   ],
   "metadata": {
    "collapsed": false,
    "ExecuteTime": {
     "end_time": "2023-09-02T15:29:17.197267299Z",
     "start_time": "2023-09-02T15:29:15.818278167Z"
    }
   },
   "id": "13800aa420e8a1d"
  },
  {
   "cell_type": "markdown",
   "source": [
    "## 5. Clustering"
   ],
   "metadata": {
    "collapsed": false
   },
   "id": "a151098759397620"
  },
  {
   "cell_type": "markdown",
   "source": [
    "### Compute number of clusters"
   ],
   "metadata": {
    "collapsed": false
   },
   "id": "7d2e3b6feeed17a9"
  },
  {
   "cell_type": "markdown",
   "source": [
    "We compute the number of cluster to find using a function specified in the configuration."
   ],
   "metadata": {
    "collapsed": false
   },
   "id": "d4c89065f08ec094"
  },
  {
   "cell_type": "code",
   "execution_count": 16,
   "outputs": [
    {
     "data": {
      "text/plain": "150"
     },
     "execution_count": 16,
     "metadata": {},
     "output_type": "execute_result"
    }
   ],
   "source": [
    "n_cluster = config.n_cluster\n",
    "n_cluster"
   ],
   "metadata": {
    "collapsed": false,
    "ExecuteTime": {
     "end_time": "2023-09-02T15:29:31.291529143Z",
     "start_time": "2023-09-02T15:29:31.223629938Z"
    }
   },
   "id": "f74aabc3e6e41f58"
  },
  {
   "cell_type": "markdown",
   "source": [
    "### Create K-Means instance"
   ],
   "metadata": {
    "collapsed": false
   },
   "id": "40abac39414bdae6"
  },
  {
   "cell_type": "code",
   "execution_count": 17,
   "outputs": [],
   "source": [
    "from model.clustering import KMeansClustering\n",
    "\n",
    "kmeans = KMeansClustering(mat=embedded, data_name=config.name, k=n_cluster)"
   ],
   "metadata": {
    "collapsed": false,
    "ExecuteTime": {
     "end_time": "2023-09-02T15:29:32.511861564Z",
     "start_time": "2023-09-02T15:29:32.289334163Z"
    }
   },
   "id": "1cd9bac9fd1d080b"
  },
  {
   "cell_type": "code",
   "execution_count": 18,
   "outputs": [
    {
     "data": {
      "text/plain": "KMeansClustering(tiny)[Items: 50000; k: 150; Labeling computed: False]"
     },
     "execution_count": 18,
     "metadata": {},
     "output_type": "execute_result"
    }
   ],
   "source": [
    "kmeans"
   ],
   "metadata": {
    "collapsed": false,
    "ExecuteTime": {
     "end_time": "2023-09-02T15:29:33.019590590Z",
     "start_time": "2023-09-02T15:29:32.933937876Z"
    }
   },
   "id": "3eccf9f209fbfd83"
  },
  {
   "cell_type": "markdown",
   "source": [
    "### Training model and retrieve labeling"
   ],
   "metadata": {
    "collapsed": false
   },
   "id": "773a0881048d3220"
  },
  {
   "cell_type": "code",
   "execution_count": 19,
   "outputs": [
    {
     "name": "stdout",
     "output_type": "stream",
     "text": [
      "INFO: Information not present at /home/sebaq/Documents/GitHub/IR_project/dataset/tiny/labeling.json. \n",
      "INFO: Fitting K-Means model. \n",
      "CPU times: user 2min 51s, sys: 10.2 s, total: 3min 1s\n",
      "Wall time: 53.2 s\n"
     ]
    }
   ],
   "source": [
    "%%time\n",
    "\n",
    "kmeans.fit()"
   ],
   "metadata": {
    "collapsed": false,
    "ExecuteTime": {
     "end_time": "2023-09-02T15:30:27.584134589Z",
     "start_time": "2023-09-02T15:29:34.315783083Z"
    }
   },
   "id": "b1c49945a21bde03"
  },
  {
   "cell_type": "code",
   "execution_count": 20,
   "outputs": [
    {
     "data": {
      "text/plain": "array([ 81, 134,  58, ...,  19,   7,   7], dtype=int32)"
     },
     "execution_count": 20,
     "metadata": {},
     "output_type": "execute_result"
    }
   ],
   "source": [
    "labeling = kmeans.labeling\n",
    "\n",
    "labeling"
   ],
   "metadata": {
    "collapsed": false,
    "ExecuteTime": {
     "end_time": "2023-09-02T15:31:40.554452946Z",
     "start_time": "2023-09-02T15:31:40.441267717Z"
    }
   },
   "id": "961db9d569348025"
  },
  {
   "cell_type": "markdown",
   "source": [
    "### Save labeling"
   ],
   "metadata": {
    "collapsed": false
   },
   "id": "a00ef790e6def807"
  },
  {
   "cell_type": "markdown",
   "source": [
    "We save labeling on disk so we don't necessitate to compute again for further needs."
   ],
   "metadata": {
    "collapsed": false
   },
   "id": "447057cfdd4b8e31"
  },
  {
   "cell_type": "code",
   "execution_count": 21,
   "outputs": [
    {
     "name": "stdout",
     "output_type": "stream",
     "text": [
      "INFO: Saving labeling to /home/sebaq/Documents/GitHub/IR_project/dataset/tiny/labeling.json. \n"
     ]
    }
   ],
   "source": [
    "kmeans.save_labeling()"
   ],
   "metadata": {
    "collapsed": false,
    "ExecuteTime": {
     "end_time": "2023-09-02T15:31:47.465589686Z",
     "start_time": "2023-09-02T15:31:47.374492812Z"
    }
   },
   "id": "c35baeac9d3a5592"
  },
  {
   "cell_type": "markdown",
   "source": [
    "## 6. Cluster split"
   ],
   "metadata": {
    "collapsed": false
   },
   "id": "79a26eb9438114db"
  },
  {
   "cell_type": "markdown",
   "source": [
    "### Get CollectionCluster instance"
   ],
   "metadata": {
    "collapsed": false
   },
   "id": "45e097f4ffc1ab8e"
  },
  {
   "cell_type": "markdown",
   "source": [
    "We split data in cluster using the labeling."
   ],
   "metadata": {
    "collapsed": false
   },
   "id": "450ed8d0d65df14c"
  },
  {
   "cell_type": "code",
   "execution_count": 22,
   "outputs": [],
   "source": [
    "collection_clusters = kmeans.clusters"
   ],
   "metadata": {
    "collapsed": false,
    "ExecuteTime": {
     "end_time": "2023-09-02T15:31:50.276420110Z",
     "start_time": "2023-09-02T15:31:49.953745442Z"
    }
   },
   "id": "1e921e3f48852cab"
  },
  {
   "cell_type": "code",
   "execution_count": 23,
   "outputs": [
    {
     "data": {
      "text/plain": "RCV1Clusters(tiny)[Data: 50000, Clusters: 150, Mean-per-Cluster: 333.333; Medoids computed: False]"
     },
     "execution_count": 23,
     "metadata": {},
     "output_type": "execute_result"
    }
   ],
   "source": [
    "collection_clusters"
   ],
   "metadata": {
    "collapsed": false,
    "ExecuteTime": {
     "end_time": "2023-09-02T15:31:53.759786196Z",
     "start_time": "2023-09-02T15:31:53.683506454Z"
    }
   },
   "id": "d8e0981f62624b34"
  },
  {
   "cell_type": "markdown",
   "source": [
    "### Compute medoids"
   ],
   "metadata": {
    "collapsed": false
   },
   "id": "a31846f8eb6d0899"
  },
  {
   "cell_type": "code",
   "execution_count": 24,
   "outputs": [
    {
     "name": "stdout",
     "output_type": "stream",
     "text": [
      "INFO: Information not present at /home/sebaq/Documents/GitHub/IR_project/dataset/tiny/medoids.npy. \n",
      "INFO: Computing medoids. \n"
     ]
    },
    {
     "name": "stderr",
     "output_type": "stream",
     "text": [
      "100%|██████████| 150/150 [00:00<00:00, 2535.77it/s]"
     ]
    },
    {
     "name": "stdout",
     "output_type": "stream",
     "text": [
      "CPU times: user 54.9 ms, sys: 11.9 ms, total: 66.8 ms\n",
      "Wall time: 65.5 ms\n"
     ]
    },
    {
     "name": "stderr",
     "output_type": "stream",
     "text": [
      "\n"
     ]
    }
   ],
   "source": [
    "%%time\n",
    "\n",
    "collection_clusters.compute_medoids()"
   ],
   "metadata": {
    "collapsed": false,
    "ExecuteTime": {
     "end_time": "2023-09-02T15:31:54.576004885Z",
     "start_time": "2023-09-02T15:31:54.467697665Z"
    }
   },
   "id": "247148a04419a864"
  },
  {
   "cell_type": "code",
   "execution_count": 25,
   "outputs": [
    {
     "data": {
      "text/plain": "(150, 1202)"
     },
     "execution_count": 25,
     "metadata": {},
     "output_type": "execute_result"
    }
   ],
   "source": [
    "medoids = collection_clusters.medoids\n",
    "\n",
    "medoids.shape"
   ],
   "metadata": {
    "collapsed": false,
    "ExecuteTime": {
     "end_time": "2023-09-02T15:31:58.354713637Z",
     "start_time": "2023-09-02T15:31:58.289038991Z"
    }
   },
   "id": "45d306c8cf45c8bf"
  },
  {
   "cell_type": "code",
   "execution_count": 26,
   "outputs": [
    {
     "data": {
      "text/plain": "array([[-9.25878846e-04,  1.54320630e-04, -1.09512301e-03, ...,\n         1.38765051e-03, -8.98959735e-05, -4.69709114e-03],\n       [ 2.39897686e-04,  0.00000000e+00, -3.76215183e-02, ...,\n         2.80822179e-03,  0.00000000e+00,  0.00000000e+00],\n       [ 0.00000000e+00,  0.00000000e+00,  2.09241788e-02, ...,\n         0.00000000e+00,  0.00000000e+00,  0.00000000e+00],\n       ...,\n       [ 0.00000000e+00,  0.00000000e+00,  0.00000000e+00, ...,\n         0.00000000e+00,  0.00000000e+00,  0.00000000e+00],\n       [ 7.51069710e-04, -2.22859193e-03, -6.81003396e-04, ...,\n        -6.04688288e-04, -3.22836424e-03, -1.81424460e-02],\n       [ 3.41880346e-04, -1.18880201e-04, -1.01506001e-03, ...,\n         3.02638324e-03,  2.12864140e-03, -1.33085393e-03]])"
     },
     "execution_count": 26,
     "metadata": {},
     "output_type": "execute_result"
    }
   ],
   "source": [
    "medoids"
   ],
   "metadata": {
    "collapsed": false,
    "ExecuteTime": {
     "end_time": "2023-09-02T15:31:59.902190599Z",
     "start_time": "2023-09-02T15:31:59.813100736Z"
    }
   },
   "id": "11ad79483b32e7b4"
  },
  {
   "cell_type": "markdown",
   "source": [
    "### Save medoids"
   ],
   "metadata": {
    "collapsed": false
   },
   "id": "a4fb5cc865ce8807"
  },
  {
   "cell_type": "markdown",
   "source": [
    "Save medoids on disk."
   ],
   "metadata": {
    "collapsed": false
   },
   "id": "504eb925b2b1d4ad"
  },
  {
   "cell_type": "code",
   "execution_count": 27,
   "outputs": [
    {
     "name": "stdout",
     "output_type": "stream",
     "text": [
      "INFO: Saving medoids to /home/sebaq/Documents/GitHub/IR_project/dataset/tiny/medoids.npy. \n"
     ]
    }
   ],
   "source": [
    "collection_clusters.save_medoids()"
   ],
   "metadata": {
    "collapsed": false,
    "ExecuteTime": {
     "end_time": "2023-09-02T15:32:04.494708509Z",
     "start_time": "2023-09-02T15:32:04.419169817Z"
    }
   },
   "id": "2fd22cea20383fa7"
  },
  {
   "cell_type": "markdown",
   "source": [
    "## 7. doc-*ID* reassignment"
   ],
   "metadata": {
    "collapsed": false
   },
   "id": "1ec9c36886e41b99"
  },
  {
   "cell_type": "code",
   "execution_count": 28,
   "outputs": [
    {
     "name": "stdout",
     "output_type": "stream",
     "text": [
      "INFO: Medoids already computed. Use `medoids` to retrieve them. \n"
     ]
    },
    {
     "data": {
      "text/plain": "DocIdReassignmentComputation(tiny)[]"
     },
     "execution_count": 28,
     "metadata": {},
     "output_type": "execute_result"
    }
   ],
   "source": [
    "from model.reassignment import DocIdReassignmentComputation\n",
    "\n",
    "reassignment_computation = DocIdReassignmentComputation(\n",
    "    cluster=collection_clusters,\n",
    "    data_name=config.name\n",
    ")\n",
    "\n",
    "reassignment_computation"
   ],
   "metadata": {
    "collapsed": false,
    "ExecuteTime": {
     "end_time": "2023-09-02T15:32:05.883090402Z",
     "start_time": "2023-09-02T15:32:05.778732671Z"
    }
   },
   "id": "aaeb1a81441d2a84"
  },
  {
   "cell_type": "code",
   "execution_count": 29,
   "outputs": [
    {
     "name": "stdout",
     "output_type": "stream",
     "text": [
      "INFO: Information not present at /home/sebaq/Documents/GitHub/IR_project/dataset/tiny/reassignment_order.json. \n",
      "INFO: Solving TSP over medoids \n",
      "INFO: Solving TSP. \n",
      "INFO: Solving cluster internal order\n"
     ]
    },
    {
     "name": "stderr",
     "output_type": "stream",
     "text": [
      "100%|██████████| 150/150 [00:00<00:00, 231.44it/s]\n"
     ]
    }
   ],
   "source": [
    "reassignment_computation.solve()"
   ],
   "metadata": {
    "collapsed": false,
    "ExecuteTime": {
     "end_time": "2023-09-02T15:32:08.521772626Z",
     "start_time": "2023-09-02T15:32:07.752619159Z"
    }
   },
   "id": "cbb7dabaaa796c19"
  },
  {
   "cell_type": "code",
   "execution_count": 30,
   "outputs": [
    {
     "data": {
      "text/plain": "array([  2, 149, 148, 147, 146, 145, 144, 143, 142, 141, 140, 139, 138,\n       137, 136, 135, 134, 133, 132, 131, 130, 129, 128, 127, 126, 125,\n       124, 123, 122, 121, 120, 119, 118, 117, 116, 115, 114, 113, 112,\n       111, 110, 109, 108, 107, 106, 105, 104, 103, 102, 101, 100,  99,\n        98,  97,  96,  95,  94,  93,  92,  91,  90,  89,  88,  87,  86,\n        85,  84,  83,  82,  81,  80,  79,  78,  77,  76,  75,  74,  73,\n        72,  71,  70,  69,  68,  67,  66,  65,  64,  63,  62,  61,  60,\n        59,  58,  57,  56,  55,  54,  53,  52,  51,  50,  49,  48,  47,\n        46,  45,  44,  43,  42,  41,  40,  39,  38,  37,  36,  35,  34,\n        33,  32,  31,  30,  29,  28,  27,  26,  25,  24,  23,  22,  21,\n        20,  19,  18,  17,  16,  15,  14,  13,  12,  11,  10,   9,   8,\n         7,   6,   5,   4,   3,   1,   0])"
     },
     "execution_count": 30,
     "metadata": {},
     "output_type": "execute_result"
    }
   ],
   "source": [
    "reassignment_computation.medoids_order"
   ],
   "metadata": {
    "collapsed": false,
    "ExecuteTime": {
     "end_time": "2023-09-02T15:32:17.347394087Z",
     "start_time": "2023-09-02T15:32:17.302254266Z"
    }
   },
   "id": "b9d8103684743125"
  },
  {
   "cell_type": "code",
   "execution_count": 31,
   "outputs": [
    {
     "data": {
      "text/plain": "{0: array([ 244, 1094,  253, ...,  887, 1061,  995]),\n 1: array([51, 71, 60, 31, 32, 75,  4, 67, 25, 61, 88, 26, 69,  8, 72, 79, 68,\n        70, 11, 76, 12, 36, 41, 37, 86,  2, 30, 83, 57, 35, 27, 18, 49,  1,\n        19, 43, 22, 10, 38,  9, 13, 59, 42, 58, 20, 62, 56,  7, 28,  6, 15,\n         0, 54, 63, 23, 50, 39, 92,  3, 17, 16, 14, 24, 21, 46, 53, 65, 80,\n        40,  5, 55, 29, 82, 34, 74, 47, 77, 81, 45, 52, 90, 33, 84, 73, 64,\n        48, 87, 44, 78, 89, 85, 91, 66]),\n 2: array([ 8, 11, 10, 14, 13,  9, 15, 16, 17, 12,  6,  5,  7,  4,  2,  1,  0,\n         3]),\n 3: array([20, 28, 33, 25, 21, 32, 30, 24, 35, 22,  6, 19, 29,  0, 27,  9, 31,\n         3, 11, 15, 23, 34, 26, 36,  7,  1, 10, 17,  4, 14,  8, 18,  5, 12,\n        16, 13,  2]),\n 4: array([31,  4,  9, 57, 52, 33, 68, 50, 29, 61, 56, 49, 35, 27, 26, 63, 73,\n        74,  0,  6, 11, 16, 23, 22, 40, 39,  5, 51, 66,  3, 71, 67, 32, 53,\n        20, 18, 45, 43, 54, 48, 42, 17, 60, 58, 69, 44,  2, 70, 41, 21, 62,\n        10, 72, 37, 34, 28, 25, 65, 64, 19, 14,  8,  1, 36, 47, 55, 13,  7,\n        24, 12, 15, 38, 30, 46, 59]),\n 5: array([ 34, 199, 361, 125, 168, 353, 334,  22, 180, 380, 237, 367, 347,\n        430, 257, 530, 450, 433, 126,  59, 128, 291, 314, 446, 526, 499,\n         58, 418,  42, 352, 146,  99, 231, 507, 485, 107, 111,  28,  35,\n        491, 529,  21, 220, 483, 363, 227, 428, 388, 188, 481, 293, 421,\n          5, 370, 425, 394, 238, 487,  69, 127, 365,  39, 218, 292, 412,\n        194, 315, 236, 328, 512, 178, 273, 535,   2, 477, 224, 174, 251,\n        115, 147, 341, 277, 189, 538, 375, 356,  62, 150, 271, 478, 401,\n         57, 434, 275, 309, 472, 354, 163,  33,  63, 373, 183,   8, 296,\n        342,  20,  70, 372, 488, 131, 495, 152, 264, 308,  52, 140, 196,\n         66, 270,  55, 206,  64, 299,  36, 458, 148, 203, 438, 504, 317,\n        359, 102, 521, 200, 256,  81, 407, 145,  60,  97, 489, 482,  31,\n         51,  87, 391, 343,  93, 533, 121,  79,  18, 179, 445, 239, 501,\n        108, 451, 479,  16, 503, 290,  65,  29,  98, 280, 371, 139, 162,\n         84, 289, 209, 500, 462, 524,  80, 351, 360, 276,  54, 377,  10,\n        281,  89, 374,  43, 153, 449, 177, 387, 362,  92, 164, 413, 165,\n        151,  91, 436, 167,   4,  53, 278, 506, 137, 379,   3, 333, 249,\n         11, 260, 297,  30,  25, 355, 123, 304, 161,  73, 411, 222,  50,\n        429, 175, 345, 112, 435, 525, 259, 160,  78, 254, 158, 329, 534,\n        120, 173, 494, 286, 154,  12, 213, 335, 101, 310, 520, 322, 135,\n        193, 172, 316, 192, 502,  15, 410, 518, 279, 119, 100, 405, 208,\n        312, 427,  86, 366, 358, 268, 493, 325, 439, 272, 397, 171, 190,\n         41, 444, 416, 285, 510, 514, 461, 332, 266, 344, 424, 287, 303,\n        327, 219, 301, 170, 217, 399,  40, 452, 381, 432, 169, 221, 378,\n        207, 338, 369, 195, 368, 104, 265, 496, 212,  68, 513, 242,  88,\n        248, 517, 455, 149, 205, 460, 443, 497, 141, 468,  32, 490, 457,\n         23, 262, 415, 340, 376, 244, 475, 440, 414, 184, 537, 403,  90,\n        384, 252, 528, 250,  46,  24,  75, 166, 136, 442, 456, 191,  56,\n        324, 267, 210, 350, 321, 157, 201, 109, 331, 469, 465, 283, 511,\n        382, 142, 288,   0, 336,  96, 318, 240,  19, 536, 386, 106, 234,\n        464, 132, 133, 527, 282, 124, 311,   1, 261, 470, 233, 155,  14,\n        274, 339,  77,  94, 330, 459, 211,  27, 431, 176, 417, 453, 402,\n         82, 385,  37, 400, 423, 134, 228,   6, 226, 113, 337, 476, 117,\n        492, 216, 441, 408,   9, 357, 298,   7, 409, 486, 509, 346, 419,\n        522,  83, 404, 447, 247, 515,  44, 130, 516, 253, 319, 467, 395,\n        143, 320, 258, 138, 426, 235, 396, 187, 471, 437,  45, 159, 473,\n        390, 156, 498,  17, 103, 398, 204, 393,  13, 532, 230, 392, 269,\n        245, 246, 114, 185,  72, 198, 484, 383, 406,  95, 519, 197, 508,\n        243, 420,  71, 463, 202,  47, 531, 505, 232, 448, 182, 255, 144,\n        241, 223, 295, 364, 214,  48, 116, 105, 263, 129, 118, 302, 474,\n        307, 215, 225, 349, 454, 466, 313, 480,  49, 181,  26, 326, 294,\n         67,  85, 122, 110, 305,  74, 186,  61, 323, 306,  76, 229, 422,\n        284, 389,  38, 523, 348, 300]),\n 6: array([ 0,  9,  7,  6,  5,  8,  3,  2,  1,  4, 15, 10, 11, 12, 14, 16, 13]),\n 7: array([ 84, 115, 154,  67,  51,  40,  31,  75,  19,  14, 141,  64,  70,\n         21,  73, 174,  78,  15,  66,  90, 135,  30,  48,  16,  72, 157,\n        124,  27, 144,  37, 101, 145, 166, 109,  12,  57, 151,  28,  25,\n        171, 108,  56,  11,  80,  24, 153,   4, 106,  54,  92, 111,   7,\n         52,  89,  68,  38, 163, 139,  60, 160, 165,  91,  81,  33, 127,\n        117, 130,  39, 102,  47, 155, 176,  23, 126,   0, 116,  13, 158,\n        132, 129, 104, 169, 159,  69,  83,  82, 175, 137,  77, 136, 142,\n         45, 148,  58, 113,   9,  94, 161,  55,   5, 107, 103,  79,  87,\n        152,  36, 146,   8, 112,  50,  93, 156,  18, 172,  65,  96,  74,\n         34,  17,  76, 120, 164,  98, 149, 143, 125,  95, 134,  29, 167,\n         20,  85, 138,  46,  26, 100,  63, 168, 105,   3,  49,  43,  35,\n         41, 140, 147, 150, 123, 162,  44, 110,  53,   6, 119, 170,   1,\n         62, 118,  99, 133,  22,   2,  61,  71, 122, 173,  42,  32, 114,\n         59,  10,  86, 121, 128,  97,  88, 131]),\n 8: array([73,  1, 57, 90, 81,  8, 22, 63, 34, 70, 53, 48, 69, 23, 68, 77,  0,\n         4,  9, 13, 78, 89, 74, 45, 49, 41, 15, 50, 59, 42, 67, 80, 72, 16,\n         2, 55, 14, 87, 47, 65, 51, 21, 39, 31, 26,  3, 66, 18, 52, 64, 54,\n        71, 38,  6, 11, 60, 84, 62, 88, 29, 82, 30, 75, 33, 10, 20, 17, 40,\n        43, 27, 76, 19,  7, 32, 83, 36, 28, 86, 58, 85, 56, 79, 44, 25, 37,\n        61, 12,  5, 91, 46, 24, 35]),\n 9: array([35, 86, 82, 44, 38, 81, 26, 88,  2, 32, 46, 13, 50, 54, 78, 77,  0,\n        70,  3, 47, 85, 76,  8, 69, 34, 33,  4, 39, 71, 72,  7,  1, 14, 89,\n         5, 15, 87, 83, 16, 53, 28, 36, 52, 51, 41, 57, 55, 11, 49, 19, 20,\n        29, 24, 61, 66, 10, 75, 62, 67, 18, 73, 56, 65, 68,  6, 79, 42, 90,\n        22, 17, 23, 25,  9, 58, 80, 63, 60, 64, 31, 48, 40, 30, 12, 84, 74,\n        43, 27, 37, 59, 21, 45]),\n 10: array([244, 137,  87, 603, 485, 279,  54, 140, 304, 462, 512, 132,  52,\n        594, 146, 301, 617, 478, 105, 661, 102, 345, 694, 515, 612, 247,\n        274,  72, 281, 167, 537, 624,  61,  80, 275, 314, 588, 589, 134,\n        273, 141, 602, 686, 551, 638, 376, 609, 548, 234, 115, 677,  96,\n        267, 445, 651, 114, 715, 461, 113,  84, 252, 516, 363,  93, 546,\n        268, 631, 107, 586, 375,   1, 266, 659,  27, 407,  11, 672, 520,\n        498, 643, 524, 265, 104, 249,  79, 662, 155, 116, 582, 131, 258,\n         17, 143, 500, 717, 501, 449, 420, 689, 554, 233, 710, 452, 271,\n        349, 687,  90, 386, 454,  56, 634, 587, 493, 494,  24, 289, 111,\n        560, 229, 529, 103, 260,  59, 468, 230, 473, 666, 161,  29, 101,\n        369,  10, 545, 465, 708, 119,  75, 346, 650, 540, 215, 528,  19,\n        166, 179, 508, 682, 555, 149, 591,  95, 430, 599, 539, 523, 241,\n         21, 257, 480, 479, 476, 550, 669, 519, 309, 347, 159, 118, 578,\n        648,  34, 547, 541, 344, 530, 227, 655, 670, 569, 117, 337, 685,\n        276, 400, 467, 112,   8,   0, 178, 506,  48, 428,  12, 601, 572,\n        637, 242, 632, 199, 253, 605, 404, 596, 444, 526,  18, 448,  60,\n        262, 608, 543, 646, 558, 263,  57, 433, 151,  88,  81, 613, 374,\n        536, 402, 135, 482, 282, 678, 706, 525, 387, 239, 697, 557, 144,\n        693, 223,  44,  38, 186, 585, 194, 455, 237, 695, 139, 162,  43,\n        684,  77, 342, 469, 238, 270, 100,  39,  45,   4,  94, 503, 366,\n        390,  25, 565, 487, 152, 439, 185,  76, 370, 679, 488,  92, 122,\n         33, 305, 219, 474, 354, 121, 308, 176, 350, 573, 285, 598, 542,\n        518, 676, 571, 235, 226,  67, 418, 192,  50, 335, 195, 208, 317,\n        338, 348,  35,  85, 641, 378, 680, 559, 216, 142, 570, 607, 269,\n        357, 511, 383, 698, 711, 464, 446, 674, 148, 312, 191, 280, 319,\n        505,  36, 562, 138, 702, 211, 472, 458, 246, 456,  49,  78,   2,\n          3, 649, 611, 207, 120, 714, 228, 351, 196, 576, 328,  68,  53,\n         42,  65, 451, 564,  58, 556,  47,  46,   6, 636,  23, 696, 154,\n        616, 288,  70, 713, 414, 701, 254, 210, 423, 521,  13, 197, 504,\n        577, 590, 579,  41, 170, 606, 307,  40,  28, 231,  64, 640, 203,\n        623, 703, 343, 442, 133, 380, 614, 182, 538, 417, 671, 653,  97,\n        187, 644, 316, 489, 574,   7, 583, 188, 164, 150, 259, 277, 278,\n        416, 198, 128,  98, 716, 513, 201, 200, 629, 393, 181, 621, 619,\n        566,  73, 306, 592,  91, 382, 129, 323, 299, 463, 477, 325, 411,\n        320, 261, 552, 384, 165, 123,  30, 287, 593, 394, 700,  71, 533,\n        173, 705, 372, 509, 321, 490, 403,  37, 311, 293, 236, 168, 647,\n        475, 435,  62, 484, 193, 492, 224,  55,  16, 251, 330, 175, 145,\n        597,  69, 413, 169, 353, 663, 171, 214, 172, 184, 326, 712, 232,\n        431, 364, 157, 639, 243, 377, 245, 422, 580, 292, 256, 443, 385,\n        360, 389, 553, 412, 202, 709, 568, 481,  26, 313, 130, 434, 318,\n        324, 163, 240, 415, 409, 340, 189, 339, 329, 635, 327, 654, 190,\n        322,  66, 486, 300, 255, 315, 425, 392, 225, 331, 336, 502, 517,\n        667, 453,  51, 160, 367, 652, 391, 399,  74, 341, 180, 491, 427,\n        618, 628, 379, 665, 381, 436, 470, 264, 294, 286, 248, 127, 707,\n        610, 106, 332,  15, 604, 156, 397, 622, 283, 563, 395, 310, 645,\n        466, 359,  14, 496, 124,  83, 532, 362, 408,  82, 410, 595, 549,\n        221, 561, 633, 371, 333, 429, 356, 692, 212, 358, 368, 567, 691,\n        514, 298, 290, 204, 398, 222, 531, 250, 284, 205, 295, 584, 352,\n          9, 220, 704,  31, 499, 600, 291, 296,  89, 437, 396, 495, 334,\n        450, 626, 302, 625, 218, 355, 630, 217, 522, 153, 657, 683, 136,\n        125, 206, 642, 361, 440, 620,  32, 507, 303,   5, 405, 510, 110,\n        534, 664, 699, 483, 575, 126, 668, 688, 174, 471, 108, 656, 213,\n        419, 690, 424, 272, 681, 183,  22, 297, 497, 158, 581, 373,  20,\n        177, 401, 438, 527, 544, 615,  99, 447, 627, 388, 658, 457,  63,\n        147, 432, 535, 365, 421, 109, 673, 441, 459, 209, 426, 660,  86,\n        675, 406, 460]),\n 11: array([1, 2, 5, 4, 0, 9, 6, 7, 8, 3]),\n 12: array([17, 26,  2,  4,  6, 21, 16, 24, 19,  5, 12, 10, 23, 27, 13,  1,  9,\n         7, 20, 25, 11,  0,  3, 15, 14, 18,  8, 22]),\n 13: array([188,  48, 185, 234, 125, 131,   5, 179, 263, 196, 119, 201,  20,\n        112,  58, 161, 214, 197, 221, 136, 103, 241, 166, 191, 239, 122,\n        249, 280, 237, 204,  31, 218,  71, 281, 101, 111, 211, 194,  80,\n        238, 138, 140, 271, 150, 203, 255, 173, 144, 258, 259, 262, 283,\n        142,  47, 148, 242,  14, 168,  67,  36, 130,  82, 245,  50,  76,\n        141, 167, 164, 192, 106, 117, 145,  69, 275,  52, 147, 219, 252,\n        124,  78, 186, 226, 143, 224, 105,  61, 193, 217,  73, 108,  87,\n        220,  84, 104, 253,  66, 132,  95,  68, 113,  59,  44, 212, 153,\n        213, 257, 256,  23, 247, 279, 162, 215,  41, 160,  70, 129,  35,\n         18, 100,   0, 128, 146, 151, 189,   6, 232,  90, 240,  97, 127,\n         62,  30, 225, 200,  15, 139,  34,  77, 182,  45, 172,  88,  12,\n        216, 266, 183,  51,  49, 133,  37, 273, 107, 223,  98, 109,  10,\n         17, 233, 286,  55, 157,  91, 177,  65,  16, 116,  99, 110,  57,\n        115, 176, 251,  21, 199, 159, 231, 175, 270,  53, 120, 287,  96,\n         26, 227,  75,  92,  85,  43, 114, 268, 121,  72,  24,  33,  27,\n        248, 264,  60, 202,  32,  29, 260,   7, 243, 195,  46,  93, 163,\n        154,   9, 165, 123,  11, 254,  74,  63, 190,  79, 102, 187, 272,\n         94, 174, 171, 169,  83, 137, 269, 181, 285, 135,  28, 261, 230,\n         39, 149, 205, 267, 236, 208,   3, 276, 222, 156, 206, 229, 209,\n        228, 277, 158, 178, 246, 244, 274,  25, 126, 118,  86, 235,   2,\n          1, 184,  89, 282, 210, 134,  22,  42, 250, 284, 155,  13, 152,\n        170,   4,  38,  81, 278,  56,   8,  64,  40,  54, 198, 207, 265,\n         19, 180]),\n 14: array([ 76,  14, 140,  93, 189,  38, 100, 171, 126, 122, 137,  92, 167,\n         25,  28,  27, 127,  86,   2,  49,  53, 198,   8,  59,  99, 178,\n        210,  57,  32,  22,  21,  71, 143,  33,  16,  29, 206, 156, 149,\n        190,  36, 105,  95,  84, 157, 184, 172,  15, 104, 213,  23, 132,\n        200,   5, 141, 217, 136,  58, 204,  35,  68,  70, 194,  20,  87,\n         17, 207, 120, 215, 169, 142, 118,  96, 135, 153, 160, 117, 182,\n        144, 146, 148,  55,  24, 155,   1,  66, 110,  10, 216, 168, 191,\n        147,  13, 101, 115,   3,  31, 188, 123,  56, 138, 192,  97, 173,\n         64, 163, 161,  37, 220, 103,   6, 180, 145, 166, 151, 124,  30,\n        139, 179,  61, 212, 116,  65, 203, 187,   7,  72, 129,  40,  88,\n        211,  39,  12, 125, 197, 133, 195, 221, 183,  69, 170, 134,  18,\n        177, 159, 106, 102,  19,  11, 202, 165, 164,  79, 121, 174, 186,\n         52, 158, 209,  82, 112, 214,  80,   0, 193, 150,  63, 108,  26,\n        130,  83,   9,  62,  54, 119,  60, 185,  73,  81,  90, 114,  98,\n        201,  34, 218,  89, 111,  75,  67, 181,  51, 205, 154,  94,  44,\n        162,  47,   4,  45, 128, 113,  41,  43,  46,  85,  48, 152,  78,\n        131, 109, 196, 107, 175,  91,  50, 219, 208, 176,  77,  42, 199,\n         74]),\n 15: array([175, 299, 564, ..., 340, 534, 491]),\n 16: array([425, 609,   9, 335, 667, 650, 560, 196, 227, 474,  84, 445, 657,\n        740, 696, 550, 398, 210, 254, 318,  32, 315, 475, 289, 527, 788,\n        447, 604,  54, 284, 539, 350, 323,  37, 264, 639, 470, 713,  17,\n        390, 218,  24, 497, 371, 270, 542, 632, 802, 786, 225, 725, 630,\n        385, 501, 741, 247, 502, 160, 103, 292, 339, 257,  11,  46,  69,\n        666, 155, 641, 233, 628, 434, 750, 770, 412, 139, 503, 110,  20,\n        589, 733, 783, 342, 623, 659, 615, 697, 507, 677, 188, 300, 568,\n        578, 100, 535, 686, 469, 500,  55, 183, 128, 610, 638,  42, 453,\n        288, 433, 522, 199, 714,  21, 534, 308, 768, 798, 799,  57, 505,\n        476, 104,  13, 132, 514, 552, 157, 417,  71, 427, 276, 557, 309,\n        646, 622,  19, 140, 653, 204, 166, 525, 614, 481, 432, 567,  91,\n        520, 782, 198, 769, 175, 249, 129, 458, 235,  93, 400, 637,  59,\n        250,   8,  92, 268, 340, 559, 642, 338,  48, 705,  29, 668, 763,\n        326,  72,  73, 414, 171, 231, 170, 478, 756, 629, 333, 801, 429,\n        797, 519, 538, 159, 491, 695, 366, 243, 118,  70, 594, 555, 373,\n        466, 489, 297, 223, 321, 357, 561, 720, 735, 544, 734, 682, 280,\n        721, 495, 640, 399,  31,  43, 224, 367, 281, 526, 372, 349, 671,\n        437, 759, 322, 220,  61, 748, 758, 719, 307, 803, 415, 378,  18,\n        597,  53,  65, 248, 369, 241, 468, 684, 271, 710, 444, 595, 593,\n         83, 536, 383, 681, 404, 174, 660,  99, 482, 441, 446, 397, 209,\n        355, 513,  87, 108, 613, 416, 117, 262, 365, 728, 205, 649, 575,\n        490, 449, 168, 426, 457, 279, 298, 169,  98, 347, 192, 287, 186,\n        800, 161, 562, 278, 808, 162, 189, 370, 795, 348, 221, 203,  49,\n        591, 341, 208,  23, 138, 577,  75, 727, 133, 549, 185, 617, 517,\n        420,  14, 435, 608,  76, 570,  10, 612, 655, 694, 479, 564, 523,\n        738, 219, 443, 532, 780, 528, 153, 123, 156, 764, 200, 486, 757,\n        454, 234, 515, 239, 499, 401, 154, 776, 316, 167, 805, 524, 688,\n        452, 785, 796, 158, 658, 672, 699, 131, 585, 774, 197, 299, 381,\n        753, 618, 683, 737, 430, 773, 700, 422, 625, 543, 556, 230, 389,\n        213, 256, 392, 689, 656, 751, 463, 421, 531,  15,  56, 436, 744,\n        541, 506, 540,  50, 754, 237, 467, 428, 732, 462,  35, 327, 290,\n        126, 240, 571,  39, 739, 245, 765, 343, 569, 789, 554, 651, 391,\n        616, 487, 661, 460, 743, 787, 516, 293, 742, 105, 607, 698, 558,\n        692, 633, 711, 376, 265, 419, 172, 277, 386, 134, 184, 537, 572,\n        304, 282, 581, 352, 806,   7, 563, 354, 302, 363, 164, 165, 465,\n        409, 380, 647, 521, 498, 685, 669,  41, 448, 762, 654, 533, 588,\n        410, 480, 418, 450, 362, 261, 317, 504, 274, 124, 807,  12, 635,\n        187, 767, 135, 263,  74, 113, 396,  60, 331, 424, 603, 107, 626,\n          2,   1, 267, 296, 511, 606, 438, 111, 722,  16, 147, 180, 332,\n        387, 106, 439, 395, 336,  52, 791, 334, 529, 746, 662, 345, 690,\n        115,  90,  89, 678, 620, 518, 368, 122, 361, 405,   3, 242,  36,\n        283, 294, 246, 456,  96, 388,   4, 112, 101, 752, 382,  94, 319,\n        693, 285, 407,  62, 464,  88, 252, 251, 471, 579, 664, 130, 394,\n        275, 337,  47, 329, 718, 712, 152, 709, 605,  40,  51, 393,  66,\n        702, 484, 573, 137, 346, 311, 173, 151, 675, 726, 729, 749, 461,\n        291, 313,  63, 766, 496, 423, 273, 745, 176, 286, 442, 586, 592,\n        546, 148,  34, 384,  82,  25, 793, 530, 259,  68, 485, 181, 601,\n        228, 596, 222, 178, 206, 706,  44, 566, 216, 736, 144, 351, 324,\n        602, 600, 194, 784, 790,  30, 778, 730, 724, 716, 212, 717, 707,\n        403, 364, 687, 781, 494, 163, 598, 599, 344,  81, 611, 792, 269,\n          6, 508, 794, 411, 413, 680, 755, 510, 244, 723, 202, 201, 455,\n        582, 715, 631, 760, 673, 492, 545, 580, 301, 191, 232, 303, 236,\n        182, 551, 305, 253, 211,  97, 473, 353, 325, 145, 731, 587, 624,\n        121, 402, 102, 193,  27, 431, 643, 775, 136, 648, 636, 652, 179,\n        177, 644, 674, 142, 708, 150, 590, 477, 120, 119, 258, 645,  79,\n         78,  28,  45, 358, 127, 406, 310, 272, 190,  22,  58, 356, 143,\n        226, 314, 663, 379, 149, 576, 125, 488, 472, 804, 141,   0,  67,\n        583, 679, 621, 328, 377,  26, 109, 747, 214, 330,  64, 619, 238,\n        483,  86, 634, 761, 553,  77, 665, 547, 565, 255, 359,  33, 574,\n         80,  85, 771,  95, 260, 295, 459, 772, 440, 375, 116, 512, 266,\n        670, 493, 217, 627, 704, 374, 312, 701, 451, 114, 320, 691,   5,\n         38, 703, 207, 215, 779, 584, 777, 509, 306, 408, 548, 195, 676,\n        360, 146, 229]),\n 17: array([325, 566,   3, 878, 104, 847, 522, 563, 533, 930, 693, 246,  86,\n        613,  77, 928,  25, 610, 846, 685, 931, 244, 270, 272, 859, 331,\n        919, 700, 912,  73, 105,   6, 590, 100,  71,  32, 918, 802, 801,\n         85, 557, 266, 125, 171, 915, 644,  98, 773, 640, 653, 134, 589,\n        120,  27, 346, 415, 857,  49, 199, 194, 854, 481,  40,  69, 478,\n        709, 672,  42, 743, 132, 748, 726, 829, 179, 678, 180,  41, 601,\n        300, 537, 247, 233, 204, 460, 882,  58, 205, 288, 413, 302, 349,\n         62, 866, 252, 397, 529, 668, 436,  16, 622, 142, 759, 295, 255,\n        701,  68, 128, 170, 626, 605, 491, 290, 485, 364, 569,  59, 524,\n        940, 468, 201, 307, 514, 339,  31, 322, 426, 148, 352, 925, 390,\n        202, 899, 401, 311, 354, 549, 844, 906,  89, 356, 323, 655, 860,\n        845, 243, 937, 421,  35, 720,   0, 562,  43, 376, 285,  50, 764,\n        160, 558, 530, 663, 369, 856, 804, 828,  28, 224, 396, 152, 151,\n        916, 687, 612, 602, 777, 615, 820, 283, 231, 340, 887,  61, 492,\n        652, 393,  19, 467, 816, 718, 103, 713, 127,  97,  67, 570,  34,\n        303, 624, 297, 797, 641, 688, 808,  66, 212, 932, 427, 316, 635,\n        419, 675, 638, 395, 787, 642, 216, 497, 461, 217, 891, 428, 889,\n        903, 786, 732, 788, 858, 755, 682, 883, 447, 565, 715,  99, 599,\n        628, 257, 531, 580, 684, 550, 826, 796, 504, 619, 117, 114, 741,\n        766, 600, 506, 894, 747, 712, 795, 617, 910, 493, 941, 729, 717,\n        683, 666, 215, 579, 521, 124, 770, 922, 680, 792, 422, 761, 362,\n        351, 552, 236, 650, 265, 725, 310, 853, 451, 643, 532, 572, 309,\n        553, 737, 654, 587, 489, 268, 279, 510, 938, 464, 551,  72,  87,\n        335, 304, 188, 874, 480, 921, 407, 661, 338, 775, 667, 165, 353,\n        914, 935, 669,  15, 457, 269, 336,  10,  94, 408, 228,  22,  39,\n        245, 888, 381, 594, 164, 618, 863, 822, 774, 811, 697, 471, 705,\n        790, 789, 806, 634, 885, 488, 593, 689, 500, 298, 512, 350,  30,\n        406, 595, 656, 934, 308, 482, 736, 158, 556, 782, 831, 294, 277,\n        174, 178, 450,  44, 670, 262, 611, 658, 607, 827, 513, 528,  84,\n        173, 441, 445, 183, 631, 375, 517, 591, 535, 582, 849, 213, 947,\n        400, 175, 665, 411, 278, 898, 576, 767, 765, 163, 798, 645, 242,\n        793, 852, 893, 197, 598, 249, 526, 431, 730, 186, 371, 636,  20,\n        159, 327, 348, 146, 456, 740, 138, 137, 253, 596, 539, 516, 840,\n        884, 868, 763, 892, 575, 136, 139,  88, 738, 501, 443, 484, 329,\n        807, 616,  53, 386, 544, 647, 927, 850, 871, 681, 507, 696, 901,\n        110, 256, 382, 360, 237, 235, 238, 723, 455, 677, 633, 465, 391,\n          1,  18, 543, 363, 122, 483, 207, 444, 902, 496, 534,  63,  95,\n        361, 710, 838, 538, 145, 494, 167, 509, 434, 904, 555, 149,  75,\n        240,  74, 542, 498, 106, 499, 742, 241, 944, 306, 286, 379, 439,\n         36, 752, 469, 875, 757, 144, 254, 817, 258, 896, 342, 248, 623,\n         93, 907, 714, 321, 769, 515, 150, 708, 334, 209, 839, 168, 877,\n         90, 143, 609, 261, 417, 895, 219, 495, 214, 172, 394, 627, 772,\n        130, 908, 284, 187, 409, 924, 135,  29, 923, 387, 508, 554, 121,\n        536, 291, 359,  54, 505, 876, 586,  56, 380, 367, 108,  83, 913,\n        466, 848,  78,  26, 372, 463, 819, 292, 446, 900, 429, 862, 560,\n        799, 280, 276, 153, 154, 664, 147, 193, 410, 606, 131, 758, 161,\n        830, 230, 699, 540, 479, 716, 674, 746, 523, 946, 867, 101, 373,\n        703, 116, 791, 753, 251, 459, 438, 274, 574, 660, 123, 472, 314,\n        475, 384, 181, 267, 809, 218, 210, 813, 779, 442, 783, 490,   2,\n        287, 358, 126, 377, 305,  64, 458, 200, 592, 448, 690, 502, 473,\n        518, 620,  60, 525, 621, 911, 818, 841, 646, 929,  13, 679, 416,\n         46, 573, 588, 169, 861, 880, 815, 129, 365, 842, 176, 141, 676,\n        671, 585, 750, 920, 166, 225, 454, 834,  96, 851, 603, 315, 405,\n        430, 477, 659, 657, 662, 835, 776, 177,  51, 814, 162, 519, 873,\n         52, 843, 749, 383, 423, 289, 711, 355, 545, 872, 425, 520, 318,\n        936, 571, 547, 366, 399, 698, 424,  21, 357, 865, 140,  47, 879,\n        673, 581, 541, 511, 823, 768, 548, 704, 836, 583, 751,  65, 695,\n        578, 897, 118,  91,  92, 239, 864, 869, 433, 418, 420, 259, 226,\n        905,  33, 462, 250, 686, 437, 780, 326, 503, 440, 453, 192, 196,\n         38, 344, 229, 333, 337, 870, 113, 939,  12, 632, 629, 313,  11,\n        198, 832, 324,  76,  80, 223, 182, 778, 208, 388, 275, 702, 762,\n        109, 692, 833, 855, 691, 942, 343,  57, 890, 412, 107, 184, 317,\n        271, 368, 694,   5, 330, 293, 739, 733, 728, 604, 917, 745, 794,\n        220, 385, 206, 639, 933, 760, 403, 234, 637, 155, 156, 810, 195,\n        332, 374, 734, 112, 735, 111, 577,  14, 943, 211, 133,  79,   8,\n        731, 102,  48, 567, 370, 119, 945, 909,  70, 771, 299, 649, 608,\n        414, 821, 432,  55,  82, 722, 312, 227, 597, 756, 341, 398, 378,\n        568, 561, 470, 706, 724, 651,  45, 232, 301, 648, 319, 263, 264,\n        452, 449, 614, 805, 185, 707, 785, 115, 886, 404, 812, 282, 296,\n        803, 727, 837,   7, 721, 190, 476, 486, 157, 273, 487,  37,  17,\n        435, 784, 719, 881, 584, 625, 281, 800, 744, 389, 564, 221, 527,\n         23, 191, 260, 546, 754,   9, 781, 559,   4,  24, 320, 824, 825,\n        345, 630, 402,  81, 926, 189, 347, 222, 474, 392, 328, 203]),\n 18: array([37, 23,  2, 15, 27, 28,  5,  6, 16, 25, 21, 22, 35, 24, 33,  0, 14,\n         9, 30, 39, 36, 31, 10, 29, 19, 38, 34,  8, 20,  4, 18,  7, 13, 12,\n        11,  3, 17,  1, 26, 32]),\n 19: array([ 64, 185,  88,  87,  38,  42, 108,  26,  34, 118,  12, 120, 107,\n        171, 130, 109,  59,  20,   4,   6,   2, 184,  52,   5,  70, 142,\n        187, 103,  28, 134,  48, 136,   3, 170, 157,  49,  55,  63, 154,\n        135, 122, 105,  68,  56, 124,  16,  51, 162, 100,  83,  27,  82,\n         69, 133,  85,  84,  50,  53, 131, 138, 150, 159, 169, 161, 127,\n         75,  62,  44,  31,   0,  37, 176, 141,   1, 174,  71,  21,  89,\n         95,  81,  30, 163,  96, 156,  22, 177,  97,  72,  74,  61,  91,\n        188, 180,  57, 140, 110,  23, 186, 173,  14, 102, 106, 181,  25,\n        172, 112,  39,  79, 125,  43,  86,  99,  45,  94,  80,  15, 126,\n        167, 166, 151,   7,   8, 158,  47, 101,  18,  78, 116,  65,  29,\n        137, 128, 113,  40, 132, 121,  11,  73,  76,  93, 165,  66, 153,\n        144,  17, 148,  90,  19, 168,  24, 152, 129,   9,  67, 114,  33,\n         98, 175,  41, 164,  32, 145, 178, 143,  92, 111, 139, 179, 115,\n         54, 149,  36,  77, 117, 155,  35, 182,  13,  10, 104,  60, 123,\n        147, 183,  46, 160, 146,  58, 119]),\n 20: array([1353, 1158, 1084, ..., 1059, 1589,  801]),\n 21: array([35, 24, 48,  8, 20, 44, 10, 51, 37, 12, 32,  3,  2, 34,  7, 52, 40,\n        42, 47, 14, 53, 33, 39, 28, 15, 43, 63,  6, 13, 11, 36, 21, 61, 45,\n         5, 25, 29, 22, 26,  4, 57, 50, 55,  9, 27, 62, 19, 23, 56, 59, 16,\n        60, 49,  1, 31, 46, 38,  0, 18, 54, 41, 58, 17, 30]),\n 22: array([ 2,  0,  6,  7,  5, 10,  9,  1,  3,  8,  4]),\n 23: array([ 15, 158, 117, 161, 240, 153, 239, 124, 151,   8,  57,   7,  16,\n        149,   6, 237, 159, 102, 230, 116,  99,  98, 232, 147, 200, 138,\n        199,  96, 145, 156,  44, 146, 143,  43, 155,  90, 235, 139,  89,\n        224, 223,  88, 172,  28, 233, 160, 171, 144, 142, 238,  25, 170,\n         37, 152,  36, 216,  22, 221, 109, 140, 115,  56,  12, 242, 112,\n         51, 241, 114,   3, 127, 195, 128, 231,   5, 157,  76, 201, 183,\n         73, 141, 212,  62,  82, 104, 105, 126, 107, 150, 214, 103, 178,\n         59, 226, 148,  20, 189, 119, 227, 225, 213, 182,  87,  64, 194,\n        181,  19, 123,   4,  39,   2, 130, 174, 125, 113,  95,  84,  81,\n        173, 131,   0,  32,   1,  18, 122, 111, 210,  17,  40, 129, 137,\n         35, 163, 101,  60,  33,  34,  80, 198, 207, 118, 120, 229,  46,\n         65, 166,  31,  58,  41, 217,  30, 204,  14, 110, 211, 203, 108,\n         94, 106,  78,  52, 134,  74,  97,  71,  66,  13, 179,  86, 133,\n        208, 234,  85, 228, 121, 154, 236, 215,  70, 184, 186, 209, 162,\n        185, 164,  93, 132, 205, 100, 222, 136,  55,  69,  92,  27, 218,\n         54, 193,  83, 135, 190, 197, 196,  29,  26,  42,  68, 192,  53,\n         24,  47,  75,  21,  23,  11,  50,  72, 191,  79,  77,  10, 180,\n         38,  67,   9,  49,  63,  48, 177, 220, 165, 176, 219, 175,  91,\n        206,  61, 169, 168, 167, 202,  45, 188, 187]),\n 24: array([ 4,  1,  2,  5,  3, 10,  9,  0,  8,  7,  6]),\n 25: array([ 80, 222, 778,  75, 799, 922, 267, 572, 594, 483, 777, 367, 405,\n        243, 720, 927, 424, 663, 977, 786,  71, 542, 204, 377, 503, 544,\n        721,  74, 593, 333, 410, 404, 887, 719, 279, 816, 740, 821, 108,\n        807, 131, 981, 337, 435, 369, 574, 300, 464, 527,   9, 158, 929,\n        258, 541,  15, 363, 728, 316, 761, 244, 700, 152, 673, 808, 130,\n        893, 849, 851, 909, 867, 612, 666, 806, 505, 809, 934, 907, 512,\n        500, 892, 313, 358, 412, 886, 926,  82, 310, 896, 487, 471, 314,\n        657, 898, 422, 431, 952, 804, 138, 741, 677, 494, 955, 270, 514,\n        508, 556, 531, 456, 842, 858,  93, 421, 948, 945, 153, 679, 218,\n         22, 295, 268, 884, 395, 558, 142, 829, 634, 691, 462, 983, 172,\n        136, 982, 935, 751, 714, 701, 980, 947, 370, 798, 676, 959, 208,\n        554, 765, 499, 432, 249, 776, 738, 603, 626, 805, 252, 111, 563,\n         11,  12, 905, 705, 465, 329, 174, 692, 925, 296,  72,  20, 713,\n        425, 785, 297, 397, 854, 135, 641, 561, 386,  88, 455, 507, 839,\n        481, 506, 656, 134, 723, 413, 800, 140, 923, 796, 767, 978, 724,\n        559, 647, 834, 453, 257, 188, 192, 501, 968,   0,   1, 753, 145,\n        278, 888, 265, 643, 946, 245, 228, 534, 141,  96, 931, 537, 610,\n        221, 979, 350, 699, 660, 873,  16, 936, 354, 149, 109, 655, 589,\n        631, 545, 511, 906, 533,  29, 957,  42, 143, 189, 408, 199, 407,\n        769, 638, 759, 515, 637, 181, 315, 328, 260, 730, 632, 737, 731,\n        823, 735, 846, 866, 863, 197,  83, 575, 207, 345, 271, 766, 112,\n         68, 942, 654, 129, 569, 924,  65,  37, 792,  27, 332, 482, 247,\n        937, 434, 755, 727, 215, 113, 381, 216, 662, 526, 317, 362, 841,\n        473, 734, 150, 639, 813, 546, 447, 621, 636, 951, 943, 976,  69,\n        623,  34, 625, 532, 151, 530, 454, 793, 535, 305, 347, 521, 343,\n         73, 289, 571, 917,  56, 726, 428, 872, 598, 756, 865, 837, 897,\n         13,  50, 478, 919, 326, 380, 357, 602, 875, 339,   3,   2, 651,\n        916,  52, 510, 939, 184, 219, 338, 894, 107, 965, 538, 664, 961,\n        860, 941, 774,  49, 551, 525, 930, 417, 966, 914, 477, 590, 524,\n        461, 729, 850, 364, 817, 630, 889, 262,  58, 717, 921, 445, 443,\n        709,  10, 658, 600, 470, 768, 764, 706, 912, 840, 234, 202, 787,\n        650, 427, 516, 584, 933, 659, 749, 722, 599, 451, 540, 132,  45,\n        913, 239, 848, 847, 746, 283,  17,  86, 715, 272, 591, 463, 790,\n        678, 891, 409, 758, 304, 502, 496, 495, 788, 334, 467, 285, 168,\n        587, 486, 845, 144, 661, 686, 754, 570, 264, 164, 771, 543, 874,\n        287, 795, 733, 812,  61, 171, 198, 325, 890, 802, 635, 597, 539,\n        904, 201, 576, 814, 880, 177, 811, 568, 964, 944, 588, 263, 703,\n        275, 624, 773, 693, 687, 565,  51, 557, 675, 708, 697, 391,  92,\n         25, 582,  59, 832, 932, 251, 232, 148, 680, 818, 269, 147, 763,\n         26, 876, 302, 309, 286,  89, 580, 870, 406, 640, 469, 259,  67,\n        280, 577, 853, 536, 689, 480, 476, 398, 226, 320, 953, 230,  28,\n        341, 429, 608, 450, 183, 382, 883, 235, 605, 781, 566, 460, 622,\n        712, 674, 549, 311, 383, 967, 375, 718, 775, 441, 236, 619, 327,\n        488, 390, 440, 303, 344, 331, 355, 928,  97, 340, 752, 801,  60,\n        190, 586, 489,  53, 879, 877, 690, 423, 611,  77, 949,  21, 290,\n         87,  98, 175, 628, 389, 528, 254, 281, 827, 918, 353, 911, 167,\n        509,  62, 238, 885, 550, 555, 899, 881, 318, 392, 739, 903, 430,\n        855, 387, 117, 956, 844, 498, 276, 695, 206, 433, 760, 579, 123,\n         44, 372, 857, 274, 246, 770, 214, 518, 878, 560, 970, 762, 652,\n         23, 484, 446, 437, 459, 902, 253, 185, 519, 266, 682, 819, 564,\n        411, 772, 871,  54, 361, 121, 609, 592, 747, 308, 882,  31, 414,\n        744,  19, 794, 548, 696, 126, 396, 683, 187, 522, 277, 336, 667,\n        217, 583, 742, 938, 962, 448, 213, 159, 225, 633, 711, 627, 954,\n        307, 474, 940, 529, 681, 324, 194, 791, 294, 620, 490, 388, 359,\n        833, 784,  18,   7, 301, 732, 517, 830, 915, 698, 212, 974, 843,\n        614, 101, 319, 155, 457, 156,  81, 178,   6, 670, 115, 736,  30,\n        900, 114, 288, 604, 205, 220, 475, 581, 157, 233, 137, 629,  55,\n        601, 707,  57, 864,  40, 492, 163, 960,  38, 822, 617, 523, 273,\n        261, 472, 229, 282, 618, 200, 497, 958, 868, 322, 127, 824, 321,\n        298, 250, 231, 838, 125, 820, 596,  14, 299, 394, 403, 122, 415,\n        104,  36, 191, 779, 180,  70, 224, 910, 116, 241, 688, 330, 371,\n        797, 139, 352,  41, 653,  91, 442, 908, 146, 376, 491, 385, 193,\n         63, 615, 110, 416, 161,  90, 444, 449, 513, 209, 685, 856, 360,\n        374, 743, 975, 895,   8, 248, 384, 963, 466, 861, 553, 826, 479,\n        223, 648, 836, 750, 595, 950, 402, 154, 418, 179, 852, 284, 356,\n        810, 292, 859, 106, 562, 645, 401, 694, 815, 100, 379, 644, 293,\n         85,  43,  66, 710, 133,  76,  95, 186, 291, 399, 458, 578, 420,\n        342,  94, 704, 160, 901, 585,  47,  48, 520, 436,  33, 439, 969,\n        393, 366,  79, 920, 312,   4, 203, 349, 803,   5, 573, 119, 227,\n        169, 256, 120, 547, 757, 378, 124, 348, 468, 702, 567, 118, 485,\n        195, 365,  84, 831, 869, 684, 613, 665, 102, 210, 835, 196, 400,\n        780, 789, 105, 346, 255, 323, 825, 335, 616, 973, 671, 306, 438,\n        606, 783, 971, 552,  46, 368, 649, 103, 351, 170,  99, 166, 452,\n        607, 504, 242, 828, 373, 211, 716, 668, 862,  39, 642, 493, 173,\n         24, 176, 782, 419, 240, 128, 165, 182, 725, 748,  32, 672, 646,\n        669,  64,  78, 426,  35, 237, 972, 162, 745]),\n 26: array([32, 23,  0, 27, 30, 21, 22,  5, 11, 37, 34, 25, 28, 13, 19, 36, 39,\n        18, 15,  2,  9,  8, 10, 20,  3, 33, 17, 24, 16,  7, 31, 14, 35,  6,\n        12,  4, 38, 29,  1, 40, 26]),\n 27: array([ 41,  34,  59,  29,  39, 128, 106,  28,  33,  90, 131,  13, 127,\n         31, 129,  77,  21,  20, 112,  93, 139,  94,  53,  86, 142,  23,\n          2, 130, 101, 121, 119,  95,  55,  10,  42,  72,  14,  92,  85,\n        122,  27,   3,   7, 137,  68,  15,  57,  66,  26, 111,   9,  65,\n         44,   0, 141,  60,  80,  76,  24,  43,  82, 104,  61,  25,  63,\n         22, 117,  18,  91,  96,  47,  17,  12,  71,  32, 136, 124, 120,\n         83,  79,  99,  11, 123, 113,  84, 135,  30,  52,   4, 108,  98,\n        116, 107,  74, 114, 140,   6,  88,  64,  54,  58,  50,  56, 143,\n        133,  45, 103, 102,  97,  48, 125,  89,  35,  73,  40,  62, 138,\n         70,  78,  16, 115,  51, 109, 132, 105, 110,   1,  38,  49,  81,\n          5,  37,  87, 134,  36,  67,  46,  75, 118,  69,  19, 126,   8,\n        100]),\n 28: array([145, 289, 161,  92, 105, 188, 249, 204, 174, 260,  15, 279, 230,\n         62,  78,  35,   2,  91,  23,  47,  63, 282,  10, 241,  22, 149,\n        293,  98, 271, 253,   5, 175, 164,  59, 206,  90, 245,  69,  73,\n        225,  21, 191, 112, 297,  72, 296, 270,  88,  93,  33, 190,  58,\n        239, 235, 267,  75, 147,  68,  57, 256, 236,  28,  49, 251,  18,\n        228, 172, 214,   0, 169, 170,  51,  42, 210,  36, 299, 248, 255,\n        275, 218, 240, 222, 286, 262, 201, 290, 250, 101, 178,   9, 116,\n        280, 294,  14, 162, 268, 107, 276, 194, 159, 122, 102,  38, 139,\n         96, 237, 180, 167, 238, 243, 303,  82, 156,  29,   4, 266,  81,\n        157,  85,   1,  17, 261, 117, 168, 200, 104, 227, 189, 183,  19,\n        234,  61, 198, 229, 288, 203, 100, 160, 259, 277, 278, 144, 124,\n         12,  39,  50,  37, 231,  79, 166, 300, 193, 151, 171,  77, 118,\n        223, 129, 114, 205, 179, 103, 110,  48, 305, 173,  76,  30, 111,\n        109,  55,  44,   3,  45, 177,  64, 257,  89,  53, 244,  13,   6,\n         41,  94, 127, 219,  34,  54, 265, 274, 247, 202,  56, 187, 143,\n         87, 242, 252,  99,  83,  20, 263, 134, 233, 150, 196, 120,  65,\n         86,  32, 153, 284, 185,  95, 163, 137, 186, 123,  84, 131, 182,\n         40, 136, 108, 119, 232, 216, 130,  27, 285, 133, 304, 146, 302,\n        281, 264, 209, 140, 142,  67, 135, 287, 224, 212, 152, 301, 211,\n        220,  66, 141,  46, 197, 269, 208, 121, 181,  43, 283, 132, 199,\n         11, 106, 155,  80,  71,   7,  24, 195, 273,   8, 128, 221, 184,\n        258,  31, 292, 113,  97, 295, 148, 176, 165, 192, 254, 207, 126,\n        226, 215, 246, 298, 272, 125,  26,  70, 154, 213,  74,  60,  16,\n         52,  25, 158, 217, 138, 115, 291]),\n 29: array([63, 44, 21,  9, 10, 68,  1, 27, 26, 18, 19, 20, 46, 38, 35, 32, 56,\n        49, 50, 30, 34, 57, 58, 60, 48, 43, 36, 51, 22, 25, 45,  0, 54, 62,\n        11, 29, 31, 55, 66, 41, 61, 17, 16, 28, 12,  4,  3, 47, 59, 53, 24,\n        64, 65, 69, 33, 23,  7,  8, 70, 13, 37, 67, 40,  2, 14, 52, 39, 42,\n        15,  5,  6]),\n 30: array([684, 357, 481, 615, 622, 644, 293, 414,   8, 214,  54, 288, 341,\n        369, 438, 511, 354, 662, 329, 510, 254, 508, 565, 570, 490, 470,\n        292, 460, 592, 140, 691, 436, 367, 386, 559,  55, 115, 134, 323,\n        142, 241, 602, 260, 159, 342, 279, 343, 624, 718, 552, 669, 703,\n         94, 683, 495, 345, 532, 547,   9, 285, 196,  13, 312, 698, 129,\n        682, 409,  45, 373, 668, 371,  66, 664, 213, 170, 619, 194, 132,\n        429, 459, 188, 404, 482, 458, 463, 387, 102,  38, 114, 340,  87,\n        251, 231, 326, 350, 468, 199, 632,   3, 449, 377, 666, 544, 424,\n        456, 215, 480,  99, 276, 638,   1, 589, 315, 428, 650, 311, 277,\n        339, 135, 474, 593, 472, 450, 726, 513, 198, 205, 572, 672, 706,\n        146, 324, 692, 583,  50, 201, 151, 730, 649, 491, 475, 522, 701,\n        333, 686, 651, 398,  11, 143, 595, 486, 457,  76, 708, 506, 681,\n        591, 716, 586, 139, 700,  26, 477,  27,  23, 533, 245, 282,  80,\n        261, 399, 155, 183, 507, 289, 154, 395, 530, 573, 318, 587, 330,\n        338, 136, 321, 614, 360,  53, 256, 540,  92, 164, 291, 733, 331,\n        425, 173, 319, 541, 596, 657, 699, 320, 270, 176, 207, 523, 327,\n        366, 599, 623,  37, 280, 406, 190, 383,  58, 410, 152, 729,  91,\n        641, 598, 174, 719,  62,   2, 246, 290, 567, 211, 679, 494,  59,\n        349, 411, 112, 476,  86, 585, 268,  69,  61,  46, 407, 325, 275,\n        131, 130, 636, 536,   4, 184, 181, 334, 172, 264, 408, 640, 186,\n         60, 160, 478, 569, 517, 605, 574, 203, 195, 696, 516,  17, 187,\n        473, 108, 715,  64, 141, 707, 391, 502, 611, 646, 647,  97, 250,\n         48, 415, 608, 237, 597, 582,  32, 313,  33, 617, 283, 100, 156,\n        418, 725, 441, 520, 225, 133, 512, 252, 445, 281, 376, 440,  36,\n        566, 210, 444, 551,  51, 109, 294, 346, 223, 309, 604, 625, 232,\n        673,  70, 158, 652, 713, 634, 169, 500, 556, 576, 375, 439,  71,\n        401, 193, 546, 118,  42, 389, 509, 307,  63, 571, 594,  19, 678,\n        228, 677, 639, 332, 267, 287, 539, 197,  15, 381, 400, 467,  67,\n        498,  72, 104, 612, 153, 388,  79, 538, 378, 249, 431, 648, 656,\n        204, 488,  82, 448,  29, 302, 298, 416, 356, 489, 390, 562, 661,\n        452, 485,  28, 348, 542,  84, 655, 610, 347, 301, 528, 238, 200,\n        577, 555, 209, 306, 471, 335, 626, 300,  44,  56, 230, 437, 492,\n        161, 255, 674, 543,  21,   5, 695, 234, 535, 178, 242,  68, 705,\n        235,  74, 426, 560,  40, 628, 461,  35, 721, 465, 453, 462, 239,\n        525, 537, 627,  85, 123, 278, 258, 557,  12, 244, 271, 304, 603,\n        144, 243, 392, 116, 305, 352,  39, 531, 297, 284, 527, 368, 226,\n        247, 501, 384, 189, 265, 466, 105, 299, 150, 558, 370, 191, 107,\n        110, 483, 336, 206, 578, 227, 266,  81, 385, 720, 645,  89, 529,\n        579, 202, 253, 167, 620, 317, 688, 182, 469, 171, 179, 103,  90,\n        685, 606, 434, 212, 192, 660, 286, 487, 263, 362, 723, 137, 127,\n        274, 236, 259, 728, 295, 503, 422, 581, 714, 421,  57,  24, 505,\n        515,  20, 497, 575,   7, 659, 147, 138, 405, 687, 601, 162, 177,\n        635,  52, 549, 447, 464, 451, 637, 148, 621, 128, 308, 257, 296,\n        493, 394, 417, 219, 545, 442, 709, 423,  78, 229, 671, 413,  30,\n        166, 157, 396, 113, 430, 433, 380, 106, 443, 689, 111, 717, 272,\n        374, 149, 618, 675, 412, 496, 397, 393, 220, 588, 361, 344, 180,\n        484, 314, 359, 600, 479, 524, 670,  77, 353, 126,  22, 658, 446,\n        455, 419, 273, 120, 119, 564, 168,  43, 676, 731, 722, 122, 382,\n        248, 351, 499, 563, 403,  49, 363,  18, 221, 175, 629, 310, 710,\n        584, 233, 240, 667, 697, 372, 518, 613, 124, 554, 711, 402, 568,\n         41, 427, 379, 665,  93, 616,  96,  75, 337, 358, 607, 303, 702,\n        521, 269, 432, 680, 642, 609, 654, 561, 663, 514, 365,  25, 165,\n        121,  88, 435,  73, 693, 101, 328,  14, 580,  65, 526, 631, 217,\n        262,  83, 643, 185, 653, 732, 163, 224, 322,  10,  47, 222,  16,\n        727, 125, 218, 590, 355, 208,  98, 704, 534, 145, 724, 690, 553,\n        504,   0, 216, 420, 548, 550, 694, 364,  34, 633,   6,  31, 630,\n        117, 712, 519, 454,  95, 316]),\n 31: array([0]),\n 32: array([57, 66,  8, 82, 80, 72, 95, 50, 75, 96, 39, 38, 49, 34, 45, 91, 51,\n        23, 47, 36, 48, 90, 14, 52, 98, 84, 30, 62, 18, 46, 10, 79, 65, 25,\n        94, 77, 24, 44, 40, 13, 56, 97, 29, 54, 87, 68,  9, 67, 83, 85, 74,\n         0, 11, 12, 69, 60, 20, 61, 71, 32, 93,  2, 63,  1, 31, 64, 88, 27,\n        81, 22, 92,  4, 21, 41,  5, 17, 76, 15, 53, 78, 58, 55, 86, 33, 59,\n        89, 16, 73, 43,  3, 35, 26,  6, 42, 70, 19, 28, 37,  7]),\n 33: array([ 74,  59,  14,  97, 113,  40,  50,  42,   3,  23,  11,   1,  86,\n         70,  49,  93,  15,  73,  34,  32, 107,  92,  96,  38,   8,  79,\n         33,  63,  75,  44,  41,  66, 110,  88, 103,  98,  77,  31,   4,\n         71,  48, 115,   6,  13, 119,  61,  83,  82,  62,  99,  17, 120,\n          5,  22,  53,  65,  90,  89,  35, 116,  60,  51,  56,  54,  52,\n          2, 102,  94,  37,   0,  36,  19,  46,  25,  10,  87, 104,  78,\n         30,  68,  27,  81,  21,  47,  39, 100,   7,  16,  57, 118,  45,\n         18,  76,  95, 108,  24,  58,  69,   9, 101, 105,  91, 111,  67,\n        117, 122, 109,  43,  80,  84,  29,  64, 112, 121, 114,  12,  85,\n         26,  20,  55,  28, 106,  72]),\n 34: array([197, 126,  73, 190,  62, 145, 103,   7, 125,  28,  46,  74, 191,\n        146,  63,  69,  47,  19,  18, 140, 158, 211, 161,  82,  68, 111,\n        150, 186,  72,  20,  51,  29,  94,  91,  35,   8,  52,  30, 201,\n         81, 164,   5, 109, 227,  40, 168, 104,  93,  22, 250, 204, 234,\n         66,  80,  32, 239,  23,  45, 128,  84, 153, 162, 196, 156,  17,\n        141, 130, 188,  39, 134, 154, 143,  54, 107,  70,  85,  36,  56,\n        228,  25, 261,   6,  61,  64,  65, 193, 147, 115,  50, 167, 120,\n        135,  27, 173, 169, 144,  57, 142,   9, 231, 149, 220,  60, 260,\n         33,  13, 208, 113,   2, 192,  89,  55,  41, 219, 133,  83, 139,\n        184,   4,  44, 259, 262, 223, 225, 106,   0,  31,  11,  99, 121,\n         37,  16, 257, 255, 124, 108, 203,  96, 217, 119,  15, 137, 240,\n        206, 189,  43, 212, 213, 226,  79,  53, 198,  67,  88, 118, 237,\n        243, 247,  24, 242, 110, 131, 152, 178, 185, 165, 100, 254, 209,\n         10, 245, 222, 176, 171, 202, 210,  92,   1, 122,  34,  97,  78,\n        174, 132, 232, 123, 166, 248, 175, 230, 187, 249,  95, 238, 157,\n        170, 241, 102, 195,  98,  90, 236, 172, 112, 117,  75, 127, 244,\n        159, 155, 148,  49, 221,  59, 180,  42, 163, 224,  71, 263, 151,\n        177, 216, 253, 179, 181, 101,  87,  26, 116, 182, 235, 229, 252,\n        138,  86, 251, 105, 246, 183, 214, 136, 207,  76,  48, 218,  14,\n        205, 114, 194, 129, 215, 258,   3,  38, 233,  77,  21, 256, 160,\n        199,  58,  12, 200]),\n 35: array([ 9, 10,  7,  6,  1,  3,  4,  0,  8,  2,  5]),\n 36: array([10, 14, 11,  7,  9, 13, 22, 15,  2,  5,  8, 16, 18,  1, 24, 12, 17,\n        19, 20, 23,  3,  0,  6, 21,  4]),\n 37: array([19, 16,  9, 20, 15, 14, 12,  4,  1,  2, 17,  0, 22,  7, 10, 18, 23,\n         3, 21,  5, 13, 25, 24,  6, 11,  8]),\n 38: array([42, 32, 28, 27, 22, 21, 47, 45, 56, 14, 11, 13,  1, 41, 19, 52, 35,\n         3, 38, 50, 12,  7,  6,  2, 30, 25, 61, 46, 37, 36, 33, 29, 24,  8,\n         0,  4, 10,  9, 57, 48, 43, 44, 31, 16, 26, 23, 20, 40, 15, 55, 51,\n        18, 39, 17, 58, 62, 34, 59, 53,  5, 60, 54, 49]),\n 39: array([ 88,   9, 118, 113,  28,  30,  91, 120,  45, 135,  82,  15, 126,\n          3,  26,  92, 116, 119,  84,  67,   5, 112,   6,  98, 106,  81,\n         47,   8,  62,  80,  20,  73,  57, 122,  51,  87,  37, 121,  83,\n         78,  97, 141,  61, 114,  99,  77, 124,  42, 105, 111, 139, 104,\n        142, 138,  94, 117,  25,  14,  33, 132, 145, 147,  76,  35, 162,\n         49, 130,  69, 143, 146,  68, 153,  65,  38, 148,   7,  64, 103,\n        161, 108,  59,  44,  58,  46,  16,  70,  96,  89,  18,  23, 128,\n        134, 102,  52,  55, 107,  34, 152, 164, 140, 101,  86, 154,  72,\n         93,  31, 115, 125,  71, 110,  29,  75,  60, 137, 123,  21,   2,\n         63, 129, 163,   0, 149, 155,  56,  66,  79, 144, 158,  43,  24,\n        136,  13,  19, 109, 157,  53,  40, 127, 150, 131,  50,  41, 156,\n         10,  36,  27,   1,  32,   4,  22, 160,  17, 159, 100,  54,  85,\n         11,  74,  90,  39, 151,  12,  48, 133,  95]),\n 40: array([ 39,  73, 116,  34, 102,  30,  66,  44,  15,  88,  22, 128,  60,\n         95,   5, 112,  69,  13,  37,  46,  71,  64,  86,  53,  93, 114,\n          3, 121,  82,  28, 100,  58, 126,  20, 131,   2,  12,  18,  76,\n        120,  78, 124,  41,  51,  27,  99,  63,  85,  55,  98,  62, 125,\n          7,  11,  75,  68, 107, 119,  77,  26, 136,  97, 123,  50,  84,\n        133,  54, 134,  40, 117,  70,  89,  74, 113,   6,  35,  56,  31,\n        103,  16, 130,  45,  61, 129,  23,  96,  81,  90,  17,  25,  80,\n        115,  38, 106,   4,  47, 111,  83,  67,  87,  43,  14,  94, 127,\n         59,  21,  33, 122, 118, 135,  72, 101,  65,  29,  32,  79,   1,\n        132,   8,  10,  49,  91,  57,  19, 105, 109,  36,  42,  24,  92,\n         52, 104,   9,  48, 110, 108,   0, 137]),\n 41: array([110,  92, 220, 171, 202, 104, 103, 294, 362, 241,  61, 231, 477,\n        432, 484, 425, 446, 560, 388,  42, 161,   3, 162, 164, 203, 307,\n        157, 506, 283, 189, 211, 270, 338, 218, 443, 369, 478, 499, 351,\n        290, 256, 491, 523, 175,  41,  26, 463, 389,  47, 194, 101, 517,\n        235, 142, 190, 387,  46, 212, 147, 238, 384, 289,  15,  43, 483,\n        115, 494,   8, 209, 308, 549, 251, 417,  52, 449, 505, 427,  24,\n         72, 254, 187, 227, 132, 271, 310, 291, 452, 458, 134,  28,  86,\n        530, 145, 556, 360, 257, 450, 330, 155,  77, 100, 191, 156, 229,\n        320, 303, 199,  44, 522, 328, 165,  79, 305, 228,  80, 479, 296,\n         54, 430,  51, 542, 534, 497,  98, 179, 519, 287,  49, 436,  40,\n        398,   0, 408, 204, 258, 562,  78, 354, 532, 496,  99, 261, 448,\n        269, 222, 250, 286, 361, 224, 406, 395, 422, 312, 371, 276,  48,\n        488, 150, 181, 333, 242, 267, 527, 331, 378, 544, 301,   5,  65,\n         21, 127,  89, 437, 492, 466, 263, 554, 217, 461, 353, 472, 139,\n        426, 471, 143,  97, 284, 243, 380, 524, 102,  17, 268, 509, 516,\n        469, 381, 348,  30, 126,  68, 457, 342, 459,   1, 399,  16, 456,\n        124, 520, 280, 273, 278, 207, 546, 512, 230, 252, 403, 130, 538,\n         67, 177, 295, 119, 553, 336, 219, 329, 500, 260, 503, 402, 246,\n        208, 213, 514, 392, 379, 547,  13, 339, 418, 214, 240, 206, 429,\n        172, 118, 292, 210, 510, 216, 159, 114, 465,  50, 535,  83, 341,\n        121, 415,   2, 424,  12, 493, 140, 313, 474, 133, 279, 513,  59,\n        552, 168, 322, 285, 107, 264, 304, 226, 409, 350, 434, 182, 349,\n        537, 344, 485, 374, 135,  37,  53, 507,  27,  71, 343, 467,  31,\n        315, 412, 192, 293, 511, 178, 442, 335, 355, 244,  22, 325,  39,\n         87,  69, 559, 323, 255, 481, 376,  95, 332, 411,   4, 275, 105,\n        122, 383, 129, 363, 451, 486, 136,  34, 253, 176, 366, 367, 152,\n        445, 455, 141, 337, 413, 386,  76, 112, 137,  36, 373, 239, 111,\n        541, 266, 327, 288, 454, 368, 405, 197, 158, 382, 120, 377, 543,\n         57, 151,  25, 521, 167, 300,  58, 272, 352,   7, 153,  45, 193,\n        533,  23,  10, 183, 233,  14, 394, 169,  84,  32, 498, 404, 282,\n        281,  73, 180, 309, 346, 223, 299, 184, 375, 490, 447, 414, 421,\n        441, 248,  75, 173, 431, 345, 234, 526, 262, 334, 109,  90, 401,\n        423, 529,  20, 188, 462, 545, 221, 468, 311, 489, 515, 557, 428,\n        205, 464,  81, 237, 518, 146, 540, 125,  19,  18, 196, 236, 117,\n         62, 561,  64,  33,  35, 460, 163, 201,  29,  66, 551,  70,  55,\n        528, 326, 558,  56, 356, 174, 487, 302,  93, 249, 298, 317, 364,\n        495, 416, 198, 396, 470,  11, 154, 438, 225, 419,  96, 306, 314,\n        113, 195, 531, 365, 563, 359,  85, 138, 555, 410, 318,   9, 123,\n        565, 131, 407, 385,  94, 116,  60, 358, 420, 259, 108, 548, 166,\n        480, 444, 160, 347, 324, 475,  88, 453, 476, 186, 370, 536, 106,\n        501, 357, 265, 321, 435,  74, 391, 319, 297, 128,  82, 508, 148,\n        433, 316, 504, 439, 482, 539, 473, 400, 502, 232, 525, 277, 247,\n        245, 390, 372,  91, 144, 185, 274, 393, 200, 550, 340, 170, 440,\n        215,  38,  63,   6, 149, 564, 397]),\n 42: array([44, 15,  9, 56,  7, 51, 53, 61, 57, 71, 73, 39, 48, 65, 27, 67, 36,\n        29, 68, 20, 42,  3, 52, 46, 23, 24, 14,  2, 62, 21, 22, 49, 37, 16,\n        55, 31, 26, 12, 40, 34, 74,  6, 18, 50, 17, 41, 75, 45, 11,  4, 19,\n        63, 72, 64, 69,  0, 35, 43, 28, 60, 76, 32, 13, 58, 59, 25, 33, 38,\n        10,  1,  5, 54, 66, 70, 47,  8, 30]),\n 43: array([ 7,  5,  6,  8,  4, 13,  2,  0,  1, 14, 15,  9, 11, 12, 10,  3]),\n 44: array([15,  7, 21, 13, 31,  1, 28, 29, 27, 18, 35, 32, 30,  5, 33,  2,  0,\n        17, 16, 34,  4,  3, 20, 25, 22, 11, 10, 24, 23, 12, 14, 26,  9, 19,\n         6,  8]),\n 45: array([26, 32, 33, 22,  6, 17, 19, 21, 16, 12,  9, 30, 23, 15, 28,  8, 25,\n         0, 34,  3,  2,  4, 14, 31, 11,  5,  1,  7, 27, 13, 10, 29, 20, 24,\n        18]),\n 46: array([43, 16,  9, 39, 29,  4, 13,  0, 20, 34, 24, 44, 25,  1, 15, 19, 14,\n        41, 10, 33, 28,  5, 22, 38, 11, 30,  2, 45, 31, 21, 35,  6,  7, 17,\n        26, 40, 32, 42, 46, 36, 37, 12, 18,  3, 23, 27,  8]),\n 47: array([10,  8, 14, 13, 15, 16,  9,  0,  2, 11,  6,  7,  3,  4,  1,  5, 12]),\n 48: array([ 43,  34,  22,  92,  10, 126,  99,  98,  26, 114,  54,  12,  62,\n         11,  23,  33,   1,  40,  24,  25, 128,  77,  31, 112,  21, 101,\n         67,  76,  66,  78,  93, 130,  72,  49,  80,  15,  41,  14, 127,\n         59,  58, 102,  42,  28,  18,  44,  63,  91,   9,  79,  45,  61,\n         95,   3,  30,  38,  17, 129,   2,  75,  86, 124, 106, 107,  64,\n         20,  82,  71, 119, 117, 103,  90,  50,   4,  65, 110,  53,  88,\n         83,  52, 109, 113, 105,  13, 121, 104,  87, 120, 108,  89,  69,\n        122,  37, 116,  97,  46,  35,   5, 123,  51, 125,  81,  56, 115,\n          0, 118,  55,  29,  16,  70,  47,  96,  94,  36,  32,   8,  84,\n         27,  73,  85,  57,   7,  48,  19,   6, 111,  60,  39,  68, 100,\n         74]),\n 49: array([112,  41, 159, 325, 262, 103, 119, 271, 178, 312,  80,   9, 257,\n        285,  91, 163, 267, 338, 351, 302,  95, 361,  47,  58, 138, 275,\n        235, 124,  25, 174,  40, 173, 148, 134, 321, 334,  96, 259, 160,\n        282, 191, 268, 250, 142, 150, 251, 324, 330, 232, 252, 180, 248,\n        245, 162,  76, 126, 164, 198, 194,  42, 179, 234, 273, 333, 306,\n        238, 224, 149, 320, 176, 206, 207, 196, 158, 225, 123, 115, 136,\n         71, 331, 145,   0, 309, 181,  39, 143, 170, 128, 263,  68, 217,\n        256, 336, 139, 352, 332, 132, 166, 229, 177, 144,  64, 120, 156,\n        154, 249, 278,  73, 291,  27, 116, 101,  48, 167,  97,  67, 310,\n        339, 226,  12,  24, 227, 113, 362, 308, 240, 213, 298, 188, 151,\n        175,  84,  38, 264, 274,   6, 319,  26,   5,  31, 356, 328,  77,\n        195, 204,  92, 208, 133,  60, 244, 215, 220, 246, 214,  43,  75,\n        360, 205, 241,  11, 231, 287,  17, 269, 237,  54, 280, 340, 146,\n         22, 357, 327, 184, 348,  59, 253, 147, 183, 222, 221, 254, 337,\n        297, 211, 305,  72,  66, 182,  49, 114, 202,  10, 294, 210, 212,\n        125, 258,  36, 355, 242,  14, 203, 131, 261, 161, 363,  52, 129,\n        239, 277, 247, 293,  90, 169, 187, 171, 130,  56, 346, 288,  98,\n         51,  88,  86, 347,  20, 343, 117, 349, 104, 209, 155, 172, 118,\n        281, 353, 311, 108, 358,  61, 342,   8, 329,   7,   2,  89, 255,\n        102, 107,  74, 189, 201, 218, 109, 270, 100, 335,  69, 230, 299,\n         21,  28,  65,  82, 341, 296, 165, 276, 168,   3, 199, 304,  19,\n        122,  78,  33, 193, 105, 121, 289, 192,  34, 265, 197,  46, 260,\n        322, 236,  53, 228,  93,  79,  55,  44,  15,  35, 141, 216, 157,\n        200, 350, 290, 185, 140, 303, 223,  63, 243, 316, 152, 323,  57,\n         32,  37,  85,  30,  18, 344,  16, 135, 111, 295,  13, 307, 266,\n        219, 137, 359, 286, 326, 233, 190,  29,  50, 315, 106, 318,  23,\n        127, 313, 317, 354,  70,   1,  45, 110,  87, 345, 314,   4,  62,\n        279, 272, 301, 186, 284,  94, 292,  99,  83, 283, 300,  81, 153]),\n 50: array([ 53,  33,  41, 105, 123,  49, 137,  39,  12, 115,  25,  34, 131,\n         68,  55, 125,   1,  86, 136,  65, 134, 126,  51, 108, 104,  90,\n        130, 127,   4,  37,  83,  52,  29,   7,  89, 109, 100,   5,  45,\n        140,  91,  64,  81,  76, 107,  17,  42, 139,  38, 113,  71,  57,\n        121,   9, 135,  95,  44,  18,  97,  30,   6,  78,  36,  72, 116,\n        132,  24,  99, 112,  62,  58,  67,  61,  32, 110,  27, 119,  22,\n         35,  80,   0,  60,  50, 102,  16, 111,   2,  14, 118, 141,  75,\n         70,  54,  21, 117,  28,  79, 138,  77,  23,  26, 103, 128,  73,\n         85, 122,  40,  98,  94,  11,  56, 106, 120,  31,  48,  82, 101,\n         84, 124,  74,  19, 129,  43,  63, 114,  10,  88,   8,  92,  15,\n         69,  93,  87,  96, 133,  46,   3,  47,  66,  59,  20,  13]),\n 51: array([ 2, 15, 21, 19, 14, 18,  0, 16,  4,  9, 13, 10,  5, 20, 22, 11,  3,\n         7,  1,  6, 12, 23,  8, 17]),\n 52: array([14, 13,  7,  3,  5, 21, 12, 11, 10, 17, 23,  1,  4, 24,  6, 25, 15,\n        16, 22,  0,  2, 26, 18, 27,  8,  9, 20, 19]),\n 53: array([ 8, 14, 25,  0, 21,  1, 18,  3,  5, 31, 19, 29, 17, 33, 30, 23, 12,\n        27,  6, 10,  9, 16,  2, 11, 26, 20, 28, 24, 15, 13, 22, 34,  4,  7,\n        32]),\n 54: array([29, 39, 46, 31, 62, 55, 59, 25, 21, 35, 16, 51, 23, 54, 33, 40,  5,\n        37, 20, 26, 44,  4, 13, 34, 45, 38, 15, 47, 63, 57, 19,  6,  1, 60,\n        18, 11, 10, 50, 49, 22,  3, 12,  9, 48, 56, 52, 43, 42, 28, 17,  8,\n        32,  7, 27,  0, 30, 14, 58, 41, 24,  2, 53, 36, 61]),\n 55: array([19, 11, 18, 12,  5,  0, 23, 17,  9,  3, 21, 14,  7, 15,  8,  2, 22,\n         1, 16,  4,  6, 20, 13, 10]),\n 56: array([55, 18, 56, 37, 11, 72, 77, 74, 68, 61, 31, 22, 44, 28, 60, 43, 79,\n        67, 63, 75, 40, 91, 45, 57, 66, 51, 69,  3, 39, 81,  2, 83, 32, 29,\n        78, 76,  8, 89, 84, 36, 35, 90, 53, 49, 80, 33, 71, 23, 10, 62, 58,\n        88,  6,  9,  0, 27,  1, 34, 64, 92, 30, 86, 85, 12, 48, 70, 38,  7,\n        46,  4, 24, 26, 16, 21, 54, 82, 73, 25, 87, 17, 47, 20, 41, 65, 42,\n        15, 50, 59, 19,  5, 52, 14, 13]),\n 57: array([ 38,  86,  89,  14,  10,  52,  65,   1,   3,  16,  32,  92,  50,\n         26,  77,  47,  28,  93,  99,  42,  56,  58, 103,  57,  66,  82,\n         55,  37,  25,   4,  69,  98,  68,  49,  44,  61,  53,  63,  51,\n         88,  90,  30,  60,  91,  81,  72,  85,   2,  39,  62,  76,  96,\n         15,  84,  73,  12, 100,  59,  33,  70,  74,  13,  21,  18,  43,\n         11,   9, 105,  87,  54,  23,  67, 104,  19,  48, 107,  45,  24,\n         97,  41,  75,  71,  22,  20,  27,  29, 102, 101,  17,  35,   7,\n         79,  34,   8,  40,  36,  83,  78,   0, 106,   6,  46,  64,   5,\n         31,  80,  94,  95]),\n 58: array([ 495, 2462, 1821, ..., 1614, 1881, 2280]),\n 59: array([ 72,  91, 249, 153, 191, 169, 161, 188, 116, 266,  92, 159, 130,\n        135, 142, 175, 177, 136,  89, 154, 122, 203, 110,  39, 152, 134,\n        155, 109, 121, 160, 263, 118, 139, 164, 259, 254, 138, 256, 137,\n        261, 104, 218,  84,  94,  35, 176, 196, 187, 170, 100, 163, 239,\n        146, 148, 213, 149, 158,  19, 264, 240,  71,  73, 120, 208, 214,\n         62, 125,  55, 133,  95, 183, 192, 211, 140, 123, 144, 255,  58,\n         46, 185, 206,  24, 252,   8, 236, 117, 111,  86, 190,  36, 147,\n         68, 150, 179, 253, 180, 171, 221, 248, 113,  38, 186, 235, 243,\n        247,  53,  32, 195, 184, 198, 197,  99, 204,  90, 234, 242,   3,\n        124,  93,  96, 174,  88, 207, 193, 151,  33, 220,  87, 200,  81,\n        227, 215, 141, 219, 173,  85,   7,  40, 262, 232, 201, 167,  82,\n         69, 112, 212, 189, 233,  23, 265,  11, 258,  56, 157,  28, 182,\n        166, 231, 202, 172,   5, 257,   6,  22, 267, 162, 250,  67, 131,\n        102, 108, 237, 119, 127,  42,  25,  47, 105,  44, 210, 103,  45,\n         97, 165, 115,  34, 244,  83,  26,  60, 129,  54,  20,   2, 238,\n        128, 228,  37,  51,  77,  61,  17,  21, 178, 222, 205, 217, 246,\n        168, 226, 145,  65,  76, 216,  49, 260,  31,  43, 107, 106, 209,\n          0, 132,  64, 143, 156, 223,  52,  80, 199, 230,  30, 229, 181,\n         57,  13,  14, 251, 225,  98,  29,  70, 224,  66,  15,   4, 245,\n         12,  50,  79,  10,  59, 101,  27,  16,  18, 114, 194,  78,  63,\n          9,  74,  75,  41,   1, 241,  48, 126]),\n 60: array([27,  5,  9, 15, 13, 29,  4, 30, 28, 23,  6, 14, 24, 25, 18, 34, 32,\n        10,  7, 16, 26,  1, 19,  2, 33, 31, 22, 20, 17, 11,  8, 12, 21,  3,\n         0]),\n 61: array([14,  2,  5, 15,  7, 12,  8,  9, 11,  1,  0,  6,  4,  3, 13, 16, 10]),\n 62: array([17, 29,  1, 28, 20, 19, 26, 16, 13,  8, 18, 27,  0, 36, 23, 41,  2,\n        22, 10, 21, 34, 31,  5,  7, 40, 14, 43, 25,  9, 11, 30, 32, 46,  6,\n        12, 44, 37, 35, 38, 45, 33, 42, 39,  3,  4, 15, 24]),\n 63: array([2600, 3264, 2348, ..., 2161, 2467, 2260]),\n 64: array([182, 132,  69, 290, 201, 321,  13, 100, 322, 131, 305, 295,  27,\n        236, 105, 211, 292, 272, 119, 158, 210,  51, 143,  47, 234, 333,\n        146, 216,  60, 247, 183,  33, 118, 242,  50,  26, 106, 323, 103,\n         76,   0, 145, 306, 255, 335, 308,  31, 144, 179, 163, 324, 122,\n         73, 246, 153, 192,  32, 293, 277, 224,  55, 214, 167,  28,  96,\n        117, 223, 202, 327,  29, 301,  84,  21, 133, 312, 208, 228,  35,\n        261, 287, 152, 150, 142,  68, 258, 159, 102, 297,  82,  44,  14,\n         40, 129, 178,  16, 130,  86, 155, 116, 212,  10,  22,  81, 225,\n        215,  58, 204,  71, 195, 108, 299, 149, 109, 256, 220,  36,  23,\n         95, 313, 111, 120, 257, 267,  64, 325, 165,   1, 184, 162, 250,\n        135, 134, 279, 300,   5,  88, 181, 138, 110, 289,  97, 260, 168,\n        114, 298, 249, 115, 197, 264,  74, 296,  75, 107, 273,  98, 285,\n         66, 278, 241, 189, 157, 161, 209, 245,  46, 316, 185, 137, 191,\n        254, 329,  90, 235, 309, 190, 207, 303, 141, 232,   6, 194,  18,\n         92, 332,  57, 156, 166, 259, 271, 248,  38, 268, 121, 269,  25,\n        169, 151, 315, 217,  85, 331,  56, 147, 123, 274, 319, 276, 317,\n        136, 314,  91, 154, 307, 243, 294,  89, 222,  62, 229, 253, 275,\n         34, 180, 239, 186, 218, 226, 174, 263, 311,   4,  39,  49,   9,\n        175,  45, 203,  20,  78,   7, 318, 237, 320, 240, 113, 265,  87,\n        148, 244, 177,  30, 140, 176,  53,  83,  52, 199, 291, 266,  67,\n         93,  77, 334, 270, 336, 173, 188, 124,  37, 139, 171,  17, 252,\n         80,  43, 231,  72, 104, 196, 227,  15,  65, 101, 127, 112, 205,\n        284,  70, 219,  48,  41, 221,  42, 281, 193, 213, 172, 200, 328,\n        233, 330, 326, 288,  99, 304,  24,  19, 238, 125,   8, 302,  11,\n          2, 128,  94, 262,  12, 126, 206, 280, 164,  59, 170,  63,  79,\n        286, 230, 160, 310, 282,   3, 251,  54,  61, 187, 283, 198]),\n 65: array([3324, 7124, 4036, ..., 2129, 5226, 4040]),\n 66: array([24,  4, 14,  6, 21,  1,  8, 22, 10, 23,  3, 11, 19, 18, 17,  7,  0,\n        20,  5,  2, 13, 15,  9, 16, 12]),\n 67: array([11, 21,  5, 41, 29, 35, 46,  6, 61, 36, 51, 19, 34, 55, 17, 38, 59,\n        24, 60, 28, 18, 16, 30, 31, 42, 62, 33, 26,  8, 10, 43, 12, 49, 48,\n         3,  1, 65, 27, 15, 14, 20, 47, 53,  7, 63, 50,  2, 40, 64, 32, 44,\n        56, 45, 22,  0,  4, 57, 58, 66, 52, 54, 67, 37, 39, 13, 23, 25,  9]),\n 68: array([130,  55,  49,  36,   4,  72, 112,  87,  40,  42, 105, 123,  92,\n         47, 135, 136,  51, 137, 140,  91, 114, 129,  22,  35,  53,  67,\n         86, 139,  16, 104,  77,  50, 141,  64,  71,  30, 108,  95,  69,\n         39,  56, 107, 122, 102,  24,  10,  44,  66,  84,  75,  59,  15,\n        128,  68, 142,   2,  34, 116,  98,  97, 118, 148,  90,   3, 124,\n         96,  94, 100,  99,  52, 149,  54,  17,  45, 151,  23,  37, 133,\n        152,  33,  29,  89,  78,  65, 106,  80,  81,  88, 134,   8,  41,\n          5,  25,  57,  31, 109, 145, 120,  13, 111, 131,  26, 126, 101,\n         83,  27,  93,  58, 121, 125, 113, 147, 110, 150, 117,  79,  74,\n         14, 119,  82,  12,   1,  61,  48,  43, 138,  32,   9,  76,  19,\n        143,   7,  63, 132,  11,  18, 103, 146,   6,  20,  62,  28,  46,\n        115,  21,  60,   0,  70, 127,  85, 153,  38, 144,  73]),\n 69: array([30,  1, 36, 38, 23, 43, 44, 46, 26, 67, 29, 48, 65, 53, 39, 45, 37,\n        51, 25,  7,  0, 41, 18, 10, 62, 50, 12,  2, 52, 42, 19, 15, 22, 64,\n        28, 31, 27, 63, 54,  9,  3, 61, 32, 56, 33, 35, 24,  8,  6, 59, 58,\n        13, 34, 57, 60, 47, 21, 66, 40, 14, 55, 16, 49, 17,  4,  5, 11, 20]),\n 70: array([ 2, 43, 12, 11,  1, 84, 61, 85, 79,  5, 16, 65, 62, 73, 87,  9, 42,\n        21, 27, 32, 80, 44,  6, 20,  0, 66, 82, 34, 15, 33, 41, 37, 18, 58,\n        24, 56, 60, 31,  3, 19, 57, 10, 26, 51, 55, 63, 69, 48, 47, 70, 53,\n        23, 74, 67, 22,  4, 14, 38, 35, 81, 30, 59, 49, 46, 75, 45, 39, 25,\n        68, 83, 76, 50, 52, 88, 71, 54, 64,  8,  7, 86, 13, 40, 17, 28, 29,\n        72, 78, 77, 36]),\n 71: array([510,  99, 751, 768, 569, 745, 541, 616, 509, 363, 362, 524, 620,\n        892, 487, 580, 622,  53, 100,  38, 480, 713, 245, 656, 259, 197,\n        508, 282, 789, 798, 891, 710, 359, 163, 618, 866, 774, 785, 445,\n        356, 682, 501, 472, 609, 160, 165, 639, 657, 651, 752, 496, 138,\n        640, 570, 311, 634, 417, 794, 258, 635, 414, 322, 198,  48, 809,\n        478, 902, 416, 257, 638,  91, 924, 474, 678,  55, 736, 812, 209,\n        126, 224, 192, 425, 918, 104, 754, 784,  62, 615,  73, 814, 533,\n        532, 267,   6, 469, 706, 712, 781,  97, 483, 170, 367, 337, 763,\n         93, 276, 757, 711, 400, 301, 107, 113, 106, 358, 775, 131, 193,\n        627,  78,  61, 383, 124, 623, 475,  20, 185, 485, 665,  43, 725,\n        477, 398, 372, 878, 832, 468, 180,  12, 384, 423, 167, 649, 762,\n        549,  11,  27, 339, 342, 597,  10,  24, 344, 421, 927, 239,  94,\n        539, 139,  86, 709, 103, 336, 793, 777, 270,   1, 108, 141, 843,\n        547, 105, 453, 852, 234, 897,  67, 290, 340, 215,  87, 333, 350,\n        196, 429, 683,  64, 361,  79,  54, 484, 899, 277, 242, 229, 579,\n        930, 648, 360, 375, 544, 214, 332, 174, 841, 462,  74, 836, 355,\n          0,  23, 837, 430, 443, 613,   2, 853, 546, 278, 476, 494, 175,\n        492, 515, 514, 120, 677, 447, 369, 604, 354, 882,  89, 610, 373,\n        150, 929, 890, 158, 173, 858, 489, 568, 923, 316, 886, 922, 455,\n        526,  46, 118, 800, 194, 440, 818, 401, 810, 446, 519, 101,  85,\n        819, 799, 212, 844, 292, 206, 289, 628, 517, 488, 329, 860, 490,\n        486, 587, 850, 298, 428, 896, 868, 123, 216, 599, 172, 861, 204,\n        129, 114,  19, 493, 903,  84, 463, 183, 436, 505, 491,  69, 849,\n        318, 555, 867, 365, 444,  70, 756, 381, 512, 495, 132, 586,  26,\n        865,   8, 848, 608, 545, 707, 122, 376, 169,  60, 864, 223, 188,\n        780, 787, 766, 740, 184, 782, 771, 830,   9,  65, 112, 614, 813,\n        574, 300, 125, 786, 553, 702, 437, 456, 404, 471, 115, 497, 590,\n        213, 111, 598, 821, 379, 465, 410, 561, 293, 377, 127, 208, 133,\n        177, 217, 142, 221, 408, 460, 264, 550, 761,  35, 530, 625, 577,\n        387, 661, 560, 806, 272, 856, 928, 731,  16, 671,  33,  21, 602,\n        154, 931, 241, 244, 280, 179, 887,  56, 578, 137,  45, 260, 659,\n          7, 263, 203, 240, 629, 199, 815, 884, 827, 299, 409, 617, 466,\n        750,  88, 796, 621,  96, 130,  63, 473, 759, 291, 846, 538, 562,\n        391, 834, 397, 801, 481, 536, 450, 687, 543, 326, 765, 893, 162,\n        191, 281, 795, 585,   5, 563,  30, 334, 458, 435, 243, 211, 883,\n         17, 279, 413, 152, 121, 644, 140, 171, 116, 117, 145, 432, 424,\n         18, 109, 642, 734, 658, 331, 822, 854, 669, 908, 611, 349, 880,\n        531, 701, 686,  71, 504, 881, 159,  75, 582, 730, 222, 664, 552,\n         50, 149,  51,  36, 151, 719,  29, 528, 351, 262, 630, 588, 155,\n        153, 726, 691, 913, 518, 755, 643, 313, 324, 696, 285, 254, 842,\n        247, 419,  32, 461, 797, 418, 758, 845, 722, 626,  22, 252, 156,\n        448, 144, 415,  76, 226, 932, 464, 190, 283,  49, 338, 703, 390,\n        378, 146, 829, 612, 529, 439, 296, 164, 210, 647, 624, 895, 779,\n        566, 685,  40, 230,  44, 393, 348, 405,  31,  68, 729, 502, 315,\n         98, 760,  66, 385, 681, 816, 412, 742,  72, 857, 449, 309, 753,\n         83, 718, 237, 645, 668, 554,  28, 595, 653, 594, 431, 576, 253,\n        238, 655, 705, 650, 399, 675, 310, 347, 776, 396, 218, 637, 739,\n        233, 459, 933,  25, 207, 467, 147, 773, 575, 498, 680,  92, 571,\n        901, 803, 663, 201, 176, 601, 567, 911, 556, 688, 564, 187, 200,\n        308, 534, 371, 715,  58, 411, 732, 386, 898, 926, 470, 572, 871,\n         47, 136,  82,  90, 143, 406, 537, 879, 831, 335, 885, 205, 271,\n        307, 236, 636, 128, 422,  77, 374, 721, 894, 364, 717, 297, 343,\n         81, 255, 689, 394, 403, 733, 511, 522, 306, 235, 302, 256, 274,\n        697, 426, 249, 273, 479, 747, 716, 720, 839, 284, 499, 246, 232,\n        392, 261, 589, 723, 516, 557, 231, 825, 872, 268, 767, 189, 317,\n        666, 352,  13, 641, 102, 741,  41, 833,  15, 325, 314, 503, 619,\n        791, 708, 500, 699, 632, 305, 148, 330, 341, 676, 407,  59, 227,\n        320, 389, 266, 748, 328, 692, 746, 694, 135, 454, 520, 772, 805,\n        438, 593, 581, 738, 542, 807, 584, 591, 346, 788, 877, 792, 225,\n        559, 592, 451, 312, 323, 168, 457, 119, 540, 357, 684, 286, 181,\n        778, 662, 370, 888, 600, 157, 724, 727, 551, 527, 698, 921, 909,\n        402, 288, 321, 870, 804, 382, 265, 420, 714, 904,  57, 674, 178,\n        295, 811, 166,  52, 250, 770, 915, 646,  42, 287, 161, 667, 840,\n        828, 873, 294,   3, 859, 248, 303, 862, 228, 769, 202, 912, 817,\n        548, 427, 380, 764, 186, 835, 251, 507, 704, 633, 874, 925, 319,\n        366, 195, 869, 824, 482, 269, 737, 388, 690, 790, 327, 506, 743,\n        353, 914, 855, 672, 368, 920,  95, 783, 802, 838, 565, 823, 749,\n        889, 558, 826, 875, 654, 695, 693, 603, 513, 673, 535, 863, 275,\n        700, 441, 607, 110, 876, 573, 134, 345, 851, 670, 606, 660, 744,\n        605, 910, 433, 735, 728, 434,  34, 583,  80,  39, 395, 219, 820,\n        906, 679,  37,  14, 452, 631,   4, 521, 523, 900, 652, 905, 182,\n        917, 808, 304, 596, 525, 442, 220, 919, 916, 907, 847]),\n 72: array([19, 24, 12, 40, 17, 46, 26, 29,  5, 33, 49, 42, 48, 25, 39, 27, 36,\n        43, 34, 50, 45, 30, 23, 11,  8, 22,  0, 14, 20, 16,  2, 37, 28, 41,\n         9,  4, 18, 47, 13, 32,  6, 31, 44,  3, 21, 52, 51,  7, 15,  1, 10,\n        38, 35]),\n 73: array([ 8,  2, 16,  4,  3, 14, 10,  9, 13, 11,  5,  0, 12,  6,  1,  7, 15]),\n 74: array([ 5,  0,  8,  9, 12,  6,  7, 13,  4,  1,  3,  2, 11, 10]),\n 75: array([19,  1,  8,  4, 23, 13,  9, 26, 14, 30, 18, 15,  6, 28, 29, 24, 10,\n        11, 17, 22, 12, 21,  0, 25, 20, 16, 27,  3,  5,  7,  2]),\n 76: array([102, 155,  47, 140,  26,  13,  61, 139, 146,  53, 118, 120,  10,\n         91, 144, 145,  95, 138,  52,  44,  33,  12,  34, 130,  39,  69,\n        123, 128, 106,  49, 125,  96, 154,  64,   7, 100,  17, 142, 148,\n        152,  70,   5, 122,  83,  90,  56,  57,  79,   6,  58, 153,  30,\n        112,  24,   2,  97, 121,  67, 126, 115,  80,  18,  92,  66, 127,\n        124,  48,   0,  62, 143,  98,  31,  55,  19,  72,  78, 141,  37,\n         51, 157,  11,  88,  75,  74, 129,  81,  65,  63,  27,   4, 109,\n         35,  29,  46,  99,  45,  42,  94,  89,  28, 135,  68, 105,  43,\n        101,  84,  93,  20,   9, 117, 150, 114,  41, 131, 110,  22, 107,\n         25,  38,  73,  36,  16,  87, 158,  71,   3, 151, 111,   8,  85,\n         50,   1, 116, 108, 137, 104,  77,  40,  32,  86,  54,  21,  76,\n         15, 156,  59, 134,  82, 103,  23,  14, 147, 133, 113, 132, 136,\n        119, 149,  60]),\n 77: array([151,  23, 404,  64, 408, 331, 174, 526,  52,  63, 504, 281, 450,\n        241, 217, 586, 156, 210,  60,  17, 353, 289, 300,  62, 515, 589,\n        254, 148, 199, 279, 129, 482, 246, 237, 330, 539,  36, 403, 252,\n        341, 444, 400, 488, 324, 166,  61, 460, 326, 249, 147, 465, 566,\n        132, 531, 334, 314,  58, 305, 295, 514, 564, 329, 344,  59,  83,\n         95, 492, 498,  98, 394, 556, 145, 497,  79, 386, 396, 200, 605,\n        373, 274, 313, 223,   1, 212, 546, 381,  30, 538, 568, 114, 551,\n         88,  69, 120, 141, 180, 333, 524, 309, 547, 523, 496, 508,  66,\n        383,  86, 346, 338, 258, 412, 462, 501,  87, 311,  16, 430, 168,\n        500, 222, 487, 467, 108, 192, 575, 602, 133,  80, 423, 327, 424,\n        248, 261, 395, 574, 577, 335, 317,  28, 516, 543, 550,  47,  41,\n        340, 611, 124, 559,  45, 126, 116, 593, 379, 125, 397, 541, 548,\n        172, 380, 365, 364, 427, 528, 436, 280, 181, 198, 273, 221, 158,\n        533,  34, 128, 154,  21, 448,  33,  32, 466, 469,  42, 352, 287,\n        123, 275, 429, 122, 318, 451, 366, 322, 513, 387, 342, 127, 337,\n        542,  96,   0, 472, 553, 374, 240, 239, 442, 183, 585, 231, 600,\n        599, 417, 555, 245, 370, 259, 179,  89,   5, 215, 153,  68, 502,\n         73, 607, 117, 410,  35, 136, 407, 428, 278, 121,  29,  55, 433,\n        432,  90, 143, 570, 307,  76, 406, 332, 301, 544,  56, 377, 549,\n        583,  10, 176, 561, 389, 425, 107, 569, 486, 229, 260,  12, 203,\n        603, 164, 418, 517, 405, 390, 461, 109,  99, 584, 445,   3, 197,\n        293, 302, 227, 211,  25, 194, 494, 282, 134, 291, 530,   9,  22,\n        591, 518, 398, 277, 262, 362, 470, 540, 592, 160, 284, 271, 185,\n        186,  39,  38, 495,  74, 351,  24, 359,  70, 399, 150, 560, 315,\n        171,   8, 296, 268,  91, 483, 111, 175, 378, 503, 106, 590,  26,\n        299, 137, 138,  13, 119, 468, 484, 290, 571, 191, 608, 190,  92,\n        357,  11,  54,  44, 475, 562, 170, 382,  85,   7,   6,  82, 579,\n        452, 115, 173, 152, 149,  78, 525, 507,  40, 159, 189, 155, 422,\n        431, 532, 439,  53, 401, 438, 413, 358, 349, 269, 371, 471, 267,\n        263, 493,  50, 440, 236, 578, 213, 224, 161, 447, 321, 220, 196,\n        481, 165, 285, 388, 257,  72, 355,  49, 597,  46, 356,  75, 206,\n        188, 601, 345, 294, 535, 177, 588, 276, 339, 323, 554, 479,   4,\n        195, 184, 202, 375, 242, 230, 441, 336, 319, 103, 443, 283, 434,\n        187, 214, 226, 253, 250, 609,  67, 594, 316, 135, 354, 582, 348,\n         77, 458, 454, 270,  43, 595,  19, 557, 320, 347, 604, 563, 303,\n        610, 368, 216, 527, 509, 572, 207, 485, 157, 288, 235, 453, 457,\n        178, 225, 491, 104, 209, 435, 421,  37, 325, 105, 490, 101, 100,\n        558,  97,  57, 304, 247, 201,  51, 350, 552, 182,  14, 233, 110,\n        272,  20, 163, 581, 306, 208, 286, 419, 534, 130, 266, 298, 297,\n        167, 264,  93, 363, 372, 489, 112, 411, 446,  94,  18, 455, 459,\n        265, 343, 292,  48, 255, 256, 140, 139, 536, 238, 456, 204, 522,\n          2,  81, 499, 505, 606, 193, 476, 376, 146, 251,  15,  65, 244,\n        310, 234, 131, 529, 243, 361, 360, 545, 506,  84, 169, 520, 521,\n        384, 391, 367, 477, 118,  71, 218, 144, 474, 510, 142, 205, 449,\n        473, 392, 219, 308, 420, 415, 580, 437, 567, 409, 369,  27, 228,\n        573, 426, 511, 576, 393, 113, 478, 385, 102, 402, 596, 587, 480,\n        232, 328, 598, 162, 537, 565, 463, 416, 519, 414, 464, 512,  31,\n        312]),\n 78: array([16, 25, 21, 19, 17, 15, 13, 27, 36, 26, 30, 32,  8,  5,  0, 11,  1,\n         3,  7, 12,  2, 24, 28, 20, 31, 22, 35, 34,  9, 29, 18,  4, 10, 23,\n        33,  6, 14]),\n 79: array([44, 52, 19,  5, 39, 29, 14, 40, 25, 28, 43, 41, 47,  4, 42,  6, 34,\n        10, 35, 56, 36, 22, 49, 53, 54, 46, 21, 18,  7, 55, 45, 17, 32, 11,\n        23, 30, 26, 38, 51,  8, 20, 31, 24, 37, 50, 27, 48,  0, 33, 15,  9,\n        16, 13,  3,  1,  2, 12]),\n 80: array([40, 10, 57, 32,  8, 14,  3, 50, 16, 15, 35, 34, 55, 45, 33, 49, 13,\n        58, 64,  5, 26, 12, 25, 47, 29, 60, 44,  9, 18, 11, 46, 38, 66, 61,\n        37, 56, 59, 53, 36, 43, 65, 41, 42, 62, 63, 31, 48, 23, 30, 21,  2,\n         7, 17, 27,  4, 20, 24, 19, 22,  6, 28, 39, 51, 54, 52,  0,  1]),\n 81: array([ 588,  930, 1089, ...,    7, 1780,   85]),\n 82: array([5, 6, 4, 0, 3, 7, 1, 8, 2]),\n 83: array([54, 42,  9, 19, 13, 25, 27, 41, 26, 30,  7, 46, 40, 56, 14, 12, 43,\n        49, 35, 28,  4, 48,  5, 10, 36, 15, 29,  1,  6,  8, 18, 16, 38, 20,\n        21, 39, 55, 34, 32, 11, 17, 51, 23,  2,  3, 22, 31,  0, 47, 52, 53,\n        37, 33, 24, 45, 50, 44]),\n 84: array([0, 1]),\n 85: array([10,  8, 12, 17, 14,  7, 18, 16,  4, 11,  9,  2, 13, 15,  6,  5,  1,\n         3,  0]),\n 86: array([105,  51,  78,  86,  84, 180, 142, 160, 120, 115,  38,  30,  80,\n          9,  12, 125,  34,  81, 101,  57,  18,  77,  37, 102,  60,  42,\n         98, 152, 109,  40, 181,  72, 195, 167, 117,  59, 124, 186, 162,\n         96,   2, 176,  33,  39,  69,  82,  17, 132, 147,  24, 146,   1,\n        151,  46,   5, 198, 100,  29, 139, 149,  27,  25, 170,   4,  67,\n         36, 145,  16,  62, 191,  23,  90, 136, 187, 130,  47, 127, 133,\n         75,  70, 175, 138, 174, 178, 161, 190, 129, 199, 135, 114,  14,\n          6,  53,  66, 107,  44,  74,  88,  10, 158, 182, 192,  99, 163,\n        150, 112,  32,  41,  19, 172, 144,  15, 164, 110,  95,  65,  48,\n          7,   8,  45, 154,  49,   0,  79, 184,  83,  76,  20, 196, 148,\n        169, 137, 141,  55,  64, 140, 116,  91, 168, 177,  26, 106, 189,\n         13,  21,  61, 122, 123,  58, 108, 131, 153, 156,  63,  35,  89,\n        155,  54,  52,  22, 179, 159, 171, 128, 157,  92,  93, 119, 188,\n        193, 173, 194,  87,  31, 185, 197, 143, 126,  11, 104,  85, 118,\n        166,   3,  56, 165,  73,  50,  94, 121,  28, 183, 111,  97,  71,\n        103,  43, 134,  68, 113]),\n 87: array([100,  56,   5,  99,  10,  94,  23,  21,  75,  87,  40,  95,  98,\n         74,  15,  55,   4,  32,  69,  66,  77,  86,  59,  65,  72,   3,\n          9,  39,  88,  14,  91,  49,  89,  26,  60,  90,  81,  80,  83,\n         50,  42,  58,  54,  71,  43,  19,  47,   7,  27,  57,  52,  48,\n         28,  22,  18,  79,  68,   0,  97,  73,  92,  33,  25,  17,  53,\n         12,  41,  51,   6,  76,  63,  36,  37,  31,  20,  93,  70,  46,\n         64,  24,  38,  35,  13,  84,   8,  29,  45,   2,  30,  61,  85,\n          1,  34,  78,  16,  67,  44,  11,  62,  82,  96]),\n 88: array([17, 11,  0,  6,  1,  7, 12, 10,  8,  5, 15, 18,  2, 13,  9,  3, 14,\n        19, 20,  4, 16]),\n 89: array([312, 578, 169, 360, 165,  24, 141, 195, 507, 158, 519,  73, 513,\n        129,  62, 144, 198,  74, 582, 522, 557, 466, 371, 502, 194, 356,\n        430, 518, 294,  78, 584, 458, 287, 235, 471, 177, 297, 570, 325,\n        100, 408, 411, 320, 559, 335,  72, 290,  93, 533,  63, 291, 212,\n        479, 542, 464, 334, 461,  60, 505, 103, 213,  57, 409, 241,  69,\n        460, 162, 237, 110, 447, 123, 583, 386, 544, 416, 525, 556, 506,\n        413, 421, 215,   8,  14,   7, 214, 546,  66, 101, 149, 440,  75,\n        207,  27, 299,  51, 540, 173, 359, 264, 322, 348, 205,  49,  47,\n         61, 122, 365, 227, 520, 270,  19, 267, 113, 418, 242, 146, 412,\n        326, 424, 337, 345,  87,  95, 281, 494, 232, 303, 352, 314, 477,\n        480, 310, 292, 196,  84, 126, 569, 245, 397, 147,   1, 130, 344,\n        564, 561, 565, 449, 379, 387,  52,  32, 153,  54, 324,  97, 247,\n        230, 240, 239, 465, 574, 333, 340, 250, 500, 438, 524, 125, 308,\n        150, 473, 536, 462, 377, 358, 252,  26, 548,  34, 180, 433, 170,\n        472, 475, 293,  21, 189, 470, 560, 579, 168, 428, 451,  79, 266,\n          0,  58, 581, 304, 367, 278, 192, 280,  11, 117, 300, 323, 257,\n         76, 185, 396, 152, 157, 249, 573,  22,  71, 551, 420, 302,  45,\n         18, 244,  53,  10, 389, 407, 273,   3, 331, 120,  56, 276, 538,\n        585, 316, 530, 181, 436, 151,   9, 275, 496, 571, 511, 135, 568,\n        361,  35, 140, 572, 210, 115, 476,  39, 218, 467, 191, 523, 381,\n        382, 353, 376, 321, 444, 370, 384, 432, 116, 131, 503, 171, 142,\n        483,  86, 468,  42, 127, 243, 486, 354,  25,  82, 398,   4, 532,\n         31, 156, 484,  20, 226, 137, 288, 586, 305, 481, 550, 355, 482,\n        566, 229, 220, 136,  83, 233, 258, 450,  12, 508, 499, 529, 118,\n          5, 463, 422, 164, 374,  81, 268,  99, 369, 501, 514, 160, 547,\n        246, 159, 456,  91,  80, 187, 208,  38, 528, 327, 209,  23, 567,\n        106,  90, 269,  98, 487, 402,  48, 211, 558, 553, 298, 442, 554,\n         77, 474, 224, 563, 423, 510, 166,  46, 406, 206, 219, 202, 531,\n        114, 575, 216, 279, 419, 457,  85, 521, 343, 357, 178, 350, 516,\n        392, 380, 311, 255, 105, 204,  96, 306, 394, 259, 121, 488, 425,\n        541, 485, 429, 261, 434, 378, 132, 368, 580, 498, 329, 403, 260,\n        176, 347, 443, 504, 490, 332, 375,  55, 435, 201, 111, 172, 222,\n        203, 446, 577, 512,  33, 543, 284, 167, 401, 289,  15, 217, 448,\n        534, 427, 441, 200, 272,  64, 179, 155, 225, 399, 576, 391, 489,\n        197, 445, 509, 426, 124, 342,  44, 286, 296, 437, 497, 318, 395,\n        362, 148, 400,  28, 515, 112, 251, 231,  59,  17, 455, 346, 469,\n        535, 221, 186, 238,  70, 527, 537, 161,  92, 549, 555, 301, 349,\n         88, 274,  50, 492, 295,  36, 393,  30,  13, 453, 452, 351, 478,\n        373, 339, 119, 383, 190, 363, 108, 562, 388, 182, 315, 104, 309,\n        134, 254, 404, 228, 313, 277, 248, 183, 199, 364, 184,  94,  29,\n        154, 163,  41, 236, 336, 415, 107,  16,  89, 328, 517,  40, 307,\n        133, 372, 431, 330, 128, 385, 253,  65, 493, 587, 234,   2, 256,\n        143, 417, 405, 526, 390, 414, 109, 319, 539, 410, 102, 223,  37,\n        545, 262, 271, 193, 338,  43, 495, 491, 174,   6, 265, 459, 282,\n        552, 138, 188,  68, 454, 341, 175, 283, 139, 366, 317, 145,  67,\n        285, 263, 439]),\n 90: array([ 73,  84,  92,  74,  80,  53,  27,  42,  40,  39,  88,   4, 105,\n         32,  37,  86,  31, 104,  95,  52,   6,  51,  69,  24,  47,  85,\n         81,  29,  70,  28,  77,  79,  83,  66, 106,  87,   7,   5,  30,\n         23,  65,  91, 101,  94,  68,  60,  89,  11,  72,  54,  57,  61,\n        100,   9,  97,  67,  17,  13,   2,  16,  93,  18,  35,  62,  99,\n          1, 102,  78, 103,   8,  41, 108,  75,  15,  45,  14,  19,  44,\n         63, 107,  21,  36,  34,  76,  55,  25,  50,  46,  71,   3,   0,\n         64,  98,  26,  82,  12,  22,  90,  59,  10,  96,  56,  58,  38,\n         43,  20,  33,  48,  49]),\n 91: array([11, 12, 21, 17,  9, 20, 18, 14,  7,  8, 23, 10, 15, 19,  2,  1,  3,\n        16,  0,  4, 22,  5, 13,  6]),\n 92: array([ 9, 46, 20, 30, 37, 14, 23, 13, 44, 17, 47, 31, 49, 40, 52, 22, 42,\n        16,  8, 43, 19, 53, 21, 10, 55,  3, 35, 54,  0,  6,  2, 18, 38, 26,\n         4, 34, 33, 12, 29, 15, 11, 48, 51,  1, 50,  5, 57, 32, 28, 45, 25,\n        39, 56, 24, 27, 36, 41,  7]),\n 93: array([22, 37, 14, 39, 30, 33, 27, 24, 16, 20, 31, 34, 25, 18,  9, 11,  1,\n         5,  7, 21, 36, 13, 23, 38, 32, 29, 15, 19, 35, 26, 17,  8,  4,  0,\n        10,  6,  3,  2, 28, 12]),\n 94: array([ 11,  75,  13, 125,  43,  54, 336, 170, 216,  35, 177, 202, 150,\n         45, 301, 360, 351, 278, 218, 181, 358, 127, 205, 251,  16, 173,\n        299,  17, 256,  77, 158, 206, 200,  89, 311,  73, 105,  25, 220,\n         59,   1,  56, 319, 189, 129, 247, 283, 153, 111,  88,  14,  32,\n         44,  28,  85, 290, 291,  52, 171,   3, 280,  10, 279, 325, 224,\n         15, 277, 252,  87, 152,  26, 128, 188, 157, 343, 296, 317, 164,\n        263, 168, 303, 362, 274, 201, 222, 244, 272, 366, 356, 213, 246,\n        298,  34,  18, 159, 345, 271, 341, 315, 364, 195, 190,  86,  29,\n         41, 307, 176, 107,  30, 242, 106, 112,   2, 149,   9,  53,  74,\n        124, 338, 132, 104,  84, 123, 147,  72,   7, 313, 352, 221,  19,\n        308, 340, 257, 316, 331, 232, 275,  60,  46, 264, 238,  70, 269,\n        321,  31,   8,  68, 101, 328, 207, 334, 113, 306,  27,  96, 114,\n        115,  58,  69,  48, 344, 294, 210, 310,  38, 320, 122, 120,  94,\n        192, 365, 326,  92, 165, 297, 258,  83, 259, 289,  42, 223, 166,\n        253, 288, 136, 180, 337,  47, 130, 116, 134,  39, 302, 282, 172,\n        178, 243, 281,  61, 187,  63, 186, 204,  36, 363, 353, 183,   4,\n        229,  64,  99, 287, 156, 350,  57, 211,  33, 146, 332, 145, 330,\n        265, 335, 285, 137, 226, 203, 262,  62, 322, 324,  12, 346, 260,\n          5, 138,  50, 248, 212, 347, 267,  37, 255, 154, 197, 214, 148,\n        131, 155, 284, 240, 300, 209, 194, 309,  55, 121, 327, 185, 219,\n        110,  49, 348, 119, 314,  51, 162,  40, 135, 236, 233, 234,  78,\n        333, 108, 215,  95, 151, 286, 339, 169,  97, 318, 355, 305, 141,\n        354, 250, 228, 196,  79,  23,  20, 329, 295,  90, 261, 293, 237,\n        273, 245, 349, 167,  91,  21, 163, 198, 230,  76, 103, 235,  98,\n          6, 182, 254, 304, 217, 276, 118, 143, 174, 292,  82, 139, 100,\n        191, 179, 142, 184, 266,  80, 249, 117, 161, 227, 239, 270, 342,\n         71, 126, 241, 144, 109, 357, 231, 160, 102,  67, 140, 312, 268,\n         66,  93, 133,  81,  65,   0, 359,  24, 175, 225, 361,  22, 323,\n        199, 208, 193]),\n 95: array([135,  76, 113, 138, 133,  82,   2,  88,  46, 183,  24,  40, 195,\n        202, 154, 192, 227,  58, 115,  79, 120, 101,  62,  60,  35, 137,\n        197, 128, 246, 222, 149,  98,  57,  14,  19, 117, 233, 175,  92,\n         55, 126, 179,  38, 223,  96, 121,  69, 211,  84, 213, 136, 228,\n        204,  11, 194,   9, 125, 181, 249, 109, 244, 234,  13, 166, 226,\n        229,  15, 252, 114,  47,  32,   1,  10,  93,  54, 247, 108,  21,\n         49, 146, 162, 207, 219, 174, 150, 218,  95,   8,  12, 243, 198,\n        221,  87,  45, 140,  77, 212,  43,  66, 208,  16, 112,  26, 230,\n        238,  18,  22, 111,  99,  85,  53,   0,  20,  67,  71, 201, 216,\n        224, 254, 214, 217, 250,  52, 178, 206,   7,  31, 209,  65,  78,\n        164, 241, 161, 187, 240, 190, 242, 132,  83, 253, 170,  27, 145,\n        172,  29,  81, 210,  51, 105, 118, 160, 171, 235, 173,  28, 251,\n        205, 106, 215,  86,  94, 142, 236, 185, 158,   3,  91, 134, 152,\n        248, 237, 182,  75,  74, 196,  25,  97, 189,  90,  17,  36, 119,\n        147, 167,  73,  34,  50, 163, 124, 127,   4,  37, 203, 231, 107,\n        155,  41, 110, 220, 129, 177,  59,   6,  80,  68, 176, 199,  23,\n        165, 232,  61,  42, 255, 123, 225, 184, 122, 180, 130, 200, 156,\n        100,  48,  30, 239, 188,  56,  39, 168,  70, 141, 169, 148,  72,\n        191, 153, 245, 103, 131, 151,  44,   5, 159, 104,  63, 256, 144,\n        102,  33, 143,  89, 139, 157, 116,  64, 193, 186]),\n 96: array([ 68,  60,  59,  11,   7,  72, 101,  48,  19,  29,  37,  76,  33,\n         57,  27,   9,  86, 100,  45,  75,  34,  21, 103,  26,  46,  71,\n         95,  94,  80,  69,  73,  50,  85, 102,  97,  40,  77,  88,  43,\n         81,  38,  31,  90,  91,  47,   1,   3,  52,  12,  92,  35,  13,\n         41,  30,  24,  82,  20,  54,  49,  64,  56,  16,  96,  14,  58,\n         28,  74,   5,   6,  87,  79,  17,   2,  67,  78,  51,  65,  55,\n         10,  36,   8,  63,  23,  99,  84,  22,  66,  25,  15,  62,  93,\n         70,  42,  83,  61,   4,  98,  18,  32,  89,   0,  39,  53,  44]),\n 97: array([167, 107,   2, 101,  65,  44,  89,  87,  80,  49, 166,  79, 102,\n         19, 111,  92,  69,  59, 119,  98, 114, 139,  37,  64,   7, 145,\n         88, 183, 182,  34,  60,  63, 146, 106,   5, 128,  14, 118, 131,\n         78, 172,   1,  12, 184, 126, 138,  70, 186,  11,  38, 173, 149,\n         40,  77,  68, 117,   0,   8,  45, 180,  48,  18,  91,  53,  26,\n        176,  31,  57,  86,  13,  20, 100,  10, 110, 154, 137, 140, 160,\n        159, 148, 175,  33, 135, 147, 158, 113,  74,  36,  32, 142, 132,\n         21, 116,  28, 177, 170, 123,  58,  43, 122, 141, 127, 165, 129,\n        130,  90,  22, 169, 171, 105, 120, 181,  30,  27,   3, 152,  56,\n        185,  23,  72,  96, 155,  97, 179,  17, 134,  15, 164,   9,  25,\n        161,  41,  83,  46, 125,  99,  62,  71, 136,   4,  94, 144,  35,\n        151, 156, 150,  85,  16,  75,  73,  67,  66,  24, 178, 174, 112,\n         76,  39, 115,  82,  29,  47,  54, 121,  42, 143,  55,  61, 153,\n        163, 162, 109, 124, 103, 133,  84,   6, 104, 157, 168,  81,  51,\n         95,  52, 108,  93,  50]),\n 98: array([21,  0, 11, 13,  8, 17, 18, 23, 33, 25, 22, 20, 36, 32, 19, 30, 12,\n         9,  7, 26, 16, 14, 34, 37,  3,  5,  1,  2,  4,  6, 29, 27, 28, 35,\n        24, 38, 31, 15, 10]),\n 99: array([207,  90, 193, 191, 105, 188,  74, 181,  42, 209,  86, 171, 196,\n        110, 168, 103, 197,  73, 126, 117, 125,  68, 127,  51, 138, 166,\n         56, 140,  32, 175,   7,  95,  17,  41,  31, 156,  72, 158, 111,\n        180, 119,  71,  94, 122, 208,   2,   8,  62, 178,  48, 183, 182,\n        205,  21,  87, 159,  24,  58, 179, 195, 139, 203,   3, 132,  61,\n        144, 145, 115,  85,  84, 186,  93,  65,  13,  59, 160,  88,  10,\n        123,  54,  55, 201,  49,  89, 148,  30, 121,  81,  67, 177,  36,\n        128, 101, 124,  27,  14,  46, 152, 141, 142, 164, 155, 169,  25,\n         66,  91,  18, 143,  11,  37,  29,  57,  76,  99, 134, 116, 109,\n         47, 202, 157, 153, 129, 174, 130, 192,  69,  53, 106, 165, 199,\n        194,  15, 176,  98, 133, 120,  64,  77, 131,   1, 100, 162, 200,\n        184, 154,  60,  63, 187, 137, 107, 113, 114,  97,  52,  50,  83,\n        102, 135,  12,  22,  26, 118,  96,  92,  28,  23, 170, 149,  45,\n        190, 108,  39,  34,  20,  40, 104,   9, 147,  70,  79,  75,  38,\n         44,  33,  16, 204,  19, 172, 173,  35, 112, 163, 167, 189,   6,\n        161,  78, 150,  43, 198, 146,  82,   0,   4, 206,   5,  80, 136,\n        151, 185]),\n 100: array([118,  59,  58,   0,  92, 124, 110, 106,  36,  32,   2,  73,  34,\n         63,  90, 115,   6,  64,  13,  52,  39,  50,  11,  43,  26,  82,\n        112,  85,  95, 134, 103, 117, 127,  72,  40,  61,  21,  88,  27,\n          3,  65, 128,  16,  33,   9,  66,  19,  44,  48,  84,  25, 119,\n         53, 120,  87,  54,  78,  28,  93,  55,  51,  96, 135, 101,  20,\n        116, 132,  56,  15,  23, 113, 108,  86, 105,  14,  69,  79, 131,\n         62,  83,  10,  91, 102,  81,  89,  12,   7,  77, 130,  94, 104,\n         99,  29,  42,   1, 100,  71, 123,  45, 114, 133,  67,  46, 129,\n         37,  74, 109,  47, 122,  76, 111,  80,  30,   8,  35,  98,  68,\n         38,  70,  75,  24,  22,  41, 107,   4, 121,  31, 125,  60,  17,\n        126,  49,   5,  57,  18,  97]),\n 101: array([228, 131, 226,  23, 190,  50, 192,  16, 251,  65, 199,  32,  63,\n         97, 197,  57, 182, 250,  38,  91, 106, 249,  64, 185, 101,  60,\n        102,  11, 188, 221,  98, 245, 118,  84,   7,  93, 130,  56, 176,\n        139, 218, 186, 213, 208, 200, 129, 215, 214,   3, 110, 123, 169,\n        148,   5,  48, 194,  72, 100, 126,  92, 165, 230, 127, 172,  10,\n        117, 147, 243,  44,  18,  95, 227, 108, 178, 159, 119,  66, 136,\n        149, 247,   6, 180, 225,   4, 195, 222, 125,  26,  68,  14, 223,\n         40, 171,  67,  37,  62, 234, 184, 224, 120, 116,  25, 138, 145,\n        105,  28, 114, 174,  59, 240, 220, 202,   2, 109, 241, 137, 115,\n        113, 235,  29, 166,  87, 153,  54, 219,  49, 212,  51, 216, 232,\n        161, 107, 140, 209,  19, 189,  42, 167, 175, 143,  82, 162, 132,\n        198, 142,  76,   8, 124, 160, 191, 201, 211,  15,  78, 179,  85,\n        104, 173, 144,  81, 204, 135, 242, 248, 150, 152, 151, 203,  27,\n        111, 128, 141, 236,  83, 237, 122,  79,   0, 207, 177,  12,  89,\n        246,  90,  45, 233,   1, 205,  36, 155,  47,  80, 193,  69, 187,\n        158,  21,  96, 170, 181, 229,  70,  24, 112,  88, 164, 239,  99,\n          9,  73, 238, 217, 210,  77,  58, 156,  52,  31,  30,  33,  75,\n        154,  55,  53, 146,  35, 121,  71,  22,  39,  17, 244,  13, 134,\n         46,  34, 133,  43,  20,  41, 231, 183,  74, 163, 168, 157, 196,\n         94,  86, 206, 103,  61]),\n 102: array([108,   1,  67, 230, 154, 140,  56, 165,  82, 183,  24, 122, 189,\n        214, 242, 253, 201, 271,  20, 228, 280, 260,  48,  81, 264,   8,\n         40, 273,  87,  88, 277,   6,  49,   3, 235, 215, 123, 204, 173,\n        182, 207, 172, 256, 107,  99, 274,  27, 139, 166, 211, 229, 199,\n        185, 141, 221, 240, 239, 125, 114, 157,  30,  86, 232, 124,  37,\n        100, 136,  36,  83, 101, 131,  55,  79, 164, 262, 268, 176, 234,\n        225, 218, 245,  13, 286, 197, 110,   7, 224, 213, 192,  25,  80,\n        281,  70, 163,  45, 278, 153,  22, 257,  19, 137, 162,  21,  63,\n         59,  77,   0,  60, 169,  14,  74, 267, 284, 151, 133, 223, 250,\n         68,  35, 244, 117,  76, 289, 174, 226, 194, 210, 135, 121, 145,\n        130,  46, 205, 203,  44,  89, 249,  11,  94, 178, 134, 193, 251,\n         12, 191, 285, 190, 247,  95,  91, 175,  78,  65,  32,  42,  41,\n        112, 187, 129, 241, 291, 238, 168, 261,   9, 177,   4, 113,  15,\n        252,  18, 248, 255, 254, 288,  58, 258, 212, 161, 115, 150, 120,\n        160, 155, 209, 196, 236,  93,  64,  31,  16,   2,  39,  53, 279,\n         66, 282, 269,  34, 179, 146, 216, 283, 200,  38,  90,  96,  61,\n         98, 231,  92,  23, 119, 171, 237,  71, 181,  54, 149, 152,  84,\n        272, 147, 103, 148,  73, 222, 202, 263, 266,  69, 208,  50,  28,\n        142,  51, 144, 184, 111, 118, 270, 195,   5, 198,  52, 102, 156,\n        220, 159,  72, 170, 143, 104, 246, 188, 259, 265, 276, 106, 233,\n        128,  26,  10, 167, 290,  57,  47, 219,  85,  75, 186, 227, 132,\n        105, 109, 275,  62,  33,  17, 206, 126,  97, 138, 180, 158,  43,\n        127, 287, 243, 116, 217,  29]),\n 103: array([ 0,  1,  2,  3,  7,  4,  5,  6,  8, 11, 13, 15,  9, 12, 10, 20, 18,\n        21, 14, 22, 16, 17, 19]),\n 104: array([16, 24, 20,  5, 14, 11, 26, 54, 56, 57, 62,  2,  8, 33, 32, 50, 37,\n        49, 41, 44, 46, 28, 55, 52, 59, 60, 45, 48, 35, 39, 42, 61, 21, 31,\n        18, 13, 27, 22, 29, 58,  0,  6,  9, 12, 19,  4,  7,  1, 34, 10, 53,\n        38, 40, 43, 23, 30, 47, 25, 15, 51, 17, 36,  3]),\n 105: array([457, 460, 483,  68, 556,  66, 406, 283,   8,  42,  56,  60, 243,\n        501, 475, 261, 302, 478, 354, 502, 415, 500, 115, 680, 359, 167,\n        181, 232, 178, 247, 585, 217, 260, 280, 362, 337, 470, 263, 480,\n        654, 355, 450, 528, 563, 127, 525,  95, 519, 281, 119, 284,  20,\n        564, 239, 674, 140, 621, 670, 198, 462, 229, 541, 571, 237, 383,\n        208, 274,  31, 532, 218, 520, 498, 271, 307, 162, 347, 296,  87,\n        404, 334, 270, 614,   3, 441, 514,  89, 109, 201, 258,  67, 135,\n        395, 589,  37, 598,  80, 686, 458, 411, 620,  30, 461, 586,  74,\n        687, 313, 102, 636, 449, 407, 527, 456, 189, 521, 206, 358, 266,\n        393, 658, 151, 599, 432, 531, 409, 570, 172, 269, 467, 238, 352,\n        293, 166, 390, 156, 193,  98, 622,  25,  52, 272,  99, 139, 325,\n        394, 298, 282, 627, 188, 319, 582, 160,  90,   7, 323, 561, 292,\n        605, 437, 492, 400, 136, 249,  88, 235, 454, 351, 553, 401,  92,\n        672,  58, 100,  28, 429, 607, 297, 299, 108, 632, 318, 572,  51,\n        273, 517, 544, 320, 254, 659, 248, 554, 479,  18, 384, 305,  40,\n        578, 433, 431, 290, 213, 522, 253, 250,  15, 448, 125, 153, 366,\n        657, 610, 587, 638, 295,  55, 288, 294, 447, 452, 455, 623, 630,\n        606, 565, 245,  91, 591, 289,   0, 386, 309, 435, 524, 112, 655,\n        367, 676, 440, 405, 419, 547, 590, 495, 615, 350, 335, 389, 446,\n        134, 387, 326, 465,  21, 529, 418, 618, 573, 637, 506,  82, 357,\n        496,  33, 466, 353,  84, 507,   6, 402, 667,  41, 124, 662, 569,\n        225, 422, 121, 634, 187, 315, 216, 635, 120, 340, 311, 613, 234,\n        504, 640,  32, 545, 176, 603, 101,  46,  39, 593, 190, 596,   9,\n        165, 459, 568,  69, 597,  13, 581, 551, 222, 542, 343, 434, 149,\n         61, 566, 161, 327, 684, 321,  47, 592, 430, 643, 484,  10,  62,\n        477, 562, 103,  49,  79, 413, 377, 341, 629, 385, 192, 410, 604,\n         19, 546, 203, 308,  64,  16, 443, 123, 168, 609, 154,  27, 499,\n        279, 378, 106, 164, 398, 146, 138, 427, 332, 230, 111, 488, 342,\n        464, 345, 485, 580,  35,  53, 197, 157, 651, 647, 324, 365,  11,\n        577, 262, 159, 381, 412,  81, 641, 364, 180, 169, 133, 414, 416,\n        227, 388, 671, 215, 375, 482, 481,  45, 339, 286, 209, 397, 516,\n        512, 515, 329, 240, 669, 360,  77,  86, 487, 639, 185, 242, 560,\n        202, 246, 226, 679, 333,  12, 363, 453, 574, 579, 538, 132,   1,\n        550,  26, 224, 368, 392, 656, 256, 417, 644, 110, 322, 312, 575,\n        535, 648, 174, 436, 330,  72, 233, 331, 126, 583, 344, 277, 314,\n        228, 442, 497,  85, 241, 539, 645, 557, 677, 424, 143,  57, 660,\n         54, 131, 558,  73, 170, 666, 399, 259, 681, 619, 683, 642, 141,\n        231, 594, 205,  17, 191,  63, 646, 370, 142, 219, 204, 211, 221,\n        631, 118, 236, 567, 182, 116,  38, 244, 445, 372, 130, 543, 537,\n        184,  50, 518, 338, 663, 661, 509, 291, 373, 374, 391,  97,  48,\n        444, 685, 117, 617,  44,  65, 382, 530, 147, 275, 536,   2,   5,\n        511, 602, 199, 252, 137, 379, 612,  83, 163, 548, 265, 426, 576,\n        486, 152, 665, 148, 380, 601, 150, 425, 616, 306, 552, 251, 476,\n        369, 463, 183, 287, 264, 268, 664, 104, 633, 304, 114,  70, 439,\n         71, 473,  96, 105, 650, 145, 469, 438, 113, 257, 349, 494, 210,\n        468, 177, 682, 128, 472, 194, 451, 549, 559, 175, 489, 371,  22,\n         36,  78, 336, 668,  76, 428, 625, 328,  29, 675, 348, 276, 471,\n        195, 171, 214, 652, 533, 540, 356, 508, 678, 317, 420, 212, 611,\n        285, 396, 408, 144, 649,  75, 653, 673, 220, 255, 376, 129, 624,\n        200, 155, 122, 503,  93, 196,  24, 316, 179,  14, 510, 186, 223,\n        588, 526, 626, 423, 505, 513, 523, 158, 173, 421, 491,  94, 361,\n        267, 346,  43, 300, 107,  34,  59, 608,   4, 584, 303, 403, 490,\n        534, 628, 207, 278, 595, 600, 555, 493, 301, 474,  23, 310]),\n 106: array([70, 20, 15, 23, 66, 25, 12, 68, 53, 24, 61, 40, 49, 31, 34,  6, 36,\n        55,  7, 26, 19, 52, 59, 60, 56, 27, 32, 30, 63, 46,  2, 50,  4, 62,\n        69, 28, 22, 42, 38, 41, 11, 58,  9,  1, 64, 54, 67, 51, 17, 18, 13,\n        47, 57,  8, 37, 65, 29, 33, 44,  5, 45, 48, 35,  3, 43, 39,  0, 10,\n        21, 14, 16]),\n 107: array([ 19, 168, 255, ...,   1, 252,  71]),\n 108: array([3, 7, 2, 5, 6, 4, 0, 8, 1]),\n 109: array([41, 76, 63, 83, 34, 36, 77, 33, 37, 50, 51, 30, 66, 75, 40, 78,  2,\n         1, 79, 88, 71, 69, 53, 39, 72, 86, 38,  5, 85, 73, 31, 11, 74, 15,\n        16, 43, 87, 48,  6, 47, 28, 10, 21,  4, 32, 56, 14, 84, 23,  0, 44,\n        82, 19, 24,  7, 65, 17, 57, 20, 49, 60, 18, 64, 58, 45, 62, 13, 80,\n        54, 46, 27, 42, 25, 70, 26, 55, 81, 22, 59, 67, 68,  9, 29, 12,  3,\n        35, 52,  8, 61]),\n 110: array([ 6,  3,  9, 12, 10,  7,  2, 13, 14,  8, 11,  4,  1,  0,  5, 15]),\n 111: array([ 72,  19,  12,  15,   3,  77,  71,  46,  51,  30,  18,  14,  45,\n         97, 108,  67,  56,  79,  74,  84, 115,  65,  81,  75,  24,  99,\n         20,  85,  25,  43,   2,  68,  47, 103,  52,  26,  54,  87,  13,\n         94,  27,  83,  69,  41,  35, 114,  23,  91,  40,  37,  55,  38,\n        106,   0, 110,  36,  11,  50,  60,  62,  78,  61,   8, 109,  73,\n         64,  82,  66,  10,  92,  48,   4,   5,  89, 113,   9,  88,  29,\n         28,   6,   7, 104,  49,  76,  16, 105, 102,  95,  22,  70,  63,\n         17, 117,  31,   1, 119,  86,  21,  58,  98,  53,  59,  34,  32,\n         96,  90, 111, 107,  57, 112, 118, 116,  39,  44,  42, 101,  93,\n         33,  80, 100]),\n 112: array([23, 24, 29, 22, 33,  8,  7,  5, 10, 11, 34, 41,  3, 28,  2, 30, 25,\n        13,  1, 15, 21, 36, 20, 14,  4, 31, 38, 39, 18, 40, 27, 35,  9, 16,\n        19, 17, 26, 32,  6, 37,  0, 12]),\n 113: array([ 25, 572, 308, ..., 842, 484, 820]),\n 114: array([ 1, 14, 12, 15,  9,  8,  4, 11, 10, 13, 16, 18,  2,  6, 19,  3, 17,\n         7,  0,  5, 20]),\n 115: array([178,  61, 203,  58, 324, 179,  79, 363, 300,  47, 100, 262, 226,\n          7,  65, 140,  15,  56,  66,  63, 116, 376, 252, 219, 270, 261,\n        253,  51,  41,   8, 343, 322, 248, 187, 195,  97,  98, 325, 249,\n        238, 306,  78,  64,  46, 267, 275,  99, 294, 357, 391, 319,  40,\n        124, 128,  44,  22, 356,  48, 131, 372,   6,  49, 311, 381, 341,\n        312,  39, 344, 263, 310, 221, 228, 383, 212, 301, 280, 155, 273,\n        389, 352,   4, 366, 136,  85,  73, 181, 109, 175,  43,  74, 152,\n        239, 354, 150, 279,  36, 192, 202, 153, 236,  89, 369, 380, 251,\n        394, 303, 164,  69,  33,   2, 169, 154, 237, 291, 282, 227,  38,\n         29, 173, 269, 201, 177,  35, 101, 315, 304, 135, 379, 168, 281,\n        104, 144, 321, 176, 370,  28, 114, 118, 392, 371, 342, 284, 276,\n          5, 234, 350, 147, 211, 364, 197,  16, 218, 286,  23,  27, 288,\n         55, 377, 127, 278, 125, 274, 367,   1,  20, 317,  37,  52, 148,\n        331, 287, 182, 160, 132, 292,  34,  60,  11, 255,  24, 272,   9,\n        308, 271, 174, 180,  53, 229, 256, 145, 320, 172, 217,  17, 245,\n        257, 225, 318, 191, 345,  32, 183, 314, 348, 347, 105, 121,   3,\n         84, 113, 326, 143,  42, 215, 139, 384, 196, 382, 305,  80, 337,\n        361,  54,  19, 254, 353, 362, 190, 334,  87,  76, 330, 129, 161,\n        189, 365, 375, 103, 210, 162, 358, 332, 307, 265, 247,  30, 355,\n        171, 373, 126, 374, 295, 242,  82, 170, 309, 244, 302, 235, 368,\n        112, 167, 142, 313,  90, 351, 106, 205,   0, 359, 222, 186, 385,\n        346, 120, 250, 158, 333, 329, 390, 115, 117, 199, 163, 259,  12,\n         81, 216, 110,  71, 243,  57, 232, 156, 134, 323, 289, 283, 198,\n        107,  72, 141, 285, 260, 200, 246, 224, 207,  77, 123, 266, 277,\n        268, 149, 188,  95, 108, 298, 137, 387, 111, 223, 241, 240, 209,\n        122, 316, 327,  50, 233, 339, 258, 220,  59, 388, 338, 193, 204,\n         14,  10, 395,  93, 328,  25, 340,  70, 290,  45,  21,  96, 119,\n        393,  68,  94, 194, 185,  62, 293,  88, 335, 297, 159, 296, 231,\n        360, 386,  92, 336, 378, 230, 264,  31, 151, 213, 157,  18,  67,\n        130,  91, 299, 206, 214,  13,  83,  86, 133, 208,  26, 165, 184,\n        146, 349, 166,  75, 102, 138]),\n 116: array([ 3, 44, 38,  0,  1,  4, 19, 16, 11, 14, 28, 33, 35, 21, 30, 39, 43,\n        27, 20, 32, 31, 10, 18, 12, 25, 42,  6, 40, 15, 36, 29, 23, 46, 24,\n        34, 37, 41,  7, 13,  9,  8, 17, 45, 47,  5,  2, 22, 26]),\n 117: array([15, 17, 13, 28, 22, 27, 29, 19,  2, 26, 23, 21, 12, 24,  4,  5,  0,\n        36,  3, 35, 32, 18, 10, 25, 33, 30, 31,  8,  9,  6, 14, 11,  1, 20,\n        34,  7, 16]),\n 118: array([13, 10, 31, 22, 26, 35,  1, 32, 15, 20, 28, 25,  0, 30, 11, 12, 14,\n         6, 24, 21, 29, 16, 33, 17, 34,  4,  7,  2,  9, 18, 23, 19,  5,  3,\n        27,  8]),\n 119: array([ 45,   9,  26,  73,  74,  77,  79,  96,  87,  88,  55, 109,  84,\n         50,   6,  38,   8,   5,  34,  46,  40,  33,  27,   7,  35,   3,\n         10,  20,  30,  70, 112,  19,  31,  24,  95, 108,  93,  85, 105,\n        115,  98, 126, 114,  94,  63,  12,  90,  92,  78,  75,  80,  86,\n         22,   2,   0,  25,   4, 120,  53, 123, 130, 119, 100, 104, 111,\n        106, 133, 136,  29, 107,  60,  67,  56,  61, 129, 121,  44,  99,\n         47,  57,  62,  54,   1,  17, 103,  39,  48,  41,  52, 128, 110,\n         13, 116, 127,  15, 102,  42,  21,  16,  11,  18,  28,  76, 132,\n         14, 124,  68,  65,  64,  49,  71,  66,  83,  36,  23,  32, 118,\n        101,  91, 113, 122, 125, 134, 131,  69, 117,  59,  72,  51,  58,\n        135,  97,  43,  89,  82,  81,  37]),\n 120: array([ 2, 30,  1, 17, 18, 25, 23, 22,  7, 14, 27, 10,  4, 19,  9, 15, 20,\n        32,  5, 28,  0,  3, 12, 33, 31, 16, 11, 26,  6, 24, 29, 21,  8, 13]),\n 121: array([102,  89,  99,  77,  98,  17, 122, 140, 132,  53,  91,  75,  16,\n         72,  71, 110,  76,  38,  90,  37, 141, 119,  82,   8,  36,  96,\n        126,  55,  62,   4, 134,  54, 103, 106,  18,  14,  63,   6,  78,\n         30,   9, 105,  39,  67, 142, 125, 129, 130,  51,  79,  11,  64,\n         19, 114,   5,  61,  85,  88, 120,  33,  26,  20,  28,  46,  42,\n         44, 109, 128,  52,  25, 112, 115, 101,  50,  97, 133,  56,  57,\n         49,  41,  48, 104,  66,  95, 127,  12, 123,  80, 136,   3,   2,\n         60,  69,   1, 131,  35,  43,  24,  10,  70,   0,  45,  22,  23,\n        113,  31,  15,  87,  34, 100,  47,  81,  29, 116,  21, 124,  86,\n        108,  74, 118,  92,  68,  93,  32, 111,  13,  73, 121,  84,  27,\n         94, 138,  59,  83, 107, 139, 137,  58, 135,   7,  65,  40, 117]),\n 122: array([4, 6, 1, 5, 0, 7, 8, 9, 2, 3]),\n 123: array([251, 257, 286, 244, 143,  59, 269, 208,  80,  47,  72, 299, 197,\n        267,  40, 131,  97, 110, 201, 109, 135,  14,  52, 288, 222, 181,\n         94, 140, 150, 300, 303, 162, 248,  44, 169,  95, 187, 129, 165,\n        100, 284, 194, 231,  18, 191,  53, 195,  73, 176, 209, 158, 164,\n        196, 246, 278, 189,  19,  20, 103,  61, 119, 289, 163,  54, 182,\n        104, 305,  71,  12, 245, 118, 230, 292,  56, 255,  30,  55, 274,\n        282, 249, 113, 297,  64, 295,  16, 142, 266, 178, 204, 210, 184,\n         42,  90, 302,  62, 221,  28, 247, 243,   6, 298,  89,  29, 128,\n        146, 220,   1, 166, 161, 250, 186, 105,  51,  38,  92, 202, 170,\n        116,  88,  98, 268, 275, 205, 144,  10,  11,  75, 272,   0, 206,\n         17, 276, 112, 123, 107, 139, 174, 137,  35, 190, 291,  96,  45,\n        117, 280,  26, 263, 157, 154, 203, 225, 293, 172, 145, 240, 207,\n        279, 277, 156, 232, 124, 192, 290, 148,   9, 238, 111, 136, 235,\n         27, 304, 237, 261, 270,  48, 239, 265, 252, 283, 185, 125,  43,\n          7,  85, 147, 120,  83, 175,  41, 242, 127, 106, 155, 213, 229,\n        115, 102, 258, 264,  87, 199, 254, 134, 216,  46, 296, 126, 141,\n         82,  39,  37, 132, 236,   3, 114, 167, 173, 188, 179, 122,  70,\n         65,  25, 153, 271,  15,  57, 177, 200,  86,  34, 224, 281, 101,\n         67,  93,  91, 151,   8, 256, 211, 260, 121,  81, 130, 219,   5,\n         66, 241,  77, 262, 294,  32, 287, 149,  76, 217, 159,  36,  74,\n        285,  13, 234, 233,  79, 223, 214,  68,  58,  84, 218, 228,  33,\n         22, 273, 259, 152,  50, 215, 183,  23,  69, 138,  21, 180, 226,\n         31, 212,  78,  99, 193,   4,  49, 253, 168, 198, 171, 108, 227,\n         63, 160,  60,   2,  24, 301, 133]),\n 124: array([ 15, 280, 250,  98, 135, 185, 424, 428, 104, 317, 426,  38,  40,\n         48,  31, 189, 319, 220,   7, 254, 300, 221, 379, 421,  52, 200,\n         95, 243,  45, 418,  32, 297, 121,  39, 259,  46, 103,  41, 282,\n        339, 395,  91,  74, 186, 255,  35, 228,   4, 232, 151, 155, 216,\n         58, 432, 351, 184, 234,  33, 249, 130, 229, 354, 355,  76, 201,\n        251, 187, 427, 193, 285, 112, 165, 133, 161,  47, 176, 163, 213,\n        153, 150, 115, 320,  10,   3,   2, 413, 414, 244, 358, 284, 393,\n        262, 239, 110, 356,  21, 367, 167,  60, 148, 260,   9,   8, 124,\n        145, 142, 138, 291, 430, 180, 209, 327, 396, 105, 279, 383, 106,\n        365, 420, 141,  66, 261, 380, 199, 368, 271, 102,  86, 120,  96,\n         23, 139, 144,  70, 296, 303, 408, 346,  12, 310, 314, 177, 172,\n         37, 131, 140, 146, 301, 274,   0,  61, 205, 415,  29, 192, 398,\n        203, 168,   5, 286, 388, 364, 377, 242, 370,  92, 391, 237, 390,\n        437,  94, 318, 315, 423, 381, 326, 340, 349, 384, 276, 230, 204,\n         79, 344, 352, 322, 157,  20,  44, 197, 219, 417, 125,  50,   1,\n        218,  49,  17, 382,  18,  53,  99,   6, 231, 128, 325, 435, 298,\n         36, 207, 337, 235, 224, 117, 416, 162,  62, 159, 316, 399, 329,\n        202, 206,  82, 223, 278,  13, 245,  19, 116, 407, 350, 342,  14,\n        154, 149, 347, 114, 400, 212, 152, 277,  93, 126, 240, 438, 169,\n        225, 236, 136,  11,  71, 385, 211, 190, 412, 333, 353, 366, 362,\n        160, 175, 409, 397, 341,  90,  78,  77, 178, 194, 156, 198, 122,\n        241, 174, 299,  81, 108, 321, 233, 257, 258, 292, 273, 328, 304,\n        288, 360, 179, 336, 191, 394, 361, 143, 132, 434, 323, 404, 306,\n        275, 343,  16, 403, 109, 256,  65, 269, 371, 359, 335, 387, 363,\n        100, 433, 308, 222, 107, 113, 293, 182, 369,  42, 171, 374,  85,\n         26, 302, 294, 410, 357, 411, 392, 290, 309, 402,  80, 248,  88,\n         25, 270, 238,  56, 134,  24, 123, 313, 267, 431, 338,  75, 372,\n         63, 289, 305,  87, 312, 330,  97, 283, 376, 227, 226, 334, 386,\n        307, 332, 181,  68, 419, 373, 253, 217,  34, 195, 389,  57, 311,\n        378, 214, 439, 405, 436, 173, 208, 111, 406, 429,  28,  64, 158,\n         67, 137,  54, 268, 272, 440, 422, 295, 375, 215, 331, 281,  22,\n         72, 266, 265, 246, 348, 345, 127, 196, 401, 264, 263, 183, 287,\n        119, 101, 129,  83,  59,  27,  43, 247, 164,  73,  89,  30,  55,\n        188, 252, 324,  69, 425, 210, 147, 170, 166, 118,  51,  84]),\n 125: array([15, 14,  5,  6,  1,  0, 25, 26, 21, 20,  4, 17,  3, 13,  9,  2, 12,\n        19, 16, 23, 22, 24, 18,  8,  7, 11, 10]),\n 126: array([11, 13, 12,  8,  9, 20, 19,  3, 18, 21,  0,  4,  6,  5,  1, 10,  7,\n        14, 15,  2, 16, 17]),\n 127: array([171,  29, 148, 219, 182, 113,  59,   5, 130,  62, 145, 131,  54,\n         87,  90, 116,  75, 224,  16, 115, 129, 139,  70, 143, 109, 191,\n         42,  65, 102, 114, 119,  27,  73, 230, 227,  40,  11, 170, 194,\n        228, 103,  31,  64,  26,  25, 193, 146, 225,   9, 157,  34,  74,\n        218,  76,  67, 161,   2,  94,  89, 210,  30, 214,  93,  12, 158,\n        184, 112, 209,  71, 160, 208,   3,  10, 197,  92, 163, 104, 133,\n         43,  14,  39, 220, 108,   1,   7, 106, 168, 202,  49, 212, 198,\n         97,  36,  72, 159, 200,  45,  13,  81,  18,  78,  80,  48, 177,\n        156,  23,   0, 203,  83, 222,  63, 204, 128, 105,  86, 205, 221,\n        132, 226, 199, 150,  37, 216, 166, 162, 165, 211, 151, 180, 186,\n         38, 136, 206, 149, 217, 120, 155,  17,  24,  28, 189, 137,  69,\n         47, 152, 231,  82, 190,  51, 107, 207, 134,  84, 229, 232, 135,\n        178, 118,   8,   6,  50, 213, 215,  96,  56,  61, 175, 173, 185,\n         57, 223, 187, 154, 153, 164,  35,  33,  68,  99,  77, 176,   4,\n        201,  95,  98, 196,  15,  66,  58,  91, 192, 188, 144, 169, 142,\n        141, 110, 183, 100,  55,  22, 101, 140, 111,  41, 179, 123,  79,\n        147, 117,  21,  60,  32, 138,  88,  46,  52, 126,  53, 127, 122,\n        125, 181, 124, 195, 121,  44,  19,  20, 172,  85, 167, 174]),\n 128: array([29, 53, 11, 65, 46, 21, 41,  0, 38, 59, 57, 34, 13, 33, 23,  3, 18,\n         2,  8, 27, 31, 10, 47, 61, 24, 14, 22, 28, 64, 66, 58, 35, 37, 12,\n        51, 36, 55, 60,  9,  4, 45, 42, 25, 62, 32, 71, 44, 67, 63, 54, 15,\n        40,  7, 68,  5, 43, 56, 30, 69, 48, 20, 39, 70, 26, 49, 50,  1, 16,\n        19, 17, 72, 52,  6]),\n 129: array([ 5, 20, 21, 19, 47, 17, 48, 33, 35, 37, 39, 31, 44, 43, 28, 26,  2,\n        22,  7,  6, 16, 13, 15, 38, 29,  1, 45,  3, 18,  4, 46, 30, 24, 23,\n        32, 42, 27, 40, 12,  8, 10, 34, 36,  9, 11, 25, 41,  0, 14]),\n 130: array([ 75, 116, 114,  69,  70, 121, 180, 148, 171,  39, 132,  66,  68,\n        126, 170, 153, 101,  89,  94, 165,  85,  62, 159,  55, 137,  10,\n         90,  11,  40,   9, 102, 145, 156,  74, 105,  71,  14,  15, 140,\n        174,   3,  13,   7, 107,  50, 166, 157, 151,  96, 118,  88, 135,\n        177, 176, 139,  67, 169,  61, 155, 128,  44, 119,  81,  57, 147,\n         95,  99, 173,  27, 138, 131,  23,  12,  28, 161, 160,  58, 110,\n        109, 158,  29, 117,  49, 108,  63,  43, 162,  84,  45,  56, 130,\n         32,  26, 163, 167, 104, 146,  98,  16,  72,   1,  48, 152,  82,\n        100, 124,  76, 115, 136, 127, 122,  79,  30,  17, 103,  87,  19,\n        142,   4,  77,  78,  64, 164, 125, 141, 106,  92,  83,  53,  52,\n        143,  91, 154,  42,  18, 134, 133,  20, 144,  51,  60,  34, 168,\n        150,   8,  21, 113, 112,  31, 175, 129,  41,  38,  47,  73,  93,\n         46,   2, 179,  36,  24,  35,  37, 123,  25,  97,  33,  59,  54,\n          0, 120,  80,  22, 149,   6,   5,  65, 111, 178,  86, 172]),\n 131: array([129,  17, 117,  44,  15,  99,  14,  43, 171,  82,   5, 112, 162,\n         64, 212,  56, 246,  41, 111,  10,  53, 235, 221,  21, 139, 238,\n         57,  92, 104, 137, 107,  24, 158, 128,  48, 101,  96, 161,  65,\n        118, 157,  55,  88,  39, 187, 127,  37, 172, 148, 114, 210,  61,\n         35,  76,  16, 116, 203, 237,   9,  34, 191, 192,  74,   6, 166,\n        100, 109, 141,  51, 241, 147,  40,  81, 245, 159, 113, 146,  97,\n         86, 131, 115,  91, 218,  95, 193, 106, 121,  93, 211,  62,  90,\n        244,  52,  13, 163, 173,  47,   7, 144,  18,  68, 234, 122,  49,\n         79, 124,   2, 110,  19, 175, 201, 190, 149, 126,  77, 153, 225,\n        102, 155, 151, 136, 186,  26, 160,   0,  87,  30, 156,  36,  71,\n        231,   3,  63, 169, 168, 132, 150, 140,  42,  58, 243, 240, 142,\n         11,  20, 165,  23, 219, 184, 220,  25, 183, 170, 197, 108, 208,\n        164, 232,   8, 233,  31,   1, 181, 205,  45,  83, 130, 207,  32,\n        200, 167, 217, 227,  84,   4,  46,  67, 176, 230, 145, 189, 242,\n        177,  38, 194, 229, 213,  70, 204,  29,  33, 239, 133, 216,  94,\n        123, 138, 236,  69, 152, 178, 215,  50, 154, 185, 125, 119,  27,\n        214, 120,  85, 105, 103, 134, 188, 228, 202,  60, 135,  98, 206,\n         73,  12, 209,  54, 222, 196,  78,  28,  66, 198,  22, 223,  80,\n        195,  72,  59,  75, 182, 180, 174, 199, 143,  89, 226, 179, 224]),\n 132: array([12, 31, 46, 19, 45, 21, 24, 27, 22, 10, 32, 28, 29, 26, 23, 17, 43,\n        42,  5, 47, 14,  8,  1, 16,  3, 44,  4,  2, 34, 36, 30, 35, 18, 33,\n         7, 37, 40, 38, 25, 15,  6,  0, 13,  9, 39, 11, 20, 41]),\n 133: array([545, 313, 868,  97, 181, 732, 176, 630,  49, 865, 223, 592, 265,\n        626, 749, 119, 360, 701, 243, 644,  43, 594, 118, 776, 270,  44,\n        412, 532, 159, 558, 634, 842, 466, 554, 621, 703, 128,  64, 745,\n        814, 598, 809, 248, 812, 372, 134, 129, 677, 624,  15, 688, 175,\n        564, 199, 421, 684, 744, 115, 338, 357, 233, 100, 290, 588, 130,\n         30, 304, 773, 264, 232,  91, 138, 719, 608, 534, 562, 694, 782,\n        686, 404, 855, 460, 760, 419, 600, 751, 378, 381, 593, 808, 733,\n        869, 179, 524, 110, 670, 873, 402,  92, 723, 737, 579, 194, 422,\n        352, 543, 711, 780, 263, 174,  29, 649, 197, 218, 615, 400, 607,\n        591, 161, 132, 555,  26, 214,  32, 266, 810, 625, 568,  31, 359,\n        871, 561, 124, 369, 653, 160, 854, 154, 429, 462, 252, 778, 345,\n        287, 581, 323, 837, 267, 137,  45, 403, 761, 527, 526, 497, 234,\n        669,   1, 187, 580, 371, 469,  59, 368, 700, 552, 614, 107, 492,\n        656, 823, 133, 704, 800, 710, 285, 637, 458,  78,  47, 530, 103,\n        121, 301, 765, 423, 250, 142, 185, 604, 501, 407, 446,  69, 805,\n         93, 293, 277, 696, 331, 430, 727,  90, 687, 556,   7,  96, 702,\n        386, 326, 596, 481, 221, 585, 557,  12, 829, 529, 875, 725, 279,\n        456, 673, 173, 467,  53, 576, 477, 217, 122, 106,  20, 515, 289,\n        525, 307, 565, 399, 393, 180, 743, 813, 785, 249, 740, 139,  51,\n        401, 241, 635, 220, 828, 645, 672, 229, 278, 298, 224,  46, 305,\n        391, 291, 382, 346, 628, 303, 642, 709, 235, 310, 370, 396, 496,\n        169, 859,  14, 680, 845, 880, 758, 344,  79, 316, 707, 397, 260,\n        461, 878, 806, 126, 244, 255, 355, 541, 654, 251, 857, 531, 843,\n         88,  58,  66, 439, 200,  77, 297,  67,  13, 116, 491, 284, 188,\n        417,  36, 623, 560, 398, 486,  50, 717,  48, 438, 363, 269, 509,\n        204, 141, 866, 203,  84, 157,  61, 102, 804,  41, 384, 876, 537,\n        182, 406, 507, 131, 408, 520, 143, 237, 517, 675, 444, 651, 296,\n        679, 447, 219,  62, 409,  38, 454, 612, 201, 225, 283, 125, 394,\n        549, 748, 148, 366, 661, 794, 453, 413, 695,  16, 870, 299, 705,\n        308,  10,  24,  25, 494, 590, 791, 343, 777, 799, 648, 340, 328,\n        177,  39,  72, 629, 802,  73,   2, 861, 222, 872, 850,   4, 514,\n        836,  85, 775,  42, 518, 472, 513, 135, 820, 544,  80, 519, 111,\n        747, 523, 206, 428, 227, 306, 485, 230, 236, 294, 196, 499, 803,\n        779,  95, 198, 502, 465, 480, 807,  18, 647, 616,  99, 553,   5,\n        666, 640,  71, 783, 798, 768, 104, 348, 147, 638, 712, 731, 533,\n        376, 767, 602, 109, 636, 874, 254, 112, 189,  83, 668, 503, 315,\n        741,  52, 559, 207, 228, 570, 633, 324, 772,  89, 756, 830, 373,\n        457, 463, 822, 563, 784, 538,  94, 292, 163,  63, 746, 851, 708,\n        123, 377, 339, 655, 699, 730, 759, 643, 692, 150, 392, 153, 632,\n        631, 171, 498, 787, 713, 764, 105, 852, 487, 300, 101, 482, 495,\n        226, 790, 610, 796, 622, 595, 853, 183, 567, 311, 327, 597, 599,\n        734, 395, 884, 350, 151,  82, 864, 127, 603, 282, 280, 832, 314,\n        657,  86, 831, 742, 721, 420, 720,   3, 379, 674, 609,   6, 578,\n        144, 589, 259, 334, 715, 231, 271, 664, 844, 441, 455, 117, 583,\n        646, 390,  57, 471,  17, 433, 325, 432, 574, 663, 650, 152, 464,\n        882, 605, 573, 448, 786,  40, 601, 337, 166, 788,   9, 714, 322,\n         28, 627, 274, 697, 542, 162, 770,  34, 620, 566, 145, 659, 795,\n        754, 883, 321, 281, 405, 682, 683, 238, 718, 190, 652, 261, 689,\n        698, 253, 216, 443,  37, 618, 195, 818, 716, 295,   8, 867, 336,\n        319, 172, 108, 739, 769, 483, 504, 774, 436, 546, 658, 811, 431,\n        500, 771, 693, 330,   0, 317, 815, 333, 489, 246, 140, 414, 389,\n        490, 484, 215, 286, 242, 410,  56,  19, 856, 114, 826, 821, 706,\n        411, 347,  22,  70, 272, 639, 535, 511, 164, 375, 685, 735, 349,\n        726, 478, 762, 211, 149, 245, 342, 881, 728,  75, 332, 619, 302,\n        606, 781, 276, 288, 351, 213, 521, 193, 493, 839, 540, 846, 191,\n         27, 136, 617, 479, 168, 452, 789, 209, 146, 358, 877, 824, 178,\n        817, 335, 586, 470, 753, 738,  76, 641, 863, 671,  74, 584, 426,\n        424, 667, 268, 262, 792, 827, 752, 434, 459, 550, 210, 838, 816,\n        275, 367, 309, 361, 736, 858, 415, 611, 879,  55, 587, 202, 536,\n        729, 425, 522, 763, 862, 755, 569, 575, 240,  60, 572, 548, 354,\n        468, 257, 341, 437, 474, 678, 724, 208, 690,  65, 833, 318, 547,\n        212,  54, 847, 155,  81, 440, 186, 801, 449, 506, 577, 362, 156,\n        512, 662, 582, 445, 819, 353, 473, 835, 528, 165, 256, 539, 665,\n        374, 797, 840, 120, 184, 691, 427, 825,  23,  11, 505,  35, 192,\n         68, 442, 848, 364, 660, 793, 571, 167,  33, 416, 757, 475, 508,\n        365, 329, 158, 450, 418, 451, 766, 320, 676, 841, 613, 681,  87,\n        388, 356,  21, 247, 239, 312, 849, 273, 380, 834, 387,  98, 516,\n        750, 722, 205, 551, 383, 510, 488, 435, 860, 476, 385, 113, 258,\n        170]),\n 134: array([147, 119, 207, 294, 250, 142, 409, 218, 107, 170, 137,  82, 200,\n        470, 141, 202, 401, 264,  49, 223, 344, 179,  16, 373, 226, 132,\n        165, 190, 271, 252, 217,  61, 123, 299, 403, 419, 402,  60, 404,\n        158, 465, 125, 191, 249, 188, 168,  33, 230, 405, 245, 311, 340,\n        228, 317, 154, 460, 244, 238, 365, 166,  28, 461,  17, 287, 227,\n        253, 290,  76, 433, 394, 260, 448, 306, 140, 432,  67,  47, 225,\n        454,  44,   6,  83,  35, 273, 429, 257, 106,  39, 326, 204, 235,\n         59, 280,  54,  30, 186,  38,  71, 313, 122,  65, 110,  95, 308,\n        291, 233, 126, 318, 136, 163, 167, 278,  69,  53, 194, 445, 350,\n        336, 240, 286,  96,  72,  68, 458, 255, 359, 337, 275, 266, 392,\n        347, 177, 451, 214, 462, 162, 197,  97,  27,  50,  63, 367, 411,\n        159, 242,  57,  48, 443, 153, 428, 152, 335,  99, 289, 453,  66,\n        148, 418,  12, 427, 370, 216, 104, 127,  62, 328, 413, 391, 408,\n        338, 420,   5,  42, 374,  32,  80, 183,  74, 396, 446, 164, 383,\n        103, 375, 169,  18, 466, 192, 172, 307, 302, 180, 310, 324,  58,\n        198, 320, 241,  86, 434,  93, 457, 150, 199, 388, 157,  98,  78,\n        231, 201, 406, 327, 193, 417, 384, 181, 430, 469, 293, 282, 379,\n        259, 452, 213, 187, 332,  52, 219, 243, 173, 116, 400,  56, 251,\n        355,  34,  29, 105, 296, 224, 113, 267, 398, 206, 155, 236, 292,\n        203, 288,  70, 390, 184,  24, 176, 437, 276, 274, 263, 146, 322,\n        463, 343,  77, 256, 377,  89, 208, 363,  26, 121,  87, 425, 410,\n         73,   4, 124, 450, 447, 382, 330, 312, 354,  25, 455, 149, 386,\n        395, 423,  64, 414, 178, 215, 381, 156, 269,  45, 438, 248, 309,\n         92, 305, 431,  14, 321, 360,  37, 265, 449, 109, 246, 115, 399,\n        270,  41,  13, 369,  40,  75, 468,   9,  19, 120,  22, 342, 331,\n        100, 101, 258, 285, 171, 145, 358, 334,  88, 436, 440,  36, 239,\n        284, 329,  84, 424, 114, 397, 117, 151,  23, 297, 464, 345,  94,\n        439, 272, 416, 160, 111, 174, 380,  21, 281, 212, 129, 456, 316,\n        133,  90, 441, 349, 323,  55, 444, 421,  91, 130, 118, 371, 144,\n        211, 422, 378, 366, 247, 435, 135, 393, 262, 341, 412, 254, 232,\n        303,  81, 138, 298, 182,  51, 283, 277, 348,  31,  43, 356, 389,\n        261, 295, 351, 108, 333, 357, 131, 415, 372, 387,  79, 368, 268,\n        301,   0, 376, 229, 134, 205, 364, 467, 210, 426, 361,  10, 234,\n         15, 362, 352, 304, 237, 196, 209,   8,  20, 385, 195,   3,   2,\n        353, 189, 442, 222, 112, 346, 220,   7, 102, 161, 279, 459, 300,\n        185, 325, 139, 407, 319, 339, 315,   1,  11, 143, 221, 314,  46,\n        175, 128,  85]),\n 135: array([ 47,  49, 142,  42, 155, 203, 132,  52, 146, 189,  37, 103, 243,\n        205, 131, 240,  86, 158,  87, 175,  71, 227, 242, 216, 195, 187,\n        245,  14,  75, 194,  81,  27, 174, 193,  18, 170, 134, 169, 178,\n          1,  45,  62,  64, 135, 110, 198,  15,  23, 108, 101,  83, 100,\n        208,  25, 109, 254, 137,  41, 147, 210,  38, 105, 206, 149, 121,\n         10,   9, 179, 180, 253,  31, 151, 141, 228, 140, 125, 207,  73,\n         78,  57, 231, 183, 124, 229, 225, 224, 239,  65, 234,  20, 204,\n        232,  72, 196, 150, 136, 127,  12, 199, 176,  79,  13, 209, 116,\n         84,  63,  90, 120, 123,   7,   5,  96,  11,  24, 163,  99,  29,\n         69,  28, 107, 114,  77, 106,  89, 219,  26,  39, 156, 130, 122,\n         76,   3, 251, 250, 220, 235,  88, 161, 214,  21, 118, 168, 133,\n        143,  22, 190, 145, 186,   4, 188, 247, 159, 200, 181,  92, 129,\n        246,  51, 115,  48,  82, 237, 201,  33,  67, 126, 222, 202, 212,\n        177,  46, 252,  44,  43,  34,  56, 217,  54,  17, 244,   2, 167,\n        241, 236, 113,  95,  30, 119,  91, 248,  66, 182,  35, 153, 172,\n        218,  40, 154, 152, 162, 102, 185, 160,  94, 211, 215, 197, 171,\n        164, 233, 223,  19, 104,  55, 165, 117, 238,  68,   0,  58,  70,\n        157,  98,  93,  36, 226, 112,  85, 144,   8,  59, 139, 138, 166,\n        111, 230,  50, 148,  61, 192, 191, 184,  80,  97,  32, 173,  74,\n          6, 213, 221, 128,  16, 249,  53,  60]),\n 136: array([2056,  721,  819, ...,   63, 1578, 1460]),\n 137: array([ 0, 28, 21, 16,  9, 29,  1,  7,  6, 14, 23, 11, 12, 17,  2,  3, 27,\n        20,  5, 18,  4, 13, 15, 30,  8, 24, 25, 22, 19, 10, 26]),\n 138: array([ 82, 112,  50, 115,  47,  31,  71,  10,  80,  34,  90,  87,  30,\n         12, 179, 137,  42,  53,   5, 129,   0, 170,  62, 182, 133, 168,\n        131, 119, 107, 118, 108, 205,  17,  63, 195,  96, 127, 152, 155,\n        120, 126, 153, 189,  41, 192, 193, 191,  77,  75, 142, 175,  94,\n        105,  89, 178,  35,  72, 141, 111,  20, 154, 197,  67, 151, 198,\n         59, 104, 177,  40,  84,  27, 139, 143,  24, 187, 188, 144, 185,\n         88, 102, 173,  13, 148, 147,   4, 194, 181,  98, 135, 158,  11,\n        150,  23,  86, 180, 136, 121,   9,  28,  68,  83,  85,  52, 176,\n         37,  79, 165, 101, 134,   1, 106,  76, 196, 161,  70, 163,  43,\n        109, 146,  66,  57,  49, 100, 204,  78,  61, 162, 113, 116,  65,\n         14,  46, 201,  38, 190, 200,  91,   2, 114, 172, 169,   8,  15,\n         16, 202, 166, 203, 171, 167,  58, 103, 145, 110,  74,   6,  25,\n        117, 157, 199,  93, 156,  97,  21,   3,  95,  64, 138, 184, 159,\n         32,  19,  54, 149, 128, 123, 164, 124,  33,  55,  26, 174,  29,\n         22,  92, 186, 183, 160,  56,  36,  81,   7, 122,  48,  73,  45,\n         39,  18,  44,  69, 140,  99, 130,  51,  60, 125, 132]),\n 139: array([68, 38, 24, 13, 71,  9, 32, 31, 41, 15, 57, 67, 35, 51, 34, 59, 28,\n        61,  1, 23, 48, 45,  3, 26, 42, 17, 21, 70, 14, 54, 29, 36, 12, 63,\n        19,  8,  7,  0, 64,  4, 33, 44, 37, 30, 66, 58, 62, 50, 18, 20,  6,\n        22, 60, 25, 56, 47, 11, 10, 46, 40, 69, 72, 52, 43, 53,  2, 55, 16,\n        27,  5, 49, 39, 65]),\n 140: array([23, 20, 13, 11, 10, 17, 21, 18, 22, 24, 26, 12, 25,  3,  2,  4,  7,\n        16, 19, 15,  9,  6,  1,  0,  5, 14,  8]),\n 141: array([ 54,  43,  90,  38,  86, 186, 150,  17, 181, 125,  73,  16, 240,\n        178,  85,   7, 215, 209, 249, 232, 214, 231,  27,  14,   8, 147,\n        116, 213, 162, 190,  74, 101, 172,  33, 120,  44,  30, 169,  48,\n        221,  82, 177, 152, 118, 108, 243, 261, 220, 182,  40,  79, 127,\n        187, 159,  80, 171, 192,  46, 223,  99,  26,  34,  98, 155,  70,\n        173, 260, 216, 136, 123, 202, 183, 153,  77,  78, 111,  50, 205,\n        193, 179, 165, 208, 225, 133, 184, 154, 185, 109,  25,  97,  37,\n         88,  45,  72,  11, 122,  67,  15, 204,   1, 119, 201, 219,   5,\n        137,  53, 141, 236,  66,  75,  94, 139, 244,  63, 126,  62,  83,\n        176, 191, 217, 227, 233,  55, 102, 138, 222, 199,  49,  95,  61,\n        210,  52, 196, 142,  24, 124, 146, 110, 264,  76,  51,  13, 166,\n        197,   4, 135, 100,  69, 229, 234,  21, 200,  20, 259, 242, 253,\n        255, 265, 131, 257, 203, 151, 246, 239, 218,  91,  87, 224, 258,\n        145,  84,   6, 241,  89, 148, 230, 226, 170, 180, 211, 167, 113,\n        132,  65, 157,  36, 174, 140,  64, 212,  31, 256,  29, 144, 252,\n        250, 106,  96, 112, 114, 149, 128, 158, 130, 163,  68,  35, 188,\n        263,  60,  58,  42, 115, 117, 247, 156,  39, 105, 195,  10, 104,\n        103,  19, 107,  47,  32,   3,  18, 198,  56, 228, 189,  92,   2,\n          0, 207, 134, 143, 129,  41,  23, 248, 206,  71,  59, 194, 251,\n         93,  22,  28, 245, 237, 175,  12, 160, 161, 235, 121,  57, 164,\n         81, 254, 168, 262, 238,   9]),\n 142: array([6, 4, 0, 3, 5, 1, 2]),\n 143: array([2, 0, 1, 3]),\n 144: array([16, 31, 28, 24, 23,  1, 11, 33, 22, 18, 13, 21, 10,  0,  8,  5, 32,\n        25, 20,  4,  2, 17,  3, 14,  9, 12,  7, 26, 19, 29, 27, 15, 30,  6]),\n 145: array([ 6,  7,  2,  4,  5,  0,  1,  3,  9, 10, 11,  8]),\n 146: array([59, 14, 47,  3, 17, 52, 56, 44, 12,  0, 31,  7, 25, 41, 36, 39, 21,\n         9, 19,  2,  4, 34, 43, 50, 11, 46, 29, 58,  6, 24, 18, 35, 54, 38,\n        27, 16, 51, 30,  5, 22, 48,  8, 13, 15, 57, 33, 10, 28, 40, 49, 20,\n        42, 37, 55,  1, 32, 45, 23, 53, 26]),\n 147: array([ 8, 18, 19, 21, 10, 20, 12, 23, 14, 13, 16, 15,  6,  2,  0,  1,  4,\n         5,  3, 17, 11,  9, 22,  7]),\n 148: array([174, 365, 331, 104,  93, 378,  43,  81, 220, 429, 381,  50, 267,\n        272, 111,  51,  16, 318,  17, 439, 286, 281, 400, 414,  33, 166,\n        199, 196,  49, 183,  96,  91, 430, 238, 310, 315, 363, 307, 179,\n        390, 402, 211, 401, 383, 188, 334,  27, 206, 314, 173, 282, 332,\n        273, 398, 253, 357, 417, 359, 124, 165, 157, 239, 313,  12, 133,\n        195, 191,  24, 233, 261, 341, 340,  74,  63, 362, 251,  25,  30,\n        375, 302, 116,  55, 141, 259, 405, 438, 240, 106, 395,  85,  78,\n        150, 387, 254, 115,  67, 138,  28,  80, 393, 163, 374, 361, 279,\n        413,  75, 268, 139, 207, 218, 119, 360, 434, 236, 308, 388, 351,\n        217, 380,  65, 353, 415, 320,  39, 330, 170, 304,  11, 222, 408,\n        140, 219, 248, 213, 303, 337, 435, 278, 423, 379, 290, 132, 376,\n        184, 336,  84, 369, 168, 105, 327, 312, 403, 287,  48, 231, 226,\n         72, 354, 358, 266, 428, 345, 321, 397,   8, 117, 411, 249, 328,\n        322, 372,  41, 392, 181,  29, 245, 255, 292, 356, 123, 200, 407,\n        148, 355, 224, 144,  86, 120, 323,  60, 311, 158, 125, 237, 194,\n        291, 235, 433,  35, 440, 100, 426,  95, 300, 159, 145, 214, 347,\n        425, 169, 271,  58, 329, 204,   4,  37, 109, 108, 319, 263, 317,\n        212,   2, 136,  94, 349,  77,  73,  64, 129, 151, 215,  38, 325,\n        182, 339, 177, 422, 436, 421, 419, 371, 210, 216, 342, 112, 274,\n         99, 324, 391, 205,   6, 284, 190, 406, 244,  87, 283, 269, 288,\n        227, 189, 101, 326, 427, 103,  83, 346,  26,  42, 113,  57, 416,\n        134,  18, 201, 209,  61, 257, 389, 299, 102, 203, 187, 420, 368,\n        373, 424,  76,  13, 265, 296, 295,  79, 198, 131, 338, 410, 366,\n        306,  59,  21, 197, 297, 127,  46, 118,  10, 202, 280, 232, 152,\n        221, 167, 409, 160,  19, 343, 437, 335, 418, 243, 264, 404,  23,\n         45, 121, 114, 289, 256, 370, 431, 252,  90,  98, 247, 180, 154,\n        301, 384, 396,  20,   5, 175, 285, 143, 294, 262,  22, 399, 309,\n        147,   0,  70, 250, 186, 172, 110, 364, 385, 178,  40,  97, 146,\n         15, 350,   9, 130, 260, 164, 142, 394, 162,  71,   7, 171, 348,\n         53, 156, 225,  89, 277,  69, 234, 377, 155,  52,  66, 344, 367,\n        135,  82, 386, 122, 333,  92, 107, 192, 412,  54,  31, 241, 137,\n        128,  56,   1, 293,  62, 126, 352, 246, 223, 432, 275, 276, 258,\n         36, 298, 242,  32, 185,  44,  68,   3,  34, 316,  88,  47, 149,\n        305,  14, 229, 228, 193, 161, 230, 176, 382, 208, 153, 270]),\n 149: array([ 36,  87, 157,  54,  30,  48,  94,  53, 106,  42, 114,  58,  61,\n         31,  86,  85,  83,  55,  56,  60,  57, 124,  68,  34,  47,  76,\n          0,  24,  27, 117, 146, 139,  13,  51, 103, 120, 142,  44, 136,\n         84, 128,  49, 127,  19,   6, 126,  26, 151, 154,  99,  69,  35,\n         50, 155, 102, 153,  15, 109,  72,  77,  59,  62,  37,  75,  95,\n        150, 137,  74,  73,  33, 113, 104,  16, 145, 101, 131, 110,  38,\n        140,  80, 148, 122, 107,  21, 149, 141, 144, 116, 134, 143, 135,\n         18, 108,  25,  23, 133,  40,   1,  12,  39,  14, 138, 119, 118,\n        156,  20,   9,   8, 130, 129,   2,  79, 112,  32, 125,  28,  11,\n         46,   4, 152,  17,  52,  43,  22,  29,  71,  81,  66,  70,   3,\n         10,  88,   7,  65,  97,  89, 123,  96,  63,  91,  67, 105,  90,\n        100,  93,  92,  41, 132, 121, 147, 115,  82,  78,   5,  64,  45,\n        111,  98])}"
     },
     "execution_count": 31,
     "metadata": {},
     "output_type": "execute_result"
    }
   ],
   "source": [
    "reassignment_computation.cluster_order"
   ],
   "metadata": {
    "collapsed": false,
    "ExecuteTime": {
     "end_time": "2023-09-02T15:32:20.805549939Z",
     "start_time": "2023-09-02T15:32:20.640466095Z"
    }
   },
   "id": "e8945bdfa2eb439e"
  },
  {
   "cell_type": "code",
   "execution_count": 32,
   "outputs": [
    {
     "name": "stdout",
     "output_type": "stream",
     "text": [
      "INFO: Saving medoids and cluster order to /home/sebaq/Documents/GitHub/IR_project/dataset/tiny/reassignment_order.json \n"
     ]
    }
   ],
   "source": [
    "reassignment_computation.save_order()"
   ],
   "metadata": {
    "collapsed": false,
    "ExecuteTime": {
     "end_time": "2023-09-02T15:32:21.980664577Z",
     "start_time": "2023-09-02T15:32:21.898856503Z"
    }
   },
   "id": "1160c29eb20b0dd1"
  },
  {
   "cell_type": "code",
   "execution_count": 33,
   "outputs": [
    {
     "data": {
      "text/plain": "DocIdReassignment[Items: 50000]"
     },
     "execution_count": 33,
     "metadata": {},
     "output_type": "execute_result"
    }
   ],
   "source": [
    "from model.reassignment import DocIdReassignment\n",
    "\n",
    "docs_reassignment = DocIdReassignment(\n",
    "    collection=collection,\n",
    "    labeling=labeling,\n",
    "    medoids_order=reassignment_computation.medoids_order,\n",
    "    clusters_order=reassignment_computation.cluster_order,\n",
    "    data_name=config.name\n",
    ")\n",
    "\n",
    "docs_reassignment"
   ],
   "metadata": {
    "collapsed": false,
    "ExecuteTime": {
     "end_time": "2023-09-02T15:32:23.068434099Z",
     "start_time": "2023-09-02T15:32:22.966127315Z"
    }
   },
   "id": "d20010e17022bd70"
  },
  {
   "cell_type": "code",
   "execution_count": 34,
   "outputs": [
    {
     "data": {
      "text/plain": "DataCollection [Docs: 50000; Terms: 14980; Nonzero: 1314210]"
     },
     "execution_count": 34,
     "metadata": {},
     "output_type": "execute_result"
    }
   ],
   "source": [
    "collection_reass = docs_reassignment.reassign_doc_id()\n",
    "\n",
    "collection_reass"
   ],
   "metadata": {
    "collapsed": false,
    "ExecuteTime": {
     "end_time": "2023-09-02T15:32:23.732692194Z",
     "start_time": "2023-09-02T15:32:23.623763366Z"
    }
   },
   "id": "b8011a5ae5f7de8d"
  },
  {
   "cell_type": "code",
   "execution_count": 35,
   "outputs": [
    {
     "data": {
      "text/plain": "DGapComputation(tiny)[Docs: 50000; Terms: 14980; Computed: False]"
     },
     "execution_count": 35,
     "metadata": {},
     "output_type": "execute_result"
    }
   ],
   "source": [
    "from model.d_gap import DGapComputationReassigned\n",
    "\n",
    "dgap_reass = DGapComputationReassigned(collection=collection_reass, data_name=config.name)\n",
    "dgap_reass"
   ],
   "metadata": {
    "collapsed": false,
    "ExecuteTime": {
     "end_time": "2023-09-02T15:32:24.610674141Z",
     "start_time": "2023-09-02T15:32:24.539067806Z"
    }
   },
   "id": "50b315a2e4c739e7"
  },
  {
   "cell_type": "code",
   "execution_count": 36,
   "outputs": [
    {
     "name": "stdout",
     "output_type": "stream",
     "text": [
      "INFO: Information not present at /home/sebaq/Documents/GitHub/IR_project/dataset/tiny/avg_d_gap_reassigned.json. \n",
      "INFO: Computing average d-gap per term. \n"
     ]
    },
    {
     "name": "stderr",
     "output_type": "stream",
     "text": [
      "100%|██████████| 50000/50000 [00:02<00:00, 17912.41it/s]\n"
     ]
    }
   ],
   "source": [
    "dgap_reass.compute_d_gaps()"
   ],
   "metadata": {
    "collapsed": false,
    "ExecuteTime": {
     "end_time": "2023-09-02T15:32:28.095978831Z",
     "start_time": "2023-09-02T15:32:25.221800446Z"
    }
   },
   "id": "c5fbdd944dee545b"
  },
  {
   "cell_type": "markdown",
   "source": [
    "## 8. Inference"
   ],
   "metadata": {
    "collapsed": false
   },
   "id": "aa5f153452c68903"
  },
  {
   "cell_type": "code",
   "execution_count": 37,
   "outputs": [
    {
     "name": "stdout",
     "output_type": "stream",
     "text": [
      "INFO: Average d-gaps already computed. Use `gaps_stats` to retrieve them. \n",
      "INFO: Average d-gaps already computed. Use `gaps_stats` to retrieve them. \n"
     ]
    },
    {
     "data": {
      "text/plain": "DGapInference[Terms: 14980]"
     },
     "execution_count": 37,
     "metadata": {},
     "output_type": "execute_result"
    }
   ],
   "source": [
    "from model.d_gap import DGapInference\n",
    "\n",
    "inference = DGapInference(d_gap_original=dgap, d_gap_reassigned=dgap_reass)\n",
    "inference"
   ],
   "metadata": {
    "collapsed": false,
    "ExecuteTime": {
     "end_time": "2023-09-02T15:32:29.172883524Z",
     "start_time": "2023-09-02T15:32:29.123636703Z"
    }
   },
   "id": "62d20b2f8a729eda"
  },
  {
   "cell_type": "code",
   "execution_count": 44,
   "outputs": [
    {
     "data": {
      "text/plain": "9.563052687654361"
     },
     "execution_count": 44,
     "metadata": {},
     "output_type": "execute_result"
    }
   ],
   "source": [
    "inference.avg_compression"
   ],
   "metadata": {
    "collapsed": false,
    "ExecuteTime": {
     "end_time": "2023-09-02T15:33:16.913308554Z",
     "start_time": "2023-09-02T15:33:16.829319353Z"
    }
   },
   "id": "4616961e8f3f6ef"
  }
 ],
 "metadata": {
  "kernelspec": {
   "display_name": "Python 3",
   "language": "python",
   "name": "python3"
  },
  "language_info": {
   "codemirror_mode": {
    "name": "ipython",
    "version": 2
   },
   "file_extension": ".py",
   "mimetype": "text/x-python",
   "name": "python",
   "nbconvert_exporter": "python",
   "pygments_lexer": "ipython2",
   "version": "2.7.6"
  }
 },
 "nbformat": 4,
 "nbformat_minor": 5
}
