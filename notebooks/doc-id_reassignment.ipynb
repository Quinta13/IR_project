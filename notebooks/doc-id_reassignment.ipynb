{
 "cells": [
  {
   "cell_type": "code",
   "execution_count": 1,
   "outputs": [],
   "source": [
    "%load_ext autoreload\n",
    "%autoreload 2"
   ],
   "metadata": {
    "collapsed": false,
    "ExecuteTime": {
     "end_time": "2023-09-03T15:47:05.435960227Z",
     "start_time": "2023-09-03T15:47:05.435407192Z"
    }
   },
   "id": "9c7638612fbd96e6"
  },
  {
   "cell_type": "markdown",
   "source": [
    "# Doc-ID Reassignment"
   ],
   "metadata": {
    "collapsed": false
   },
   "id": "3ac4509c63feb482"
  },
  {
   "cell_type": "markdown",
   "source": [
    "## 1. Data download"
   ],
   "metadata": {
    "collapsed": false
   },
   "id": "f4fb565167dd2a41"
  },
  {
   "cell_type": "markdown",
   "source": [
    "We download [RCV1 dataset](https://paperswithcode.com/dataset/rcv1), in particular we use tf-idf representation from [sklearn](https://scikit-learn.org/0.18/datasets/rcv1.html)."
   ],
   "metadata": {
    "collapsed": false
   },
   "id": "95d720c3bca2580e"
  },
  {
   "cell_type": "code",
   "execution_count": 2,
   "outputs": [
    {
     "data": {
      "text/plain": "RCV1Downloader [File: /home/sebaq/Documents/GitHub/IR_project/dataset/data.npz; Downloaded: True]"
     },
     "execution_count": 2,
     "metadata": {},
     "output_type": "execute_result"
    }
   ],
   "source": [
    "from model.rcv1 import RCV1Downloader\n",
    "\n",
    "downloader = RCV1Downloader()\n",
    "downloader"
   ],
   "metadata": {
    "collapsed": false,
    "ExecuteTime": {
     "end_time": "2023-09-03T15:47:08.204530941Z",
     "start_time": "2023-09-03T15:47:06.474897458Z"
    }
   },
   "id": "initial_id"
  },
  {
   "cell_type": "markdown",
   "source": [
    "### Download"
   ],
   "metadata": {
    "collapsed": false
   },
   "id": "314e525e41fad80f"
  },
  {
   "cell_type": "code",
   "execution_count": 3,
   "outputs": [
    {
     "name": "stdout",
     "output_type": "stream",
     "text": [
      "CPU times: user 111 µs, sys: 26 µs, total: 137 µs\n",
      "Wall time: 117 µs\n"
     ]
    }
   ],
   "source": [
    "%%time\n",
    "\n",
    "downloader.download()"
   ],
   "metadata": {
    "collapsed": false,
    "ExecuteTime": {
     "end_time": "2023-09-03T15:47:08.882466826Z",
     "start_time": "2023-09-03T15:47:08.824579024Z"
    }
   },
   "id": "2a248e270f782453"
  },
  {
   "cell_type": "markdown",
   "source": [
    "## 2. Data Loading"
   ],
   "metadata": {
    "collapsed": false
   },
   "id": "fc1f72e2b1d8e8c5"
  },
  {
   "cell_type": "markdown",
   "source": [
    "### Create configurations"
   ],
   "metadata": {
    "collapsed": false
   },
   "id": "801ce68938282d60"
  },
  {
   "cell_type": "code",
   "execution_count": 4,
   "outputs": [
    {
     "data": {
      "text/plain": "full [Docs: all; Terms: all; N-Clusters: 150]"
     },
     "execution_count": 4,
     "metadata": {},
     "output_type": "execute_result"
    }
   ],
   "source": [
    "from model.rcv1 import DataConfig\n",
    "\n",
    "config = DataConfig(name=\"full\", n_cluster=150)\n",
    "config"
   ],
   "metadata": {
    "collapsed": false,
    "ExecuteTime": {
     "end_time": "2023-09-03T15:47:09.464598372Z",
     "start_time": "2023-09-03T15:47:09.390909488Z"
    }
   },
   "id": "19e18659e55e4567"
  },
  {
   "cell_type": "markdown",
   "source": [
    "### Loader instance"
   ],
   "metadata": {
    "collapsed": false
   },
   "id": "99055d49a6dea3d1"
  },
  {
   "cell_type": "code",
   "execution_count": 5,
   "outputs": [
    {
     "data": {
      "text/plain": "RCV1Loader [File: /home/sebaq/Documents/GitHub/IR_project/dataset/data.npz]"
     },
     "execution_count": 5,
     "metadata": {},
     "output_type": "execute_result"
    }
   ],
   "source": [
    "from model.rcv1 import RCV1Loader\n",
    "\n",
    "loader = RCV1Loader()\n",
    "loader"
   ],
   "metadata": {
    "collapsed": false,
    "ExecuteTime": {
     "end_time": "2023-09-03T15:47:15.507834297Z",
     "start_time": "2023-09-03T15:47:10.147334934Z"
    }
   },
   "id": "c5222b8cad65e23d"
  },
  {
   "cell_type": "markdown",
   "source": [
    "### Load"
   ],
   "metadata": {
    "collapsed": false
   },
   "id": "ee3c01fe780f32c3"
  },
  {
   "cell_type": "code",
   "execution_count": 6,
   "outputs": [
    {
     "data": {
      "text/plain": "DataCollection [Docs: 804414; Terms: 47219; Nonzero: 60915113]"
     },
     "execution_count": 6,
     "metadata": {},
     "output_type": "execute_result"
    }
   ],
   "source": [
    "collection = loader.load(n_docs=config.docs, n_terms=config.terms)\n",
    "collection"
   ],
   "metadata": {
    "collapsed": false,
    "ExecuteTime": {
     "end_time": "2023-09-03T15:47:17.385927153Z",
     "start_time": "2023-09-03T15:47:15.510828748Z"
    }
   },
   "id": "39a7711f76e2002"
  },
  {
   "cell_type": "markdown",
   "source": [
    "## 3. Computing *d*-gap"
   ],
   "metadata": {
    "collapsed": false
   },
   "id": "5a54b8b28e629bfc"
  },
  {
   "cell_type": "code",
   "execution_count": 7,
   "outputs": [
    {
     "data": {
      "text/plain": "DGapComputation(full)[Docs: 804414; Terms: 47219; Computed: False]"
     },
     "execution_count": 7,
     "metadata": {},
     "output_type": "execute_result"
    }
   ],
   "source": [
    "from model.d_gap import DGapComputation\n",
    "\n",
    "dgap = DGapComputation(collection=collection, data_name=config.name)\n",
    "dgap"
   ],
   "metadata": {
    "collapsed": false,
    "ExecuteTime": {
     "end_time": "2023-09-03T15:47:18.758301764Z",
     "start_time": "2023-09-03T15:47:18.164494020Z"
    }
   },
   "id": "fd668eae7d693548"
  },
  {
   "cell_type": "markdown",
   "source": [
    "### Compute *d*-gap statistics"
   ],
   "metadata": {
    "collapsed": false
   },
   "id": "4c54982378f890ef"
  },
  {
   "cell_type": "code",
   "execution_count": 8,
   "outputs": [],
   "source": [
    "dgap.compute_d_gaps()"
   ],
   "metadata": {
    "collapsed": false,
    "ExecuteTime": {
     "end_time": "2023-09-03T15:47:19.448978283Z",
     "start_time": "2023-09-03T15:47:19.402005952Z"
    }
   },
   "id": "5025083ec9c698c1"
  },
  {
   "cell_type": "code",
   "execution_count": 9,
   "outputs": [
    {
     "data": {
      "text/plain": "array([10, 11, 11, ..., 88, 72, 80])"
     },
     "execution_count": 9,
     "metadata": {},
     "output_type": "execute_result"
    }
   ],
   "source": [
    "avg_d_gaps = dgap.avg_d_gap_pterm\n",
    "avg_d_gaps"
   ],
   "metadata": {
    "collapsed": false,
    "ExecuteTime": {
     "end_time": "2023-09-03T15:47:19.774081939Z",
     "start_time": "2023-09-03T15:47:19.705010135Z"
    }
   },
   "id": "37c9dcec60117596"
  },
  {
   "cell_type": "markdown",
   "source": [
    "### Average *d*-gap per term plot"
   ],
   "metadata": {
    "collapsed": false
   },
   "id": "f637968f779dd92d"
  },
  {
   "cell_type": "code",
   "execution_count": 10,
   "outputs": [
    {
     "data": {
      "text/plain": "<Figure size 640x480 with 1 Axes>",
      "image/png": "[encoded data removed]"
     },
     "metadata": {},
     "output_type": "display_data"
    }
   ],
   "source": [
    "dgap.plot_avg_d_gap()"
   ],
   "metadata": {
    "collapsed": false,
    "ExecuteTime": {
     "end_time": "2023-09-03T15:47:20.818588825Z",
     "start_time": "2023-09-03T15:47:20.463300237Z"
    }
   },
   "id": "3f24cfd195a1b945"
  },
  {
   "cell_type": "markdown",
   "source": [
    "### Average *d*-gap"
   ],
   "metadata": {
    "collapsed": false
   },
   "id": "ade1fcb21f018176"
  },
  {
   "cell_type": "code",
   "execution_count": 11,
   "outputs": [
    {
     "data": {
      "text/plain": "67.08168322073742"
     },
     "execution_count": 11,
     "metadata": {},
     "output_type": "execute_result"
    }
   ],
   "source": [
    "dgap.avg_d_gap"
   ],
   "metadata": {
    "collapsed": false,
    "ExecuteTime": {
     "end_time": "2023-09-03T15:47:21.979515604Z",
     "start_time": "2023-09-03T15:47:21.908652301Z"
    }
   },
   "id": "4ebc74a16c50989d"
  },
  {
   "cell_type": "markdown",
   "source": [
    "### Save statistics"
   ],
   "metadata": {
    "collapsed": false
   },
   "id": "cf99f4647fd60a13"
  },
  {
   "cell_type": "code",
   "execution_count": 12,
   "outputs": [],
   "source": [
    "dgap.save_d_gaps()"
   ],
   "metadata": {
    "collapsed": false,
    "ExecuteTime": {
     "end_time": "2023-09-03T15:47:22.900276739Z",
     "start_time": "2023-09-03T15:47:22.845859327Z"
    }
   },
   "id": "5c6ea0c4b08c7300"
  },
  {
   "cell_type": "markdown",
   "source": [
    "## 5. Clustering"
   ],
   "metadata": {
    "collapsed": false
   },
   "id": "a151098759397620"
  },
  {
   "cell_type": "markdown",
   "source": [
    "### Compute number of clusters"
   ],
   "metadata": {
    "collapsed": false
   },
   "id": "7d2e3b6feeed17a9"
  },
  {
   "cell_type": "code",
   "execution_count": 13,
   "outputs": [
    {
     "data": {
      "text/plain": "150"
     },
     "execution_count": 13,
     "metadata": {},
     "output_type": "execute_result"
    }
   ],
   "source": [
    "n_cluster = config.n_cluster\n",
    "n_cluster"
   ],
   "metadata": {
    "collapsed": false,
    "ExecuteTime": {
     "end_time": "2023-09-03T15:47:24.232990168Z",
     "start_time": "2023-09-03T15:47:24.168999592Z"
    }
   },
   "id": "f74aabc3e6e41f58"
  },
  {
   "cell_type": "markdown",
   "source": [
    "### Create K-Means instance"
   ],
   "metadata": {
    "collapsed": false
   },
   "id": "40abac39414bdae6"
  },
  {
   "cell_type": "code",
   "execution_count": 14,
   "outputs": [
    {
     "data": {
      "text/plain": "KMeansClustering(full)[Items: 804414; k: 150; Labeling computed: False]"
     },
     "execution_count": 14,
     "metadata": {},
     "output_type": "execute_result"
    }
   ],
   "source": [
    "from model.clustering import KMeansClustering\n",
    "\n",
    "kmeans = KMeansClustering(collection=collection, data_name=config.name, k=n_cluster)\n",
    "kmeans"
   ],
   "metadata": {
    "collapsed": false,
    "ExecuteTime": {
     "end_time": "2023-09-03T15:47:25.183531709Z",
     "start_time": "2023-09-03T15:47:24.886305330Z"
    }
   },
   "id": "1cd9bac9fd1d080b"
  },
  {
   "cell_type": "code",
   "execution_count": 15,
   "outputs": [],
   "source": [
    "kmeans.fit()"
   ],
   "metadata": {
    "collapsed": false,
    "ExecuteTime": {
     "end_time": "2023-09-03T15:47:25.628426971Z",
     "start_time": "2023-09-03T15:47:25.428594275Z"
    }
   },
   "id": "b1c49945a21bde03"
  },
  {
   "cell_type": "code",
   "execution_count": 16,
   "outputs": [
    {
     "data": {
      "text/plain": "array([99, 81, 11, ..., 44,  5, 22])"
     },
     "execution_count": 16,
     "metadata": {},
     "output_type": "execute_result"
    }
   ],
   "source": [
    "labeling = kmeans.labeling\n",
    "labeling"
   ],
   "metadata": {
    "collapsed": false,
    "ExecuteTime": {
     "end_time": "2023-09-03T15:47:25.866351970Z",
     "start_time": "2023-09-03T15:47:25.820645Z"
    }
   },
   "id": "961db9d569348025"
  },
  {
   "cell_type": "code",
   "execution_count": 17,
   "outputs": [],
   "source": [
    "kmeans.save_labeling()"
   ],
   "metadata": {
    "collapsed": false,
    "ExecuteTime": {
     "end_time": "2023-09-03T15:47:26.516639074Z",
     "start_time": "2023-09-03T15:47:26.141334095Z"
    }
   },
   "id": "c35baeac9d3a5592"
  },
  {
   "cell_type": "markdown",
   "source": [
    "## 6. Cluster split"
   ],
   "metadata": {
    "collapsed": false
   },
   "id": "79a26eb9438114db"
  },
  {
   "cell_type": "markdown",
   "source": [
    "### Get CollectionCluster instance"
   ],
   "metadata": {
    "collapsed": false
   },
   "id": "45e097f4ffc1ab8e"
  },
  {
   "cell_type": "code",
   "execution_count": 18,
   "outputs": [
    {
     "data": {
      "text/plain": "RCV1Clusters(full)[Data: 804414, Clusters: 150, Mean-per-Cluster: 5362.760; centroids computed: False]"
     },
     "execution_count": 18,
     "metadata": {},
     "output_type": "execute_result"
    }
   ],
   "source": [
    "collection_clusters = kmeans.clusters\n",
    "\n",
    "collection_clusters"
   ],
   "metadata": {
    "collapsed": false,
    "ExecuteTime": {
     "end_time": "2023-09-03T15:47:28.066569709Z",
     "start_time": "2023-09-03T15:47:27.288563839Z"
    }
   },
   "id": "1e921e3f48852cab"
  },
  {
   "cell_type": "markdown",
   "source": [
    "### Compute centroids"
   ],
   "metadata": {
    "collapsed": false
   },
   "id": "a31846f8eb6d0899"
  },
  {
   "cell_type": "code",
   "execution_count": 19,
   "outputs": [],
   "source": [
    "collection_clusters.compute_centroids()"
   ],
   "metadata": {
    "collapsed": false,
    "ExecuteTime": {
     "end_time": "2023-09-03T15:47:28.264376038Z",
     "start_time": "2023-09-03T15:47:28.068186521Z"
    }
   },
   "id": "247148a04419a864"
  },
  {
   "cell_type": "code",
   "execution_count": 20,
   "outputs": [
    {
     "data": {
      "text/plain": "array([[0.00478897, 0.00595373, 0.00264883, ..., 0.        , 0.        ,\n        0.        ],\n       [0.        , 0.        , 0.        , ..., 0.        , 0.        ,\n        0.        ],\n       [0.        , 0.        , 0.        , ..., 0.        , 0.        ,\n        0.        ],\n       ...,\n       [0.        , 0.        , 0.        , ..., 0.        , 0.        ,\n        0.        ],\n       [0.        , 0.        , 0.05267117, ..., 0.        , 0.        ,\n        0.        ],\n       [0.        , 0.00144668, 0.01232186, ..., 0.        , 0.        ,\n        0.        ]])"
     },
     "execution_count": 20,
     "metadata": {},
     "output_type": "execute_result"
    }
   ],
   "source": [
    "centroids = collection_clusters.centroids\n",
    "centroids"
   ],
   "metadata": {
    "collapsed": false,
    "ExecuteTime": {
     "end_time": "2023-09-03T15:47:28.422341559Z",
     "start_time": "2023-09-03T15:47:28.348797017Z"
    }
   },
   "id": "45d306c8cf45c8bf"
  },
  {
   "cell_type": "code",
   "execution_count": 21,
   "outputs": [],
   "source": [
    "collection_clusters.save_centroids()"
   ],
   "metadata": {
    "collapsed": false,
    "ExecuteTime": {
     "end_time": "2023-09-03T15:47:53.345664841Z",
     "start_time": "2023-09-03T15:47:53.340397713Z"
    }
   },
   "id": "2fd22cea20383fa7"
  },
  {
   "cell_type": "markdown",
   "source": [
    "## 7. doc-*ID* reassignment"
   ],
   "metadata": {
    "collapsed": false
   },
   "id": "1ec9c36886e41b99"
  },
  {
   "cell_type": "code",
   "execution_count": 22,
   "outputs": [
    {
     "data": {
      "text/plain": "DocIdReassignment(full)[Items: 804414]"
     },
     "execution_count": 22,
     "metadata": {},
     "output_type": "execute_result"
    }
   ],
   "source": [
    "from model.reassignment import DocIdReassignment\n",
    "\n",
    "reassignment_computation = DocIdReassignment(\n",
    "    cluster=collection_clusters,\n",
    "    data_name=config.name\n",
    ")\n",
    "\n",
    "reassignment_computation"
   ],
   "metadata": {
    "collapsed": false,
    "ExecuteTime": {
     "end_time": "2023-09-03T15:47:53.346985106Z",
     "start_time": "2023-09-03T15:47:53.342174078Z"
    }
   },
   "id": "aaeb1a81441d2a84"
  },
  {
   "cell_type": "code",
   "execution_count": 23,
   "outputs": [],
   "source": [
    "reassignment_computation.solve()"
   ],
   "metadata": {
    "collapsed": false,
    "ExecuteTime": {
     "end_time": "2023-09-03T15:47:53.542136759Z",
     "start_time": "2023-09-03T15:47:53.342598222Z"
    }
   },
   "id": "cbb7dabaaa796c19"
  },
  {
   "cell_type": "code",
   "execution_count": 24,
   "outputs": [
    {
     "data": {
      "text/plain": "array([  2, 149, 148, 147, 146, 145, 144, 143, 142, 141, 140, 139, 138,\n       137, 136, 135, 134, 133, 132, 131, 130, 129, 128, 127, 126, 125,\n       124, 123, 122, 121, 120, 119, 118, 117, 116, 115, 114, 113, 112,\n       111, 110, 109, 108, 107, 106, 105, 104, 103, 102, 101, 100,  99,\n        98,  97,  96,  95,  94,  93,  92,  91,  90,  89,  88,  87,  86,\n        85,  84,  83,  82,  81,  80,  79,  78,  77,  76,  75,  74,  73,\n        72,  71,  70,  69,  68,  67,  66,  65,  64,  63,  62,  61,  60,\n        59,  58,  57,  56,  55,  54,  53,  52,  51,  50,  49,  48,  47,\n        46,  45,  44,  43,  42,  41,  40,  39,  38,  37,  36,  35,  34,\n        33,  32,  31,  30,  29,  28,  27,  26,  25,  24,  23,  22,  21,\n        20,  19,  18,  17,  16,  15,  14,  13,  12,  11,  10,   9,   8,\n         7,   6,   5,   4,   3,   1,   0])"
     },
     "execution_count": 24,
     "metadata": {},
     "output_type": "execute_result"
    }
   ],
   "source": [
    "reassignment_computation.centroids_order"
   ],
   "metadata": {
    "collapsed": false,
    "ExecuteTime": {
     "end_time": "2023-09-03T15:47:53.594375248Z",
     "start_time": "2023-09-03T15:47:53.544882976Z"
    }
   },
   "id": "b9d8103684743125"
  },
  {
   "cell_type": "code",
   "execution_count": 25,
   "outputs": [
    {
     "data": {
      "text/plain": "{0: array([3549, 6653, 6882, ...,  911,  503, 1453]),\n 1: array([1, 0]),\n 2: array([5, 2, 6, 7, 1, 0, 3, 4]),\n 3: array([ 944,  961,  999, ...,  939,  237, 1035]),\n 4: array([ 7,  3, 10, 11,  6,  4, 12,  8,  1,  9,  5,  0,  2]),\n 5: array([ 8504,  7816,  8128, ..., 11775, 15367,   749]),\n 6: array([30186, 40875, 21854, ..., 26313,  6623, 14905]),\n 7: array([1292, 1659, 3950, ..., 2295, 1839, 4114]),\n 8: array([1111, 4106, 4138, ..., 4806, 3957,  657]),\n 9: array([5546, 8257, 6156, ..., 9651, 9054, 4032]),\n 10: array([ 6656, 10280,  9428, ...,  5044,   289,   271]),\n 11: array([ 7522,  8957,  1376, ...,  7871,  5296, 12892]),\n 12: array([0]),\n 13: array([ 972, 1219, 1936, ..., 1519, 2145,  246]),\n 14: array([509,  97, 482, 499, 782, 210, 583, 719, 889, 681, 845, 647, 578,\n        602, 530, 562, 877, 929, 702, 776, 132, 504, 748, 110, 920, 696,\n        430,  47,  22, 722, 842, 518, 761, 769, 883, 563, 479, 537, 786,\n        811, 650, 770, 620, 655, 137, 166, 154, 551, 933, 684, 815, 638,\n        363, 440,  44, 355, 527, 559, 289, 428, 937, 771, 207, 700,  30,\n        216, 566, 244, 677, 715,  45,  52, 571, 730, 642, 467, 424, 654,\n        262, 753, 550, 202, 705,  58, 667, 804, 658,  98, 927, 191, 598,\n        866, 492,  77, 846, 211, 672, 519, 738, 313, 407, 816, 823, 607,\n        762, 665, 888, 521, 872, 625, 694, 270, 422, 819, 644, 905,  39,\n        464, 456, 749, 757, 708, 425, 629, 533, 818, 729, 661, 831, 608,\n        904, 389, 432, 500, 751, 131, 493, 341, 140,  56, 506, 813, 336,\n         95, 487, 347, 116, 648, 515, 317, 397, 663, 436, 921, 914, 907,\n        113, 203, 878, 631, 257, 574, 616, 309, 231, 143, 848, 146, 747,\n        485,  68, 460, 743, 797, 788, 573, 630, 635, 774, 197, 808, 674,\n        300, 419, 865, 911, 588, 679, 256,  40,  51,  17,  18, 379, 575,\n         63, 325, 549, 514, 339, 662, 217, 791, 606, 766, 857, 311, 699,\n        501, 508, 230, 235, 731, 314, 915, 742, 709, 619, 754, 881, 863,\n         42, 923, 103, 437, 612, 850,  93, 794, 318, 626, 233, 433, 880,\n        805, 124, 511, 580, 668, 494, 376, 411, 170,  28,  50, 557, 601,\n        928,  24, 101, 446, 463, 209, 755, 565, 636, 283, 745, 570,  62,\n        261,  49, 454, 899, 609, 733, 887, 507, 600, 179, 214, 517, 780,\n        115, 777, 796, 413, 763, 165, 870, 807, 783, 916, 531, 840, 688,\n        121, 451, 773, 856, 718, 365, 577,  87, 789, 595, 478, 194, 417,\n        370, 553, 532,  59, 538, 321, 129, 122, 809, 324, 106, 587, 615,\n        671, 919, 569, 646, 547, 617, 107, 589, 768, 639,  76, 160, 427,\n        221, 522, 897, 611, 305,  29, 864, 735, 192, 744, 836,  96, 659,\n        885, 829, 315, 394, 931, 421, 558, 260, 465, 253, 356, 361, 273,\n        633, 741, 548, 790, 614, 525,  99, 670, 713, 787, 544, 528, 401,\n        104, 337, 484, 334, 201, 189, 820, 678, 269, 434, 779, 812, 385,\n        623, 703, 147, 680,  70, 282, 710, 723, 604, 594, 139, 410, 893,\n        109, 474, 182, 445, 481, 627, 545, 879, 855,  46, 734,  33, 539,\n        118, 489, 622, 851, 375, 785, 736, 157, 707, 640, 632, 772, 568,\n        276, 739, 111, 287, 691, 592, 329, 378, 346, 206, 597, 468, 393,\n        561, 348, 599, 228, 828, 529,  71, 822, 181, 603, 173, 799, 155,\n        352, 847, 895, 133, 455, 867, 698, 272, 512, 483, 475, 163, 814,\n        890, 186,  65, 726, 862, 649, 491, 322, 266, 278, 520, 513, 618,\n        695, 400, 490, 402, 159, 873, 752, 930, 319, 332, 560, 579, 825,\n        922, 886, 534, 833, 737, 546,  75, 849, 391, 651, 302,  69, 149,\n        758, 371, 366, 841, 832, 792, 740, 621, 267, 212, 704, 912, 934,\n        554, 938, 439, 800, 610,  37,  32, 380, 935, 414, 690, 316, 237,\n        245, 721, 767, 837, 906, 408, 728, 585, 224, 198, 457, 689, 535,\n        552, 388, 450, 219, 448, 459, 839, 666, 462, 188, 859, 660, 441,\n        236, 720, 653, 593, 185, 134, 936, 724, 477, 759, 830, 297, 505,\n        526, 924, 664, 900, 686, 760, 180, 645, 234, 939, 613, 496, 656,\n        624, 351, 449, 727, 232, 447, 697, 292, 293, 307, 404,  25, 114,\n        502, 503, 510, 781, 637, 472, 581, 926, 685, 227, 416, 869, 381,\n        810, 896, 746, 683, 398, 843,  26, 497, 798, 817, 908, 584, 643,\n        676, 714, 359, 486, 854, 898, 429, 838, 572, 576, 693, 860, 536,\n        902, 673, 488, 304, 858, 806,  53, 874, 480, 516, 801, 225, 716,\n        764, 543, 824,  48,  35, 349,  54, 711, 327,  88, 167, 435, 360,\n        187, 274, 105, 344,  61, 265, 524, 420, 158, 312, 196,  57, 126,\n        246, 171,  55, 466, 403, 252,  79,  66,  67, 183, 443,  43, 795,\n        150, 523, 412, 220, 331, 444, 426, 350, 306, 151, 145, 117,  81,\n        354, 241,  27, 175, 364,  80, 251, 343, 913, 384, 226, 498,  83,\n        328,  84, 298, 291, 495,  31, 476, 279, 275, 452, 125, 255,  74,\n        285, 172, 330, 164, 340, 200, 473, 871, 243, 162,   9, 288, 218,\n        177, 123, 152,  64, 259,  82, 903, 382, 387, 142, 277, 208, 308,\n        222, 242, 271, 108, 268,  85, 135, 148, 193, 120,  92, 174,  41,\n        294, 301, 161, 204,  34, 178, 213, 641, 176, 112,  89,  86, 247,\n        128, 706, 692, 628,  72, 399, 156, 894, 541, 471, 299, 249, 884,\n        892, 835, 861, 853, 876, 918, 844, 910, 591, 596, 605, 556, 564,\n        669, 712, 732, 725, 775, 717, 701, 793, 802, 765, 821, 784, 682,\n        750, 756, 675, 687, 827, 184, 263, 373, 470, 390, 130, 136,  73,\n        357, 240, 932, 102, 295, 286, 280, 264, 239, 238, 248, 469, 335,\n        323, 453, 223, 205, 199, 190, 138, 229,   1,   0, 345, 326, 358,\n        396, 406, 342,   4,   3,   5, 377,   2,  78,   8,   6,   7, 353,\n        778, 362,  10, 395, 372,  12, 461, 386, 415, 383, 368, 296, 540,\n        555,  21, 367, 438, 567, 634, 582, 652, 590, 657, 254,  94, 284,\n        431,  23,  15, 405, 423,  13, 310,  14, 409, 100, 803, 320, 258,\n         20, 826,  19, 119,  60,  91, 250, 290,  16, 141, 127,  38, 215,\n        169, 195, 542, 153, 374, 586, 333, 834, 303, 369,  11, 281, 168,\n        144, 442, 901, 392, 458, 891, 875, 852, 909, 868, 882, 418, 917,\n        940, 925,  36,  90, 338]),\n 15: array([70, 46, 73, 83, 77, 65, 33, 19, 24, 69, 39, 82, 23,  4, 29,  8, 35,\n        74, 26, 51, 18, 53, 49, 12, 31, 17, 28, 10, 50, 30, 47, 67, 63, 48,\n        44, 78, 57, 61, 71, 34, 11, 41, 16, 60,  3,  1, 25, 36, 20,  9, 32,\n         2, 40,  5, 66, 22, 38, 42, 76, 56, 58, 43, 27, 81,  0, 15, 62, 80,\n        37,  6, 21, 79, 64, 72, 45,  7, 75, 52, 54, 68, 59, 55, 84, 14, 85,\n        13]),\n 16: array([ 392, 1546,  179, ..., 1328, 1322,  775]),\n 17: array([ 49,  51,  43,  61,  38,  40,  90,  11,   6,  27,  76,  39,  83,\n         18,   5,  26,  57,  20,  74,  30,  29,  34,   2,  44,  81,  65,\n         52,  16,  62,  55,  12,  45,   3,  56,  42,  78,  75,  95,  24,\n         85,  35,  58,  23,  63,  46,  54,  10,  64,  94,  82,  87,  84,\n          1, 101,  70,   7,  59,  72,   8,  91,  98,  79,  33, 103,  47,\n         60,  50,  32, 102,  14,  28,  86,   9,  17,  99,  19,  77,   0,\n         36,  69,  37, 104,  96,  73,  80,  68,  92,  88,  48,   4,  97,\n         15,  66,  53,  31, 100,  13,  41,  21,  93,  89,  67,  71,  25,\n         22]),\n 18: array([1, 0, 2, 3]),\n 19: array([ 706, 3709, 3532, ..., 1418, 5123, 5549]),\n 20: array([ 4521,  4508,  7946, ...,  8547,   186, 16147]),\n 21: array([14, 15, 13, 10,  2,  3,  5, 12,  8,  9,  4,  1,  7, 16, 11,  6,  0]),\n 22: array([17160, 16276, 17153, ...,  4022, 17472, 17873]),\n 23: array([10842, 10068, 10876, ...,  5296,  2850,  4403]),\n 24: array([2, 1, 4, 3, 0]),\n 25: array([ 2441, 11732, 13413, ..., 17045, 10932,  8207]),\n 26: array([7806,  583, 7906, ..., 4689, 6511,  243]),\n 27: array([8529, 6176, 4371, ..., 6484, 2572, 2560]),\n 28: array([4154, 4352, 3379, ...,  559, 2003, 2662]),\n 29: array([ 41,  43,  45,  33,  32,  61,  34,  36,  37,  40,  47,  62,  51,\n         54,  56,  57,  59,  60,  53,  39,  66,  67,  64,  52,  50,  46,\n         58,  35,  48,  55, 102, 105,  86,  68,  44,  42,  38,  65,  63,\n         85,  95, 103,  97,  88,  91,  99,  93,  84,  69,  87, 104,  31,\n         29,  26,  28, 106,   6,   8,  10,  71,  75,  74,  72,  82,  77,\n         80,  12,   3,   1,  70, 101,  94,  98,  96,  89,  92,  90, 100,\n         30,  11,   9,   7,   5,   4,   0,  13,  81,  79,  78,  76,  73,\n         83,  15,   2,  20,  22,  21,  24,  14,  16,  25,  19,  18,  17,\n         27,  23,  49, 109, 110, 108, 107]),\n 30: array([0, 4, 3, 2, 6, 1, 7, 5]),\n 31: array([1129, 1401, 1975, ..., 1430,  679, 2110]),\n 32: array([1, 5, 4, 6, 3, 2, 0, 7]),\n 33: array([2408, 1162,  149, ..., 2507,  380, 1766]),\n 34: array([1866, 1910, 1829, ..., 1605,  154, 1681]),\n 35: array([1734, 1782, 1712, ...,  697,  662,  641]),\n 36: array([0]),\n 37: array([8329, 7454,  689, ..., 3071, 2249, 4560]),\n 38: array([4267, 2697,  938, ..., 1975,   55, 2278]),\n 39: array([2957, 6417, 4058, ..., 2228, 3923, 4412]),\n 40: array([1733, 2575, 1452, ..., 1666, 2021,  699]),\n 41: array([  44,  478,  370, ...,  538, 1179,  933]),\n 42: array([4113, 5895, 6154, ..., 7729,  329, 3023]),\n 43: array([1573, 2884, 2231, ...,  680, 1050, 2503]),\n 44: array([ 427,  428, 2469, ..., 3916,  406, 5104]),\n 45: array([0, 2, 3, 1]),\n 46: array([1, 2, 0]),\n 47: array([2646, 1307,  254, ..., 1717, 1943,  192]),\n 48: array([0, 2, 1, 3]),\n 49: array([2573, 2166,  335, ..., 3692,  682,   88]),\n 50: array([ 6571, 15412, 15413, ..., 20198, 14237, 19844]),\n 51: array([ 7,  6,  8,  9,  5, 11,  3,  4, 10,  1,  0,  2, 12]),\n 52: array([2779, 2766, 2777, ..., 3337,  778,  541]),\n 53: array([2035, 2569, 2249, ...,  519,  371,   58]),\n 54: array([9166, 2069, 2073, ..., 3218, 3100, 9266]),\n 55: array([904, 392, 887, ...,  67,  75, 734]),\n 56: array([0, 1]),\n 57: array([ 997,  513,    8, ..., 1308, 1594, 1448]),\n 58: array([1474, 5678, 2209, ..., 4719, 3082, 3535]),\n 59: array([ 277, 1492, 1555, ..., 2078, 2249, 2715]),\n 60: array([ 8, 50, 53,  9, 51, 54, 35, 67, 25,  0, 26, 33, 24, 17, 59, 36,  1,\n        68, 18, 41, 69,  2, 21, 23, 34,  4, 15, 65, 29, 60, 39, 10, 16, 42,\n        43, 22, 30, 40, 19,  3, 61, 31, 66, 37, 20, 44, 13, 14,  5, 32, 38,\n        63, 27, 48, 12, 49, 28, 47, 70, 57, 64, 62, 45, 58, 11,  7, 52, 56,\n         6, 46, 55]),\n 61: array([ 8,  3,  0,  1,  2,  7,  6, 11, 10,  4,  5,  9]),\n 62: array([1, 0, 2, 3, 4]),\n 63: array([10226, 15442, 17664, ...,  8949,  6907, 12615]),\n 64: array([ 347,  340,  683, ...,    2, 1028,   25]),\n 65: array([4149, 6579, 6001, ..., 6611, 7605, 1205]),\n 66: array([0, 1]),\n 67: array([1, 0]),\n 68: array([180,  32, 384, ..., 626, 869, 825]),\n 69: array([ 5,  8, 10,  6,  9,  7,  4, 11,  0,  2, 12, 14,  3, 15, 13,  1]),\n 70: array([2111, 1179, 1079, ..., 1194,  138,    5]),\n 71: array([1, 0, 2]),\n 72: array([1, 0]),\n 73: array([2662, 2515, 3267, ..., 2440, 1693, 2659]),\n 74: array([1307, 6055,  806, ...,  393,  252, 2545]),\n 75: array([ 2854,  2822, 28217, ..., 27969, 12541, 25279]),\n 76: array([1, 3, 5, 0, 4, 2, 6]),\n 77: array([1198, 3652, 2906, ..., 1347, 1237, 3583]),\n 78: array([ 356,  370,  509, ...,  305, 1940,  160]),\n 79: array([7123, 4932, 1272, ..., 7317, 8574, 2882]),\n 80: array([15, 14,  3,  0,  4,  5, 17,  7, 11, 13,  2,  1, 12, 16,  8,  6, 10,\n         9]),\n 81: array([5962, 4203, 6299, ..., 2739, 2706, 4613]),\n 82: array([ 4, 17, 23, 19, 21,  9, 26, 24, 22, 27, 15, 16, 25,  3, 18, 20,  6,\n        10, 28,  8,  2,  7,  5, 14,  1, 13, 11,  0, 12]),\n 83: array([0]),\n 84: array([2741, 5516, 2070, ...,  359,  719, 6185]),\n 85: array([1120,  485, 3542, ..., 4016,   30, 1387]),\n 86: array([2817, 4833, 2439, ..., 1718, 1157, 7723]),\n 87: array([2, 1, 3, 0, 4]),\n 88: array([ 9, 40, 19,  6,  7, 34, 13, 48, 16, 22, 44, 43, 23, 26, 35, 62, 55,\n        57, 38, 29,  5,  0, 36, 33, 61, 47, 37,  4, 31, 32, 42,  1, 60, 52,\n        10, 28, 50, 20,  2, 59,  8, 46, 21, 56, 18, 39, 14, 54, 11, 51, 64,\n        41, 63, 30, 49,  3, 25, 15, 24, 27, 58, 53, 45, 17, 12]),\n 89: array([0]),\n 90: array([2484, 2231, 1640, ...,  472, 2746, 1332]),\n 91: array([8252, 8287,  775, ..., 8917,  490, 2586]),\n 92: array([0, 1]),\n 93: array([ 372, 7500, 4441, ..., 7008, 7313, 1070]),\n 94: array([72890, 57826, 15285, ..., 83403, 83470, 84877]),\n 95: array([0]),\n 96: array([12342, 12845,  6003, ...,  3617, 10661, 14020]),\n 97: array([1, 0]),\n 98: array([0]),\n 99: array([ 603,  812,  296, ...,  922, 1267,  127]),\n 100: array([0]),\n 101: array([108, 175,  55, 115,  99,  18, 174, 112,  54,  25, 106, 255, 127,\n        249,  98, 217, 252,  57, 349, 253, 250, 281, 110, 105, 358, 371,\n         67, 317, 355,  51,  87, 119, 220,  62,  52,  28, 117, 225, 205,\n        104, 315, 130, 270, 169, 301, 163,  37, 128, 199, 340, 107, 347,\n         80, 182, 350, 318, 201,  65, 139, 298, 360, 148, 126, 178,  93,\n        293,  82, 143, 124, 307, 181,  46, 155,  49,  56, 314,  29,  61,\n         75,   1, 161, 186, 295, 319,  40,  38, 198, 378, 157, 202,  94,\n        116, 158, 239,  60, 329, 160,  17, 164, 243,  21, 324, 134,  72,\n         63, 140,  66, 343, 142, 234, 375,  96, 328, 268, 285, 297, 207,\n        149, 224, 208,  34, 221, 257, 326, 215, 376, 228, 185, 133, 227,\n          7,  88,  77, 183, 377, 103, 325, 357, 306, 100,  20, 353,  32,\n        351,   3, 374,  13, 123, 302, 261, 109, 331,  84, 284,  35, 206,\n        320, 309,  44,  50, 162, 280, 344,  85, 283, 296, 229, 258, 291,\n         76, 136, 170, 131, 363, 188, 286,  91,   8, 316, 179, 265,  79,\n        311, 305, 189, 233, 125,  45, 303,   6, 336,  89, 195, 141,  43,\n        176, 173,  86,  39,  14, 310, 218, 327,  27, 287,  71,  48, 352,\n         74, 132,  15,  97, 210, 294, 118, 184, 171, 262, 313, 341,  58,\n        332,  78,  90, 260, 288, 156,  83, 359,  16, 259, 322, 114, 338,\n        113, 334,   2, 192, 380, 348, 323, 263, 339, 346, 209,  64,  95,\n        187,   5,   0, 154,  47, 213, 237, 275, 304, 356,  81, 368, 129,\n        308, 381, 354, 144, 333,  53, 135,  92,  11, 369, 373, 138, 365,\n        321,  73,  59, 345,  30, 153, 248,  23, 216, 146, 264, 364,  41,\n          4, 111, 279,  22, 223, 382, 121,  42, 137, 269, 120, 211, 180,\n         19, 267, 277, 246,  31, 147, 276, 212, 367, 168, 204,  26, 214,\n        256, 278, 335, 300, 232,  10, 292, 272, 159, 230, 165, 191, 194,\n        102, 235,  36, 274, 226, 361, 282, 372, 379, 166, 242, 289, 366,\n         12, 370, 271, 193,   9, 337,  68, 197, 190, 342, 200, 254, 172,\n        247, 145, 299, 312, 177,  69, 219, 151, 244, 241, 251, 150, 238,\n        290, 122,  24, 167, 240, 245,  70, 330, 222, 203, 101, 362, 152,\n        231, 266, 236, 196, 273,  33]),\n 102: array([ 213, 1207,  488, ..., 1381, 1321,  575]),\n 103: array([ 78,  61,  47,  12,  77,  68,  65,  58,  57,  11,  13,   3, 108,\n          6, 128,  45, 107,  76,  51,  22,  15,  38, 146,  81,  16,  42,\n         52,  20,  17,   9,   8, 125, 139,  19,  64,  10,  86,  26,   2,\n         84, 112, 162,  24,  27,  69,  32, 127,  21, 114,  31, 119,  85,\n         99,  46,  59, 113,  82,  43, 123, 143, 105,  56, 134, 150, 124,\n        140,  83, 142,  62,  66, 159, 157, 101,  36,  23, 116, 117,  67,\n        106,  35,  25, 160,  37, 136, 133,  30,  18,  94, 100,  48,  89,\n        122, 155,  75,  41, 132,  74, 158,  49,  93, 126,   4,   5,  63,\n        147, 111, 115, 144, 165, 141,  88,  40, 104,  54, 145, 148,  90,\n        168, 120, 121, 167, 118,   7,  96,  79,  50,  14,  53,  80,  72,\n        110, 163, 156,  44,  73, 152,  60,  39, 135,  29, 171, 161, 102,\n         28,  95, 153, 166,   0, 154,   1,  33, 149,  34,  70, 172, 169,\n        173, 109, 138,  71, 170,  92,  91,  97, 103, 130,  87,  55, 174,\n        151, 129, 164,  98, 137, 131]),\n 104: array([ 252, 2256, 1470, ..., 3173, 3347, 4502]),\n 105: array([4613, 3206, 4029, ..., 4959, 7641, 2569]),\n 106: array([1269, 1259, 1133, ..., 1520,  914,  962]),\n 107: array([0]),\n 108: array([ 170, 1211,  757, ...,   27,  300,  961]),\n 109: array([11193, 16243,  5548, ..., 12964, 22301, 15652]),\n 110: array([4743, 4698, 2537, ..., 1405,  830,  339]),\n 111: array([0]),\n 112: array([601, 600, 681, 433, 385, 248, 260, 291, 608, 603,  68, 228, 220,\n        112, 250, 367, 242, 108, 422, 799, 193, 211, 130, 716, 764, 533,\n        574, 400, 824, 707, 535, 151, 777, 758, 394, 171, 331, 752, 470,\n        472, 429, 418, 821, 443, 458, 706, 697, 286, 161,  82, 229, 498,\n        399, 393, 902, 254, 372, 506, 854, 655, 643, 912, 940, 445, 408,\n        719, 327, 885, 703, 407, 360, 701, 571, 428, 730, 489, 654, 797,\n        283, 395, 550, 131, 403, 177,  81, 611, 269, 928, 198, 878, 619,\n        849, 914, 640, 499,  14, 592,   6,  88, 189, 612, 388,  15, 677,\n        145, 548, 256, 491,  38, 790,  58,  37,  25, 547,  35, 829,  22,\n         60, 525, 818, 105, 106, 503, 411, 241, 877, 427, 222, 736, 917,\n        811, 866, 964,  86, 583,  61, 424, 307, 522, 538, 237, 217, 962,\n         77, 469, 906, 561, 939, 925, 921, 273, 966, 779, 760, 255, 363,\n        689, 798,  59, 244, 626, 961, 904, 279, 843, 345, 380, 910, 239,\n        893, 807, 856, 278, 943, 444, 924, 332, 889, 406, 516, 514, 316,\n        391, 159, 281, 895,  19, 947, 704, 184, 598, 957, 775, 620,  24,\n        938, 251, 140, 191, 839, 490, 526, 727,  34, 880, 132, 125, 128,\n        949, 591, 894, 927, 452, 448, 232, 884, 324,  11, 759, 163, 671,\n        208, 930, 567, 667, 577, 375, 350, 933, 265, 960,  83, 133, 590,\n        344, 585, 500, 911, 709, 504,  89,  45, 952, 304,   2, 604, 460,\n         94, 954, 661, 539, 212, 477, 804, 812, 150, 301, 245, 439, 326,\n        103, 227, 762, 679, 862, 155,  13, 770, 632, 479, 909, 137, 347,\n        124, 464, 357, 512, 334,  47,  40, 308, 687, 774, 292, 182, 841,\n        936, 302, 873, 481, 552, 559, 860, 673, 322, 354, 588, 352, 187,\n        338, 602, 107,  65, 466, 166, 755,  53, 556, 513, 274,  91, 179,\n        368, 656, 225, 558, 749, 101, 731,  16,  29, 694, 508, 397, 146,\n        195, 666, 599,  72, 288, 541, 173, 117, 340,  90, 594, 190, 294,\n        586, 430, 584, 888, 729, 511, 606, 932,  33, 365,  20, 371, 713,\n        850, 580,   4, 204, 945, 658,  74, 493, 174, 488, 595, 802,  52,\n        459, 272,  43,  21, 213, 922, 942,  67, 828, 597, 614, 732,  28,\n        573, 284, 792, 200, 414, 153, 297, 554,   1,  96, 741, 621, 857,\n        434, 310, 339, 405, 484, 113, 382,   7, 169, 176, 581, 572, 892,\n        737, 369,  76, 170, 386, 623, 840, 507, 102, 226, 813, 333,  26,\n        127, 446, 378, 442, 277, 138,  92, 311, 419, 566, 562, 266,  70,\n        221, 412, 847, 299, 454, 693, 846, 923, 832, 438, 728, 754, 776,\n        100, 663, 746, 820, 315, 967, 421, 417, 659, 968, 320, 175, 753,\n        501, 123,  42, 564, 289, 196, 545, 290, 593, 568, 668, 143,  41,\n        341, 126,   8, 373, 134, 740, 782, 610, 783, 750, 152, 635,  62,\n         97, 183,  75, 111, 937, 528, 136, 579, 700, 323, 609,  95, 118,\n        355, 531, 135,  69, 374, 786, 814, 879, 524, 769, 876, 359, 744,\n         87, 420, 185, 636, 578,  30, 121, 941, 168, 717, 670, 907, 919,\n        734, 747, 441, 969,  79, 104, 688, 342, 712, 285, 440, 794, 557,\n        453, 765, 402, 915, 956, 855, 698, 576, 809, 905, 379, 457, 404,\n        298, 613, 527, 361, 178,  10, 389, 835, 629, 660, 948, 684, 216,\n        699, 859, 141, 634, 708, 929, 223, 678, 199, 209, 270, 192, 475,\n        473, 638, 695, 946, 881, 875, 825, 201, 631, 735, 675, 456, 771,\n        780, 247, 692, 203, 757, 172, 931,  27,  44, 157, 639, 767, 803,\n        872, 662, 800, 575, 784, 781, 560, 387, 346, 544, 801, 785, 944,\n        109, 711, 416, 772, 756, 686, 827, 628, 958, 721, 616,  93, 546,\n        532, 833, 370, 485, 649, 210, 723, 181, 676,  85, 714, 530, 149,\n        312, 509, 882, 261, 816, 240, 705, 810,   9, 110, 219, 252, 482,\n        926, 536, 264, 349, 920, 139, 842, 646, 761, 381, 665, 826, 517,\n        147, 596, 282, 280, 246, 951, 465, 874, 431, 834, 738, 806, 897,\n        263, 653, 555, 206, 358, 467, 243,  56, 409, 537, 276, 615, 234,\n        119,  39, 377, 625, 115, 520, 891, 502, 449, 415, 851, 401, 605,\n        642, 863, 870, 680, 423,  63, 543, 432, 510, 293, 648, 763, 480,\n         54, 235,   0, 328, 205, 819, 690, 413, 451, 867, 848, 392, 238,\n        725, 335, 645,  23,  55, 724, 742, 896,  73, 852, 305,  12, 447,\n        521, 314, 664, 817, 468, 589,  66, 950, 768, 652, 618, 570, 518,\n        505, 883, 657, 167, 231, 796, 426, 523, 913, 549, 791, 303, 630,\n        162, 376, 903, 644, 425, 836, 330, 789, 672, 935, 114, 384, 899,\n        739,  64, 483, 462,   5, 720, 624,  18, 366, 669, 455, 144, 953,\n        582, 461, 476, 383,  98, 497, 553, 116, 886, 233, 633, 808, 180,\n        336, 773, 463, 959, 207, 637, 257, 766, 650, 617, 823, 154, 869,\n        156, 718, 435,   3, 901, 965, 831, 474,  17, 745, 858, 793, 214,\n        787, 471, 306, 844, 230, 963, 795, 529, 647, 569, 142, 865, 160,\n        398, 743, 838, 337,  32, 188, 845, 607, 540, 551, 898, 815, 887,\n        321, 271,  99, 715, 710, 343, 496, 627, 164, 218, 236, 683, 329,\n        563, 871, 515, 890, 249, 691, 319, 830,  46, 685, 674, 934, 916,\n        437, 868, 165, 748, 955, 287, 317, 197, 487, 362, 622, 436, 908,\n        900, 918, 309, 494, 651, 313, 396, 300, 390,  84, 641, 148, 861,\n         48, 129, 215,  36, 318, 696, 682, 486, 268, 295, 253,  31, 702,\n        158, 788, 262, 519,  78,  80, 726, 542, 224, 733, 275, 822, 837,\n        353, 565, 495,  71, 267, 492, 202, 259, 186, 120, 122, 325, 296,\n        805, 751, 356, 351, 534, 450, 722, 864, 778, 478, 364, 410, 194,\n        587, 853,  57, 348, 258,  51,  49,  50]),\n 113: array([5405, 5454, 5199, ..., 1571, 2008, 3999]),\n 114: array([0, 1, 2, 4, 3, 5]),\n 115: array([0]),\n 116: array([ 19, 178,  17,  66,  28,   4, 186, 171,  81, 114,  80, 143,  84,\n         27, 176, 177, 207, 184,  61, 185, 183,  50,  75,  93,  87,  85,\n         86, 169,  83,  43,  34, 170,  16,  56,  78, 160,  33,  82,  91,\n         48, 181,  42, 182, 204,  76,  77,  64, 205,  92,  32,  21,  54,\n        124,  90,  89,  31, 172,  41,  30, 112, 137,  40, 123, 198,  20,\n        175, 180,  18, 179, 138, 190, 201,  63, 131,  14,  13, 203, 202,\n        103,  15,  11,  29, 101, 189, 188, 187, 191, 145, 122, 102,   3,\n        140,  99, 100,  53, 154,  74, 209, 136,   1,  71,  79, 139, 104,\n          0,  73,  88, 118,  47, 132, 130, 206, 116, 208,  12,  72, 129,\n        174, 141,  39, 158,  96, 200, 173, 117, 135, 168,  97, 121, 115,\n        134,  98, 142, 113,  38, 128,  37,  95,  10,  35, 144,  59,  94,\n         36, 162, 119, 120, 133, 157, 153, 195, 163, 192, 152,  62, 196,\n        193, 111,  51,  52,  58, 161,  68, 156,  49,  60,  46,  67, 151,\n        150,  55,  57, 110, 159, 194,  69, 155, 107,   2, 109,  65, 108,\n        199,   8, 148, 146,  45,  44,  24, 147, 127,   9,   6,   7, 197,\n          5,  22, 167,  26, 166, 164, 149,  25,  23,  70, 106, 125, 126,\n        165, 105]),\n 117: array([0, 1, 3, 2]),\n 118: array([7740, 8541, 7160, ..., 1495, 3041, 1526]),\n 119: array([0]),\n 120: array([4555, 3622, 3293, ..., 4505, 4673, 4486]),\n 121: array([27829, 22298,  2289, ..., 15676, 19165, 32544]),\n 122: array([ 27,  44,  37, 207,  11,  71,   7,  22, 168,  96,  17, 195, 156,\n         10,   9,  58,  79,  66, 188,  42, 194,  49, 179,  68,  57,  83,\n        163, 229, 148,  74,  40, 127, 162,  12, 132,  70, 178, 165, 149,\n         48, 201,   3, 193,  47,  61,  13, 157, 171,  90,   6,   0,  35,\n        167, 131,  46,  77, 121,  78, 221,  65, 213, 170,   1, 124,  19,\n        166, 209,  82, 144, 191, 231,   8,  33,  39, 155,  81, 161,  26,\n         88,  53, 185, 202,  91, 212, 227, 225, 146, 169, 192, 159, 182,\n         72, 160, 134,  63,  52, 186, 204,  67, 152,  59, 190, 219,  69,\n        217,  89, 197, 158, 224, 218, 123,   5, 136,  31, 117,  25, 226,\n        216,  54, 232, 150,  14,  28, 107, 142, 172, 198, 128, 208, 175,\n         75,  86, 228, 129, 200, 223, 116, 205, 214,  16,  98,  21,  56,\n        176, 181, 196,  20, 119, 154, 139, 140, 141,  18,   2, 133, 189,\n        147,  94,  36,  15,  76, 118, 112,   4, 183, 215, 184,  92,  30,\n        109, 115, 104, 222, 120,  41, 130, 108, 174,  55, 230, 187, 125,\n        103,  50, 206, 138, 137,  97, 177, 211,  87, 203, 145, 101,  64,\n         43, 114, 164, 173,  95, 105, 151,  80,  45, 110, 106, 220, 126,\n        199, 210,  38, 135,  85, 143,  32,  34, 100,  24,  99,  60, 102,\n         29,  62,  51,  84, 153,  23,  73, 111, 113, 122, 180,  93]),\n 123: array([6, 5, 7, 1, 2, 8, 0, 3, 4]),\n 124: array([3486, 3495, 3922, ...,  202, 1971,  404]),\n 125: array([3735, 3291, 3996, ..., 1014, 2680, 1631]),\n 126: array([ 98,  97, 187,  21, 105,  40,  16, 204,  57,  78,  90, 199, 196,\n         36, 171, 185,  58,  26, 177, 174, 169, 220, 122, 209, 219, 210,\n        197,  20, 221,   7, 183, 211, 173, 188, 148,  76, 154, 178, 141,\n         39,  46, 222, 119, 198, 150, 175, 155, 206, 170,  28,  69,  63,\n        184, 149, 140, 208, 213,   3,  60, 126,   9, 191, 168,  93, 172,\n        167, 158, 147, 192, 214, 217, 216, 129,  72, 193, 186, 108, 153,\n         87, 132, 123,  35,   2, 200,  54, 223, 103, 182,  10, 128, 194,\n        133,  22, 120, 207,  51, 110, 215, 195, 164,  64, 218, 224, 142,\n         74, 115, 189,  89,  47, 117, 107,   0,   1, 137,  17, 156, 113,\n          6, 201,  83,  80, 212, 205, 159, 165,  56,  12, 190,  43, 180,\n        166,  94, 145,  13, 179, 114, 100, 138, 135,  29, 160,   5, 121,\n         81,  99,  31, 176, 102,  24,  68,  53, 163, 116, 136, 144,  11,\n        124, 202,  67, 181,  49, 134,  23,  34, 101,  14, 203,  61, 151,\n         25, 162,  84,  15, 143,  44, 146, 157, 161,  82, 127,   8,  30,\n         50,  71, 118,  52, 152,  77,  95, 112, 125, 131,   4,  75, 109,\n         96,  19,  27,  86,  79, 111,  48, 104,  37,  91,  85,  33,  66,\n         88, 139,  38,  73, 130,  41,  45,  42,  70,  62,  65,  18,  92,\n         59,  55,  32, 106]),\n 127: array([3128, 1303, 1553, ..., 4212, 4125,  680]),\n 128: array([ 249,  829,  886, ..., 2355,  493, 2128]),\n 129: array([0, 1]),\n 130: array([4688, 2369, 1013, ..., 4106, 5121,  259]),\n 131: array([1, 0, 4, 3, 2, 5]),\n 132: array([ 6337,  5767, 10676, ...,  6564,  1038,  3173]),\n 133: array([1365, 1136, 2826, ..., 3210, 1868, 3289]),\n 134: array([1540, 2522,  295, ...,  834, 1554, 1237]),\n 135: array([ 602, 5920, 3394, ..., 8446, 9059, 1638]),\n 136: array([2579, 5635, 7812, ..., 4990, 7695, 5602]),\n 137: array([4, 5, 6, 0, 3, 2, 1]),\n 138: array([13179,  9449,  5094, ..., 12544, 13715,   685]),\n 139: array([3730, 2674, 4772, ..., 1500, 5175,  839]),\n 140: array([0, 4, 3, 2, 1]),\n 141: array([2, 7, 0, 1, 5, 6, 3, 4]),\n 142: array([4, 0, 1, 5, 3, 2]),\n 143: array([0, 1]),\n 144: array([ 26, 212, 129, 314, 128, 117,  64,  63, 291, 118, 108, 307, 107,\n        198, 369,  19,  82,  14,  10, 208, 184,  96,  15, 353, 115, 159,\n        237, 146,  53, 297, 141, 339, 367,  98, 143, 285, 104, 172, 270,\n         32, 170, 354, 160,  65, 130,  45, 253,  18, 178, 335,  48, 126,\n        320,  90, 168, 112, 308, 268, 183, 333, 245, 135, 262, 257, 239,\n        179, 327, 301, 331, 152, 134, 238,  70, 106, 116, 251, 357, 100,\n        275, 155, 343,  55,  99, 169, 174, 166, 243, 145, 280, 271, 281,\n         57, 199, 337,  85, 340, 341, 266, 374, 317, 283, 142, 176, 240,\n        101,  58, 273, 188, 349, 303, 294,  41, 365, 136, 372, 361, 149,\n        332, 259, 248, 140, 156, 215, 323,  79,  93, 321, 154, 216, 334,\n        311, 195, 375, 214,   0,  56, 309, 279,  71, 348, 220, 211,  24,\n        299, 342, 205, 138, 360,  49, 300, 191,  87, 260, 151,  39,  37,\n        359,  40, 186, 276, 263,  78,  72, 362, 254,  60, 171, 278, 173,\n        102, 246,  54, 336, 310, 110, 122, 235, 241, 210,  13, 366, 292,\n        236, 347, 219, 223, 203,  73, 242, 373,  92,  75, 325, 187, 363,\n         89, 364, 131,  59, 157, 346, 109,  42, 296, 370, 125, 286, 329,\n        264, 256, 315, 355,  50, 269, 114, 284,  25, 306,  34, 312, 293,\n         74, 344,  52, 123, 218, 177, 206,  47, 180, 217, 120, 322, 225,\n         23, 324, 182,  21, 302, 192,   8, 222, 313, 319, 231, 190,  27,\n        298,  31,  38, 165,  35, 305,  62,  80, 304,   3, 352,  17,   1,\n         86, 127,  83, 351,   2,  88, 119, 167,  69, 132, 189, 258, 147,\n        287, 185,  66, 350,  84, 232, 200, 230, 196,  28, 316,  22, 288,\n        295,  67, 158,  51, 247, 326,  77, 233, 111, 261,   6, 201,  94,\n        267, 227, 121, 133, 202, 148, 213, 338,   9,  29, 150, 197,  20,\n         46, 224, 163,  12,  44,   5, 244, 162,  95, 282, 272, 113, 229,\n         43,  68,  16,  36, 139,  30, 234, 153, 144,  11,  61, 209, 265,\n        376,  33,  81, 204, 124, 103, 249,   4, 181, 318, 274,  97, 328,\n        255, 105, 194, 221, 345, 356,  76, 226, 161, 164, 371,   7, 252,\n         91, 207, 289, 277, 250, 330, 290, 193, 368, 175, 228, 358, 137]),\n 145: array([8801, 3002, 7555, ..., 2077, 1003, 6896]),\n 146: array([0]),\n 147: array([0]),\n 148: array([0]),\n 149: array([11,  4,  5,  7,  3,  1,  9, 10,  6,  2,  8, 12,  0])}"
     },
     "execution_count": 25,
     "metadata": {},
     "output_type": "execute_result"
    }
   ],
   "source": [
    "reassignment_computation.cluster_order"
   ],
   "metadata": {
    "collapsed": false,
    "ExecuteTime": {
     "end_time": "2023-09-03T15:47:53.655272120Z",
     "start_time": "2023-09-03T15:47:53.582255226Z"
    }
   },
   "id": "727628f5f12eb09c"
  },
  {
   "cell_type": "code",
   "execution_count": 26,
   "outputs": [],
   "source": [
    "reassignment_computation.save_order()"
   ],
   "metadata": {
    "collapsed": false,
    "ExecuteTime": {
     "end_time": "2023-09-03T15:47:53.988786041Z",
     "start_time": "2023-09-03T15:47:53.653050863Z"
    }
   },
   "id": "1160c29eb20b0dd1"
  },
  {
   "cell_type": "code",
   "execution_count": 27,
   "outputs": [],
   "source": [
    "collection_reassigned = reassignment_computation.reassign_doc_id()"
   ],
   "metadata": {
    "collapsed": false,
    "ExecuteTime": {
     "end_time": "2023-09-03T15:47:55.914972359Z",
     "start_time": "2023-09-03T15:47:53.991788710Z"
    }
   },
   "id": "820732a285eaeca8"
  },
  {
   "cell_type": "code",
   "execution_count": 28,
   "outputs": [
    {
     "data": {
      "text/plain": "DGapComputation(full)[Docs: 804414; Terms: 47219; Computed: False]"
     },
     "execution_count": 28,
     "metadata": {},
     "output_type": "execute_result"
    }
   ],
   "source": [
    "from model.d_gap import DGapComputationReassigned\n",
    "\n",
    "dgap_reass = DGapComputationReassigned(collection=collection_reassigned, data_name=config.name)\n",
    "dgap_reass"
   ],
   "metadata": {
    "collapsed": false,
    "ExecuteTime": {
     "end_time": "2023-09-03T15:47:55.970420767Z",
     "start_time": "2023-09-03T15:47:55.917963516Z"
    }
   },
   "id": "50b315a2e4c739e7"
  },
  {
   "cell_type": "code",
   "execution_count": 29,
   "outputs": [],
   "source": [
    "dgap_reass.compute_d_gaps()"
   ],
   "metadata": {
    "collapsed": false,
    "ExecuteTime": {
     "end_time": "2023-09-03T15:47:56.045230932Z",
     "start_time": "2023-09-03T15:47:55.959522836Z"
    }
   },
   "id": "c5fbdd944dee545b"
  },
  {
   "cell_type": "code",
   "execution_count": 30,
   "outputs": [
    {
     "data": {
      "text/plain": "<Figure size 640x480 with 1 Axes>",
      "image/png": "[encoded data removed]"
     },
     "metadata": {},
     "output_type": "display_data"
    }
   ],
   "source": [
    "dgap_reass.plot_avg_d_gap()"
   ],
   "metadata": {
    "collapsed": false,
    "ExecuteTime": {
     "end_time": "2023-09-03T15:47:56.297315938Z",
     "start_time": "2023-09-03T15:47:56.005927458Z"
    }
   },
   "id": "dced982deb5bfc71"
  },
  {
   "cell_type": "code",
   "execution_count": 31,
   "outputs": [],
   "source": [
    "dgap_reass.save_d_gaps()"
   ],
   "metadata": {
    "collapsed": false,
    "ExecuteTime": {
     "end_time": "2023-09-03T15:47:56.354275735Z",
     "start_time": "2023-09-03T15:47:56.297920250Z"
    }
   },
   "id": "f6b95ef0337b0a"
  },
  {
   "cell_type": "markdown",
   "source": [
    "## 8. Inference"
   ],
   "metadata": {
    "collapsed": false
   },
   "id": "aa5f153452c68903"
  },
  {
   "cell_type": "code",
   "execution_count": 32,
   "outputs": [
    {
     "data": {
      "text/plain": "DGapInference[Terms: 47219]"
     },
     "execution_count": 32,
     "metadata": {},
     "output_type": "execute_result"
    }
   ],
   "source": [
    "from model.d_gap import DGapInference\n",
    "\n",
    "inference = DGapInference(d_gap_original=dgap, d_gap_reassigned=dgap_reass, data_name=config.name)\n",
    "inference"
   ],
   "metadata": {
    "collapsed": false,
    "ExecuteTime": {
     "end_time": "2023-09-03T15:47:56.409406959Z",
     "start_time": "2023-09-03T15:47:56.347627120Z"
    }
   },
   "id": "62d20b2f8a729eda"
  },
  {
   "cell_type": "code",
   "execution_count": 33,
   "outputs": [
    {
     "data": {
      "text/plain": "<Figure size 640x480 with 1 Axes>",
      "image/png": "[encoded data removed]"
     },
     "metadata": {},
     "output_type": "display_data"
    }
   ],
   "source": [
    "inference.plot_avg_d_gap()"
   ],
   "metadata": {
    "collapsed": false,
    "ExecuteTime": {
     "end_time": "2023-09-03T15:47:57.213374422Z",
     "start_time": "2023-09-03T15:47:56.387565510Z"
    }
   },
   "id": "dd45d91b60d02546"
  },
  {
   "cell_type": "code",
   "execution_count": 34,
   "outputs": [
    {
     "data": {
      "text/plain": "7.8783648200656815"
     },
     "execution_count": 34,
     "metadata": {},
     "output_type": "execute_result"
    }
   ],
   "source": [
    "inference.avg_compression"
   ],
   "metadata": {
    "collapsed": false,
    "ExecuteTime": {
     "end_time": "2023-09-03T15:47:57.287750392Z",
     "start_time": "2023-09-03T15:47:57.213588911Z"
    }
   },
   "id": "4616961e8f3f6ef"
  }
 ],
 "metadata": {
  "kernelspec": {
   "display_name": "Python 3",
   "language": "python",
   "name": "python3"
  },
  "language_info": {
   "codemirror_mode": {
    "name": "ipython",
    "version": 2
   },
   "file_extension": ".py",
   "mimetype": "text/x-python",
   "name": "python",
   "nbconvert_exporter": "python",
   "pygments_lexer": "ipython2",
   "version": "2.7.6"
  }
 },
 "nbformat": 4,
 "nbformat_minor": 5
}
