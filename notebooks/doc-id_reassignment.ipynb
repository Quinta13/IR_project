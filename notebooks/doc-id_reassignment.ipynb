{
 "cells": [
  {
   "cell_type": "code",
   "execution_count": 2,
   "outputs": [],
   "source": [
    "%load_ext autoreload\n",
    "%autoreload 2"
   ],
   "metadata": {
    "collapsed": false,
    "ExecuteTime": {
     "end_time": "2023-09-02T15:52:40.102818973Z",
     "start_time": "2023-09-02T15:52:39.994574355Z"
    }
   },
   "id": "9c7638612fbd96e6"
  },
  {
   "cell_type": "markdown",
   "source": [
    "# Doc-ID Reassignment"
   ],
   "metadata": {
    "collapsed": false
   },
   "id": "3ac4509c63feb482"
  },
  {
   "cell_type": "markdown",
   "source": [
    "## 1. Data download"
   ],
   "metadata": {
    "collapsed": false
   },
   "id": "f4fb565167dd2a41"
  },
  {
   "cell_type": "markdown",
   "source": [
    "### Downloader instance"
   ],
   "metadata": {
    "collapsed": false
   },
   "id": "c504f8e56ed8e3ab"
  },
  {
   "cell_type": "markdown",
   "source": [
    "We download [RCV1 dataset](https://paperswithcode.com/dataset/rcv1), in particular we use tf-idf representation from [sklearn](https://scikit-learn.org/0.18/datasets/rcv1.html)."
   ],
   "metadata": {
    "collapsed": false
   },
   "id": "95d720c3bca2580e"
  },
  {
   "cell_type": "markdown",
   "source": [
    "Create an instance of downloader."
   ],
   "metadata": {
    "collapsed": false
   },
   "id": "d78edac19ca78807"
  },
  {
   "cell_type": "code",
   "execution_count": 3,
   "outputs": [
    {
     "data": {
      "text/plain": "RCV1Downloader [File: /home/sebaq/Documents/GitHub/IR_project/dataset/data.npz; Downloaded: True]"
     },
     "execution_count": 3,
     "metadata": {},
     "output_type": "execute_result"
    }
   ],
   "source": [
    "from model.rcv1 import RCV1Downloader\n",
    "\n",
    "downloader = RCV1Downloader()\n",
    "downloader"
   ],
   "metadata": {
    "collapsed": false,
    "ExecuteTime": {
     "end_time": "2023-09-02T15:52:42.889358489Z",
     "start_time": "2023-09-02T15:52:41.657760939Z"
    }
   },
   "id": "initial_id"
  },
  {
   "cell_type": "markdown",
   "source": [
    "### Download"
   ],
   "metadata": {
    "collapsed": false
   },
   "id": "314e525e41fad80f"
  },
  {
   "cell_type": "markdown",
   "source": [
    "Download the dataset."
   ],
   "metadata": {
    "collapsed": false
   },
   "id": "4fea00d0e726cb1a"
  },
  {
   "cell_type": "code",
   "execution_count": 4,
   "outputs": [
    {
     "name": "stdout",
     "output_type": "stream",
     "text": [
      "INFO: Dataset is already downloaded at /home/sebaq/Documents/GitHub/IR_project/dataset/data.npz\n",
      "CPU times: user 595 µs, sys: 119 µs, total: 714 µs\n",
      "Wall time: 463 µs\n"
     ]
    }
   ],
   "source": [
    "%%time\n",
    "\n",
    "downloader.download()"
   ],
   "metadata": {
    "collapsed": false,
    "ExecuteTime": {
     "end_time": "2023-09-02T15:52:42.954540997Z",
     "start_time": "2023-09-02T15:52:42.889731481Z"
    }
   },
   "id": "2a248e270f782453"
  },
  {
   "cell_type": "markdown",
   "source": [
    "## 2. Data Loading"
   ],
   "metadata": {
    "collapsed": false
   },
   "id": "fc1f72e2b1d8e8c5"
  },
  {
   "cell_type": "markdown",
   "source": [
    "### Loading collection configurations"
   ],
   "metadata": {
    "collapsed": false
   },
   "id": "801ce68938282d60"
  },
  {
   "cell_type": "markdown",
   "source": [
    "Use dataset configuration specified in the *.settings.py* file."
   ],
   "metadata": {
    "collapsed": false
   },
   "id": "d090df67eeb9e5ba"
  },
  {
   "cell_type": "code",
   "execution_count": 5,
   "outputs": [
    {
     "data": {
      "text/plain": "tiny [Docs: 50000; Terms: 15000; Approximation error: 0.3; N Clusters: 150]"
     },
     "execution_count": 5,
     "metadata": {},
     "output_type": "execute_result"
    }
   ],
   "source": [
    "from settings import DATACONFIG\n",
    "\n",
    "config = DATACONFIG[\"tiny\"]\n",
    "config"
   ],
   "metadata": {
    "collapsed": false,
    "ExecuteTime": {
     "end_time": "2023-09-02T15:52:44.202714742Z",
     "start_time": "2023-09-02T15:52:44.110981667Z"
    }
   },
   "id": "19e18659e55e4567"
  },
  {
   "cell_type": "markdown",
   "source": [
    "### Loader instance"
   ],
   "metadata": {
    "collapsed": false
   },
   "id": "99055d49a6dea3d1"
  },
  {
   "cell_type": "markdown",
   "source": [
    "Create an instance of dataloader."
   ],
   "metadata": {
    "collapsed": false
   },
   "id": "f63a6d1f4cf9189f"
  },
  {
   "cell_type": "code",
   "execution_count": 6,
   "outputs": [
    {
     "data": {
      "text/plain": "RCV1Loader [File: /home/sebaq/Documents/GitHub/IR_project/dataset/data.npz]"
     },
     "execution_count": 6,
     "metadata": {},
     "output_type": "execute_result"
    }
   ],
   "source": [
    "from model.rcv1 import RCV1Loader\n",
    "\n",
    "loader = RCV1Loader()\n",
    "loader"
   ],
   "metadata": {
    "collapsed": false,
    "ExecuteTime": {
     "end_time": "2023-09-02T15:52:51.312732249Z",
     "start_time": "2023-09-02T15:52:45.465054969Z"
    }
   },
   "id": "c5222b8cad65e23d"
  },
  {
   "cell_type": "markdown",
   "source": [
    "### Load"
   ],
   "metadata": {
    "collapsed": false
   },
   "id": "ee3c01fe780f32c3"
  },
  {
   "cell_type": "markdown",
   "source": [
    "We load data sorting terms by decreasing frequency.\n",
    "\n",
    "We only keep the first documents and terms specified by the configuration file."
   ],
   "metadata": {
    "collapsed": false
   },
   "id": "a6db182700c031d4"
  },
  {
   "cell_type": "code",
   "execution_count": 7,
   "outputs": [],
   "source": [
    "collection = loader.load(n_docs=config.docs, n_terms=config.terms)"
   ],
   "metadata": {
    "collapsed": false,
    "ExecuteTime": {
     "end_time": "2023-09-02T15:52:53.849672512Z",
     "start_time": "2023-09-02T15:52:53.116168077Z"
    }
   },
   "id": "39a7711f76e2002"
  },
  {
   "cell_type": "code",
   "execution_count": 8,
   "outputs": [
    {
     "data": {
      "text/plain": "DataCollection [Docs: 50000; Terms: 14980; Nonzero: 1314210]"
     },
     "execution_count": 8,
     "metadata": {},
     "output_type": "execute_result"
    }
   ],
   "source": [
    "collection"
   ],
   "metadata": {
    "collapsed": false,
    "ExecuteTime": {
     "end_time": "2023-09-02T15:52:53.899824886Z",
     "start_time": "2023-09-02T15:52:53.852656050Z"
    }
   },
   "id": "451d9889b80efa53"
  },
  {
   "cell_type": "markdown",
   "source": [
    "## 3. Computing *d*-gap"
   ],
   "metadata": {
    "collapsed": false
   },
   "id": "5a54b8b28e629bfc"
  },
  {
   "cell_type": "markdown",
   "source": [
    "### *d*-gap instance"
   ],
   "metadata": {
    "collapsed": false
   },
   "id": "b4d8c4b76220fc1a"
  },
  {
   "cell_type": "markdown",
   "source": [
    "Create and instance of DGapComputation for the collection."
   ],
   "metadata": {
    "collapsed": false
   },
   "id": "c989b5b03ae82def"
  },
  {
   "cell_type": "code",
   "execution_count": 9,
   "outputs": [
    {
     "data": {
      "text/plain": "DGapComputation(tiny)[Docs: 50000; Terms: 14980; Computed: False]"
     },
     "execution_count": 9,
     "metadata": {},
     "output_type": "execute_result"
    }
   ],
   "source": [
    "from model.d_gap import DGapComputation\n",
    "\n",
    "dgap = DGapComputation(collection=collection, data_name=config.name)\n",
    "dgap"
   ],
   "metadata": {
    "collapsed": false,
    "ExecuteTime": {
     "end_time": "2023-09-02T15:52:56.069058154Z",
     "start_time": "2023-09-02T15:52:55.497960081Z"
    }
   },
   "id": "fd668eae7d693548"
  },
  {
   "cell_type": "markdown",
   "source": [
    "### Compute *d*-gap statistics"
   ],
   "metadata": {
    "collapsed": false
   },
   "id": "4c54982378f890ef"
  },
  {
   "cell_type": "markdown",
   "source": [
    "We compute *d*-gap in the given collection."
   ],
   "metadata": {
    "collapsed": false
   },
   "id": "c7e9de5657be12f8"
  },
  {
   "cell_type": "code",
   "execution_count": 10,
   "outputs": [
    {
     "name": "stdout",
     "output_type": "stream",
     "text": [
      "INFO: Information not present at /home/sebaq/Documents/GitHub/IR_project/dataset/tiny/avg_d_gap.json. \n",
      "INFO: Computing average d-gap per term. \n"
     ]
    },
    {
     "name": "stderr",
     "output_type": "stream",
     "text": [
      "100%|██████████| 50000/50000 [00:02<00:00, 18082.32it/s]"
     ]
    },
    {
     "name": "stdout",
     "output_type": "stream",
     "text": [
      "CPU times: user 2.77 s, sys: 2.9 ms, total: 2.77 s\n",
      "Wall time: 2.77 s\n"
     ]
    },
    {
     "name": "stderr",
     "output_type": "stream",
     "text": [
      "\n"
     ]
    }
   ],
   "source": [
    "%%time\n",
    "\n",
    "dgap.compute_d_gaps()"
   ],
   "metadata": {
    "collapsed": false,
    "ExecuteTime": {
     "end_time": "2023-09-02T15:53:00.498865361Z",
     "start_time": "2023-09-02T15:52:57.626443513Z"
    }
   },
   "id": "5025083ec9c698c1"
  },
  {
   "cell_type": "code",
   "execution_count": 11,
   "outputs": [
    {
     "data": {
      "text/plain": "array([12.87289, 13.70597, 13.79   , ..., 72.     , 80.     , 88.     ])"
     },
     "execution_count": 11,
     "metadata": {},
     "output_type": "execute_result"
    }
   ],
   "source": [
    "avg_d_gaps = dgap.avg_d_gap_pterm\n",
    "avg_d_gaps"
   ],
   "metadata": {
    "collapsed": false,
    "ExecuteTime": {
     "end_time": "2023-09-02T15:53:04.203320495Z",
     "start_time": "2023-09-02T15:53:04.074846840Z"
    }
   },
   "id": "37c9dcec60117596"
  },
  {
   "cell_type": "markdown",
   "source": [
    "### Average *d*-gap per term plot"
   ],
   "metadata": {
    "collapsed": false
   },
   "id": "f637968f779dd92d"
  },
  {
   "cell_type": "code",
   "execution_count": 12,
   "outputs": [
    {
     "data": {
      "text/plain": "<Figure size 640x480 with 1 Axes>",
      "image/png": "[encoded data removed]"
     },
     "metadata": {},
     "output_type": "display_data"
    }
   ],
   "source": [
    "dgap.plot_avg_d_gap()"
   ],
   "metadata": {
    "collapsed": false,
    "ExecuteTime": {
     "end_time": "2023-09-02T15:53:14.744177988Z",
     "start_time": "2023-09-02T15:53:14.355345561Z"
    }
   },
   "id": "3f24cfd195a1b945"
  },
  {
   "cell_type": "markdown",
   "source": [
    "### Average *d*-gap"
   ],
   "metadata": {
    "collapsed": false
   },
   "id": "ade1fcb21f018176"
  },
  {
   "cell_type": "code",
   "execution_count": 13,
   "outputs": [
    {
     "data": {
      "text/plain": "65.23313317089453"
     },
     "execution_count": 13,
     "metadata": {},
     "output_type": "execute_result"
    }
   ],
   "source": [
    "dgap.avg_d_gap"
   ],
   "metadata": {
    "collapsed": false,
    "ExecuteTime": {
     "end_time": "2023-09-02T15:53:18.287556680Z",
     "start_time": "2023-09-02T15:53:18.157030477Z"
    }
   },
   "id": "4ebc74a16c50989d"
  },
  {
   "cell_type": "markdown",
   "source": [
    "### Save statistics"
   ],
   "metadata": {
    "collapsed": false
   },
   "id": "cf99f4647fd60a13"
  },
  {
   "cell_type": "markdown",
   "source": [
    "We save statistics with in the directory with the specific configuration name: it will be no more necessary a second computation for further analysis."
   ],
   "metadata": {
    "collapsed": false
   },
   "id": "6e336f3903947fec"
  },
  {
   "cell_type": "code",
   "execution_count": 14,
   "outputs": [
    {
     "name": "stdout",
     "output_type": "stream",
     "text": [
      "INFO: Saving average d-gap per term to /home/sebaq/Documents/GitHub/IR_project/dataset/tiny/avg_d_gap.json. \n"
     ]
    }
   ],
   "source": [
    "dgap.save_d_gaps()"
   ],
   "metadata": {
    "collapsed": false,
    "ExecuteTime": {
     "end_time": "2023-09-02T15:53:21.290032822Z",
     "start_time": "2023-09-02T15:53:21.161430570Z"
    }
   },
   "id": "5c6ea0c4b08c7300"
  },
  {
   "cell_type": "markdown",
   "source": [
    "## 4. Dimensionality reduction"
   ],
   "metadata": {
    "collapsed": false
   },
   "id": "a1b90d72779c1d1b"
  },
  {
   "cell_type": "markdown",
   "source": [
    "Clustering and TSP are expensive in a high dimensional and sparse vector space. We employ the [Johnson-Lindenstrauss lemma](https://scikit-learn.org/stable/modules/random_projection.html#the-johnson-lindenstrauss-lemma) to embed data points in a lower dense dimensional space through a random projection. Target dimension depends on an approximation factor specified in Dataset configuration."
   ],
   "metadata": {
    "collapsed": false
   },
   "id": "3d7ded8dfbde7e32"
  },
  {
   "cell_type": "markdown",
   "source": [
    "### Approximation factor"
   ],
   "metadata": {
    "collapsed": false
   },
   "id": "50a03bcf2e4912"
  },
  {
   "cell_type": "markdown",
   "source": [
    "The approximation factor is in range [0, 1]"
   ],
   "metadata": {
    "collapsed": false
   },
   "id": "eff033934aaf098a"
  },
  {
   "cell_type": "code",
   "execution_count": 15,
   "outputs": [
    {
     "data": {
      "text/plain": "0.3"
     },
     "execution_count": 15,
     "metadata": {},
     "output_type": "execute_result"
    }
   ],
   "source": [
    "eps = config.eps\n",
    "eps"
   ],
   "metadata": {
    "collapsed": false,
    "ExecuteTime": {
     "end_time": "2023-09-02T15:53:32.283229322Z",
     "start_time": "2023-09-02T15:53:32.218048667Z"
    }
   },
   "id": "ab54da4356c1557e"
  },
  {
   "cell_type": "markdown",
   "source": [
    "Project to embedded space."
   ],
   "metadata": {
    "collapsed": false
   },
   "id": "dae6e79639c738a6"
  },
  {
   "cell_type": "code",
   "execution_count": 16,
   "outputs": [
    {
     "data": {
      "text/plain": "(50000, 1202)"
     },
     "execution_count": 16,
     "metadata": {},
     "output_type": "execute_result"
    }
   ],
   "source": [
    "embedded = collection.embed(eps=eps)\n",
    "embedded.shape"
   ],
   "metadata": {
    "collapsed": false,
    "ExecuteTime": {
     "end_time": "2023-09-02T15:53:34.472328047Z",
     "start_time": "2023-09-02T15:53:32.886731477Z"
    }
   },
   "id": "13800aa420e8a1d"
  },
  {
   "cell_type": "markdown",
   "source": [
    "## 5. Clustering"
   ],
   "metadata": {
    "collapsed": false
   },
   "id": "a151098759397620"
  },
  {
   "cell_type": "markdown",
   "source": [
    "### Compute number of clusters"
   ],
   "metadata": {
    "collapsed": false
   },
   "id": "7d2e3b6feeed17a9"
  },
  {
   "cell_type": "markdown",
   "source": [
    "We compute the number of cluster to find using a function specified in the configuration."
   ],
   "metadata": {
    "collapsed": false
   },
   "id": "d4c89065f08ec094"
  },
  {
   "cell_type": "code",
   "execution_count": 17,
   "outputs": [
    {
     "data": {
      "text/plain": "150"
     },
     "execution_count": 17,
     "metadata": {},
     "output_type": "execute_result"
    }
   ],
   "source": [
    "n_cluster = config.n_cluster\n",
    "n_cluster"
   ],
   "metadata": {
    "collapsed": false,
    "ExecuteTime": {
     "end_time": "2023-09-02T15:53:34.630356434Z",
     "start_time": "2023-09-02T15:53:34.563169091Z"
    }
   },
   "id": "f74aabc3e6e41f58"
  },
  {
   "cell_type": "markdown",
   "source": [
    "### Create K-Means instance"
   ],
   "metadata": {
    "collapsed": false
   },
   "id": "40abac39414bdae6"
  },
  {
   "cell_type": "code",
   "execution_count": 18,
   "outputs": [],
   "source": [
    "from model.clustering import KMeansClustering\n",
    "\n",
    "kmeans = KMeansClustering(mat=embedded, data_name=config.name, k=n_cluster)"
   ],
   "metadata": {
    "collapsed": false,
    "ExecuteTime": {
     "end_time": "2023-09-02T15:53:35.689463144Z",
     "start_time": "2023-09-02T15:53:35.394101327Z"
    }
   },
   "id": "1cd9bac9fd1d080b"
  },
  {
   "cell_type": "code",
   "execution_count": 19,
   "outputs": [
    {
     "data": {
      "text/plain": "KMeansClustering(tiny)[Items: 50000; k: 150; Labeling computed: False]"
     },
     "execution_count": 19,
     "metadata": {},
     "output_type": "execute_result"
    }
   ],
   "source": [
    "kmeans"
   ],
   "metadata": {
    "collapsed": false,
    "ExecuteTime": {
     "end_time": "2023-09-02T15:53:35.751949813Z",
     "start_time": "2023-09-02T15:53:35.663187737Z"
    }
   },
   "id": "3eccf9f209fbfd83"
  },
  {
   "cell_type": "markdown",
   "source": [
    "### Training model and retrieve labeling"
   ],
   "metadata": {
    "collapsed": false
   },
   "id": "773a0881048d3220"
  },
  {
   "cell_type": "code",
   "execution_count": 20,
   "outputs": [
    {
     "name": "stdout",
     "output_type": "stream",
     "text": [
      "INFO: Information not present at /home/sebaq/Documents/GitHub/IR_project/dataset/tiny/labeling.json. \n",
      "INFO: Fitting K-Means model. \n",
      "CPU times: user 3min 27s, sys: 12.6 s, total: 3min 40s\n",
      "Wall time: 1min 7s\n"
     ]
    }
   ],
   "source": [
    "%%time\n",
    "\n",
    "kmeans.fit()"
   ],
   "metadata": {
    "collapsed": false,
    "ExecuteTime": {
     "end_time": "2023-09-02T15:54:44.355423012Z",
     "start_time": "2023-09-02T15:53:36.363823443Z"
    }
   },
   "id": "b1c49945a21bde03"
  },
  {
   "cell_type": "code",
   "execution_count": 21,
   "outputs": [
    {
     "data": {
      "text/plain": "array([110,  46, 118, ...,   7, 132, 132], dtype=int32)"
     },
     "execution_count": 21,
     "metadata": {},
     "output_type": "execute_result"
    }
   ],
   "source": [
    "labeling = kmeans.labeling\n",
    "\n",
    "labeling"
   ],
   "metadata": {
    "collapsed": false,
    "ExecuteTime": {
     "end_time": "2023-09-02T15:54:44.413941138Z",
     "start_time": "2023-09-02T15:54:44.356703082Z"
    }
   },
   "id": "961db9d569348025"
  },
  {
   "cell_type": "markdown",
   "source": [
    "### Save labeling"
   ],
   "metadata": {
    "collapsed": false
   },
   "id": "a00ef790e6def807"
  },
  {
   "cell_type": "markdown",
   "source": [
    "We save labeling on disk so we don't necessitate to compute again for further needs."
   ],
   "metadata": {
    "collapsed": false
   },
   "id": "447057cfdd4b8e31"
  },
  {
   "cell_type": "code",
   "execution_count": 22,
   "outputs": [
    {
     "name": "stdout",
     "output_type": "stream",
     "text": [
      "INFO: Saving labeling to /home/sebaq/Documents/GitHub/IR_project/dataset/tiny/labeling.json. \n"
     ]
    }
   ],
   "source": [
    "kmeans.save_labeling()"
   ],
   "metadata": {
    "collapsed": false,
    "ExecuteTime": {
     "end_time": "2023-09-02T15:54:46.372511784Z",
     "start_time": "2023-09-02T15:54:46.238070030Z"
    }
   },
   "id": "c35baeac9d3a5592"
  },
  {
   "cell_type": "markdown",
   "source": [
    "## 6. Cluster split"
   ],
   "metadata": {
    "collapsed": false
   },
   "id": "79a26eb9438114db"
  },
  {
   "cell_type": "markdown",
   "source": [
    "### Get CollectionCluster instance"
   ],
   "metadata": {
    "collapsed": false
   },
   "id": "45e097f4ffc1ab8e"
  },
  {
   "cell_type": "markdown",
   "source": [
    "We split data in cluster using the labeling."
   ],
   "metadata": {
    "collapsed": false
   },
   "id": "450ed8d0d65df14c"
  },
  {
   "cell_type": "code",
   "execution_count": 23,
   "outputs": [],
   "source": [
    "collection_clusters = kmeans.clusters"
   ],
   "metadata": {
    "collapsed": false,
    "ExecuteTime": {
     "end_time": "2023-09-02T15:54:47.796816762Z",
     "start_time": "2023-09-02T15:54:47.528465851Z"
    }
   },
   "id": "1e921e3f48852cab"
  },
  {
   "cell_type": "code",
   "execution_count": 24,
   "outputs": [
    {
     "data": {
      "text/plain": "RCV1Clusters(tiny)[Data: 50000, Clusters: 150, Mean-per-Cluster: 333.333; Medoids computed: False]"
     },
     "execution_count": 24,
     "metadata": {},
     "output_type": "execute_result"
    }
   ],
   "source": [
    "collection_clusters"
   ],
   "metadata": {
    "collapsed": false,
    "ExecuteTime": {
     "end_time": "2023-09-02T15:54:47.984431887Z",
     "start_time": "2023-09-02T15:54:47.904468337Z"
    }
   },
   "id": "d8e0981f62624b34"
  },
  {
   "cell_type": "markdown",
   "source": [
    "### Compute medoids"
   ],
   "metadata": {
    "collapsed": false
   },
   "id": "a31846f8eb6d0899"
  },
  {
   "cell_type": "code",
   "execution_count": 25,
   "outputs": [
    {
     "name": "stdout",
     "output_type": "stream",
     "text": [
      "INFO: Information not present at /home/sebaq/Documents/GitHub/IR_project/dataset/tiny/medoids.npy. \n",
      "INFO: Computing medoids. \n"
     ]
    },
    {
     "name": "stderr",
     "output_type": "stream",
     "text": [
      "100%|██████████| 150/150 [00:00<00:00, 2916.68it/s]"
     ]
    },
    {
     "name": "stdout",
     "output_type": "stream",
     "text": [
      "CPU times: user 54.6 ms, sys: 4.17 ms, total: 58.7 ms\n",
      "Wall time: 57.1 ms\n"
     ]
    },
    {
     "name": "stderr",
     "output_type": "stream",
     "text": [
      "\n"
     ]
    }
   ],
   "source": [
    "%%time\n",
    "\n",
    "collection_clusters.compute_medoids()"
   ],
   "metadata": {
    "collapsed": false,
    "ExecuteTime": {
     "end_time": "2023-09-02T15:54:49.257493180Z",
     "start_time": "2023-09-02T15:54:49.106196071Z"
    }
   },
   "id": "247148a04419a864"
  },
  {
   "cell_type": "code",
   "execution_count": 26,
   "outputs": [
    {
     "data": {
      "text/plain": "(150, 1202)"
     },
     "execution_count": 26,
     "metadata": {},
     "output_type": "execute_result"
    }
   ],
   "source": [
    "medoids = collection_clusters.medoids\n",
    "\n",
    "medoids.shape"
   ],
   "metadata": {
    "collapsed": false,
    "ExecuteTime": {
     "end_time": "2023-09-02T15:54:49.466538997Z",
     "start_time": "2023-09-02T15:54:49.409831522Z"
    }
   },
   "id": "45d306c8cf45c8bf"
  },
  {
   "cell_type": "code",
   "execution_count": 27,
   "outputs": [
    {
     "data": {
      "text/plain": "array([[ 1.36403599e-03,  8.07088118e-02, -1.05565402e-03, ...,\n        -4.34139044e-04,  8.09440817e-04, -4.18521386e-04],\n       [-7.22301757e-06, -3.09195456e-04,  1.49991361e-02, ...,\n         2.31018020e-04,  1.98448015e-03, -1.99378563e-03],\n       [ 1.02311415e-02,  7.13199414e-03,  3.28259824e-03, ...,\n        -4.53420618e-03,  9.81155511e-03, -2.61564926e-03],\n       ...,\n       [ 0.00000000e+00,  3.87379546e-02, -1.36323748e-02, ...,\n         0.00000000e+00,  0.00000000e+00,  0.00000000e+00],\n       [ 4.53715052e-02,  0.00000000e+00,  4.17127013e-02, ...,\n         0.00000000e+00,  0.00000000e+00,  0.00000000e+00],\n       [ 7.11503065e-03,  2.76809460e-04, -8.20012600e-04, ...,\n        -2.32124790e-03,  7.61700457e-04,  6.29590527e-05]])"
     },
     "execution_count": 27,
     "metadata": {},
     "output_type": "execute_result"
    }
   ],
   "source": [
    "medoids"
   ],
   "metadata": {
    "collapsed": false,
    "ExecuteTime": {
     "end_time": "2023-09-02T15:54:50.111411711Z",
     "start_time": "2023-09-02T15:54:50.048912770Z"
    }
   },
   "id": "11ad79483b32e7b4"
  },
  {
   "cell_type": "markdown",
   "source": [
    "### Save medoids"
   ],
   "metadata": {
    "collapsed": false
   },
   "id": "a4fb5cc865ce8807"
  },
  {
   "cell_type": "markdown",
   "source": [
    "Save medoids on disk."
   ],
   "metadata": {
    "collapsed": false
   },
   "id": "504eb925b2b1d4ad"
  },
  {
   "cell_type": "code",
   "execution_count": 28,
   "outputs": [
    {
     "name": "stdout",
     "output_type": "stream",
     "text": [
      "INFO: Saving medoids to /home/sebaq/Documents/GitHub/IR_project/dataset/tiny/medoids.npy. \n"
     ]
    }
   ],
   "source": [
    "collection_clusters.save_medoids()"
   ],
   "metadata": {
    "collapsed": false,
    "ExecuteTime": {
     "end_time": "2023-09-02T15:54:54.044147776Z",
     "start_time": "2023-09-02T15:54:53.971217660Z"
    }
   },
   "id": "2fd22cea20383fa7"
  },
  {
   "cell_type": "markdown",
   "source": [
    "## 7. doc-*ID* reassignment"
   ],
   "metadata": {
    "collapsed": false
   },
   "id": "1ec9c36886e41b99"
  },
  {
   "cell_type": "code",
   "execution_count": 29,
   "outputs": [
    {
     "name": "stdout",
     "output_type": "stream",
     "text": [
      "INFO: Medoids already computed. Use `medoids` to retrieve them. \n"
     ]
    },
    {
     "data": {
      "text/plain": "DocIdReassignmentComputation(tiny)[]"
     },
     "execution_count": 29,
     "metadata": {},
     "output_type": "execute_result"
    }
   ],
   "source": [
    "from model.reassignment import DocIdReassignmentComputation\n",
    "\n",
    "reassignment_computation = DocIdReassignmentComputation(\n",
    "    cluster=collection_clusters,\n",
    "    data_name=config.name\n",
    ")\n",
    "\n",
    "reassignment_computation"
   ],
   "metadata": {
    "collapsed": false,
    "ExecuteTime": {
     "end_time": "2023-09-02T15:54:54.990803679Z",
     "start_time": "2023-09-02T15:54:54.854138387Z"
    }
   },
   "id": "aaeb1a81441d2a84"
  },
  {
   "cell_type": "code",
   "execution_count": 30,
   "outputs": [
    {
     "name": "stdout",
     "output_type": "stream",
     "text": [
      "INFO: Information not present at /home/sebaq/Documents/GitHub/IR_project/dataset/tiny/reassignment_order.json. \n",
      "INFO: Solving TSP over medoids \n",
      "INFO: Solving TSP. \n",
      "INFO: Solving cluster internal order\n"
     ]
    },
    {
     "name": "stderr",
     "output_type": "stream",
     "text": [
      "100%|██████████| 150/150 [00:00<00:00, 229.51it/s]\n"
     ]
    }
   ],
   "source": [
    "reassignment_computation.solve()"
   ],
   "metadata": {
    "collapsed": false,
    "ExecuteTime": {
     "end_time": "2023-09-02T15:54:56.661605546Z",
     "start_time": "2023-09-02T15:54:55.827817517Z"
    }
   },
   "id": "cbb7dabaaa796c19"
  },
  {
   "cell_type": "code",
   "execution_count": 31,
   "outputs": [
    {
     "data": {
      "text/plain": "array([  2, 149, 148, 147, 146, 145, 144, 143, 142, 141, 140, 139, 138,\n       137, 136, 135, 134, 133, 132, 131, 130, 129, 128, 127, 126, 125,\n       124, 123, 122, 121, 120, 119, 118, 117, 116, 115, 114, 113, 112,\n       111, 110, 109, 108, 107, 106, 105, 104, 103, 102, 101, 100,  99,\n        98,  97,  96,  95,  94,  93,  92,  91,  90,  89,  88,  87,  86,\n        85,  84,  83,  82,  81,  80,  79,  78,  77,  76,  75,  74,  73,\n        72,  71,  70,  69,  68,  67,  66,  65,  64,  63,  62,  61,  60,\n        59,  58,  57,  56,  55,  54,  53,  52,  51,  50,  49,  48,  47,\n        46,  45,  44,  43,  42,  41,  40,  39,  38,  37,  36,  35,  34,\n        33,  32,  31,  30,  29,  28,  27,  26,  25,  24,  23,  22,  21,\n        20,  19,  18,  17,  16,  15,  14,  13,  12,  11,  10,   9,   8,\n         7,   6,   5,   4,   3,   1,   0])"
     },
     "execution_count": 31,
     "metadata": {},
     "output_type": "execute_result"
    }
   ],
   "source": [
    "reassignment_computation.medoids_order"
   ],
   "metadata": {
    "collapsed": false,
    "ExecuteTime": {
     "end_time": "2023-09-02T15:54:57.105272729Z",
     "start_time": "2023-09-02T15:54:57.049358562Z"
    }
   },
   "id": "b9d8103684743125"
  },
  {
   "cell_type": "code",
   "execution_count": 32,
   "outputs": [
    {
     "data": {
      "text/plain": "{0: array([ 15, 131, 181, 188, 279, 278, 174, 172, 141,  57,   9,  16, 170,\n          8,   7, 276, 182, 115, 268, 105, 130, 103, 168, 270,  44,  43,\n         90,  88, 184, 187, 116, 104, 132, 133, 156,  93, 208,  98, 167,\n         92, 262,  91, 261, 229, 114, 102, 185, 274, 228, 179, 163, 166,\n         29, 176, 183, 215, 159,  13, 173,  38, 272,  37, 277, 164,  51,\n        259, 165, 123, 162, 186, 157, 197, 249, 281, 196,   4, 280, 180,\n        232, 224,  56, 160, 195,  76,  26, 144,  73, 255, 211, 171, 257,\n        118, 161,   6, 119,  82,  59, 169, 117, 121, 145, 203, 230, 231,\n         23, 269,  21, 143, 210,  62, 136, 244, 129, 199,  60,  65, 209,\n        198,   5, 126, 128,   3, 246, 248, 178, 140, 135, 223,   2, 134,\n         81, 227,  34, 139, 245,  33, 252, 142, 107, 148, 271, 127, 101,\n         85,  97,  20,  42, 149, 137, 147, 125, 155, 124,  36,  89, 122,\n         19,  35, 100,   1, 120, 242,  41,  17, 264, 216, 177, 265,  32,\n        263, 273, 219, 236,  99,  80,  31, 266, 275, 189, 111, 175, 250,\n        218,  96, 235,  50, 226, 109, 243, 239, 225,  78, 267,  46, 108,\n         74,  87, 222, 254,  14,  86,  71, 106, 241,  49, 247,  55,  40,\n         58,  48, 221, 113,  54,  39,  84,  52, 191, 240, 251, 112, 110,\n         95, 194,  28, 152, 220, 212,  53, 193, 146,  75, 138, 260, 253,\n        192,  70,  68, 151,  69,  72, 217, 153,  47,  27, 204,  63, 207,\n         83, 190, 237,  67, 206, 154, 150, 214,  64,  24, 205, 202, 213,\n        234, 201, 238,  66,  79, 200,  77,  94,  30,  61,   0,  18, 233,\n         12, 258, 158, 256,  11,  45,  25,  10,  22]),\n 1: array([212, 217,  33, 240, 231, 107,   9, 204, 232, 202, 246, 242, 111,\n         89,  40,  51,  72,   6, 113,  17, 210, 279,  16,  86, 261, 197,\n         69,  43, 145,   5, 276, 267, 258, 256, 264,  75, 199, 121,  52,\n         12, 260,  59, 102, 230,  78,  57,  19,  37, 255, 206, 140,  46,\n          4, 207,  41, 226, 219,  31,  30, 289, 112, 154, 174, 135, 183,\n        127, 292, 222, 269, 203, 164, 253, 163, 149, 190, 165,  82, 191,\n        138, 265,  22,  14, 237, 209,  13, 162,  20, 239,  56,  71,  53,\n         94,  21,  61,  34, 223, 281, 101, 224, 216, 250, 211, 130, 228,\n         42, 213, 150, 161,  73, 109, 277, 248,  38,  55, 270, 166, 126,\n        143, 100,  62, 234, 155,  85, 280, 123, 201, 251,  67,  44, 118,\n         11, 142, 192,  93, 180, 220, 146, 284, 144, 227, 189, 106,  65,\n        152,  45,  29, 268, 159, 288, 259,  90, 186, 290, 185, 129, 243,\n        105,  92, 198,  70,   1, 124, 141,   7, 115, 285, 125,   8, 188,\n        167, 128, 233,  60, 205, 238,  23,  27,  95, 103,  98,   0,   3,\n          2,  99,  77,  54, 117, 274,  25, 225,  68, 247, 249, 272,  49,\n         35, 263, 173,  63, 116, 157, 139, 200, 221,  32, 244, 278,  74,\n        136, 235, 266, 214, 178, 148, 245,  96, 182,  91, 287, 218,  83,\n        132, 122, 134, 153, 175,  80, 229, 119,  79,  84, 262, 104, 194,\n        275, 137, 282, 168,  36, 176, 179, 151, 158, 294, 170, 283,  87,\n        108,  47, 271, 110, 257, 181,  81, 187, 160,  10, 184, 147, 273,\n         64, 286,  28, 291,  58, 131,  50,  39, 195, 196,  88, 208, 172,\n         48, 177, 293, 114, 133, 120,  15,  24, 254, 252,  76,  97, 241,\n        215, 169,  26, 156, 193, 236,  18,  66, 171]),\n 2: array([  1,  12,  23,  78, 131,  29, 151, 101,  38,  68, 134, 108,  21,\n         56, 144,  98,   6,  13, 123,  84,  34,  99, 132, 124, 116, 117,\n        149, 150,  85, 109, 143, 142,  50,  42,  51,  36,   0,  52, 100,\n        126,  59, 106,  14,  11, 152,  81,  22, 148,   5, 115, 141,  87,\n        140,  57,  44,  19,  55,  41,  43,  24, 135,  58,  49,  18,  76,\n        111,  69, 133, 119,  82,  37, 145, 137,  86,  15, 118,  64,  94,\n        112,  45, 136, 113,   3,  10, 147,  17, 138, 122, 121,  83,  63,\n         30,   9,  53, 128,  33, 102,  77,  46,  79,  27,  40,  67,  95,\n         54, 146, 139, 120, 127,  97,  92,  39,  70, 130,  89,   4,   8,\n         26,  75,  91,  88,  20,  31, 114,  90,  62,  25,  74, 103,  32,\n          2,  60, 104,  65, 125,  93,  35,  47,   7, 105,  80,  73,  28,\n         61, 110,  66, 129,  48,  72,  71,  16,  96, 107]),\n 3: array([13,  7,  2, 20, 23, 14,  6,  5, 34,  4, 24, 29,  0, 21, 25,  8, 30,\n        17,  1, 12, 18, 27, 26, 16, 15, 11,  9, 22,  3, 19, 32, 31, 35, 10,\n        28, 33]),\n 4: array([119,  91, 375, 340,  75, 114, 210, 341, 460, 350, 390,  76, 436,\n        424, 120, 143, 111, 384,  43, 368, 269, 126,  44, 130, 372, 187,\n         22, 339, 212,  48,  30, 373, 202, 371, 140, 118,   8,   4,   7,\n        405, 312, 343, 309, 195, 257, 270,  85,  84, 264,  97, 307,  19,\n        125, 251, 175, 173, 101,   2,   3, 197, 179, 209, 352, 200,  31,\n        346, 158, 236, 407, 334, 429,  62,  27, 272, 192,  11, 100, 112,\n        176,  21, 134, 105, 152, 400, 300, 243, 435, 421, 161, 316, 443,\n        268, 109, 455, 242,  23, 231, 186, 351, 458, 344,  28, 166, 252,\n        265, 275, 131,  89, 308, 450, 221, 391,   1, 355, 403,  38,  93,\n        266, 137, 240, 102, 332, 230, 124, 188, 442, 121,   5, 104, 322,\n         52, 141, 365, 420, 345, 401, 374, 151, 335, 169, 276, 258, 139,\n         46,  79, 408, 459, 354,  69,  24, 273, 325, 239, 291, 437, 397,\n          6, 418, 297, 306,  25, 235, 259, 162,   9, 342, 330, 366,  87,\n        103,  71,  65, 438,  57, 281,  33,  34, 135, 198, 145, 146, 106,\n         20,  53,   0,  51, 433, 262, 441, 370, 260, 283, 185, 123, 191,\n        183,  42,  95, 382, 363, 117, 211, 177,  37, 410, 274, 178, 282,\n        402,  67, 190,  56,  39, 416,  64, 414, 115, 456, 201, 324, 227,\n        238, 314,  15, 153,  47,  26,  45, 452, 319, 278, 299,  63,  50,\n        412,  88, 228, 444,  92, 107, 396,  68, 358, 226,  82, 289, 247,\n        167, 454, 439, 196, 395, 156,  29, 155, 451, 399,  98, 413, 449,\n        225, 180,  86, 133, 386, 389,  80,  83, 303, 108,  81, 398, 229,\n        415,  74, 147, 383, 224, 184, 199, 279, 207, 170, 280, 254, 404,\n         66, 406, 328, 387, 215, 160, 136, 241, 349, 385, 290,  12, 149,\n        428, 138, 277, 304, 245,  55, 255,  90, 296, 127, 132, 369, 411,\n        423, 165, 154, 150,  16, 194, 388, 394,  78,  58, 193,  99, 181,\n        317, 393, 356, 338, 313, 359, 288, 284, 157, 453,  59, 409, 337,\n        218,  73, 434, 336, 440, 326, 347,  72, 222, 320, 379, 217, 432,\n        233, 232, 148, 163,  54, 213,  49,  60, 378,  77, 392, 362, 253,\n         18, 380, 204,  32, 249, 447,  35, 446,  36,  13, 168, 271, 381,\n        425, 214, 377, 298, 310, 367,  14, 110, 333, 293, 357,  96, 164,\n         17, 376,  41, 203, 205, 171, 427, 128, 422, 445, 116, 234, 159,\n        430, 182, 250, 457, 431, 448, 461, 360, 174, 327,  70, 122, 301,\n        419,  40, 261, 311, 285, 295, 361, 219, 248, 331, 246, 172, 208,\n        329, 189, 426, 129, 216, 348, 353, 302, 237, 244, 263, 256, 318,\n        417, 294, 142,  61, 287, 321, 292, 305, 315,  94,  10, 206, 286,\n        364, 113, 144, 223, 267, 323, 220]),\n 5: array([ 94, 292, 156, 233, 172, 120, 158, 195, 199,  76,  74, 164, 139,\n        140, 155, 134, 162,  97, 183, 108, 152, 146, 142, 190, 200,  92,\n        141, 157, 223, 138, 234, 182, 102,  73, 323, 186, 151,  40, 216,\n        124, 312, 224, 198,  95,  37, 201, 299, 137, 163, 161,  63, 113,\n        268, 194, 219, 192, 114, 122, 154, 206, 166, 308,  44, 204, 126,\n        317, 167, 225, 125,  56, 133, 214, 235, 304, 174, 185, 143, 256,\n        115,  99, 193, 231, 132, 127,  96,  79, 295, 311, 297,  89, 173,\n        211, 237,  93, 266, 191, 170,  75, 197, 298, 212, 296, 153, 109,\n        144, 177,  98,  33, 288, 121, 226, 236,  36, 147, 128, 215, 260,\n        203, 175, 251,  19,  88, 129, 318,  42, 253, 180, 218, 101, 254,\n        324, 150, 258, 169,  34,  41, 271,  61,  25,  85, 303,  91,   1,\n         39, 289, 262,  59, 261, 242,   2,  80,  24, 178, 176, 244, 205,\n        131, 171, 145, 160, 103, 210,   9, 187, 279, 310, 300, 135, 290,\n        282, 313,  16, 188,  69, 239,   8,  71, 209, 267,   5, 283, 116,\n        274, 238, 117, 168, 208, 250,  55, 230, 293, 207,  84, 221,  35,\n         32, 189, 119, 213,  27,  46,   7,  54,  18,  83, 181,  67,  29,\n        107, 123,  62, 196,  20,  57, 105, 100,   3,  65,   6, 259,  38,\n         23,   0,  53, 106,  90,  52, 112, 111,  66,  50, 232, 285, 286,\n        263,  70,  82, 227,  60,  26, 280, 165, 246,  22, 320, 322,  45,\n        302,  58,  43, 284,  86, 247,  49,  87,  14,   4, 217,  72,  30,\n         13, 149, 307, 252,  31, 301, 316, 309, 315,  12, 277, 159, 184,\n        240, 314, 291,  17, 110, 241, 136,  68,  15, 148, 228, 305, 275,\n        294,  51, 276, 281, 269, 264,  21, 255, 278,  28, 257, 319, 179,\n        249, 273,  81, 265,  64, 222, 104, 287, 220,  10, 321, 272, 118,\n        243,  11,  77, 248, 202, 245,  47,  78, 306, 229, 130, 270,  48]),\n 6: array([ 9,  3, 17, 13, 14, 10, 16,  2, 18,  1, 19, 12, 15,  5,  0,  4,  6,\n         8,  7, 11, 20]),\n 7: array([10371,  4798, 12339, ..., 10122, 11976,  5222]),\n 8: array([3, 2, 1, 0]),\n 9: array([54, 25, 41,  9, 27, 42, 19, 26, 13,  7, 46, 40, 56, 10, 30, 48, 29,\n        28, 21, 43, 12, 14,  1, 35, 55, 32, 39, 20, 16, 18, 11,  4,  8,  5,\n        49, 51, 37, 38, 36, 15,  6, 34, 33, 17, 23,  3, 22, 24,  2, 53, 47,\n        45, 52, 31,  0, 50, 44]),\n 10: array([40, 23, 12, 41, 38, 32,  6, 37, 27, 22,  5, 26,  9, 24, 10, 14,  7,\n        39, 25, 35, 42, 28, 36, 13, 43, 11, 21, 20, 34, 17,  8,  1,  4, 33,\n        19,  3, 29, 44, 18, 16, 31,  0,  2, 15, 30]),\n 11: array([ 4,  7, 10,  6,  2,  5,  9,  8,  1,  3,  0]),\n 12: array([41, 48, 61, 27, 46, 57, 25, 22, 33, 28, 62, 59, 63, 15, 21,  6,  4,\n        37, 53, 31, 39, 36, 24, 17,  5, 56, 42, 11, 35,  3,  1, 40, 20, 64,\n        49, 47,  9, 58, 19, 54, 13, 12,  0, 45, 50, 52, 51, 44, 10, 18, 16,\n         8, 14, 29,  7, 30, 34, 32,  2, 60, 43, 55, 38, 26, 23]),\n 13: array([11, 12, 19, 18, 14,  7,  8,  9, 10, 21, 17,  3,  2,  1, 16,  0,  4,\n        15, 20, 13,  5,  6]),\n 14: array([ 76, 137, 153, 202, 181, 336, 305, 330, 249, 159, 231,  69, 191,\n        331, 344, 242, 197, 170,  71, 109, 302, 373, 286, 138, 352, 266,\n         27, 111, 267,  18, 277,  12, 128, 345, 108,  26, 350, 134,  65,\n        163, 186, 129, 327,  32,  99, 171, 224, 253, 172,  47,  81,   0,\n        339, 362, 367, 136, 375, 259, 365, 357, 100, 311, 157,  57, 179,\n         49,  86, 208, 217, 182, 308, 146,  73, 176, 239,   2,  28, 102,\n        282, 158, 247,  83, 175, 343,  24,  90,  33,  98, 211, 332, 353,\n        323, 236,  48, 117,  15,  93,  80,  66, 152, 112, 188,  82, 226,\n        288, 154, 272, 220, 194, 118,  13, 223,  30, 278, 326, 341, 227,\n        240, 372,  17,  64, 230, 287, 140, 309, 228, 110,  43, 334,   6,\n        233, 325, 265,  95, 244, 281, 285, 150, 185,   1,  78, 165,   3,\n        252, 162, 312, 144, 318, 369, 289, 123, 243, 235, 204, 294, 284,\n        320, 174,  94,  20, 126, 180, 295, 200, 132, 120, 122,  59,  61,\n        142, 292, 315, 189,  16, 260, 167, 324, 143, 317, 119, 155, 183,\n         97, 321,  29, 104, 274,  44, 145, 131, 173, 319, 293, 283, 125,\n         56, 141, 316, 190,  22, 301, 328, 279, 306,  11, 374, 300, 149,\n        229,  89,  68,  38,   8,  41, 342,  92, 234, 275, 225, 219, 271,\n        347,  35, 258, 363, 310, 248, 371,  67, 358, 340, 251, 250,  45,\n          7,  37,  40,  77,  79, 346, 264, 257, 106, 261,  31, 115, 116,\n        241, 201,  87, 270, 187, 212,  70, 168,  54,   9, 166, 304,  23,\n        214,  75,  96, 349,  36, 313, 361, 124, 105,   5,  91, 273,  25,\n        207, 178, 222, 114, 329, 255, 139, 198, 161, 246, 351, 121, 164,\n        101, 221, 238, 314,  50, 205, 196, 290, 135, 370, 127, 364,  39,\n        360, 297, 213, 307,  21,  14, 156,  88, 338, 376, 303, 268,  62,\n         19, 333, 291, 298, 359, 378, 210, 107, 147, 193, 237,  46,  55,\n        355,  10, 199, 160, 209, 133, 276, 192,  72, 232, 215, 322, 256,\n        296,  63, 148,  60, 206,  52, 184, 263, 103, 203, 151, 216, 299,\n        218,  58, 356, 337, 348,  42, 262, 354, 280, 335,  51, 169,  34,\n        368, 269, 195, 254, 130,  84,  85,   4,  74, 366,  53, 177, 245,\n        377, 113]),\n 15: array([ 0,  9,  7,  6,  5,  8,  3,  2,  1,  4, 15, 10, 11, 12, 14, 16, 13]),\n 16: array([14, 20,  2, 15, 18, 16,  0, 13,  1, 19, 17,  6,  3, 22,  8, 12,  5,\n        21,  4, 10,  9, 11,  7]),\n 17: array([38, 69, 25, 66, 14, 57, 41, 65,  9, 16, 32, 31, 35, 51, 60,  1, 49,\n        27, 68, 59, 28, 43, 29, 46, 15,  3, 34, 24, 22, 62, 61, 30,  8, 18,\n        45, 36, 13, 54,  7,  0, 23,  4, 20, 58, 33, 19, 56, 26, 40, 64, 48,\n        21, 11, 53, 52, 67,  5, 42, 39, 10,  2, 47,  6, 37, 12, 44, 55, 63,\n        17, 50]),\n 18: array([243,  56, 102,   1,  23, 174, 155,  19, 134,  57, 165, 221, 216,\n        157,  94,  91, 289,  64, 304, 283, 300,  95, 217, 161, 223,  58,\n         11, 319, 136,  21,  59, 284,  20, 176, 167,  79, 236,  80, 224,\n         26, 242, 104,   2,  16, 119, 118,  12, 188, 207, 184, 148, 121,\n        306, 290, 189,  78,  81, 138,  75, 159,  37, 317,  32, 151,  38,\n         46, 298, 128, 213, 140, 185, 215, 209, 173,  65, 172,  67,  77,\n        113,  82,  44, 175,  66,   4, 199, 301, 130, 302,  45, 281, 142,\n         34,  51, 260, 192, 255, 146, 206, 164, 133, 171,  52, 278,  24,\n        208, 309, 248,   8, 137, 249,  92, 245, 211, 303, 166,  99, 310,\n        254, 129, 241,  71,  69,   3,  53, 198, 163,  22, 225, 258, 250,\n        279, 305, 251, 145, 158, 152,  25, 110, 210, 299, 288, 160, 154,\n        200, 111,  90,  10,  89, 201,  27, 101, 193, 287,  28, 117, 282,\n         83, 253, 265, 212, 123, 125, 275, 273, 132, 318, 120,  29, 178,\n        274,  31,  86, 214, 150,  93,   6, 162, 316, 272, 308, 143, 169,\n        181, 177,   9, 196, 141, 268, 271, 227,  30, 222, 259,  42, 153,\n        197, 270, 295, 180, 264, 267,  55,  43, 124, 252, 100, 170, 313,\n        149, 183, 203, 202, 127, 312, 122,   7,  47, 277, 286,   5,  36,\n        219, 291, 205,  48, 106, 262, 218, 276,  73, 297, 269, 314, 220,\n         39, 204, 194,  97,  41,  60, 126, 186, 107, 156, 261, 315, 112,\n         62, 195,  40, 147, 307,  13,  54, 294, 235,  72,   0, 293, 263,\n        246, 296, 231, 168,  18, 114, 244, 280, 232,  70, 257, 233, 247,\n        311, 256,  68, 234, 187,  15, 285, 108, 266,  98, 292,  96, 105,\n        103, 179, 182, 228,  14, 240,  74,  76, 229, 109, 230,  63, 144,\n        135,  61, 238, 139, 237,  17,  49,  50, 131, 226,  85,  88, 191,\n        190,  33,  35,  87,  84, 239, 116, 115]),\n 19: array([823, 367, 601, ...,  29, 145, 780]),\n 20: array([122, 101,  12,  73,  62,  98,  90, 108,  14, 128,  72, 146,  68,\n        124,  50, 115,  13, 116,  15, 152,  92,  77, 150, 144,  66, 147,\n          4,  76,  22,  20, 112,  97, 139, 120,  23,  46, 103,  37, 114,\n         85, 134,  63, 107, 153,   2, 102,  59,  96, 140,  36, 155,  69,\n         84,  19,   9, 104, 123, 132,  60,  79,  48,  11,  35, 125, 110,\n        138,  33,  99, 105,  83,  44, 119,  93, 143,  74, 106,  75, 137,\n        121,   7,  78,  43, 151,  21, 100,   5, 127,  45,   1,  80,  34,\n        133,  87, 130,  42, 117,  94, 154, 136,   8,  70, 129, 118,  71,\n        156,  41,  24,  54,  53,   6,  95, 149,  55,  88, 141,  64,   0,\n         16,  58, 142, 131, 109,  61,  10,  91, 145, 126,  49, 135,  28,\n         30,  18,  26,  17,  56,  86,  57,  32,  47,  52,  39,  29,  38,\n         40,  25,  81,  82,  67, 111,  27, 148,   3, 113,  31,  51,  65,\n         89]),\n 21: array([ 55, 145,  39,  47,  32,  45, 136, 113, 105, 131, 110,  79,  89,\n        120,  56,  28, 116, 133,  30,  71,  21,   0, 128,  62, 102,  57,\n         29,  24,   5,  17,  12,  49,  41,  48,  33,  31, 141,  67, 101,\n        108,  58, 121,  63, 125, 112, 134,  69,  68, 107,  76,  14,  70,\n        129,  95,  43,  92,  75,  51,  91,  34,  23,  13,  50,  44,  46,\n         54,  73,   2, 106, 138, 118, 123, 126,  98,  84,  93,  90,  80,\n         83, 135, 139, 132,  77, 140,  35,  10, 115, 114,  36,   8,  74,\n        144, 104,  16,  20,  37, 143,  26,  64,  18,   1, 124,  53, 127,\n         27,  40,   7, 103,  25,  65,  60,  15,   6,  19,  11, 142,  81,\n         96,  94,  82,  22,   3,   4, 122, 117, 111, 137,   9,  38, 130,\n         86, 119,  85,  88,  66,  42,  87,  61,  52,  59,  97, 100,  99,\n        109,  72,  78]),\n 22: array([19, 24, 12, 40, 17, 46, 26, 29,  5, 33, 49, 23, 42, 48, 37,  9, 25,\n        39, 27, 36, 43, 50, 34, 45, 30, 11, 22,  8,  0, 14, 20,  2, 16, 28,\n        41, 47,  4, 18, 13, 32, 44,  6,  3, 31, 51, 52,  7, 21, 15,  1, 10,\n        38, 35]),\n 23: array([123,  54,  48,  39,   4,  41,  86,  67,  99,  35,  81, 106,  85,\n         46, 116,  21, 128, 133,  16, 108,  50,  60,  89,  80,  38, 132,\n        102, 130,  43,  98, 101, 122,  49, 115,  64,  34,  23,  71, 109,\n         55,  92, 121, 134,  66,  10,  62,  69,  52,  96,  29, 117,  57,\n        140, 103, 143,  91,  93, 129,  15,   3,  94,  28,  17,  75, 111,\n        135,  33,  25,  90,   2,  53,  84, 100,  40,  30,  88,  51,  61,\n         83,  36,  78, 144,  44, 141, 138, 105, 124, 126,  74,  72,  56,\n          5,   8,  73,  82, 127,  20,  31, 112, 136,  22,  45,  32,  13,\n        114,   7, 113,  26, 119,   1, 142,  24, 118,  87,  14,  77,  58,\n        110,  42,   6,  63, 104,  59, 107,  97,  18, 125,  95,  12, 139,\n         11,  37, 131,  47,   9, 120,  70,   0,  27, 137,  19,  65,  68,\n         76,  79, 145]),\n 24: array([25, 34, 35,  0, 10, 28,  1, 16,  6,  8, 18, 21, 14, 13,  5, 24,  3,\n        32, 22,  2,  7, 15,  4, 36, 33,  9, 17, 30, 29, 19, 27, 12, 26, 31,\n        11, 20, 23]),\n 25: array([244,   2, 248,  89, 279,  94, 452, 114, 303, 135,  61,  86, 132,\n        505, 415, 432,  96, 354, 431,  55, 245, 197, 148,  70, 300, 355,\n         12, 164, 426,  11, 363,  25, 377,  54, 264,  58, 333, 349, 207,\n         92, 500, 350, 113, 520, 270,  97, 524,  62, 315, 430, 433, 137,\n        133, 481,  71,  93, 134, 410,  60, 484, 448, 347, 479,  95, 212,\n        362, 537, 397, 334, 501, 265, 453,  53,  32, 206, 530, 482, 416,\n        390, 528, 202,  65,  44, 440, 330, 185, 260, 527, 511,   9, 121,\n        107, 421, 380,  48,   7, 535, 215, 364, 317, 495, 152, 442, 301,\n         57,  29, 103, 480, 125, 515, 375, 368, 254, 239, 407, 241, 543,\n        389, 247, 210, 392,  49, 352, 514, 302, 309, 220, 278, 259, 497,\n        177,   8, 328, 353, 204, 446, 223, 462, 142,  99, 423, 512,  42,\n        538, 393,  14, 419, 108, 382, 369,  72, 518, 288, 240,   5, 476,\n        449, 277, 147, 507, 517, 228,  38, 139, 287, 213, 544, 176,  27,\n        186,  34, 422, 373, 145,  51, 101, 383, 100, 242, 385,  84,  64,\n        463, 381, 169, 159,  74, 256, 227, 203, 296,   0, 249, 158, 178,\n        489, 488, 413,  35, 183,  52, 521, 401, 391, 229,  69,  81, 194,\n        356, 348, 408, 201, 444, 519,  63, 424, 236,  43,  21,  33, 323,\n         30, 102,  90, 436, 491, 490,  26, 313, 493, 273, 143, 306, 299,\n        193, 295, 404, 329,  80, 267, 126, 456, 246, 513, 342, 418, 326,\n        226, 156, 198, 498,  50, 468, 545, 531, 199, 439, 214, 376,  17,\n          3,   1, 182,  20, 438, 378, 395, 253,  73,   6, 420, 231,   4,\n        200, 172, 293, 237, 339, 346, 394, 316,  37,  41,  39, 457, 467,\n        428, 174, 208, 384, 443, 478, 283,  75, 238, 541, 510, 464,  83,\n        525, 402,  76, 271, 403, 180, 502, 465, 168, 258, 116, 477, 120,\n        165, 435, 327, 386, 357, 539, 149, 396,  18,  47, 294, 146, 123,\n        110, 341, 487,  56, 310, 235, 250,  36, 272, 411, 232, 483, 192,\n        379, 262,  68, 466, 105, 472, 291, 344, 337,  82, 189, 427, 351,\n        175,  88, 324, 269, 276, 263, 318, 523, 508, 297, 257, 314, 286,\n        138, 412, 441, 485, 461, 170, 140, 340, 312, 171, 304, 503, 311,\n        474, 429, 496, 522, 417, 370, 445, 387, 451, 358, 216, 406, 234,\n        111, 153, 230,  15, 371,  77, 160, 336, 338, 388,  40,  85,  79,\n        290, 218, 280, 281, 181, 366, 179, 233, 136,  10, 162,  67, 533,\n        540,  31, 261, 325, 345, 447,  16,  46, 166, 331, 335, 504, 374,\n        308, 163, 367, 473, 458, 405, 434, 190, 274, 372, 305, 542, 115,\n         45, 494, 150, 221, 425, 529, 117, 499, 155, 454, 275, 266, 222,\n        460, 298, 360, 321, 450,  13, 187,  91, 268, 437, 255, 161, 167,\n        343, 285, 209, 173, 534,  59, 151,  66, 154, 118,  22, 106, 130,\n        129, 361, 414, 332,  24,  98, 322, 400, 184, 112, 409, 526, 195,\n        516, 359, 470, 127, 196, 319, 243, 398, 459, 471, 532,  23, 131,\n        536, 365, 506, 509, 104, 399,  19, 455, 307, 475, 191, 492, 251,\n         28, 157, 252, 289, 217, 144, 124, 320,  87, 109, 292,  78, 119,\n        128, 141, 122, 188, 219, 469, 205, 211, 282, 284, 224, 225, 486]),\n 26: array([21, 20, 28, 33, 25, 32, 30, 19, 29,  0, 27,  9, 31, 11,  3, 23, 15,\n        34, 26, 36,  7, 24, 22,  6, 16,  1, 10, 17,  4,  8, 14, 18, 12, 35,\n         5, 13,  2]),\n 27: array([ 0,  8,  9, 10, 15, 11,  5,  7,  6, 14,  4,  2, 12,  1, 13, 16,  3]),\n 28: array([394, 594, 611,  88, 374,  54,   7,  14, 393, 317, 269, 500, 137,\n        617, 501,  36, 268, 381, 194, 337, 595, 389,  53, 639, 447, 117,\n        482, 328,  89,  66, 488, 283,  35, 265, 367, 261, 508, 512, 638,\n        631, 486, 648, 711, 730, 424, 233, 225,  55, 527, 408, 498,  85,\n        135, 359, 353, 627, 616, 115, 598, 626, 415,  61, 610, 679, 416,\n        300, 530, 484, 256, 687, 397, 398, 509, 513, 158, 371, 125, 481,\n        314, 746, 264, 236, 444, 208, 743,  91,  98, 721, 372, 362, 250,\n        247, 558, 322, 579, 259, 739, 324, 718, 520, 193, 112, 409, 252,\n        339, 480, 246, 286, 628, 342, 240, 316, 456,  78, 201, 272,  65,\n         82,  94,  93, 599, 607, 108, 103, 606,  44,  77,  90, 421, 608,\n         62, 344,   6, 623, 460, 241,  95, 134, 710, 652, 366, 462, 671,\n        438, 557, 338, 153, 507, 285, 654, 336,  84, 263, 356, 289, 493,\n          1, 106, 702,  23,  73,  60,  86, 667, 171, 248, 307, 242, 260,\n        149, 243, 434, 215, 373, 601, 365, 602,  21, 744, 738, 364, 479,\n        376,  16, 160, 142,  19, 555,  43,  26,  74, 477,  47, 443, 396,\n        301, 402,  80,  76, 276, 298, 672, 110, 635, 489, 274, 454, 154,\n        649, 244, 592,   2, 165, 677, 326, 151, 429, 320, 453, 159, 609,\n        157,  72, 288, 418,  56, 333, 618, 604, 177, 535, 379, 219,  50,\n         33,  51, 277, 559, 166,  67, 216, 377, 295, 312,  32, 605,   0,\n         28, 228, 162, 496,   9,  11, 473, 282, 446, 584, 378, 351, 430,\n        321, 345, 102, 468, 524, 129, 539, 569, 255, 551, 303, 533, 622,\n        629, 690,  92, 745,  58,   8, 459, 380, 127,  27, 293,  42, 360,\n        534, 270, 395, 278, 266, 449, 349, 332, 624, 613, 358, 450, 689,\n        597, 400, 646, 297, 593, 445, 470, 747, 641, 121,  12, 369, 657,\n        581, 217, 461, 309, 280, 658, 330, 323, 105, 145, 107, 354, 492,\n        458, 188, 715, 427, 494, 111, 412, 716,  64, 214, 619,  97, 487,\n        199, 483, 532, 209, 383, 176, 426, 279, 361, 161, 714, 621,  29,\n        267, 685,  81, 114, 308, 705, 550, 352, 230, 417, 706, 526, 683,\n        541, 437, 146, 439, 124, 577, 636, 169, 701, 327, 257, 116, 304,\n        596,   5, 692, 471, 572, 731, 413, 585, 440, 138, 163, 375, 178,\n        457, 668, 637, 131, 452, 281, 292, 653, 630, 600, 113, 681,  52,\n        120, 179, 722, 182, 612, 575, 603, 678, 181, 185, 210, 693, 634,\n        566, 211, 504, 506, 525, 515, 287, 155, 143, 144, 583, 573, 315,\n        499, 640, 109, 310, 568, 130, 465,  38, 164,  18, 676, 229, 523,\n        411, 406, 388, 192, 128, 727, 519,  10, 505, 442, 522, 180, 218,\n        688, 432, 221, 172, 350, 205, 152, 170, 503, 340, 343, 423,  79,\n        463, 122, 741, 141, 704, 632, 682,  99, 100,  46,  30, 382, 227,\n        235, 237, 680, 495, 455, 686, 119, 655, 126, 740, 212, 206, 428,\n        546, 490, 565, 485, 720, 502, 656, 200, 451, 491, 469, 318, 695,\n        545, 708, 561, 663, 700,  68, 414, 245, 543, 588, 647, 239, 665,\n        249, 684,  15, 703,  96, 306, 547, 186, 385, 390, 251, 614, 407,\n        370, 694, 386, 329,  20, 536,  49, 187, 391, 562, 118, 433,  45,\n        643, 136, 709, 302, 175, 232, 651, 669, 196, 311, 198, 234, 226,\n        294, 548, 202, 625, 642, 615,  71, 401, 405, 712, 174, 238, 567,\n        231, 173, 299, 254, 664, 540, 357, 123, 645, 419, 517,  25, 207,\n        556, 425, 511, 666, 691, 670,  13,  41, 222, 713, 576, 148, 296,\n        514,  17, 742, 291, 399, 435, 707, 574, 697, 140, 441,   3, 139,\n        305, 564,  48, 696, 284, 197, 275, 537,  22, 403, 420,  63, 552,\n        156, 150, 518, 675, 355, 384, 341,  69, 448, 728, 195, 258, 554,\n        368, 717, 422, 732, 147, 474, 529, 589, 190, 464,  24, 633, 582,\n        387, 644, 723, 290, 521, 590,  87,  59, 392, 347, 699, 563, 662,\n         75, 133, 313, 183, 262, 478, 737,  57, 253,  39, 510, 325, 436,\n        466, 659, 698, 570, 271, 650, 560, 538, 553, 660, 591, 586, 475,\n        132, 674, 223, 673, 410, 203, 542, 544, 273, 101, 580, 578,  40,\n        335, 620, 476, 431, 472, 189,  31, 549, 319, 191,  70, 516, 587,\n        220, 224, 661, 184, 204, 528, 497, 363, 334, 404,  83, 331, 531,\n        571, 467, 168, 346, 348,  34,  37, 104, 719, 736,   4, 729, 167,\n        213, 725, 724, 734, 733, 726, 735]),\n 29: array([1, 2, 3, 0]),\n 30: array([ 7, 17, 18, 20,  9, 19, 11, 22, 13, 12, 15, 14,  6,  2,  0,  1,  4,\n         5,  3, 16, 10, 21,  8]),\n 31: array([21, 17,  9, 27, 14, 18, 31, 15, 16, 12, 19, 22, 29,  3, 39,  6, 13,\n         4, 38, 10,  2,  1, 33, 26, 11,  7, 40, 24,  5, 28, 20,  0, 37, 32,\n        23, 30, 25,  8, 34, 36, 35]),\n 32: array([13, 27,  6, 29, 20, 17, 24,  2,  7, 21, 25, 10,  8,  0,  1, 18, 30,\n         4, 28,  5, 14, 15, 19, 11,  3, 26, 16,  9, 12, 23, 22]),\n 33: array([ 0,  1,  6,  7,  8,  9, 10, 11,  2,  3,  4,  5]),\n 34: array([496, 241,  18, 586, 666, 440, 648, 589, 635, 138, 618, 128, 670,\n        704, 159, 385, 642, 473,  33, 566, 468,  32, 585, 126, 646, 216,\n        578, 324, 809, 863, 111, 710, 735, 680, 654, 114, 183, 760, 737,\n        610, 173, 753, 568,  46, 673, 203, 785, 112, 752, 150, 746, 306,\n        653, 873, 592, 449, 758, 759,  94, 226, 789, 370, 359, 755, 151,\n        678, 826, 687, 113, 700, 641, 767,  70, 556,  60, 820, 577,  89,\n        777, 681, 832, 445, 602, 129, 861, 441, 389, 720, 263, 701, 829,\n        748, 865, 623,  44, 787, 517,  96, 487,   1, 279, 122, 261, 675,\n        824, 222, 544, 489, 652, 658, 180, 195, 147, 500, 207, 833, 761,\n        848, 616, 563, 810, 288, 541, 156,  85, 651, 620, 338, 567, 457,\n        369, 732, 352, 775,  43, 702, 310, 632,  16, 158, 135, 360, 343,\n        388, 371, 361, 415, 368, 213, 868, 419, 736, 157, 572,  58, 762,\n        314, 481, 590, 169, 117, 723, 555, 722, 139, 501, 170, 243, 713,\n        301,  86,  55, 751, 351, 378, 514, 331, 118, 423, 303, 335, 663,\n        841, 709, 626, 354, 725, 357, 796, 562, 399, 110, 738, 353, 619,\n        426, 210, 108, 493, 633, 356, 273, 321, 685, 428, 811, 295, 350,\n        733, 676, 743, 346, 770, 238, 289, 856, 208,  12, 299, 363,  90,\n        840, 688, 405, 838, 772, 227, 330, 234, 674, 774, 636, 355, 609,\n        107, 828, 477, 515, 706,  80, 430, 677, 715, 830, 456, 716, 267,\n        862, 797, 328, 522, 605, 817, 627, 744, 516, 874, 707, 202, 757,\n        160, 657, 764, 480, 721, 240, 668, 712, 664,  14, 130, 143, 640,\n        300, 323, 813, 123,  83, 333, 854, 220, 225, 669, 650, 197, 790,\n         53, 483, 379, 270, 756, 570,  69, 769, 792, 418,  54, 631, 384,\n         36, 192,  76, 717, 818, 779, 286,  56, 176, 754, 223, 690, 154,\n        121, 741, 326, 439, 344, 705, 588, 535, 181, 274, 526, 431, 196,\n         72, 116, 655, 464, 485, 164, 436, 239, 275, 341, 193, 842, 703,\n        497, 542, 486, 823, 724, 247, 264,  73, 276, 604, 520, 730, 877,\n        444, 393, 471, 750, 373, 339, 819, 237,  93, 564, 543,  64, 231,\n        144, 101, 505, 284, 317, 551, 474,  38, 869, 835, 140, 763, 745,\n        367, 349, 827, 614, 656,  59, 416, 165, 200,  82, 629, 450, 136,\n        662,  39, 718, 880,  25, 780, 643, 682, 549, 523, 162, 462, 625,\n        530, 870, 686, 179, 597, 347, 329, 645, 612, 406, 552,  62,  88,\n        621,   3, 885, 864, 512, 519, 221, 638, 141, 884, 791, 617, 191,\n         91, 332, 494, 189, 529, 859,  13, 281, 448, 401, 294, 459, 881,\n        822, 153, 492, 246, 661,  81, 337, 120, 882,  75,  41, 637, 697,\n        583, 557, 236, 659, 695, 540, 776, 805, 271, 297, 714, 408, 834,\n        611, 214, 443, 309, 308, 507, 719, 387, 453,  63, 800,  52, 879,\n        788,   2,  66, 599, 345,  74,  84, 539, 358, 465, 204, 460, 624,\n        574, 876, 836, 272, 233,  67, 285, 340, 550, 215, 867, 313, 679,\n         28, 683, 527, 244,  30, 742, 102,  19, 182, 280, 839, 342, 106,\n        649, 427, 394, 508, 667, 161, 171, 475, 846, 711, 257, 172, 409,\n        478, 558, 601, 175, 319, 375, 228, 783, 230, 794, 250, 773, 816,\n        131,  26, 778, 855, 847,   9, 498,  79, 133, 391, 470, 259, 594,\n        366, 312, 105, 694, 546, 190, 569, 739, 849, 119, 253, 815, 442,\n        747, 860,  78, 837, 878, 320, 185, 229,  97, 103, 249, 538, 322,\n        381, 467, 853, 142, 417, 727, 362, 615,  99, 608, 413,  77, 644,\n        386, 851, 304,  51, 372,  87, 198, 461, 571, 219, 495, 548, 510,\n        435, 537,   4, 488, 476, 137, 524, 283, 311, 376, 287, 852, 726,\n        420,   5, 256, 127, 545, 255, 334, 242, 265, 327, 307, 786, 315,\n        808, 132,  11, 793, 458, 336, 298, 875, 660, 364, 531, 765, 798,\n        402, 124, 396, 858, 177, 795, 850, 600, 163, 801, 872, 212, 639,\n        866, 178, 463, 781, 254, 513, 155, 100, 472,  98, 784, 318, 282,\n        152, 729, 845, 407, 262, 886, 525, 490, 400, 613, 491, 134, 598,\n         47, 547, 479, 596, 708,  61, 731, 595, 291,  57, 804, 821, 565,\n        533, 325, 734, 511, 206, 232,  27, 296, 115, 684, 469, 768, 403,\n         71, 691, 447, 224, 168, 269, 260, 316,  24, 803, 607, 414, 825,\n        258,  68, 245, 591, 647, 125, 843, 454, 452, 302,  15, 482, 534,\n        603,  48, 437, 421, 740, 749,  31, 883, 429, 560, 807, 434, 672,\n        248, 109, 188, 166, 424, 104,  92, 348, 581, 559,   0, 887, 689,\n        451, 187, 412, 857, 446, 831, 802, 782, 422,  65, 536, 554, 167,\n         10, 184, 201, 235, 251, 410, 696, 579, 174, 844, 484,  37,   7,\n        455, 806,  17, 433, 292,  95, 528, 278, 277, 506, 365,   6, 502,\n        630,  21, 268, 395, 290, 671, 266, 812,  35, 382, 509, 148, 199,\n        194, 398, 380, 425, 766, 209, 814, 390,   8, 576, 728, 584, 628,\n        293, 383,  23, 504, 146, 205, 871, 699, 634, 518, 503, 392, 593,\n        521, 145, 377, 186,  45, 587, 561, 665, 374, 692, 573, 305, 149,\n         22,  29, 580, 622, 438,  40, 693, 799, 252, 218, 217, 432, 397,\n        211,  20, 499, 575, 466, 404, 411, 582, 606, 698, 532, 771,  49,\n         42, 553,  34,  50]),\n 35: array([ 495, 2254, 1628, ...,   90, 1484,  182]),\n 36: array([ 4, 13, 10, 12, 17, 16, 19,  1,  6,  0,  2, 14,  5, 11, 20, 18,  8,\n        15,  7,  3,  9]),\n 37: array([ 8,  9,  1,  0,  3,  4,  5, 10, 11, 12, 13, 14, 15,  2,  6,  7]),\n 38: array([ 35, 136, 128,  88,  15, 113, 121, 125, 164,   3, 186,  82, 148,\n        171, 152, 137, 117,  85, 193, 142, 106,  95, 139, 111, 131, 196,\n         90,  98, 145, 170, 155,  73, 168,  75, 185,  80, 173,  96,  93,\n        110, 181,  87, 132,  25,  52,  78, 156, 180,  81,  48,  50,  97,\n         56,  63,  60, 100, 134,  10,  29, 115,   0,  65, 114, 126, 199,\n        101, 167, 147,  11, 162, 104, 146,  99,  89, 153,  17,  30,  76,\n        154,  37, 169,  34, 177,  42, 103, 175, 166,  72, 151,  28,   6,\n         39,  49,  32, 157, 144,  51, 141,  36,  45, 161, 195, 182,  44,\n        102,  70, 107, 133, 188,  33, 158, 197,  13,  18,  79,  26,  71,\n        135, 123, 112, 138,  23,  24,  38,   4,  77, 149, 120, 172,  16,\n          8, 191,  41, 129,  57, 159, 184, 163, 192,  55,  91,  21, 150,\n         27,  12,  47,  53, 187, 189, 190,  20,   5,  94,  14,  69, 127,\n         92, 194,   7,  68,  58, 119, 176, 118,  31,  22,  74, 124, 200,\n        108,  43, 140, 198, 179,  67,  61,  66, 183, 201,  84, 122,  54,\n         46,  83,  62, 174, 178,  19,   1,  86, 160,  64, 165, 130, 143,\n        109,   2,  59, 105,   9,  40, 116]),\n 39: array([258, 482,  11, ..., 975, 921, 214]),\n 40: array([ 12, 102, 156,  65,  54, 126,  81,  91, 144,  40,  53,  44,  56,\n         94, 109,  39, 164,  70, 115, 147,  41,  23,  49, 135,  33,  27,\n         74,  29,  26,  13, 103,  67,  58,   4, 114, 121,  52,  28,  32,\n        179,  21,  35,  47,   9, 129, 125, 146, 131,  73, 108,  36, 166,\n         89, 139, 160,  72, 124, 116,  84, 120,  77,  22, 104, 118,   8,\n        152, 168,   1, 167,  83, 174,  38,  97,  71,  16,   7,  15, 110,\n        171, 163,  64,  17,  19,  75, 178,  42, 140, 172, 113,  88, 153,\n        117, 176,  95,   6, 155,  46, 136, 123, 134,  55,  24, 173, 122,\n        138,  98,  30,  50,  66, 142,   3,  14, 162, 169,  18,  82,  60,\n         85, 149, 141, 111, 161,  78, 165,  99,  43, 132, 148,  92,  87,\n        106, 145,  48,  59, 133,  76,  96, 175,  37,  93,  68, 143,  20,\n        107, 177,  34,  25, 154, 157, 137, 150,  57,  63, 170,  45,  51,\n        112,  62, 101,  11, 127,  61, 130,  80,   2,  79, 128,   5,  10,\n         69, 159, 151,  90, 119, 105, 158,  31,  86, 100,   0]),\n 41: array([123, 305, 347,  58,  85, 346,  29, 119, 364, 101, 196, 404, 159,\n        106,  94, 105, 246, 300, 130, 271, 172, 197, 311, 303, 175,  15,\n        354, 318,  34,   5, 169, 344,  12,  38,  51, 314, 410,  24, 394,\n        372, 156, 357, 233, 265, 359, 284, 450, 327, 317,  67, 398,  47,\n        135, 224, 186, 243,  87, 114,  71, 296, 274, 255, 270, 127, 153,\n        436, 440, 395,  37, 126, 149, 374, 181, 165,  76, 231, 323, 210,\n        429, 384, 325, 237, 292,  82, 250, 143, 226, 269, 111, 214, 341,\n         19, 408, 167, 142, 322, 352, 145, 116, 117, 245,  79,  54, 275,\n        230, 399, 264, 140, 411, 427, 377, 363, 118, 252,  48, 160, 351,\n         78,  32, 131, 383, 257, 367, 110, 365, 253, 272, 392, 390, 393,\n        164, 389, 368,  21, 288, 195, 133, 247, 242, 281, 449, 279, 222,\n        179, 276, 286, 266,  93, 192, 361, 190, 129, 241, 268, 221, 360,\n        173, 185,  55,  74,  61, 194, 309, 100,  88, 277, 112,  16, 447,\n        297,  49,   6, 249, 239, 113, 138,  39, 238,  99, 366, 334,  18,\n        273, 212,  20,  45,  64, 402, 320, 316, 298, 225, 431, 263, 184,\n        174, 358, 171, 369, 401, 236,  33,  83, 178, 120, 200, 335, 442,\n        386, 152,  65, 158, 132,  96, 443, 223, 423, 409, 355, 144, 328,\n        201, 333, 422,  72, 348,  17, 137, 215, 122,  40, 216, 150, 381,\n        397, 187,   1, 373, 385, 437, 262, 163, 416, 400,  46, 182,  35,\n        290,  31,  26, 220,  84, 387, 244, 229, 228, 109, 432, 125,  80,\n        234,  10, 349,  98, 343,  28, 166, 289,   0, 324,  14,   3, 235,\n        283, 203, 177, 418, 438, 375, 414, 208, 339, 407, 260, 115, 128,\n        396, 448, 198, 248, 146,   4, 424, 451, 301,  43, 306, 304, 353,\n         81, 426, 342,  53, 336, 430, 413, 428, 380, 425,  86, 191,  27,\n        308, 259, 103, 188,   2, 444,  69,  92, 170, 107, 205,  70, 321,\n        406, 258, 319, 157,  77, 419, 415, 213, 291, 326, 204, 267,  22,\n         42,  63,  52,  62, 345, 168, 388, 391, 148, 446, 382,  41, 412,\n        337, 209, 240,  13,  36, 206, 207,  66, 189, 121, 379, 227, 183,\n        420, 376, 104, 330, 219,  44, 294, 403, 370, 280, 285, 199,  50,\n        287,  68, 141, 378, 102, 176, 147, 338,  97,   7, 433,  11, 193,\n         25,  75, 151, 371,  90, 331, 202, 435, 356, 302, 332, 315, 293,\n        434,   9, 251, 217, 136,  73,  91, 310, 417, 445, 232, 256, 218,\n        313, 278, 155, 329, 421, 108,  23, 295, 340, 139, 350,  59,  95,\n        439,  89,  57, 312, 162, 362,  60, 254, 299,  30, 441, 180, 405,\n        134,   8,  56, 261, 154, 211, 124, 282, 161, 307]),\n 42: array([104,  53,  63,  48,  35,  27,  68,  84,  88,  20,  58, 101,  77,\n          1,  26,  33,  54,  59,  69,  86,  15,   2,  97,  16,  81,  25,\n         19,  76,   4,  65,  39, 106,  17,  50,  79,  74,  52,  55,   0,\n         29,  70, 103,  45,  14,  34,  87,  57,  37,  66,  90,   9,  24,\n         38,  64, 102,  18,  49,  94,  28,  78, 105,   3,  96,  67,   7,\n         10,  82,  32,  31,  73,  85,  71,  56,  51,  75,  21,  92,  60,\n         99,  42,  11, 100,  61,  93,  91,   6,  83,  80,  43,  12, 107,\n         22,   8,  47,  89,  13,  62,  23,  41,  36,  44,  46,  95,  72,\n         98,  30,   5,  40]),\n 43: array([4, 3, 5, 0, 1, 2]),\n 44: array([160, 195, 295, 130,  68, 110,   5, 141,  91,  33, 199,  78,  32,\n         18, 196, 129, 293,   7, 111, 229, 346, 310,  62, 263, 163, 187,\n        118, 114, 275,  11, 235, 236, 312,  92, 134, 120, 325, 233, 169,\n        203,  37,  85,  55,  15, 241,  41,  13, 219,  75,   3,  34, 211,\n        259, 279, 245, 154,  43, 100, 218,  19,  47,  76, 185,  89, 191,\n        270, 107, 175, 272, 261, 252,  23, 126,  49, 225,  58, 209,  44,\n        342, 112, 182, 181,  29, 174, 172, 247,  97, 170,  53,  87,  63,\n        208, 255, 115, 232,  64, 313, 338, 212, 260, 150, 149, 136, 123,\n        290, 224, 262, 319,  96, 280, 329,  39, 314, 164, 242, 176, 336,\n        318, 294, 221, 237,  86,  40, 167, 256, 315, 317, 139,  77, 250,\n        158,   8, 113, 198, 276,   4, 131, 300, 301, 341, 253, 281,  52,\n        183, 102, 186, 165,  16, 331, 322,   0, 286, 299, 148, 192, 268,\n         73, 269,  98,   9, 105, 273, 205, 147, 180, 109, 321, 101, 266,\n          6, 138, 125, 152, 344, 297, 142,  54, 157, 171, 145, 215, 162,\n        306, 320,  20, 248, 166, 132,  84, 316,  93, 223,  48, 305, 328,\n         17, 302,  14, 119, 124, 274, 251, 214, 230, 179,  59, 155,  65,\n         90, 128,  31,  12, 116, 143,  51, 334, 144,  71,  74, 287, 267,\n         57, 106, 308,  69, 227, 194, 177, 246, 258, 330, 292, 117, 291,\n        278, 190, 337,  67, 282, 283, 226, 307, 239, 323,  46, 103, 345,\n         30,  72, 201, 231, 222, 335, 298, 127,  36, 188, 204, 173, 133,\n        249,  38, 265, 220, 244,  27,  56, 243, 289, 200,  50, 284,  99,\n        271, 264, 140, 238,  88, 332, 151, 153,  79,  24, 216,  28, 228,\n         22, 340, 303, 304, 189, 108, 296, 257, 197,  10,  25,  60, 277,\n        254, 137, 184, 240, 311, 234,  61, 333, 168, 146,  82, 135, 161,\n         45, 202,   1, 122, 285,  95, 193, 309,  80,  81, 343, 159,  66,\n         26,  70, 327,   2, 121,  21, 210,  94, 324,  83, 206, 207,  42,\n         35, 339, 156, 326, 288, 178, 213, 217, 104]),\n 45: array([488,  20,   4,  69, 547, 175, 193,  87, 158, 469, 511, 507,  13,\n         14,  57,  79, 629, 628, 127, 243, 565, 434, 211, 190, 124, 250,\n        395, 556, 306, 201, 518, 504, 531, 118, 454, 452, 230,  38, 267,\n        259,  12, 203, 450, 437, 512, 617, 555, 525, 539,   6, 309,  98,\n        338, 506, 382, 470, 285, 169, 272, 187, 166, 195, 557, 528, 199,\n        383,  84,  60,  40, 122, 321, 463,  78, 366, 564, 474, 212, 248,\n        374, 332, 519, 327, 287, 421, 341,  75, 481, 396, 136, 226, 346,\n        311, 305,  92, 335, 297, 391,  10, 494,  63, 534,  89,  90, 156,\n        171, 183, 225, 263, 538, 550, 129, 188,  64, 329, 229, 460, 291,\n        384, 115, 386, 503,  67, 620, 594, 479, 615, 210, 377,  18, 273,\n        478,   5, 295,  37, 373, 162, 146, 130, 349, 412,  77, 310, 221,\n        543,  83, 159,   8, 542, 404, 238, 251, 247, 261,  95, 339, 209,\n        172, 392, 256, 560, 490, 180, 467, 406, 498, 142, 621, 352, 371,\n        453, 217, 462, 307, 132, 103, 393, 151, 320, 505, 475, 121, 522,\n         76, 194, 524, 336, 500, 497,  42, 451, 177, 546, 433, 558, 576,\n        548, 302,  49, 574,   3, 501,  50, 312,  59, 476, 258, 365, 583,\n        313,  33, 400, 552, 152, 254, 355, 419, 360, 185, 533, 447, 608,\n        290, 271, 337, 316, 333, 117, 145, 301, 496, 532, 228, 587, 480,\n        107, 592, 572,  47,  45, 521, 616, 281, 627, 553, 163, 202, 134,\n        602, 408, 562, 262,  23,  30, 427, 566, 303, 380, 486, 545, 457,\n        430, 110, 568, 418, 186, 304, 240, 323, 596, 536, 571,  94, 358,\n        603, 213, 573, 610, 612, 235, 390, 414, 515,  21, 424, 200, 111,\n        444,  52, 196, 590, 394, 579, 405,  80, 276, 125, 622,  82, 381,\n        509, 223, 585, 119, 416, 530, 326,  39, 222, 353, 266, 224, 520,\n        286, 595, 472, 233, 160, 513,  34, 359,  62, 567, 139, 179, 128,\n        441, 114, 387, 102,  15, 379, 540,   0, 445, 325, 178, 376, 464,\n        246, 198, 378, 541, 269, 446, 448, 514, 282,  61, 597, 473, 292,\n        252,  85,  71, 600, 624, 409,  48, 181, 242, 154, 234, 575, 167,\n        458,   1, 619,  70, 403, 502,  46,  29, 264, 510, 484, 215, 364,\n        449, 428, 411, 315, 131, 618, 432,  53, 517, 120, 237, 265,   7,\n        551, 184, 231, 372, 176,  24, 426, 207,  56, 461, 208, 113, 495,\n        425, 294, 214,  31, 613, 417, 236, 563, 465, 161, 342, 588, 554,\n        477, 255, 164,  26,  22,  93, 101, 459,  19, 402, 274, 368, 138,\n        389, 582, 516, 440, 598, 356, 168, 278,  88, 153, 298,  28, 422,\n        455, 275, 216, 398, 468, 293, 182, 399, 561, 435, 526, 268, 133,\n        123, 456, 499, 319,  81, 157, 299, 344, 577, 283,  35,  65, 343,\n        492,  73, 586,  97, 140, 431,  16, 625,  91, 249, 584, 626, 599,\n        253, 280, 423, 155, 483, 348,  66, 420, 100, 284, 218, 220,  11,\n          2, 385, 413, 482,  17, 141, 569,  44, 601, 279,  55, 308,  68,\n        112, 436, 351, 144, 559, 296, 227, 354, 527,  41, 109, 288, 277,\n        593, 370, 345, 206, 407, 605, 429, 191,  32, 443, 535, 491, 523,\n        126, 537, 149, 106, 289,  72, 300, 388, 630, 331,   9, 150, 245,\n        174, 363, 108, 471, 189, 350, 367, 244,  43, 270, 544, 466, 205,\n        147, 369, 104, 549, 340, 397, 529, 493, 591, 580, 570, 375, 334,\n        607, 148, 581,  86, 401, 317, 623, 485, 105, 135, 487,  99, 260,\n        442, 578, 165, 508,  36, 415, 241, 170, 314, 604, 589, 609, 347,\n         96, 489,  74,  25, 438, 204, 606, 197,  58, 611,  27, 439, 362,\n        137, 330, 232, 357, 192, 410,  54, 318, 143, 614, 328, 322, 116,\n        173, 324,  51, 239, 257, 361, 219]),\n 46: array([ 51,  59, 133, 134, 136,  52,  37, 110,  90,  89, 101, 145, 103,\n         33, 105,  99,  32,  63,  64,  65,  56,  53, 144,  46,  69,  79,\n         70, 121,  22,  21,  71,  72,  80, 104,  67,  74,  73,  15,  83,\n         68,  91,  86,  85,  84, 140,  75,  14,  18,  28, 132, 138, 122,\n         35,  42, 107,  12,  13,  81,  34,  11, 102,  50,  48, 112, 135,\n        141,  66,  61,  98,  62,   8,   7, 108,  39,  36, 114,  17, 143,\n         16,  57, 123,   9, 100,  58, 126, 124,  47,  94,  24, 131,  60,\n         43, 117,  26, 128,  29,  77, 127,   1,   5, 111, 130,  97, 137,\n         27, 125,   2, 109, 146, 129,  23,  88,  25,  31,  76,  54,  55,\n         82,  87, 106,  78, 119, 115,   6, 139,  30, 142,  38,  19,  96,\n         93, 113,   0, 120, 116,  45, 118,  20,  40,  92,  41,  44,  95,\n         10,   4,   3,  49]),\n 47: array([21, 23,  0, 11, 13, 17, 18,  8, 25, 22,  7,  9, 12, 20, 19, 16, 14,\n        32, 36, 33, 37, 34, 30, 26,  4,  6,  2,  3,  5,  1, 29, 35, 28, 38,\n        31, 27, 24, 15, 10]),\n 48: array([ 31, 163,  38,  86,  98,  19,  14, 120, 149,   4, 162,   5,  20,\n        150,  64,  84,   6,  63,  33,  12, 142, 177,  72, 151,  23, 140,\n        122,  70, 108,  61, 114,  27, 116,  25,  55, 137, 121,  51, 128,\n        155, 118, 171, 178, 103,  76, 109,  74,  87, 136, 127, 125,  16,\n         60,  15, 159,  59, 173, 123, 115,  52, 119,  47,  91, 117, 168,\n        130, 156,  58, 106,  85,  50, 101, 138, 113,  99, 165, 175,  49,\n          9, 107,  35, 102,  32,  46,  41, 126,  42,  81,  82, 110, 166,\n         71, 161,  24,  68, 158,  17, 139,  73,  96,  94,  13,  21, 134,\n        152,  43,  36,  30, 133, 164,  90, 132,  45,   8,  97,  95,   2,\n         29, 147, 153,  69, 172,  62,  83, 135,  67, 129,  57, 143, 100,\n        145,  54,  77,  89, 144, 148, 105,  34,  66,   7,  10,  39,  80,\n         53,  79, 131, 160, 174, 124, 169,  26,  48,  78, 176,  93, 167,\n        170, 141, 111,   0,  40,   3, 112, 157,   1,  22, 146, 104,  88,\n         28, 154,  18,  75,  11,  56,  37,  92,  65,  44]),\n 49: array([20, 15, 14, 13, 19, 18, 11, 16,  9, 17,  0,  3,  7,  6,  1,  2,  8,\n         5,  4, 10, 12]),\n 50: array([18, 11,  3, 22,  2, 23, 10, 12, 13, 17,  6,  9,  4, 21, 19,  7, 15,\n        20, 16, 24,  5,  0,  8,  1, 14]),\n 51: array([0, 1, 2, 3, 4, 5, 6]),\n 52: array([  6,  10,  64,  91,  58, 101,  66, 117,  82,  22,  42, 105,  46,\n         72, 114, 115,   2,  11,  16, 102,  65,  67, 106,  35,  43,  23,\n         54,  84,  73,  47,  83, 107,  53,  12,  33,  62,  98,  29,  86,\n         56,  25,  13,  37,  75,  80,  19, 109,  51,   4,  95,  59,  32,\n         39,  61,  55,  74,  45,  79, 112,  97,   3, 103,  71,  24,  85,\n         50,  18, 108,  34,  99,  60,  76,  63,  96,  30,   5,  26,  48,\n         87,  38,  14, 111,  81, 110,  52,  20,  77,  15,  21,  69,  57,\n         90, 104,  28, 100, 116,   1,   7,   9,  41, 113,  70,  78,  49,\n         17,  27,  68,  89,  93,  31,  36,  88,  44,   8,   0,  92,  40,\n         94, 118]),\n 53: array([118,  72, 385, 664, 566, 528,  62,  99, 291, 604, 568, 361, 315,\n        545, 127, 220, 367, 186, 288, 653, 569, 742, 590, 792, 336,  35,\n        381, 646, 497, 109, 176, 226, 242, 138, 662, 217, 423, 683, 651,\n        219, 699, 438, 731, 152, 141, 797, 137, 765,  88, 641, 718, 661,\n        682, 436, 556, 575, 144, 603, 782,  79, 246,  37, 762,   5, 355,\n        354,  42, 245, 639, 167, 553, 611, 500, 648, 647, 811, 612, 816,\n        149, 760, 181, 636, 818, 634, 338, 616, 353, 658, 676, 530, 197,\n        431, 716, 204, 511, 357, 579, 148, 589, 151, 746, 313, 510, 644,\n        478, 114, 533, 534, 237, 420, 784, 104, 389, 419, 168, 514, 667,\n         75, 815, 330, 300, 750, 129,  84, 592, 565, 384, 358, 236, 777,\n        485, 602, 396, 139, 726, 421, 626, 483, 607, 583, 111, 319, 548,\n         77, 206, 582, 527, 723, 559, 140, 573, 131, 130, 163, 263, 376,\n         30, 763,  82, 780, 403, 331, 536, 272, 730, 600, 656, 744,  83,\n         17,  27, 473, 805, 269, 180, 271, 305, 351, 261, 280, 512,  45,\n        564, 770, 474, 201, 356, 506, 352,  10,  12, 177, 768, 747, 117,\n        173, 769, 322, 799, 126, 368, 696, 745, 106, 394, 458, 623, 426,\n         58, 673, 752, 179, 359, 124, 343, 476, 680,  53,  48, 375, 686,\n        737, 324, 107, 344, 467, 166, 192, 143, 406, 362,  66, 610, 387,\n        581, 608, 312, 807,  11, 327, 584, 788, 558, 537, 132, 549, 208,\n        486,  67, 561, 108, 756, 183, 711,  65, 432, 347, 328, 775, 326,\n        155, 123, 640, 819, 532, 618,  24, 293,  59, 210, 154, 508, 211,\n        175, 660,   1, 635, 619, 576, 650, 383,  23, 398, 597, 722, 513,\n        525, 491, 502, 317,   4, 233, 685, 194, 377, 253, 779, 116, 119,\n        260, 736, 400, 655, 672, 424,  68, 388,  78, 492, 430, 250, 743,\n        466,   0, 795, 437, 209, 707, 147,  56, 706, 781, 475, 374, 408,\n        348, 297, 386, 493, 254, 296, 380, 335, 429, 112, 729, 135, 264,\n        159, 542, 115, 714, 303, 364, 365, 133,  91, 366,  31, 142, 134,\n        748, 596, 286,  47, 540, 577, 529, 790, 625, 102,  54,  55, 410,\n        462, 555, 221,  64,  19, 791, 292, 195, 433,  20, 810, 417, 373,\n        632, 397, 620, 416, 738, 446, 674, 214, 580, 812, 382, 705, 668,\n        218,  51, 681, 468, 688, 642,  93, 169, 624, 543,  86, 391, 727,\n        207,  36, 725, 652,  80, 786, 275,  81, 606, 156, 216, 405,  52,\n        402, 172, 538, 609, 773,  57, 323,  21, 157, 560, 679, 670, 267,\n        314, 809,  44, 675, 340, 435, 764, 205, 170, 414, 720, 601, 477,\n        187,  87, 487, 439, 570, 591, 622, 574, 235, 516, 709,  40, 415,\n        461, 749,  92, 295, 215, 630, 185, 422, 479, 715, 200, 442, 191,\n         26, 517,  13, 547, 704, 360, 441, 289, 494, 587, 643, 628, 499,\n        802,  97, 627,  46, 519, 252, 404, 333, 503, 238,   3,   2, 189,\n        801, 460, 595, 521, 294, 649,  95, 687,  61,  29, 230,  85, 268,\n        339, 136, 489, 633, 539, 708, 251, 567, 721, 325,   8,  63, 345,\n        257, 700, 637, 544, 409, 262, 393,  33, 101, 440, 451, 740, 304,\n        659, 162, 638, 164,  98, 692, 703, 241, 113, 717, 193, 213, 719,\n         34,  60, 734, 522, 278, 316, 320, 449, 270, 256, 182, 287, 273,\n        469, 401, 125, 234, 496, 694, 657, 346, 645, 614,  14, 535,  96,\n        735, 629, 329, 199,  49, 243, 407, 301, 697, 693, 350, 562, 677,\n        459, 453, 789, 225, 813, 665, 174, 621, 546, 212, 471, 306, 615,\n        337, 713, 434, 774, 732, 794,   9, 103, 153, 800, 231, 698, 100,\n        249, 482, 178, 110,  39, 689, 594, 247, 266,  89, 724, 523, 196,\n        290, 666, 552, 342, 785,  18, 669, 452, 448, 229, 259,  41, 509,\n        284, 472, 392, 484, 507, 349, 728, 572,  38, 299, 228, 227, 617,\n        399, 285, 793, 379, 372, 787,  76, 171,  43, 395, 671, 678, 557,\n        817, 757, 281, 463, 804, 766, 202, 515, 796,  32, 425, 767, 145,\n        341, 524, 456, 244, 120, 541, 222, 585, 298, 308, 613, 702, 739,\n        318, 733, 470, 184, 695, 255, 321,   7, 684, 599, 663, 198, 378,\n        302, 418, 161, 274, 588, 806, 443, 122, 710, 411, 282, 759, 412,\n        741, 554, 276, 277, 778, 761, 551,  25, 190, 712, 480,  28, 772,\n        105, 776, 690, 369, 654, 224,  15, 265, 755, 495, 158, 258, 370,\n        631, 279, 390, 593, 586, 754, 283, 798, 454, 531, 751, 371,  69,\n         22, 332, 223, 526, 310, 307, 501, 248, 334, 481,   6, 691, 146,\n        488, 311,  70, 121, 753, 758, 550, 520, 128,  71, 428, 498, 563,\n         90, 160, 232, 203, 447,  74, 413, 803, 808, 457, 504, 571, 455,\n         94, 783, 150,  16,  73, 605, 701, 239, 578, 363, 518, 309, 240,\n        165, 465, 427, 445, 771, 598, 814, 464, 505, 450, 444, 490, 188,\n         50]),\n 54: array([77, 61,  2,  8, 22, 80, 57, 95, 84,  1, 21, 72, 51, 36,  5, 74, 12,\n        53, 73, 71, 45, 81, 52,  9, 48, 67, 15, 92, 90, 32, 89, 78, 14, 70,\n        83, 27, 76, 55, 44, 13, 42, 86, 20, 29, 59, 33, 11, 62, 54, 41,  3,\n        79, 66, 69, 64, 17, 63, 50, 56, 43, 26,  7, 85, 91, 82, 30,  0, 35,\n        75, 31, 16, 34, 25, 87, 10, 38, 58, 47,  4, 40, 93, 88, 19,  6, 65,\n        60, 39, 18, 24, 68, 46, 94, 49, 23, 37, 96, 28]),\n 55: array([ 0,  9,  8, 10,  5, 13,  7, 14,  6, 12,  4, 11,  2, 15, 16,  3,  1]),\n 56: array([ 9, 19, 16, 20, 15, 12, 14,  1,  2,  4, 22, 17,  0, 10,  7, 18, 23,\n         3, 21,  5, 25, 13, 24,  8,  6, 11]),\n 57: array([ 9, 15, 14, 16, 17, 18, 10, 11, 12, 13,  5,  6,  8,  7,  3,  1,  0,\n         4,  2]),\n 58: array([167, 107,  35, 137, 206, 122, 174, 134,  64,  87,   8, 121,  49,\n         34,  72,  61, 188, 102,  70,  58, 128,  27,  85, 181,  59, 109,\n         95,  19, 176,  51, 110, 184,  71, 132, 145, 211,  63,  31,  32,\n         16,  33, 207,  21, 212,  90,  14, 199, 135,  56, 108,  66, 166,\n        112,  65, 204, 209,  40, 159, 205,   5,  13, 160,  97, 124,  89,\n        187,  47,  52,  17, 154, 198,  77, 214, 216, 148, 153,  96, 183,\n         42, 200,  44,  29, 142, 152,  69,  73, 146, 140, 162, 151, 197,\n          6,   3, 123,  15,  43,  86,  45, 190,  36,   2, 101, 193, 196,\n        217,  11,  10,  80, 202, 180, 120,   0, 139, 178,  50,  62, 192,\n        218, 215,  68,  83, 213, 106,  94, 113, 194,  99, 125,  98, 208,\n         46, 141,  26, 149,  48, 131, 164, 130, 144,  30, 118, 179,  91,\n        171, 129,  37,   9, 147, 173, 185,  92, 182, 105,  78, 143,  79,\n         18,  25, 138,  39,  41, 103,  88, 195,  38, 189,  55,  67,  28,\n        133,  74, 165, 116, 126, 161,  57, 175, 191, 100,  20, 177, 169,\n         54,  93,   4,  24,  76, 210, 104, 172, 201, 186,  81, 168,   1,\n         12, 150, 156, 111,  23, 114,  22, 136, 115, 163, 158, 119, 127,\n        117, 157,   7,  84, 155,  82, 170, 203,  60,  75,  53]),\n 59: array([32, 23,  0, 27, 30, 21, 22,  5, 11, 37, 34, 25, 13, 19, 36, 28, 18,\n        15,  2,  9, 39,  8, 10, 20, 33,  3, 17,  7, 24, 16, 31, 14, 35, 12,\n        38,  4, 29,  1, 40,  6, 26]),\n 60: array([80, 69, 79, 45, 47, 64, 81, 57, 21,  4, 67, 36,  5,  2, 39, 48, 34,\n        82,  8, 49, 37, 85, 78, 72, 58, 50, 30, 41, 35, 71,  0,  7, 11,  9,\n        46, 32, 83, 74, 86, 22, 16, 20, 18, 73, 68, 26, 27, 12, 29, 65, 66,\n        60,  6, 42, 44, 54, 10, 70, 14, 31, 63, 62, 53, 87, 19, 51, 84, 25,\n        38, 17, 40, 59,  1, 13, 24, 61, 33, 77, 15,  3, 43, 55, 76, 75, 23,\n        28, 56, 52]),\n 61: array([26, 24, 21, 44,  4, 38, 41,  5, 29, 30, 34,  0,  9, 37, 45, 39, 31,\n        20,  1, 17, 16, 15, 22, 42, 11, 43,  3,  6, 18, 14, 32, 25, 40, 46,\n        19,  8, 12, 13, 27, 36, 33, 10, 23,  7, 28, 35,  2]),\n 62: array([ 3, 15,  2,  4,  0, 16,  1,  5,  8, 13, 12,  6, 14,  9,  7, 11, 10,\n        17]),\n 63: array([ 962, 1029,  822, ...,  761,  203,  747]),\n 64: array([3, 4, 1, 0, 2]),\n 65: array([24, 46, 16, 18, 52, 53, 27, 22,  2, 40, 10, 25, 15, 28, 12,  9, 20,\n        38, 29, 26, 49, 21, 13, 33, 43, 17, 30,  0, 50, 14, 34, 11, 48, 37,\n        35, 23,  7,  3, 32,  5, 51, 19,  8, 44, 31, 36,  6, 45, 47,  4,  1,\n        42, 39, 41]),\n 66: array([ 4,  5,  3, 12, 20, 18, 17, 16, 15, 19, 11,  0,  9,  2,  6,  8,  1,\n        26, 30,  7, 29, 36, 10, 37, 21, 23, 24, 34, 27, 32, 22, 31, 14, 33,\n        35, 39, 38, 28, 40, 13, 25]),\n 67: array([ 5,  6,  7,  8, 10, 11, 12, 13, 14, 15,  3,  4,  9,  0,  2,  1]),\n 68: array([ 85, 127, 153, 253, 150, 230,   3, 240, 257, 221, 174,  39, 129,\n         63, 147, 133,  93,  90,  44, 207, 100, 218,  50, 130,  26, 281,\n        152, 225, 224, 141,  62,  66,  68, 258, 202, 104, 198, 113, 139,\n         74,  21, 252, 163, 108, 264,  15, 151, 288,  42, 243, 110, 220,\n        138, 259, 169, 232,   9, 251,  95, 265, 205,  14,  87, 134,  60,\n         59, 279, 155, 284, 160, 107, 182,  17, 278, 226,  23, 186,  36,\n         96,  20,  30, 123,  49,   0, 245, 248, 122, 247, 282, 235, 238,\n         13,  71, 161,  10, 242,  16, 125, 268,  89, 231,  18, 146, 192,\n        128,  33,  99,  57, 246, 289, 170, 276,  22,  32, 131, 201,  72,\n        109,  56, 178,   8,  47, 195, 184, 277, 106, 229,  35,  73,  54,\n         70,  58, 208, 236,  75, 260,  31,  12, 199, 181, 256, 234,  11,\n        290,  40,  51, 149, 197, 117, 111,   1, 266,   4,   5, 118,  41,\n         97, 157,  83, 291, 254, 114,  84, 137, 132, 176, 285,  94, 187,\n        209, 180, 193, 206, 217, 196,  24, 126, 211, 275, 223, 239, 287,\n        183, 172, 286, 162, 267, 216,  25, 244, 164,  91, 143, 269, 103,\n        233, 255, 194,  82,  64, 102, 262, 227,  55,  92,  77,  61, 214,\n        273,  38, 263, 222, 237, 215,   7,  81, 175,  19, 105, 185, 167,\n         80, 293, 283, 250, 142, 120, 189, 241, 188,  28,   2, 179, 112,\n        228, 274, 190,  34, 135, 168, 124, 145, 171, 204,  48, 292, 249,\n        140, 154,  52,  79, 136, 200, 213, 166,  53, 270, 272, 115, 144,\n        210,  76, 158, 191,  43,  29, 119, 101,  65,  27,  67, 261,  46,\n         45, 203,  98, 173,  86, 280, 212, 271,  37,  78, 165,   6,  69,\n         88, 177, 159, 121, 116, 148, 219, 156]),\n 69: array([ 24, 165, 456, 615, 354, 447, 182, 583,  58, 296, 123,  68,  18,\n         66,  60, 218, 509,  65, 353, 160, 678, 162,  91, 446, 695, 450,\n        138, 686, 248, 179,  38, 560,  32,  64, 570, 673, 215, 277, 166,\n        222, 265, 658, 261, 178, 554, 378, 670, 312, 317, 303, 365, 323,\n        648,  85, 724, 356, 369,  63, 205, 627, 327, 158, 358, 140, 329,\n         28, 239, 520, 319, 393,  48, 245,  72, 209, 625, 351,  62, 404,\n        104, 499, 208, 332, 330, 228, 355, 682, 382,  26, 618,  15, 422,\n        573, 638, 569, 346, 675, 143, 674, 269, 482, 344, 364,  84, 230,\n        134, 620, 715, 612, 568, 207, 725,   1, 483, 153, 711,  51, 331,\n         35,  47, 294, 255, 408, 154, 300, 487, 580, 654,  76, 683,  17,\n        523, 559,  99,  92, 606, 102, 643, 697, 375, 352, 435, 600, 488,\n        437,  30,  31, 563, 427, 436, 390, 417, 391, 676, 407, 273,  22,\n         83, 249,  67,  73, 594, 423, 157, 664, 189, 206,  71, 409, 597,\n        721, 347, 275, 259, 130, 290, 164, 337, 151, 416,  70, 359, 338,\n        544, 532, 132, 434, 380, 466, 193, 192,  45, 372, 362, 139, 418,\n         20, 659, 155, 247, 246, 440, 485, 486, 462, 474, 646, 647, 538,\n        291, 589,  54, 229, 649, 528, 311, 641, 361, 650, 668, 478, 491,\n        415, 119,  59, 324, 613, 199, 693, 507, 135, 473, 226,  36, 288,\n         11, 578, 581,  74, 602,  34, 406, 614, 524, 510, 235, 479,  37,\n        295, 707, 708, 652, 217, 530, 713, 188, 657, 297, 545, 190, 562,\n        536, 260,  78,  88, 175, 308, 293, 310, 501, 500, 276, 144, 302,\n        699, 103, 116, 624, 133, 186, 198, 169, 642, 458, 564, 413, 660,\n          8, 237, 168, 159, 412,  41,  40, 426, 238, 309, 318, 455, 124,\n        439, 493, 453, 531,  53,  93, 268, 115, 723, 503, 203, 430,  43,\n        339, 480, 110, 100, 202, 184, 468, 286, 688, 366,  44, 385, 464,\n        197, 630, 691, 145, 405, 389, 429, 448, 511, 665, 605,  25, 292,\n        146, 452, 692, 619, 529, 216, 588, 558, 196, 637, 521, 333, 454,\n        629, 639,   9, 388, 595, 555, 284,  33, 495, 666, 374, 635, 566,\n          0, 341, 506, 582, 195, 677, 420, 460, 105, 471, 604, 672, 281,\n        204, 514, 518, 383,  56, 384,  90, 718, 537,  50, 611, 565, 525,\n        601, 703, 496, 254, 556,  75,  96, 201, 633, 368, 212, 459, 126,\n        644,   5, 663, 220, 234, 285, 534,  10, 445, 185, 122, 567, 579,\n        147, 148, 472, 574, 410, 280, 616, 274, 687, 125,  42, 584, 345,\n        283, 655, 342, 508, 705, 608, 127, 141, 381, 256, 336, 622, 484,\n         94, 376, 661, 690, 244,   3, 191, 200, 379,  95, 340, 360, 522,\n        363, 252, 656,  79, 161, 421, 262, 502, 163, 129, 349, 576, 593,\n        651,  23, 515, 519, 167, 662, 392, 513, 517,  87, 438,  21, 400,\n        541, 632, 250, 320, 334, 213,  55, 710, 561, 112, 243, 267, 263,\n        187, 504, 371, 149, 306, 326, 183, 444, 304, 121, 645, 287, 700,\n         61, 694, 701,   2, 640, 282, 343, 533, 106, 107, 696, 367, 257,\n        272, 539, 476, 575, 592, 475, 142, 535, 467, 150, 634, 109, 717,\n        577, 221, 653,  57,   6,   7, 108, 428, 489, 170, 425, 403, 591,\n        370, 551, 449,  39, 498, 278, 231, 210, 270, 271, 335, 316,  13,\n        233, 194, 357, 557, 441, 401, 307, 590, 377, 172, 131, 720, 101,\n        315,  69,  27, 314, 397, 402, 679, 176, 373, 610, 211, 631, 709,\n        224, 111, 719, 702, 113, 571, 626, 394, 714, 242, 546,  52, 553,\n        572, 241, 399, 120, 543, 223, 547, 264, 266, 128, 585, 114, 322,\n        118, 396, 305, 424, 689, 492, 540, 214, 289, 481,  19,  81,  14,\n        156,  97, 313,  89, 419, 667, 411, 587, 722,  46, 497, 617, 181,\n        279, 225, 516, 152, 350,  49,  80, 443,  98, 174, 623, 117, 253,\n        609, 321, 716, 712, 603, 180, 628, 395, 236, 177, 596, 171, 227,\n        387, 386,  12, 490, 219, 232, 680, 586, 621, 469,  82, 542, 505,\n        461, 470, 251, 704, 299, 431, 526, 298, 598, 451,   4,  16, 552,\n        328,  29, 671, 463, 549, 681, 433, 607, 465, 432,  77, 325, 669,\n        512, 457, 301, 173, 414, 258, 548, 240,  86, 494, 636, 685, 398,\n        684, 706, 136, 137, 550, 527, 442, 477, 698, 348, 599]),\n 70: array([1, 2, 4, 3, 0]),\n 71: array([13,  7, 32, 30, 23,  3, 10,  0, 16, 27, 19, 33, 20,  1, 11, 31,  8,\n        26, 12, 15, 22,  4, 29,  9, 24,  2, 34, 25,  5, 17, 28,  6, 14, 21,\n        18]),\n 72: array([2, 3, 5, 4, 1, 6, 0]),\n 73: array([142, 125, 157,  83, 126, 185, 148,  56,  81, 177,  98,   9,  55,\n         80, 136, 182,  68, 134,  24, 119, 103, 114, 175,  97,  95, 145,\n        141,  74, 164,  38, 162,  61, 171,  79, 147,  15, 113,  19,  52,\n         99, 153, 100,  66,  59, 178, 161, 169, 132, 151, 181, 138, 122,\n        190, 111,  18,  22,   8,  40,  67,  89,  78,  96, 135, 144,  48,\n         44,  43, 186, 115, 130, 159,  13,  17, 143, 146, 152,  77,  62,\n         47,  14,  51, 117, 139,  41, 137, 176,  63,  65,  54, 156,  90,\n         29,  25,  50, 110, 160,  45,  46, 120, 118, 174,   0,   1,  71,\n        124,  31,  37,  75, 180,  88, 184, 173, 149,  21,  58,  92, 183,\n         30,  72,  70,  39, 172,  32, 163, 101,  16, 123,  12, 150,  11,\n        107, 133,   4,  10,  57, 108, 106, 187, 189,   6,  26,  49,  87,\n        168,   7, 112,  27,  76,  82, 116, 155, 170, 129, 179, 131,  28,\n         86,  36,  85, 154,  20,  73, 167, 128,  53,  93, 166,  64, 188,\n          3, 104,  35, 158,  84,  23, 127,  42,  34,  94,  60, 109,   2,\n          5, 121, 102,  69, 105, 140, 165,  33,  91]),\n 74: array([3734, 3115, 1688, ..., 1243, 4724, 2179]),\n 75: array([ 91,   9, 122, 130,  31,  29,  96, 138,  85, 149,  46, 132,  27,\n         87, 131,  15, 103,   3,  76,  84,  97,   5,  70,   6, 128, 112,\n         48, 121,  53, 161,  64,  59,   8,  20, 134,  38,  83, 110,  90,\n         81, 111,  86, 126, 153, 163,  80, 133,  99, 119,  79, 162, 136,\n        154,  14, 104,  43, 102, 159, 156, 158,  51, 129,  72, 116,  39,\n         89,  25,  68, 145,  63, 142,  45,  57, 169,  34,  92, 155,  18,\n         71, 108,  66,  60, 106,  47,  36,   7,  98, 182, 107,  35, 147,\n        101, 172,  32,  21, 151,  16, 135,  42, 114,  61,  73,  54,  69,\n        150, 183,  24, 168, 141,  41,  62, 148,  23, 157, 127,   0, 115,\n        164,  30,  26, 177,  82, 137, 160, 180,  67,  50,   2, 118, 173,\n        140, 144,  75, 170, 165, 184,  56,  58,  74, 120,  28, 139,  55,\n         10,  44, 176, 167,  49, 166, 171,  13,  65,  52,  19,  17,  78,\n         93, 143, 109,  37, 175, 100, 113, 179, 174, 117, 124,  33,  88,\n         11,   4, 181, 105,  22,  95, 178,  40,  77, 146, 152,   1,  12,\n         94, 123, 125]),\n 76: array([ 2, 12, 11,  1, 44, 88, 87, 20, 43, 21, 27, 33, 64, 16,  5, 68, 82,\n        65, 77, 90,  9,  0, 83, 45, 18,  6, 15, 69, 37, 85,  4, 14, 38, 24,\n        35, 57, 42, 53, 66, 72, 34, 26, 58, 49, 59, 60, 62,  3, 32, 19, 10,\n        50, 55, 74, 23, 78, 13, 22, 39, 61, 70, 30, 36, 84, 40, 25, 48, 46,\n        79, 51, 89, 80, 86, 75, 91, 71, 52, 54, 67, 56,  7,  8, 17, 28, 29,\n        63, 76, 47, 41, 73, 31, 81]),\n 77: array([ 38, 216, 388, 133, 183, 379, 360,  26, 573, 396,  46, 195, 134,\n        410, 464, 284, 263,  65, 452, 341, 136, 319, 108, 542, 373, 257,\n        484, 203, 480, 549, 568, 459, 467,  39, 157, 253, 378, 119,  32,\n        116, 534,  64, 526,  48, 522, 135, 176, 320,  10, 416,  25, 422,\n        462, 337,  63, 321,   7, 245, 399, 189, 179, 264, 529, 276, 209,\n        324,  44,  58, 354, 502, 193, 392, 572, 455, 302,  37, 496, 306,\n        578,  78, 300, 262, 237, 239, 519, 380, 468,  69,  68, 394, 148,\n        518,  62, 404, 204, 159, 198, 430, 342, 122,   2, 445, 383,  74,\n        553, 225, 214, 370, 158,  35, 201, 369, 439, 140, 570, 402,  57,\n        530, 211, 523, 485,  66, 292, 147, 304, 532, 327, 512, 344, 563,\n        544, 325,  24, 538, 299,  20, 403, 175, 401, 194, 576, 106, 390,\n        163,  90, 181,  33, 177, 336, 309, 100,  71, 222, 283, 317, 164,\n        318, 248,  13,  94,  87,  88, 419, 129, 156,  56, 406, 117, 446,\n        515, 217, 280, 548, 546, 470,  22, 516, 307, 479, 152, 543, 473,\n        458, 161, 101, 431, 338,  73, 243, 145, 173, 178,  86, 511,  43,\n        520, 111, 234, 444, 427,  82, 188, 359, 219, 429, 310, 499, 437,\n        286, 492, 271, 187, 305, 387, 441, 463, 169,  61, 493, 287, 151,\n        398, 172, 386,  14, 361, 377,  80, 501, 577, 107,   5, 566, 102,\n        298, 559,  49, 483,  29, 241,  91, 192, 143, 409,  34, 113, 411,\n        174,  96, 131, 491, 186, 443, 293, 425, 315, 537, 353, 185, 314,\n        190, 224, 461, 162, 471, 165, 331, 301, 561, 489, 110, 382, 567,\n        536,  93,  12, 448, 231, 109, 508, 395, 555, 160,   3, 545, 274,\n        415,  36, 149, 281, 144, 180, 128, 351, 170, 460, 269, 554, 205,\n        540, 235, 126, 400,  59, 329,  98, 420, 313, 308, 517,  40,  95,\n        238, 450, 397,  18, 478, 208, 507, 355, 385, 207, 297, 562, 289,\n        184, 348, 407, 434,  70, 474, 528, 527, 332, 343, 206,  15, 367,\n        247, 531, 294, 497, 312, 323, 350, 115, 495, 569, 477, 486, 316,\n         30, 466, 558,  79, 498, 405, 366, 449, 275, 246,  84, 142, 311,\n        428, 476, 141, 426, 121, 414, 524, 451,  76, 533,  31, 442, 182,\n        270, 105, 571, 346,  27, 244, 408,  45, 376, 229, 364, 242,  97,\n        288, 368, 296, 487, 223,  77, 371, 259, 210, 303,  51, 475, 358,\n        494, 132, 326, 277, 226, 249, 279, 552, 363, 362, 267, 539, 465,\n        513, 339, 200, 432, 436, 256, 123, 423,   1, 453, 191, 509, 435,\n        574, 227, 251, 413, 510, 124, 347, 421, 295, 440,  17,   0, 278,\n        221, 374, 575, 393,  28,  72, 166, 199, 469, 556,  42, 551,  81,\n        365, 230, 535,  75,  60, 250,  16,   9, 433,  23, 254, 290, 213,\n        220, 255, 340, 565, 103, 457, 345, 138, 504, 266, 265,  41, 120,\n        196, 228, 525, 240, 260, 150, 357,  54,  55, 472, 282,  21, 273,\n        547, 521, 389, 104, 564, 418, 154, 506, 384, 541, 285, 335, 500,\n        328, 155,  53,  50, 560, 215, 236, 505,  89, 233, 322, 438, 146,\n        168, 112, 391, 167, 291, 171, 272, 447, 412, 114, 514, 330, 488,\n         19, 127, 454, 153,  99, 481, 333, 118, 334, 252, 372,   4,   6,\n        202, 130, 550, 356, 557, 218, 232, 212, 381, 424,  52, 125,   8,\n        503, 352, 139,  67, 375, 417, 137,  11, 268, 456, 197, 490, 482,\n         83, 261,  47, 349,  85,  92, 258]),\n 78: array([45, 41, 49, 31, 26, 56,  3, 61, 36, 15,  6, 21, 39,  4, 33, 10,  1,\n        40, 19,  0,  2,  7,  8, 42, 59, 38, 30, 50, 57, 25, 16, 18,  9, 14,\n        28, 52, 53, 60, 23, 43, 46, 27, 37, 34, 24, 11, 44, 48, 54, 22, 51,\n        20, 12, 35,  5, 55, 32, 13, 17, 29, 47, 58]),\n 79: array([15,  4,  1,  2,  8, 11,  0, 14,  6,  5,  7, 10,  3, 12,  9, 13]),\n 80: array([49, 46,  3, 94, 39, 66, 47, 19, 79, 14, 55, 45, 11, 38, 93, 27, 44,\n        57, 28, 69, 32, 53, 42, 40, 16,  9, 82, 12, 21,  2, 56, 41, 70, 59,\n        54, 31, 52, 26, 77, 60, 22, 83, 95,  8, 75, 30, 33, 23, 78, 17, 10,\n        92, 68, 90, 51, 73, 24,  4, 15, 20,  7, 36, 67, 62, 48,  0, 87, 89,\n        61, 65, 91, 50, 74, 84, 13, 29, 85, 88, 25, 18, 80, 76, 64,  5, 63,\n        58, 72, 71, 86, 81, 34,  1,  6, 37, 35, 43]),\n 81: array([10,  6, 21, 19, 15,  7, 23, 12, 17,  3,  5, 18,  4,  8,  1,  9,  0,\n        22, 20, 13, 16,  2, 11, 14]),\n 82: array([12,  6, 26, 15, 18, 22,  4, 20, 11,  1,  8, 28,  7, 13, 14, 25,  0,\n        19, 21,  5, 24,  9, 27,  2, 16, 23, 17,  3, 29, 10]),\n 83: array([ 30,  39,  18,  85,   7, 112,  91,  90,  22,   9, 104,   8,  29,\n         49,  58,  19, 114,   1,  36,  20,  21,  71, 102,  45,  72,  62,\n         70,  86,  93,  11,  92,  63,  27,  74, 113,  55,  17,  24,  59,\n         41,  15,  84,  42,  57,  68,  54,  12,  37, 116,  38,  89,  73,\n          3,  14,  34, 115,  26,  69,  80,   2,  60,  98,  76,  97,   6,\n        107,  94,  10,  67, 109,  33,  31, 103,  83,   4,  48,  95,  61,\n         82,  46, 101, 111,  81,  77,  47, 100, 110,  96,  99,  65,  51,\n         75, 106,  43,  87, 105,   5,   0,  53,  50,  13, 108,  66,  32,\n         79,  78,  25,  40,  88,  16,  35,  28,  52,  64,  56,  23,  44]),\n 84: array([ 76,  70,  71, 154, 171, 117,  39, 122, 102, 181, 160,  62,  66,\n        133,  69, 127, 172, 115,  40, 103,  95, 149, 106,  75,  10, 166,\n         86,  72,   9, 110,  55,  11,  50, 138,  44,  15,  91, 175, 132,\n          7, 167,  14, 120,  90,  97, 129, 146, 136, 158, 178,  89, 177,\n        118,  63,  12, 141, 128,  67,  64, 131,  49, 100,   3, 140,  99,\n         27, 119, 152,  43,  84, 109, 153, 157,  96,  61, 105,  28, 170,\n        108, 147,  52,  88,  23, 111, 107,  13,  58, 163, 139,  16,  82,\n        174, 162, 161, 164,   8,  83,  48, 159, 126,  26, 101,  29,  45,\n         56,  60,  80, 148,   1, 169,  51,  57,  93,  19, 165,  17, 168,\n         42,  92, 134,  78,  79,  74,  46, 124, 125,  85, 135, 104, 143,\n        123, 116, 142,  73, 156,   4,  41,  34,  35, 155,  77, 176,   2,\n         47,  22,  68,  32,  59, 137, 114, 113,  30,  18, 180,  54, 151,\n         94,  21,  33,  20,  25,  31,  98,  36, 121,   6,  37,   5,  53,\n         38,  81, 144, 145, 130, 179,   0,  87, 112,  24, 150, 173,  65]),\n 85: array([ 37,  63, 144,  11, 146, 136, 135,  95,  35, 134,  66,  49,  39,\n         40,  67,  44, 145,  93, 157,  12,  76,  94, 158, 103,  59,  24,\n         38,  43,  82,  48,  54, 140,  53,  32, 149, 143,  51,  64,  46,\n         23,  65,  56,  98,  79,  14, 156,  60,  31, 129, 121,  78, 164,\n         77, 116, 102, 159,  81,  52,  57, 162, 101,  70,   8, 109,  99,\n         16, 166, 117, 123, 110,  45, 126, 100,  30,  22, 160,  10,   0,\n         72,  55, 131, 138, 137, 148,   5, 141, 128, 111,  27, 107, 154,\n          3,   2, 124, 113,  68, 112, 139, 153, 152, 165,  80,  69, 104,\n          4, 108,   9, 122,  47,  74, 142,  34,  50, 115,  62,  41,  13,\n        119, 161,  75, 132,  18,  25,  71,  73, 127, 150,  92, 120,  29,\n        114,  15,  88,  17, 155,  96,  61,   7,  33, 118, 147,  91,  86,\n         97, 151,  84, 130,  83,  87,  89,  85,   1, 106,  42, 105,  21,\n          6,  90, 133, 125,  36,  20,  28, 163,  58,  19,  26]),\n 86: array([43, 21, 29, 22, 37, 41,  0, 17,  7,  5, 34, 13, 11, 33, 15, 12,  2,\n        10, 25,  9, 35, 20, 44, 23, 24, 27, 31, 30, 18, 26, 38, 51, 48, 16,\n        50, 36,  4, 46, 45, 42, 40,  3,  6,  1,  8, 14, 47, 19, 49, 32, 28,\n        39]),\n 87: array([2, 3, 5, 1, 0, 4]),\n 88: array([41, 16,  9, 34, 14,  1, 24, 33, 25, 22, 17, 37, 39, 29, 23,  6, 20,\n        36, 30,  0, 40, 38, 18,  2, 26,  5,  3, 31,  4, 15,  7, 35, 21, 19,\n        10, 32, 11, 28, 13,  8, 27, 12]),\n 89: array([4, 5, 2, 3, 1, 0]),\n 90: array([28,  8,  9, 19, 10, 14, 15, 23, 12, 25, 22,  1, 17, 13, 18, 27, 20,\n        21,  2, 24,  5, 29, 26,  3,  7,  6,  0, 11,  4, 16]),\n 91: array([ 2,  1, 42, 43, 27, 16, 37, 19,  5, 25,  0, 34, 40, 41, 22,  6, 15,\n        48, 10, 13, 11,  7,  4,  9, 33, 36, 30, 39, 24, 17, 44, 46, 20, 23,\n        12, 35,  8, 32, 18, 45, 21, 38, 26, 28, 29, 47, 31, 14,  3]),\n 92: array([30,  1,  2, 25, 22, 19, 17,  9,  7, 31, 27,  5, 18, 10, 20, 23, 32,\n         4, 15,  0, 28, 14,  3,  6, 12, 16, 26, 11, 13, 21, 29, 24,  8]),\n 93: array([10, 16, 15, 17,  9,  8,  0,  4,  3,  2,  1,  7,  6, 11, 12, 13, 18,\n        14,  5]),\n 94: array([47, 54, 56, 35, 36, 38, 43, 50, 41, 49, 19, 42, 51, 27, 23, 21, 30,\n        39, 44, 33, 17, 10, 26, 31, 12,  2, 24, 46, 40, 28,  7,  5, 53, 29,\n        57,  8,  4, 55, 13, 15,  6,  0, 34, 45, 48, 25, 18, 14,  1, 32, 16,\n        52, 11, 20,  9, 22,  3, 37]),\n 95: array([33, 85, 82, 42, 90, 36, 81, 25, 13, 30, 48, 44,  2,  1,  3, 75, 69,\n        76,  0, 45, 84, 32, 31, 15, 51,  8,  4, 37,  7,  5, 77, 70, 27, 14,\n        71, 52, 11, 23, 50, 49, 68, 86, 83, 91, 47, 34, 28, 67, 19, 18, 10,\n        53, 55, 39, 65, 60, 74, 16, 40, 66, 61, 35, 78, 72, 88, 89, 21, 57,\n        22,  6, 46, 64, 80, 26, 56, 62, 59, 79, 63, 41, 54,  9, 38, 29, 20,\n        73, 17, 12, 58, 92, 43, 87, 24]),\n 96: array([  8,  57,  37,  66,  82,  80,  97,  72,  38,  96,  50,  90,  33,\n         65,  51,  44,  35,  49,  43,  46,  75,  91,  79,  47,  74,  48,\n        100,  56,  13,  23,   9,  10,  28,  22,  62,  17,  39,  94,  60,\n         12,  31,  52,  81,  54,  24,   2,  84,  19,  63,   0,  99,  68,\n         67,  77,  26,  83,  40,  16,  88,  95,   1,  87,  85,  30,  61,\n         53,  92,  11,  27,   3,  69,  42,  71,   5,  29,  78,  64,   4,\n         21,  14,  86,   6,  93,  20,  73,  32,  58,  41,  70,  18,  45,\n         36,  34,  76,  55,  59,  89,  15,  98,  25,   7]),\n 97: array([226, 364, 386, 276, 118, 275, 179, 110, 213, 423, 208, 346,  56,\n        452, 121, 352, 246, 103,  12, 166, 207,  55,  81,  87, 122, 104,\n        247, 353,  13, 308, 117,  43,  82, 311, 370, 410,  29, 303,  94,\n        254, 415,  45,  58, 112, 193, 361, 315, 111, 167, 268, 458, 295,\n        408, 177,  95, 451, 424, 369,  26, 164, 120,  32, 192, 436, 282,\n        259, 371, 178, 156, 216, 154,  42,  47, 212, 131, 338, 150,  90,\n        343, 468, 236, 234, 170, 252, 418,  88,  44,  49, 132, 186, 264,\n        416, 372, 136, 454, 135, 125, 355,  63, 289, 455, 376, 430, 426,\n        471, 184, 306, 173, 235, 258, 373, 227, 232, 362, 233, 130, 390,\n        240, 143, 305, 285, 401, 191, 215, 242, 113, 329,  65,  73,  60,\n        279, 417,  57, 435, 328, 378, 265,   3, 126, 277, 211, 389, 196,\n        412, 400, 260, 134, 257, 243,  74,  78, 228, 368, 296, 375, 428,\n         37, 199, 201, 411, 185, 287,  99, 182,  38,  72,  39, 385, 263,\n        189,  62, 148,  11, 380,  15, 397,  20,  85, 138, 153, 174,  33,\n        345, 320,  70, 137, 314, 449, 109,  61,  16, 171, 107, 183, 429,\n        221,  64, 105,  92,  48, 286, 294,  76, 354, 248, 357, 322, 210,\n        169, 251, 427, 114, 312,  28, 381,  53, 332, 237, 172,  21, 203,\n        358, 420, 100, 321, 467,  52, 280, 388, 307, 470, 356, 439, 157,\n        220, 344,   4,  17,  59, 466, 102, 250, 363, 241,  41, 239, 152,\n        347, 324, 129, 319, 341, 231, 437, 472,  36, 337, 200, 139, 304,\n        269,  31, 272,  83, 339, 441, 333, 222, 383,  67,  25, 409, 244,\n        450, 116, 384, 395, 465, 133, 349, 253, 407, 379, 202, 447,  50,\n        219, 318, 106, 313,  10, 224, 188, 438, 278,  86,  69, 316, 310,\n        461, 462, 374, 273,   8, 367, 205,  51, 160, 425, 406,  18, 292,\n        180,  97, 443, 256,  98, 434, 163, 101, 271, 159, 323,  89,  19,\n         93, 414, 119, 249, 158, 266, 404, 440, 147, 255, 141, 218, 433,\n        238,  23, 297, 327, 217,  80, 198, 108, 350, 453, 194, 444,  66,\n        317, 229, 123, 223, 413, 442, 469, 399, 288, 365, 195,  68,  91,\n        336, 396, 145, 298, 181, 281, 457, 155, 284, 393, 165, 187, 301,\n        128, 261,  27, 142,  77,   7,   1, 334, 473, 267, 270, 348,  75,\n        274, 325, 283, 394, 206, 175,  79,   0, 309, 405, 151, 421, 149,\n         30, 262, 402, 419, 197, 300,  40, 291, 387,  35, 456, 340, 382,\n        299,  54, 293, 403, 459, 432, 351,  46, 124, 161,   2, 422, 359,\n        140, 326,  34, 392, 464, 448, 360, 245, 342,  14,  24, 127, 146,\n        225, 230, 398, 162, 302, 115, 463, 204,   9, 331, 209, 144, 391,\n        446, 176,  96,  22, 431,   5, 335, 214, 445, 168, 190,   6,  84,\n        290, 377, 460, 330,  71, 366]),\n 98: array([459, 241,   0, ..., 651,   7,  97]),\n 99: array([3, 2, 1, 0]),\n 100: array([ 41,   2, 288, 102, 275,  11,  42, 108,   1,   8, 222,   0, 183,\n        201, 212,   9, 270, 235, 179, 324, 155, 152, 173, 224, 316, 147,\n        240, 150, 208, 227,  37, 257, 141,  34, 200, 202, 165,  64, 254,\n         51, 205, 134,  32, 250, 215,  27, 204,  67, 110, 214, 238, 180,\n          7, 241, 286,  96, 181, 223, 154, 340, 166, 325, 101, 140, 143,\n         82, 186, 184, 133, 176, 139,  61, 206, 167, 251,  98, 137, 236,\n        244, 114, 169, 280, 157, 190, 268, 260,  23, 301, 234, 168, 321,\n        264, 310, 178, 261, 106, 305, 105, 207, 193, 149, 230, 203,  39,\n         43, 144, 129,  94, 187, 273, 300,  26, 228, 220,  25,   5,  63,\n        332, 339,  62, 164, 170,  77, 132, 113, 112, 326, 175, 265, 232,\n        100,  69, 290, 281, 196, 194, 258, 317,  58,  60,  66, 239, 237,\n         28, 279, 188,  40, 276,  35, 197, 252, 211,  22, 142, 242, 121,\n        161, 158, 148, 298, 306, 327,  92, 177, 272, 199, 210,  75,  79,\n        189,   6,   3, 266,  59, 107,  53, 130, 337, 294, 309, 225,  33,\n        267,  16,  84, 295,  90,  83,  91,  29, 217,  17, 263, 226,  95,\n         18, 307, 293,  49, 115,  81,  56, 126, 145, 116, 138, 334,  57,\n         36, 195, 318,  72, 319, 331, 246, 128,  54, 256, 191, 146, 219,\n        111, 283, 159,  78, 104, 160, 312, 171, 198, 119, 341, 153, 322,\n        269, 320, 297,  55, 174, 216, 262,  89, 209,  47, 314, 221, 278,\n        103,  10, 311, 182,  80,  71, 303, 136, 231,  52,  70, 229, 287,\n        243, 172, 255, 289, 120,  48, 292,  46, 192, 313,  88, 328,  19,\n        284, 125, 117, 185, 336,  38, 282, 329, 335, 218, 333, 342, 131,\n        247,  30, 330, 122,  99,  74, 259,  50, 253,  68, 338,   4,  97,\n        163, 304, 233, 299,  65,  45, 124, 323, 135,  31, 291, 274, 213,\n         86, 162, 249, 248,  44, 156,  93, 245, 302, 151, 271,  85,  73,\n        123,  14,  76, 127, 118, 277,  20,  24,  15,  87, 109, 308,  12,\n        315,  13, 285,  21, 296]),\n 101: array([ 57,  14,  94,  71,   3,   1,  83, 103,  11, 109,  67,  40,  49,\n         42,  76,  61,  85,  95,  80,  47,  44,  90,  70,  33,  34,   8,\n         15, 106,  23,  87,  38,  31,  48,  72,  93, 100,  86,  99,  89,\n         91,  64,  96,   4, 115,  32,  68,  79,   6,  25,  52,  22,  17,\n        111,  50,  54,  39,  73,  59,   2,  88,  98, 101,  53,   0,  30,\n         45,  63,  60,  78,  58,  10,  19,  51,  41,  35,  92, 104,  56,\n         13,  27, 112,   5,   9,  46,   7,  97,  18,  36,  37,  24,  55,\n         75, 114,  66, 105,  84,  16, 107,  21,  12, 108,  43,  77,  29,\n        116,  20, 117,  65,  26, 102, 113, 118, 110,  74,  82,  81,  62,\n         28,  69]),\n 102: array([ 97, 646, 324, 689, 252, 434,  39, 665, 648, 372, 703, 585, 199,\n        630, 673, 580, 464, 493, 240, 619, 317, 732, 241, 183, 728, 649,\n        332, 323,  78, 641, 521, 307, 767, 512, 637, 388, 511, 316, 737,\n        287, 299, 695, 326, 220, 694, 468,  92, 302, 147, 260, 633, 457,\n        724, 569, 318, 583, 582, 733, 273, 620,   4, 522, 507, 325, 520,\n        618, 146, 297, 607, 543,  55, 642, 748, 409, 292, 659,   2, 214,\n        729, 482, 485, 149, 327,  54, 508,  10, 253, 132, 572, 395, 704,\n        510, 734, 662, 182, 423,  36, 286, 296, 336, 280, 219, 531, 370,\n        466,  56,  65, 200, 201, 381, 549, 186,  99, 567, 554, 527, 579,\n        126, 471, 681, 603, 225, 425, 399, 236, 688, 494, 470, 102, 565,\n        359, 536, 115, 161,  70, 101, 528,  85, 188, 386, 221, 564, 547,\n        331, 631, 289, 600, 455, 342, 363, 198, 540,  96, 408, 285, 700,\n         64, 291, 669, 654, 735, 148, 274, 706, 616, 104, 639, 595, 761,\n          3, 375, 668, 623, 652, 155, 658,  63,  18, 635, 420, 103, 205,\n        617,  49,  61, 753,  47,  84, 651, 712,  91, 456,  67, 154, 495,\n         34, 497, 672, 675, 376,  33, 613, 322, 133, 714, 644, 127, 283,\n        474, 670, 723, 447, 596, 266, 546, 111, 237, 314, 185,  89, 478,\n        602, 106, 610, 394, 337, 309, 390, 437, 308, 279,  98, 532, 105,\n        169, 168, 259, 640, 498, 247, 223,  53, 172,  16, 334, 156, 257,\n         11, 365, 117, 144, 138, 713,  87, 555, 743, 523, 666, 717, 310,\n        165, 166, 657,  20, 276, 137, 284,  14, 339,  50, 627, 710, 727,\n        362, 421, 525, 177, 738, 264, 281,  24, 164,  52, 636,  19, 647,\n        473, 705, 145, 489, 550, 691,  32, 277,  72,  37, 217, 234, 112,\n        175, 412, 245,   8,  21, 638, 232, 593,  25, 461, 436, 458, 290,\n        249, 419, 452,  60, 491, 680, 707, 632,  82, 167, 230, 574, 506,\n        577, 369, 755, 611,  59,  29, 192, 293, 509,   7, 143, 463, 416,\n        140, 584, 576, 674, 150,  81, 751, 626,  88, 551, 556, 715, 244,\n        335, 660,  35, 686, 440, 246,  40, 194,  44, 306, 451, 262, 371,\n        383, 621, 499, 378, 744, 120, 157, 261,  71,  42, 329, 190, 181,\n        518, 490, 268, 224, 368, 559, 136, 745, 453,  43, 758, 496, 113,\n        535, 503, 354, 445, 763, 433, 513, 353,  95, 500, 197, 255, 158,\n        254, 504, 346, 176, 389, 116, 718, 442, 374, 477, 501, 429, 189,\n        530, 693, 465, 677, 431, 502, 206, 216,  73, 575, 719, 196, 529,\n        570, 152,  66, 760, 426, 462, 328, 413,  80, 218, 526, 109, 438,\n        736, 427, 402, 128, 605, 129, 265, 228, 142, 180, 533, 330,   9,\n        349, 209, 539, 731, 417, 278, 131,  83, 467,  62, 730, 288, 301,\n        766, 195, 187, 130, 558,  94, 151, 692, 449, 444, 256, 366, 294,\n        119, 118, 432,  90, 519, 765, 373, 599, 517, 488, 122, 267, 661,\n        422, 446, 589,   0, 448, 392, 239, 450, 742, 401, 699, 439, 233,\n        534, 235, 250, 387, 222, 561, 708, 685, 516,  75, 418, 319, 524,\n        114, 108, 107, 435, 258, 341, 754, 171,  30, 160, 560,  28, 179,\n        483, 475, 215, 552, 454, 227, 270, 312, 676, 587, 563, 750,  79,\n        343, 135, 594, 726, 403, 398, 355, 606, 211, 298, 476, 752, 377,\n        174, 515, 568, 553, 472, 747,  22, 100, 159, 191, 184, 384, 407,\n        590, 597, 406,  58, 571, 203, 625, 460, 739, 709,  46, 716,  31,\n         76, 170, 424, 624, 213, 757, 486,  27, 208, 275,  86,  23, 505,\n        263, 139, 671, 749, 591, 210, 578, 271, 479, 664, 333, 173, 588,\n        153, 344, 204, 544,  26, 410,  77,  12, 141, 162, 347, 340, 351,\n        295, 178,  45, 492, 305, 243, 226, 690, 537, 722, 269,  51, 229,\n        740,   5, 212, 367,  41, 357,  38, 678, 541, 360, 487, 557, 242,\n        687, 441, 683, 391, 350, 348, 202, 110, 352, 300, 207,  57, 364,\n        251, 338, 345, 701, 702, 538, 356, 397, 682,   6, 469, 282, 231,\n         15, 697,  74, 134, 592, 628, 459, 238, 124, 756, 400, 272, 746,\n        428, 656,  93, 684, 248, 396, 321, 480, 725, 380, 320, 608, 514,\n        405, 385, 764, 679,  69, 311, 123, 759, 121, 415, 604, 562, 698,\n        404, 193, 542, 358, 720, 411, 163,   1, 484, 313, 762, 645, 304,\n         13, 443, 430, 622, 601, 481, 315,  68, 653, 303, 581, 598, 741,\n        711, 125, 634, 379, 667, 609,  48, 361, 650, 566, 643, 573, 548,\n        612, 614,  17, 393, 545, 629, 586, 382, 721, 663, 655, 414, 696,\n        615]),\n 103: array([ 8,  1,  2,  3,  4, 14, 13,  7,  9, 10, 12,  0, 15,  6,  5, 11, 16]),\n 104: array([65, 48, 32, 14, 52, 20, 41, 25, 36, 19, 35, 11, 26, 15, 34, 58, 64,\n         1, 56, 33, 61, 63, 59, 45, 27, 28, 54, 29, 16, 10, 24, 31, 13, 57,\n         8, 44,  3, 60, 12, 18,  4, 43,  2, 17, 42,  0, 30, 40, 55, 62,  5,\n        51, 47, 22, 38, 53, 49, 39, 50, 37,  9,  6, 23, 21, 46,  7]),\n 105: array([ 21,  90, 147, 206,  36,  89, 180,  42,  10, 104, 239, 148, 154,\n         34, 188,   4,   9,  56,  81,  43, 131, 155,  54,  84,   1, 285,\n        255,  80,  97, 220, 125, 245,  93,  53,   0, 121, 185, 264,  92,\n         99,  79,   3, 168,  27,  49, 251, 242, 113, 133, 238, 278, 288,\n         31,   7, 164, 175, 277, 272, 287,  74,  17, 172, 139, 281, 142,\n         45,  19,  95,  18, 158,  75, 184, 274,  96,  29, 275, 248, 129,\n         70, 279, 115,  67, 261,  87, 157, 231, 165,  91,  16, 119, 111,\n        179,  41, 202,  38,  60, 193,  39, 211,  40, 195,  11, 120, 110,\n        128, 226, 162, 200,  63, 236,  35, 143, 171,   6,   2,  76, 183,\n         44, 213, 169,  32, 209,  58,  69, 256, 135,  98,  72, 223,  55,\n        284,  14, 196, 199, 247, 177,  57,  20,  33, 117, 198,  77,   5,\n        214, 127, 225, 144, 166, 181, 235,  82, 112, 260,  52,  26, 273,\n        100, 221,  61, 150,  78, 194,  68, 246, 182, 234, 265, 208, 276,\n        292, 222, 259,  86, 218, 243, 291, 107, 227, 270, 269, 108, 215,\n        101,  50, 201, 102, 173, 163, 137, 258,  66, 204, 224, 266, 232,\n        230, 219, 216,  65, 152, 282,  64,  13, 132, 263, 141, 176, 190,\n        105, 254, 289, 109, 268, 124, 197, 252, 186, 123, 136, 283, 149,\n        174, 207, 233, 267, 253, 187, 191, 122, 130, 106,  12,  62,  73,\n         24, 116,  48,  85, 126,  25,  83, 262, 145,  51, 217,  15, 170,\n         30, 240, 161, 192, 140, 178, 290, 257, 271, 212, 293, 244, 146,\n        189, 167, 205, 210,  28, 118, 160, 153,  94,  88, 241, 151, 286,\n        229, 203, 280,  47, 134, 156, 103,  71,  37,  59,  23,   8, 228,\n        159,  46, 114, 250,  22, 237, 138, 249]),\n 106: array([4, 5, 2, 1, 6, 0, 3]),\n 107: array([0, 1]),\n 108: array([18, 13, 10,  3, 17, 12,  9,  2, 16,  1,  8, 14,  7,  5,  6, 19,  0,\n        15,  4, 11]),\n 109: array([ 5,  7, 11, 10,  1,  8,  2,  6,  9,  0,  3,  4]),\n 110: array([1443,  376, 1444, ...,  963,  966, 1605]),\n 111: array([12,  9,  4, 20,  1,  6, 30,  3, 24, 16, 17, 22, 27,  2, 19, 11, 25,\n        29, 15, 28, 14, 13,  0,  8,  7, 26, 21,  5, 18, 23, 10]),\n 112: array([142,  78, 271, 115, 281, 358, 245, 110, 268, 223, 222, 294, 334,\n         92, 180, 179, 198, 438, 295, 265, 290,  40, 339, 403, 352, 143,\n         16, 361, 105,  15, 241, 350, 357, 436, 227, 423, 384, 101, 128,\n        221, 382,  12,  84, 270,  80, 109, 190,  73,  79, 132,  76, 192,\n        298, 317, 406, 252, 191, 137, 199, 230, 261, 228, 344, 388, 144,\n        335, 236, 237, 234, 341,   9,  97, 218,  18, 296, 220, 293, 113,\n        238,  86, 210, 353, 285,  98, 204, 207,  31,  72,  75, 256,  23,\n        340,  57,  61, 174, 307,  11, 405, 364, 409, 379, 413, 421, 136,\n        182, 427, 123,  62,  44, 441, 404, 365, 424, 166, 177, 122,  50,\n        203, 102,  63, 124, 367, 437,  24, 100, 276, 282, 208, 118, 205,\n        147, 418, 133, 116, 348,   7,  96,  13, 162, 250, 244,  94, 331,\n        159, 259, 114, 178, 311, 287, 165, 275, 146,  37,  82,  43, 306,\n        193, 253, 231,  83, 410,  53, 284, 425,  48, 324, 291, 375, 255,\n        269,  70, 399,  36, 402, 260, 262, 188, 183, 239, 215, 362, 108,\n        254, 299, 277, 308,  35, 120, 430, 152, 297,  32, 439, 303, 283,\n        356,  17, 197, 130, 267, 432, 327, 112,   8, 117, 279, 251,  65,\n        176, 247, 415, 442,  88,  22, 366, 429, 149, 328,  60, 164,   6,\n         95, 242, 195, 163, 363,  66, 225,   4, 273, 212, 292,  52,  14,\n         49, 103, 417, 337, 266, 141, 161, 420, 347, 383, 272, 386, 305,\n         74, 175,  81, 419, 189, 129, 139,  41, 355, 359,  34, 217, 322,\n        319, 318, 428, 376, 229,  64, 249, 126, 127, 431, 288, 200, 148,\n         33, 257, 333, 346, 125,   2,  93, 107, 380, 246, 426, 396,  38,\n        154,  19,  69,   5, 381, 310, 158, 169, 168, 104, 414, 194, 330,\n        398, 391, 371, 278, 263, 370, 377,  45, 435, 316, 201, 151, 209,\n         10,  55, 119, 233, 131, 211,  20, 315, 387, 422, 196, 280, 172,\n        302, 121, 378, 235, 106,  29, 412, 135,  30, 434, 408,   0, 258,\n        232,  71, 323, 320, 369, 336, 219, 321,  99,  68, 349, 286,   3,\n        354, 329, 443, 171, 416, 300, 304, 325, 111, 385, 433, 313,  42,\n        342, 345, 186, 202, 206,  25, 401, 187, 173, 181,  87,  59,  85,\n        134, 145, 372, 150, 240, 248, 160, 185,  67, 332, 184, 170, 309,\n        400, 326, 301, 213, 312, 338,   1, 167, 214,  56, 226, 351, 394,\n        314, 389, 397, 157, 156,  91,  54, 390, 274,  28,  26, 264, 360,\n         90, 216,  58, 289, 138, 155, 368,  27, 153,  39,  51,  46,  89,\n        393,  21, 440, 243, 224, 374, 343, 407,  77, 411, 140,  47, 395,\n        373, 392]),\n 113: array([ 12,  11,  71,   7, 117,  38, 164,  30,  15, 209, 233, 198, 175,\n        167, 119, 313, 236, 283, 241, 185, 326,   2,  88, 179,  73, 305,\n        141, 349, 196, 202, 258, 237,  69,  97, 212,   1,  50, 216,  85,\n         43, 120, 232, 235,  52, 159, 169, 186, 162,  99, 213,  20, 178,\n        302, 322,  82,  22, 267,  80, 207, 260, 325, 126,  46, 259, 211,\n        288, 350, 343,  89, 149, 268, 124, 201, 170,  21,  62, 297, 303,\n        280, 332, 191,  24, 255, 335, 234, 355, 158, 172, 274, 104,  54,\n        229, 111,   3, 356, 230, 214, 253, 197, 148, 265, 333, 166, 278,\n        105,  91, 250,  66,  33, 344, 187,  23,  36,  81, 143, 150, 107,\n        275, 139, 168, 256, 246,  78, 225, 353,  10,  98, 328,  70,   9,\n        116,  47, 140, 262,  37,  16,  60,  34, 106,   6, 299, 184, 114,\n        284,  40,  26,  13,  39, 144,  84, 103, 257, 282, 121, 354, 330,\n        301, 252, 304,  59,  14, 174, 323, 281, 341, 165, 243, 112, 273,\n        115,  96,  68,  79, 138,  48, 270, 180,  28,  25,  45, 290,  56,\n        203,  55,  65, 242, 315, 295, 244,  72,  51, 321, 176, 266, 189,\n        307, 204, 200,  32, 351, 219, 100, 293,  90, 327, 314,  94, 238,\n        220,  35, 312,  42, 337, 269,  53, 183, 272,   8,  17, 215, 291,\n        128, 294, 309, 199, 147, 285,  75, 324, 286, 336, 157, 206, 240,\n        160, 318, 292, 129, 153,  27, 271, 156, 263, 329, 345, 123, 163,\n        226, 182, 132, 340, 346, 342,  95, 193, 339, 155, 161, 221, 205,\n        308,  86, 137, 317, 306, 300, 110,  44, 145, 146, 127, 248, 239,\n        102, 136, 113, 122, 277, 108, 224,  74, 296,  92, 310, 254, 134,\n        338, 316,  87, 357,  57,  83, 133, 228, 264, 320, 289, 261,  93,\n        334, 247, 192, 311, 287, 154, 245, 231, 118, 210,  64, 279,  77,\n        142, 101, 130, 218, 190, 152,  76, 208, 222, 223,  49,  31, 319,\n        348,   4, 195, 109, 276, 227,  41,  58, 177, 298, 331, 251, 194,\n        249, 171,  67, 181,   5, 135,  63, 173, 131, 188,  19, 151, 125,\n         61, 352,  29, 347,   0, 217,  18]),\n 114: array([201,  45, 514,  57, 274,  81, 501,  54, 213, 174, 173, 203, 273,\n        465, 403, 335, 333, 324, 429, 547, 433, 113, 493, 478, 572,  87,\n        438, 365,  25, 529,  75, 357, 364, 358, 440,  79, 366, 533, 243,\n        516, 284, 327, 319, 318, 317, 428, 215, 505, 393, 269, 131, 436,\n        432, 578,  72,  89, 237, 525, 121, 330, 387, 211, 565,  88, 419,\n        255, 508, 296, 210, 476,   9, 117, 111,  34, 175, 288, 225, 454,\n        544, 480, 353, 334, 240, 295, 294, 150, 234, 142, 481, 404,  85,\n        479, 567,  38,  41, 245, 315, 405, 212,   1, 530, 495, 469, 574,\n        187, 238,  80, 413, 507, 241,  71, 564, 190,   0, 157, 396, 444,\n         43, 326, 177, 424, 188, 110, 500, 523,   3, 524, 485, 272, 299,\n        195, 347,  19, 329, 398, 515, 224,  49,  42, 280, 571, 270, 504,\n        259,  84,  60, 414,  83,  98, 439, 332, 577, 106, 208, 402, 145,\n         12,  24, 287, 518, 423, 112, 229, 158, 503, 232, 473, 155, 119,\n         69, 494, 575, 566, 435,  95, 331, 487,  48, 352, 359, 390,  70,\n        166, 163,  82, 118, 455, 170, 576, 164, 220, 371,   2,  51,  78,\n        292, 430, 268, 183, 242, 132, 217, 307, 372, 154, 227, 275, 253,\n        526,  47, 543, 531, 580, 466, 355, 416, 536, 130, 542, 191, 298,\n        261, 421, 449, 467, 394,   8,  53, 239, 293, 462, 252, 236, 401,\n         20, 149, 573, 417, 135, 559, 490, 548, 323, 120, 204, 251,  74,\n         56, 452, 197, 231,  59,  33, 258, 512, 374, 549,  50, 337, 541,\n         92,  58, 376, 100, 339,  67, 459, 167, 311, 468, 138, 301, 582,\n        434, 207, 341,  28, 498, 384, 521, 381, 249,  63, 558, 278, 369,\n        418,  10, 262, 513, 322,  26,  39, 148,  29, 463, 368, 400, 308,\n        226, 216, 380,  64,  91,   7, 470, 363, 511,   4, 584, 554, 250,\n        389, 320, 551, 383,  17, 302, 304, 281, 122, 206, 162, 325,  32,\n        328, 475, 535,  73, 159, 200, 160,  21,  96, 222, 367, 590, 492,\n        314, 442, 303, 223,  94, 246,   5, 350, 427, 147,  15, 310,  13,\n        321, 409, 420, 527, 300, 563, 127,  31,  37, 411, 209, 385, 457,\n        388, 344, 256, 560, 377, 546, 534, 587, 497, 509, 496, 194, 472,\n        109, 176, 345, 152,  46, 538,  14, 392, 477, 406, 103, 235, 290,\n         44, 105, 137, 104, 286, 373, 568, 464, 141, 489, 342, 172, 257,\n        125, 586, 168, 340, 289, 305, 202, 362, 540, 108, 569, 588, 179,\n         36, 532, 422, 581, 486, 316, 140, 313,  55, 510, 553, 488, 228,\n        399, 356, 248, 410,   6, 412, 499, 156, 415, 426, 562, 336, 171,\n        550, 592, 443, 561, 165, 450,  40, 370, 589, 254, 126, 182, 386,\n        354,  35,  11, 279,  52, 431, 124, 579, 557, 491, 552, 458, 348,\n        346, 539, 570, 522, 378, 506, 382, 205,  66, 214, 297,  27, 338,\n        425, 375, 593, 461, 151, 185, 556, 447, 107, 474, 453, 306, 129,\n        312, 283, 143,  77, 583, 446, 199, 528,  76, 169, 114, 379, 483,\n        244, 519,  93, 309, 153, 395, 115, 291, 265, 484, 230, 537, 133,\n        349, 102, 482,  23, 555, 277, 260, 456, 146,  16, 116, 451, 460,\n         68,  65, 198, 276, 285,  97, 520, 591, 221, 502, 186, 351, 441,\n         22,  30, 123, 139, 219, 407,  18, 408, 282, 391,  86,  62,  99,\n        136, 517, 585, 218, 471, 397, 192, 343, 134,  61, 448, 178, 101,\n        180, 181, 161, 437, 247, 545, 445, 196, 263, 184, 361, 144, 193,\n        128, 233, 271, 189, 264, 266, 267, 360,  90]),\n 115: array([174, 160,  82,  71,  93, 136,  89,  13,  61,  26,  41, 108, 192,\n        217,  83,  30,  22, 159, 186,  36,  99,  12, 190,  59,  39, 216,\n        259, 110, 239, 129,  19, 161,  33, 191, 248, 115, 150, 172, 127,\n        262,  53, 206,  60,  28,   5, 131, 173, 104, 156, 141, 202, 170,\n        208,  48, 155,   7,  96, 230, 199, 205,  75, 112, 135, 181, 126,\n        207, 198, 189, 187, 171,  18, 116, 101, 182,  32, 193, 203,  20,\n         80,  68, 231, 257, 139, 209, 264, 103,  24, 245, 232,  40,  52,\n         65,  57, 244, 132,  78,  91,  70,  84,  50,  90,   2,  62,  69,\n          6,  73, 211,  14,  42, 130, 124, 195, 106,  37,  10, 105, 167,\n         45,  49, 145,  58, 100, 109, 111, 263,  64, 180, 249, 175, 120,\n        229, 152,  86,  38, 213,  88, 194,   0,   1, 236, 138,  72,  21,\n        224, 148, 237, 188, 221,  98,  25,  95,  81, 254, 122, 243, 240,\n        133,  79, 176,  54,   9, 233,  51,  97, 252, 153, 143, 149, 178,\n        212, 196, 185, 134,  29, 247, 241, 197,  15, 218,  46, 118,  16,\n        146, 154, 169, 183, 251, 107, 225, 140, 151,  77,  44,  47, 128,\n        121,  34, 258, 102,  74, 261, 260,  31,  76, 123,  67,  85, 253,\n         35, 144, 238, 235, 147, 200,  92,   3, 113, 179,  56, 223, 162,\n        142,  43,  11, 256, 255,  55,  66, 220, 117, 226,  94,  27, 204,\n        201, 219, 242, 227, 234, 214, 119, 228,  63, 210, 168, 125, 250,\n        177, 158, 215,   4,  23, 222, 246,  87,  17, 157, 164, 184, 163,\n        137, 114, 165, 166,   8]),\n 116: array([18,  3, 28, 16,  6, 33, 11, 21, 31, 35, 22,  8,  7, 15, 34, 10, 20,\n        30, 37, 12, 39, 24,  1, 14,  2, 27, 29, 19,  4, 40,  0, 25, 38, 23,\n        36,  9, 32, 17,  5, 41, 26, 13]),\n 117: array([36, 26, 32,  9, 40, 33, 18, 30,  3, 13, 20, 11, 31, 27,  6,  4, 19,\n         1, 28, 38, 34, 35,  5, 21, 12,  2, 23, 15, 10, 17, 29, 39,  7, 37,\n         8, 14, 24, 16, 25, 22,  0]),\n 118: array([ 579,  150,  581, ...,  753,  562, 1271]),\n 119: array([61, 49, 30, 50, 76,  6,  0, 33, 65, 73, 72, 15, 47, 34, 43, 85, 16,\n        46, 14, 40, 60, 69,  8, 35, 53, 74, 39,  7, 13, 44, 29, 55, 25, 83,\n        10, 70, 84, 32, 45, 75, 77, 82,  4,  2, 81, 20, 23, 68, 51, 71, 57,\n        26, 48, 11, 27, 24, 38, 58, 19, 37, 21, 54, 17,  1, 36,  9, 62, 42,\n        67, 87, 18, 22, 86, 80, 52, 63,  3, 28, 31,  5, 59, 78, 64, 66, 79,\n        12, 56, 41]),\n 120: array([51, 46, 13, 41,  1, 30, 42, 16, 52,  9, 35, 49,  8, 21, 18,  0, 10,\n        17, 56,  4, 12, 39, 32, 45, 50, 33, 36, 57, 58, 44, 43, 31, 53, 47,\n        11, 19,  2, 55,  6, 14, 27, 37, 23, 26, 40, 34, 24,  3, 20, 22, 54,\n         5, 38, 15, 28, 25,  7, 29, 48]),\n 121: array([ 6, 15, 17,  5, 11, 12,  2,  7,  1,  4, 13,  3, 14, 16,  0,  9,  8,\n        10]),\n 122: array([14,  1,  0, 10, 18,  8, 15, 11, 16, 17,  9, 12,  6,  7,  3,  2, 13,\n         5,  4]),\n 123: array([211,  91, 198, 196, 108,  43, 193,  74, 187, 176, 213,  86, 173,\n        131,  68, 201, 121, 157, 106, 126, 181, 130, 171,  51, 129, 114,\n        144, 161,  73, 164, 149, 184, 202, 163, 127,  85,  71,  81, 134,\n          7,  48, 159,  72, 156, 204, 142, 135, 199, 186, 185, 160, 210,\n         63,  96,  38, 102, 119,  97,  87, 200, 125, 132, 104,  17,  46,\n         56,  58, 115,  31,  62, 165,  33, 133, 143, 138, 189, 188,   8,\n        123, 152, 208,   2, 191, 158,  42, 169,  93, 212,  30,  32,  53,\n          1,  21,  55,  47,  95,  15, 162,  98, 128,  66,  13,  61,  57,\n        113, 124,  65, 170, 148,  94,  10, 182,  67, 117, 118, 206,  59,\n        207, 101,  26,  88,  64, 116,  37, 137, 146,  18,   3,  27,  60,\n         84,  14,  76, 180,  49,  77,  69, 136,  83,  44,  28, 197,  24,\n         25,  35, 174, 145, 122, 183,  99,  90,  11,  12, 100, 109, 103,\n        120,  40, 141,  50, 105, 190, 139,  41,  22, 112, 166, 167, 192,\n        111,  19,  29, 175, 154,   6,  54, 168,  89,  34, 178, 153, 205,\n        177,  70,   9, 110,  36, 179,  39, 195, 151,  23,  16, 107,  75,\n        150,  79,  45, 155, 147,  92,   4,  52, 172, 203,  78, 209,   0,\n          5, 194,  80,  82, 140,  20]),\n 124: array([723, 163, 628, 339,  78, 651, 454, 859, 208, 186, 768, 787, 314,\n        757, 136, 574, 440, 380, 619, 252,  92, 882, 633, 754, 613, 401,\n         81, 881, 801,  40, 550, 823, 741, 668, 463, 804, 489, 348, 162,\n         54, 287, 536, 344, 213, 388, 400, 838, 370, 195, 565, 386, 716,\n        611, 622, 355,  75, 797, 458, 867, 698, 341, 878, 141, 714, 427,\n        805, 661, 719, 509, 356, 479, 800, 311, 630, 320, 699, 722, 694,\n        566, 653, 198,  41, 174, 612, 389, 419, 685, 416,  44, 537, 555,\n        130, 862, 508, 330, 776, 161, 709, 244, 180, 121, 869, 381, 393,\n         86,  49, 803, 487, 644, 167, 872, 518, 637, 763, 702, 149, 310,\n        277, 514, 748, 142,  17, 879, 749, 395, 234, 703, 251, 288, 689,\n        632, 274, 376, 821, 338, 808, 617, 673, 641, 418, 828, 483, 334,\n        806, 430, 433, 476, 224, 728, 231, 616, 184, 822, 854, 485, 168,\n        101, 773,  25, 192, 270, 712, 159,  76, 517, 504, 332, 387, 154,\n        568, 551, 778, 567, 269, 569, 592, 340,  51, 468, 868, 874, 524,\n        372, 769,  37, 222, 297, 276, 391, 826, 606,  99, 102, 235, 877,\n        488, 659, 240,  38, 125, 346,  68, 113,  80, 676,  98, 295, 144,\n        785, 275, 171,  18, 259, 825, 350, 264, 691, 382, 494, 578, 711,\n        359, 351, 634, 309, 202, 742, 409, 815, 663, 265, 667, 649, 301,\n        515, 598, 771, 678, 870, 135, 241,  28, 624, 577, 470, 442, 445,\n        755, 707, 516, 461, 780, 727, 595, 605, 385, 462, 807, 704, 718,\n        512,  34, 652, 597, 690, 477, 439, 268, 324, 643, 725,  31,  61,\n        579, 662, 850, 549, 563,  42, 137, 770, 851, 196, 426, 200, 425,\n        817, 215, 623, 853, 538, 635,  19, 856, 357,  15, 625,   9, 883,\n        109, 756, 528, 115, 608, 404, 836, 647, 177, 600, 844, 799, 751,\n        786,  58, 221, 452, 802, 526, 227, 126, 166, 693, 129, 447, 128,\n        457, 645, 361, 587, 187, 664, 374, 842, 185, 438, 621, 293, 443,\n        540, 681, 411, 535, 546, 670, 394, 272, 767, 684, 460, 437,  65,\n        576, 750,  39, 603, 322, 305, 500, 114, 720, 740, 715, 436, 434,\n        726,  53, 146, 666,  66, 258, 529, 421, 103, 530, 731,  89, 871,\n         47, 257, 620, 657, 631, 575, 237, 717,  60, 520, 752, 831, 835,\n        397, 449, 781, 250, 602, 732, 584, 118, 683, 534, 788, 303, 429,\n        410, 191, 254, 585,   7, 336, 811, 405, 762, 832, 408, 642, 475,\n        107, 448, 639, 841, 863, 789,  26, 793,  57, 791, 758, 594, 106,\n        383, 223, 478, 423, 730, 414, 441,  97, 428, 618, 753,   5, 345,\n        542, 570, 688, 424, 201, 539, 127,  77, 734, 495, 586,  88, 110,\n        415, 260, 290, 304, 745,   4, 737, 183,  13, 502, 228, 705, 164,\n        706, 638, 148, 522, 792, 467, 248, 233, 820, 816, 296, 503, 864,\n        629, 347, 212, 636, 182, 743, 541, 839, 432, 490, 858, 189, 779,\n        375, 733, 777, 700, 760,  27, 170, 507, 654,  90, 484, 553, 392,\n         91, 547, 156, 648, 837, 472, 814, 697, 402,  50, 342, 521, 544,\n        880, 532, 847, 459, 413, 120, 210, 349, 766, 772, 176, 119, 317,\n        675, 226, 140, 580, 824, 626, 843, 178, 230, 739, 572, 682,  22,\n        285, 354,   0, 819, 152, 245, 188, 583, 665, 840,  56, 833, 327,\n        497, 294, 875, 607, 353, 308, 307,  43, 193, 379, 326, 165, 710,\n        225, 390, 474, 111, 588,  62, 267, 527, 784, 674, 765, 132, 499,\n         72, 695, 147, 601, 139, 471, 782, 736, 216, 116, 590, 810, 278,\n        640, 229, 455, 262, 560, 284, 846, 599, 204, 679, 593, 403,  46,\n        834, 194,  24, 852, 232,  11, 108, 412, 384, 481, 456, 774, 280,\n        243,  82, 331, 417, 533, 406, 589, 660, 738, 112,  14, 614, 333,\n         64,  96, 571, 271, 573, 556, 286, 469, 207,  94, 179, 451, 206,\n        671, 764, 100, 548, 373, 173, 627, 122, 818, 860, 692, 246,  35,\n        721, 473, 435, 422, 298,  84, 498, 407, 335, 506, 701, 798,  73,\n        211,  93, 239, 677, 289, 362, 242,  32, 747, 794,  16, 366, 513,\n         59, 746, 775, 669, 783, 300, 884, 203, 686,  33, 465, 809, 319,\n        364, 582, 759, 105, 281, 545, 446, 261, 255, 282, 848, 104, 131,\n        486, 205, 672, 680,   3, 358,  79, 313, 511, 398, 729,  10, 352,\n        150, 876, 306,  63, 492, 219, 735, 596, 263, 687,  69,   1,  36,\n        312, 217, 523, 169, 143, 849, 197, 761, 845, 133, 368, 444, 190,\n        291, 510, 531, 501, 315, 525, 559, 371, 830, 655, 134, 466, 857,\n        713, 321,  87, 519, 480, 209, 453, 873,  23, 369,  12, 554, 367,\n        175, 557, 790, 450, 615, 325, 158,   8, 431,  67, 124, 865, 292,\n        299, 552, 646, 650, 214, 827, 256, 199, 160,  71, 273, 153, 482,\n        247,  21, 505, 609, 496, 218, 329, 812, 172,  55, 696, 861, 117,\n        724, 493, 151, 155,  20, 138, 491, 145,   2, 581, 123, 253, 795,\n        464, 318,  95, 181, 323,  48, 363, 377, 220, 328, 365, 866, 813,\n        796,  85, 562, 610, 236, 157,  29, 337, 279,  45, 302, 561, 360,\n        343, 558,  30,  74,  83, 604, 744, 249,  52, 708,   6, 829, 855,\n        378, 658, 564, 238, 396, 266, 543, 656,  70, 283, 316, 399, 420,\n        591]),\n 125: array([ 0,  4, 15, 26,  6,  8, 16, 19, 22,  3, 21, 28, 24, 23, 27, 20, 25,\n        18,  2,  5,  9, 17, 11,  7,  1, 10, 12, 13, 14]),\n 126: array([68, 16, 22, 27, 72,  4,  5, 18, 78, 37, 57, 34, 77, 29, 45, 53,  2,\n        13,  6, 54,  7, 33, 11, 43, 60, 47, 40, 66, 44,  0,  1, 67, 74, 42,\n        62, 75, 46, 17, 71, 59, 58, 31, 26, 48, 25, 61, 19, 50,  3, 41, 21,\n        65, 52, 24, 23, 30, 28, 14, 32, 64,  8, 51, 73, 56, 35,  9, 79, 39,\n        36, 55, 69, 20, 15, 49, 38, 76, 12, 70, 63, 10]),\n 127: array([3, 5, 0, 2, 1, 4]),\n 128: array([15, 14,  5,  6,  1,  0, 26, 25, 21, 20,  4, 13, 17, 19, 23, 12,  3,\n        16,  2,  9, 18, 22, 24,  8, 11, 10,  7]),\n 129: array([16, 11, 18,  3, 15, 20,  1,  9, 13,  5,  8, 21,  7, 14,  4, 19, 12,\n         0, 17,  6,  2, 10]),\n 130: array([22, 70, 75, 47, 73, 74,  6, 69, 52, 82, 14, 21, 45, 28, 53, 54, 41,\n        37, 26, 77, 60,  1, 68, 33, 81, 62, 71,  7,  8, 25, 80, 49, 31, 38,\n        19,  3, 63, 79, 29, 48, 58, 16, 83,  2,  5, 46, 34, 50, 23, 55, 72,\n        27,  4, 10, 64, 42, 51, 12,  9, 32, 44, 43, 30, 65,  0, 11, 35, 13,\n        57, 17, 67, 59, 40, 24, 15, 39, 36, 20, 56, 18, 78, 76, 61, 66]),\n 131: array([ 3, 16,  2,  4, 15,  7,  9, 18, 11,  8,  0, 13, 17,  6, 14, 12, 10,\n         1,  5]),\n 132: array([ 60,  27,  70, 128,  69,  73, 164, 144,   1,  52,  93,  40,  74,\n          7, 156,  53,   4,  26, 152, 109, 106, 170,  83,  67, 119,  66,\n         75, 143, 161,  95,  94,  85, 169,  20,  48,  28,  25,  59,  96,\n         76, 155, 137,   8, 123,   9,  38,  68,  21,  15,  18,  39,  42,\n         82, 139, 130, 108,  98, 113,  89, 151,  88,  14,  10, 117, 158,\n         63, 118, 132, 134,  50, 136,  41, 105,  49, 138,  86, 160,  29,\n         31, 116,  17, 146, 133, 162,  65, 154, 149, 111,  23,  32,  58,\n        153, 129,  61,  13, 135,  72, 150,   2,  62, 166,  33,  51, 163,\n         84, 145,  71,  36,  11,  16, 120, 125, 159, 165, 127, 126,   5,\n         55,  92,  54,  99,   0,  90,  57, 141, 147,  77, 140,  87,  80,\n        100,  22, 124, 121,  34, 104,  91,  47, 114,  43,  37, 103,  97,\n         30,  46, 115, 107,   6,  81, 102, 112, 167, 110, 122,   3, 101,\n        168, 142, 157, 148,  44,  24, 131,  56,  64,  78,  35,  12,  45,\n         19,  79]),\n 133: array([ 46, 109, 160, 215,  66,  50,  42, 155,  55, 139,  74, 166, 125,\n        198,  51,  58,  36,  13, 149,  43, 196, 224,  90,  85, 244, 186,\n        130,  89, 114,  47,  48, 230, 102, 148, 235,  78,  82, 158,  79,\n        236,  33,  45, 221, 214,  62, 136, 225,  10, 252, 233,  76, 122,\n        238,  38, 182, 193, 147,  94, 151,   2, 205,  16,  68,  80, 242,\n        229, 121, 103, 199, 142, 124, 219,  37,  23,  31,  11,   9,  77,\n         30, 180, 150,  63, 197, 171, 188,  64, 131, 153, 231,   6,  39,\n        145, 165, 187, 127,  28, 255,  98,  60,  57,  81, 177, 239, 194,\n        110, 218,  70,  61,  34, 212, 220, 248,  87, 173,  40, 256, 181,\n        152, 261,  88, 178,   0, 168, 189, 234,  65, 132,   1,  41, 265,\n         93,  26, 144, 263,  97,  59, 137,  69, 213,  54, 222, 141, 251,\n        207, 257, 206, 135, 146, 116,  83, 259, 223, 203, 143, 104, 247,\n        201,  19, 246, 266,  12, 202,   7, 183, 250,  15,  29,  95, 232,\n        227, 169,  75, 106, 260, 190, 118,  18, 120, 226,  44, 126,  86,\n        237,  21,   5, 254, 156,  14,  67,  52, 172,  84,  20, 101, 108,\n        159,   4, 107, 113, 211, 164,  53,   3, 249, 264, 258, 167,  24,\n        241, 119,  22, 253, 262,  56, 195,  49,  96,  99,  71, 192, 179,\n        217, 245, 128, 243, 185, 117,  92, 138, 240,  73, 140, 105, 112,\n        134, 161, 176, 209,   8, 191, 133,  32, 115,  72, 129, 184,  17,\n        210,  27, 100, 123, 163, 170, 162, 175, 174,  91, 216,  25, 111,\n        154, 200, 208, 204, 157, 228,  35]),\n 134: array([ 2,  7, 16, 12,  1,  5, 11, 10, 14,  0,  6,  4, 15,  9, 13,  3,  8]),\n 135: array([0, 1]),\n 136: array([ 46,  79,  66, 161,  53,  39, 162,   4,  17, 180,  42, 129,  50,\n         37, 153,   5,  44,  18,  51, 138,  63, 165, 104, 113,  29,  28,\n        135,  45, 175,  70, 152, 120,  40, 155, 103,  81,  92,  24, 124,\n        158,  22,  30,  27, 179,  88,  14,  31,  23,  80,  13, 169, 114,\n         19,  67, 144, 168,  34,  69, 149, 123,   2,  72, 136,  89, 170,\n        163, 178,  32, 172, 143, 164,  56,  90,  54,  12,  99,  77,  35,\n          8, 132, 107,  16, 115, 128, 100, 117,  87, 177,  20, 125, 159,\n         86, 119, 176, 145, 134, 157, 156, 118, 150,  10, 126, 146,  59,\n          9,  96,   3, 130,  75, 109,  62, 106,  97, 110,  38,  74,  41,\n         84, 141, 102,  55, 160, 167,  60,   6,  93, 148,  78, 139, 171,\n        112, 147,  21,  36,  76,  65,  25,  95,  73,  57, 166, 127,  83,\n        140,  68,  82, 142,  33,   0, 137, 173, 174,  94, 105, 101,  52,\n        121,  47,  64,  43,  58,   7, 122,   1,  49,  61,  26,  15, 116,\n         71,  98,  85,  91,  48, 133, 151, 111, 154, 131,  11, 108]),\n 137: array([ 15, 107, 114,  78,   1,   7, 102,  96,  33,  65,  44,  74, 112,\n         25,  32, 105,  77,  80,  95,  92,  69,  97, 100,  88,  85,  73,\n        109, 111, 120,  86, 119,  58, 125, 123,  28,  49, 118,  61,   9,\n         60,  17,  67,  50,  35,   2,  71,  81, 110, 104,  90,  99,  40,\n        113,   3,  98, 117,  79,  46,  31,  72, 124,  45,  10,  18,  57,\n          4,  12,  34,  14,  30,  87,  38,  11,  70,  91,  27,  63,  94,\n         48,  54, 106,  43, 103,  19,  13,  62,   8,  36,  53,  59,  39,\n         23,  47,  41,  89, 108, 122,  55,  52,  84,  82,  42,  68, 121,\n         20,   5,  22, 101,  66,  29,  56, 115,  37,  76,  51,  21,  83,\n          0,  26,  16,  93,  75, 116,   6,  24,  64]),\n 138: array([ 46,  85, 133,  43,  45, 137, 139, 153, 132,  78, 136,   4,  14,\n          8, 135,  74,  23,  98, 104, 163, 141, 142, 126,  20,  17, 103,\n         32,  26, 145,  28,  66, 119, 107, 100,  97, 138,   1, 115, 125,\n        164, 118, 149, 140, 156,  29,   7,   6,  15,  39, 116,  11, 122,\n         33,  89,  27,  86,  93,  55, 124, 102,  13,  30,  12,  31, 144,\n         91, 121,  34,  81,  42, 151,  35, 155,  57,  24,  63, 131,  72,\n         65,  62, 169, 123, 157,  99,  76, 101,  25,  50, 167,  67, 162,\n         59,  88,  41, 143,  40,  60, 148,  79,  61,  64,  10, 152,  54,\n         92, 165, 158, 112, 161, 160, 111,  83,  37,  77,  49,  80,  36,\n        108,  19,  96, 159, 134,  48,   5,  52, 129,  18,   0,   2, 166,\n         95,   3, 117,  51,  75, 110, 168,  56,  82, 150,  68,  73, 105,\n         53,  22, 128, 109, 113,  44, 106,  58,   9, 170, 147,  71,  16,\n         70,  90,  69,  21, 146, 120,  84,  87,  38,  94, 114, 154,  47,\n        171, 127, 130]),\n 139: array([ 3,  1,  6, 11,  5,  9, 10,  0,  2,  7,  8,  4]),\n 140: array([245,   2, 183, 185,  10, 193, 125, 243,  30, 251, 177,  87, 118,\n        199,  42, 254, 213,  43, 100, 131,   3, 255, 187, 127, 212, 107,\n         73, 158,  91,  84, 124, 253,  57,  61, 167, 145,  28, 142, 250,\n        237,  62, 226,  16,  18,  49, 201,   4,   8,  59, 210, 160,  37,\n        205,  83, 173, 164,  85, 103, 147, 231, 223, 206, 129, 168, 218,\n        247,  66, 259, 233,  35, 117,  89, 260,  56,  19,   5, 234,  53,\n        222, 238,  99, 153, 137, 113, 170, 200, 172, 256, 225, 214,  33,\n         40, 195, 151, 241, 229,  60, 198,  90, 136,  27, 182, 184, 132,\n        203, 190, 230,  46,  23, 171, 176, 165, 155,   6, 161, 154,  44,\n         96, 105, 220,  20, 111,  75, 258, 114,  74,  29, 217, 208,  52,\n         80, 232, 152,  65, 196, 228, 189,  76, 219, 121,  54, 192,  93,\n        224,  12,  38,  36, 240,   7,  48, 174, 235,  88,  39, 236,  92,\n          0, 156,  11, 143, 106, 227, 112,  55,  95, 211, 197,  68, 186,\n        204,  17,  41,  22,  98,  81, 248, 239, 140, 146,  47, 179,  70,\n         71, 122, 209, 178, 257, 215, 175,  69,  25,  34,  97, 120,  31,\n        135,  26, 101, 202, 110,  67, 242, 108, 115, 119, 181,  51, 102,\n        216, 180,  13, 191, 166, 246, 207, 116, 148,  82, 139, 150, 128,\n        144, 194,  50,  78, 126, 130,  32, 141,  21,  14, 249,  94, 109,\n        149, 163, 138, 221, 134,  45,   1, 188, 133, 244,  15,   9, 162,\n         63,  72, 252,  77,  79, 104, 123, 157, 159,  24,  86,  58,  64,\n        169]),\n 141: array([1, 2, 0, 3]),\n 142: array([ 94,  83, 108,  70,  39,  97,  29,  46,  38,  47,  14,  24, 116,\n         74, 117, 144,  52,  69,  93,  37,  56,  75,  82, 153,  49, 150,\n        160, 115, 136,  51, 135,  73,  89,  78,  58, 107,  61, 125,   0,\n        106, 102,  41, 149,  13,  27,  17,  45,  50,  33, 158, 137, 101,\n         53, 127, 100,  15, 148, 143, 121,   1, 132,  64, 156,  40,  25,\n         92, 123, 152,  98,  96,  28,  84,  76,  65,   3, 142,  88,  90,\n         87, 161,  42, 112,  30,  23, 141, 157, 120,  72, 114,  57,  59,\n        131, 111,  67, 130, 126, 118,   4,  16,  55, 133,  62,   7, 146,\n         71,   6, 154,  20,  79, 109, 124, 159, 119,  48, 139, 151, 140,\n        129,  60,   5,  68, 110, 103,  18,  77,  54,  80,  63,  85, 128,\n         26,  36,  91,  11,  31, 145,  99,  22,  34,  12, 105,  19,  44,\n         10,  21,   9, 122, 113, 134,   2, 138,  43,  32, 147,  35, 155,\n        104,  95,  66,  81,   8,  86]),\n 143: array([ 2,  5,  9, 10, 13,  7,  0,  3,  6,  1,  4,  8, 14, 11, 12]),\n 144: array([ 84, 264, 501, 263, 302, 463, 145, 150,  28, 149, 313, 491,  59,\n        185, 115, 130, 289, 346,  74, 446, 396, 433, 272,  80, 140, 167,\n         78,  23, 285, 439, 440, 110,  67,  44, 309, 490, 411, 348, 118,\n        152, 386, 493, 389, 183, 413, 200, 126, 395,  98,  73, 503, 300,\n        367,  24,  27, 260, 488, 226, 403, 480,  37, 166, 241, 273, 207,\n        314, 359, 394, 358,  64, 432, 206, 351, 179, 416, 373, 470,  63,\n        460, 467, 505, 176, 191,   5, 233, 205, 308, 307, 465,  92, 244,\n         39, 270, 100, 511, 247, 243, 450, 381, 177, 485, 368, 510,   7,\n        390, 504, 292, 162, 296, 240,  56,  71,  10, 474, 280, 159, 182,\n        157, 171,  22, 108, 418, 154, 222,  95, 172,  16, 404,  68,   8,\n        249, 509, 472, 456, 301,  60, 438, 293, 335, 198,  15, 136, 295,\n        399, 102, 227,  88, 116, 415,  65, 484, 483,  85, 366, 254,  12,\n        197, 466,  21,  14, 278, 276,  32, 462, 414, 284,  31,   1,  50,\n        253, 210, 101, 397, 370, 268,  52,  51, 120, 234, 265, 290, 194,\n        337, 196, 259, 508, 180, 412, 375, 112, 458, 360, 392,  17, 215,\n        380, 245, 271, 444, 347, 401, 425, 344,  46, 410, 475,  99,  47,\n        274, 400, 343, 142,  61, 107, 202, 111, 476, 124,  86, 304, 283,\n        231, 203, 316, 452, 218, 153, 204, 354, 168, 417, 294, 374, 165,\n        340, 213,  29, 437, 387, 105, 117,  76, 329, 350, 119, 502, 385,\n        323, 345, 214, 225,  90, 448, 398, 158, 310, 455,  97, 402, 498,\n        137,  45, 160, 266,  55, 151, 147,  38, 487, 499, 298, 217, 388,\n        178, 297, 320,  75, 141,  54, 492, 506,  77, 477, 279, 469, 139,\n        419, 430, 173,  33,  91, 104, 208, 342, 212,  20, 303, 471, 339,\n        286, 319, 461, 353, 288, 209, 363, 252, 315, 454, 429, 134, 377,\n        406, 435, 232, 128, 195,   3, 482, 328, 322, 407, 391, 251,  40,\n        189,   9, 494,  62, 421, 199,  49, 127, 478, 479, 257, 489, 378,\n         34, 121, 379, 267, 187, 408,   6, 318, 174,   2, 144,  42,  89,\n        383, 372, 405,  83,  26, 451, 229, 123,  87, 261, 317, 361, 129,\n        442, 436, 131, 258, 434, 146, 457, 362, 248, 428,  18, 143, 138,\n        282, 135, 371, 420, 299,  94, 349, 164, 496, 103, 431, 188, 223,\n        325, 220, 246, 384,  72, 369, 423, 495, 500, 216, 409, 355, 305,\n        269, 441,  25,  35, 219, 427, 224, 250,  41, 330, 332,  13,  82,\n        114, 181, 331,  30, 486, 365, 106, 422, 443,  43, 287, 236, 464,\n        211, 190, 186, 192,  58, 306, 235, 193, 424, 507, 468, 230, 324,\n        327,  36, 459, 221, 161,  57, 449, 473, 125, 237, 338, 382, 170,\n        311, 312, 356, 333, 321, 376,  66, 262, 447, 175, 481,  70, 132,\n        256,  19, 341, 445,   4, 122, 255, 169, 239, 393, 238,  93, 109,\n          0,  79, 277, 184, 228, 163,  11, 334, 326, 352, 357, 113,  81,\n        291, 155, 201,  53, 242, 148, 364,  69, 281, 275, 156, 453, 133,\n        336,  96, 426, 497,  48]),\n 145: array([3, 1, 0, 2]),\n 146: array([20, 19, 32, 48, 47, 10, 24,  1, 44,  6, 12, 34,  0, 11, 39, 26,  5,\n        14, 29, 46, 41, 15, 23, 36, 45, 35, 22, 42, 38, 18, 16, 33, 21, 17,\n        13, 43,  7, 27, 31, 25, 37,  8, 30,  9, 28,  2, 40,  3,  4]),\n 147: array([0, 1]),\n 148: array([ 2,  6, 10,  7, 11,  8,  0,  3,  4,  1,  5,  9]),\n 149: array([ 46,  61,   3,  53,  54,  86,  87, 105,  83,  92,  96,  69, 101,\n         78,  34,  30,  26,  55,   4,   9,  41,  20,  15,  60,  25,  13,\n         33,   7, 104, 100,  76,  29,  94,  91,  99, 103,  79,  95,  68,\n         44,  18,  82,  90,  85,  63,  81,  66,  32,   6,  75,  52,  24,\n         17,  43,  59,   2,  28,  37,  57,  98,  14,  36,  74,   1,  12,\n         38,  97,  84,  71,  35,  62,  42,  16,  64,  31,  23,  93,   0,\n         80,  11,  50, 102,  47,  49,  10,  39,  65,  67,  89,   8,  51,\n         27,  73,  72,  56,  58,  88,  22,  70,  45,   5,  48,  19,  77,\n         40,  21])}"
     },
     "execution_count": 32,
     "metadata": {},
     "output_type": "execute_result"
    }
   ],
   "source": [
    "reassignment_computation.cluster_order"
   ],
   "metadata": {
    "collapsed": false,
    "ExecuteTime": {
     "end_time": "2023-09-02T15:54:57.612701703Z",
     "start_time": "2023-09-02T15:54:57.491845148Z"
    }
   },
   "id": "e8945bdfa2eb439e"
  },
  {
   "cell_type": "code",
   "execution_count": 33,
   "outputs": [
    {
     "name": "stdout",
     "output_type": "stream",
     "text": [
      "INFO: Saving medoids and cluster order to /home/sebaq/Documents/GitHub/IR_project/dataset/tiny/reassignment_order.json \n"
     ]
    }
   ],
   "source": [
    "reassignment_computation.save_order()"
   ],
   "metadata": {
    "collapsed": false,
    "ExecuteTime": {
     "end_time": "2023-09-02T15:54:58.370954833Z",
     "start_time": "2023-09-02T15:54:58.301350846Z"
    }
   },
   "id": "1160c29eb20b0dd1"
  },
  {
   "cell_type": "code",
   "execution_count": 34,
   "outputs": [
    {
     "data": {
      "text/plain": "DocIdReassignment[Items: 50000]"
     },
     "execution_count": 34,
     "metadata": {},
     "output_type": "execute_result"
    }
   ],
   "source": [
    "from model.reassignment import DocIdReassignment\n",
    "\n",
    "docs_reassignment = DocIdReassignment(\n",
    "    collection=collection,\n",
    "    labeling=labeling,\n",
    "    medoids_order=reassignment_computation.medoids_order,\n",
    "    clusters_order=reassignment_computation.cluster_order,\n",
    "    data_name=config.name\n",
    ")\n",
    "\n",
    "docs_reassignment"
   ],
   "metadata": {
    "collapsed": false,
    "ExecuteTime": {
     "end_time": "2023-09-02T15:54:58.895551724Z",
     "start_time": "2023-09-02T15:54:58.798111516Z"
    }
   },
   "id": "d20010e17022bd70"
  },
  {
   "cell_type": "code",
   "execution_count": 35,
   "outputs": [
    {
     "data": {
      "text/plain": "DataCollection [Docs: 50000; Terms: 14980; Nonzero: 1314210]"
     },
     "execution_count": 35,
     "metadata": {},
     "output_type": "execute_result"
    }
   ],
   "source": [
    "collection_reass = docs_reassignment.reassign_doc_id()\n",
    "\n",
    "collection_reass"
   ],
   "metadata": {
    "collapsed": false,
    "ExecuteTime": {
     "end_time": "2023-09-02T15:54:59.461695562Z",
     "start_time": "2023-09-02T15:54:59.371277548Z"
    }
   },
   "id": "b8011a5ae5f7de8d"
  },
  {
   "cell_type": "code",
   "execution_count": 36,
   "outputs": [
    {
     "data": {
      "text/plain": "DGapComputation(tiny)[Docs: 50000; Terms: 14980; Computed: False]"
     },
     "execution_count": 36,
     "metadata": {},
     "output_type": "execute_result"
    }
   ],
   "source": [
    "from model.d_gap import DGapComputationReassigned\n",
    "\n",
    "dgap_reass = DGapComputationReassigned(collection=collection_reass, data_name=config.name)\n",
    "dgap_reass"
   ],
   "metadata": {
    "collapsed": false,
    "ExecuteTime": {
     "end_time": "2023-09-02T15:55:00.001292974Z",
     "start_time": "2023-09-02T15:54:59.909006609Z"
    }
   },
   "id": "50b315a2e4c739e7"
  },
  {
   "cell_type": "code",
   "execution_count": 37,
   "outputs": [
    {
     "name": "stdout",
     "output_type": "stream",
     "text": [
      "INFO: Information not present at /home/sebaq/Documents/GitHub/IR_project/dataset/tiny/avg_d_gap_reassigned.json. \n",
      "INFO: Computing average d-gap per term. \n"
     ]
    },
    {
     "name": "stderr",
     "output_type": "stream",
     "text": [
      "100%|██████████| 50000/50000 [00:02<00:00, 16933.71it/s]\n"
     ]
    }
   ],
   "source": [
    "dgap_reass.compute_d_gaps()"
   ],
   "metadata": {
    "collapsed": false,
    "ExecuteTime": {
     "end_time": "2023-09-02T15:55:03.368813398Z",
     "start_time": "2023-09-02T15:55:00.335416291Z"
    }
   },
   "id": "c5fbdd944dee545b"
  },
  {
   "cell_type": "code",
   "execution_count": 38,
   "outputs": [
    {
     "data": {
      "text/plain": "<Figure size 640x480 with 1 Axes>",
      "image/png": "[encoded data removed]"
     },
     "metadata": {},
     "output_type": "display_data"
    }
   ],
   "source": [
    "dgap_reass.plot_avg_d_gap()"
   ],
   "metadata": {
    "collapsed": false,
    "ExecuteTime": {
     "end_time": "2023-09-02T15:55:03.658825678Z",
     "start_time": "2023-09-02T15:55:03.367934357Z"
    }
   },
   "id": "dced982deb5bfc71"
  },
  {
   "cell_type": "code",
   "execution_count": 39,
   "outputs": [
    {
     "name": "stdout",
     "output_type": "stream",
     "text": [
      "INFO: Saving average d-gap per term to /home/sebaq/Documents/GitHub/IR_project/dataset/tiny/avg_d_gap_reassigned.json. \n"
     ]
    }
   ],
   "source": [
    "dgap_reass.save_d_gaps()"
   ],
   "metadata": {
    "collapsed": false,
    "ExecuteTime": {
     "end_time": "2023-09-02T15:55:18.116439957Z",
     "start_time": "2023-09-02T15:55:17.993745762Z"
    }
   },
   "id": "f6b95ef0337b0a"
  },
  {
   "cell_type": "markdown",
   "source": [
    "## 8. Inference"
   ],
   "metadata": {
    "collapsed": false
   },
   "id": "aa5f153452c68903"
  },
  {
   "cell_type": "code",
   "execution_count": 43,
   "outputs": [
    {
     "name": "stdout",
     "output_type": "stream",
     "text": [
      "INFO: Average d-gaps already computed. Use `gaps_stats` to retrieve them. \n",
      "INFO: Average d-gaps already computed. Use `gaps_stats` to retrieve them. \n"
     ]
    },
    {
     "data": {
      "text/plain": "DGapInference[Terms: 14980]"
     },
     "execution_count": 43,
     "metadata": {},
     "output_type": "execute_result"
    }
   ],
   "source": [
    "from model.d_gap import DGapInference\n",
    "\n",
    "inference = DGapInference(d_gap_original=dgap, d_gap_reassigned=dgap_reass, data_name=config.name)\n",
    "inference"
   ],
   "metadata": {
    "collapsed": false,
    "ExecuteTime": {
     "end_time": "2023-09-02T15:56:11.399961297Z",
     "start_time": "2023-09-02T15:56:11.232548562Z"
    }
   },
   "id": "62d20b2f8a729eda"
  },
  {
   "cell_type": "code",
   "execution_count": 44,
   "outputs": [
    {
     "data": {
      "text/plain": "<Figure size 640x480 with 1 Axes>",
      "image/png": "[encoded data removed]"
     },
     "metadata": {},
     "output_type": "display_data"
    }
   ],
   "source": [
    "inference.plot_avg_d_gap()"
   ],
   "metadata": {
    "collapsed": false,
    "ExecuteTime": {
     "end_time": "2023-09-02T15:56:12.223180576Z",
     "start_time": "2023-09-02T15:56:11.687070296Z"
    }
   },
   "id": "dd45d91b60d02546"
  },
  {
   "cell_type": "code",
   "execution_count": 46,
   "outputs": [
    {
     "data": {
      "text/plain": "8.6481656017983"
     },
     "execution_count": 46,
     "metadata": {},
     "output_type": "execute_result"
    }
   ],
   "source": [
    "inference.avg_compression"
   ],
   "metadata": {
    "collapsed": false,
    "ExecuteTime": {
     "end_time": "2023-09-02T15:56:28.968212622Z",
     "start_time": "2023-09-02T15:56:28.660035880Z"
    }
   },
   "id": "4616961e8f3f6ef"
  },
  {
   "cell_type": "code",
   "execution_count": null,
   "outputs": [],
   "source": [],
   "metadata": {
    "collapsed": false
   },
   "id": "6c76de549165c12c"
  }
 ],
 "metadata": {
  "kernelspec": {
   "display_name": "Python 3",
   "language": "python",
   "name": "python3"
  },
  "language_info": {
   "codemirror_mode": {
    "name": "ipython",
    "version": 2
   },
   "file_extension": ".py",
   "mimetype": "text/x-python",
   "name": "python",
   "nbconvert_exporter": "python",
   "pygments_lexer": "ipython2",
   "version": "2.7.6"
  }
 },
 "nbformat": 4,
 "nbformat_minor": 5
}
