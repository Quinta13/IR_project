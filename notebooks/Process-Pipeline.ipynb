{
 "cells": [
  {
   "cell_type": "code",
   "execution_count": 1,
   "outputs": [],
   "source": [
    "%load_ext autoreload\n",
    "%autoreload 2"
   ],
   "metadata": {
    "collapsed": false,
    "ExecuteTime": {
     "end_time": "2023-08-31T16:00:37.544967659Z",
     "start_time": "2023-08-31T16:00:37.544516957Z"
    }
   },
   "id": "9c7638612fbd96e6"
  },
  {
   "cell_type": "markdown",
   "source": [
    "# Doc-ID Reassignment"
   ],
   "metadata": {
    "collapsed": false
   },
   "id": "3ac4509c63feb482"
  },
  {
   "cell_type": "markdown",
   "source": [
    "## 1. Data download"
   ],
   "metadata": {
    "collapsed": false
   },
   "id": "f4fb565167dd2a41"
  },
  {
   "cell_type": "markdown",
   "source": [
    "### Downloader instance"
   ],
   "metadata": {
    "collapsed": false
   },
   "id": "c504f8e56ed8e3ab"
  },
  {
   "cell_type": "markdown",
   "source": [
    "We download [RCV1 dataset](https://paperswithcode.com/dataset/rcv1), in particular we use tf-idf representation from [sklearn](https://scikit-learn.org/0.18/datasets/rcv1.html)."
   ],
   "metadata": {
    "collapsed": false
   },
   "id": "95d720c3bca2580e"
  },
  {
   "cell_type": "markdown",
   "source": [
    "Create an instance of downloader."
   ],
   "metadata": {
    "collapsed": false
   },
   "id": "d78edac19ca78807"
  },
  {
   "cell_type": "code",
   "execution_count": 2,
   "outputs": [
    {
     "ename": "ImportError",
     "evalue": "cannot import name 'load_jsonand' from 'io_' (/home/sebaq/Documents/GitHub/IR_project/io_.py)",
     "output_type": "error",
     "traceback": [
      "\u001B[0;31m---------------------------------------------------------------------------\u001B[0m",
      "\u001B[0;31mImportError\u001B[0m                               Traceback (most recent call last)",
      "Cell \u001B[0;32mIn[2], line 1\u001B[0m\n\u001B[0;32m----> 1\u001B[0m \u001B[38;5;28;01mfrom\u001B[39;00m \u001B[38;5;21;01mmodel\u001B[39;00m\u001B[38;5;21;01m.\u001B[39;00m\u001B[38;5;21;01mdataset\u001B[39;00m \u001B[38;5;28;01mimport\u001B[39;00m RCV1Downloader\n\u001B[1;32m      3\u001B[0m downloader \u001B[38;5;241m=\u001B[39m RCV1Downloader()\n\u001B[1;32m      4\u001B[0m downloader\n",
      "File \u001B[0;32m~/Documents/GitHub/IR_project/model/dataset.py:19\u001B[0m\n\u001B[1;32m     16\u001B[0m \u001B[38;5;28;01mfrom\u001B[39;00m \u001B[38;5;21;01msklearn\u001B[39;00m\u001B[38;5;21;01m.\u001B[39;00m\u001B[38;5;21;01mrandom_projection\u001B[39;00m \u001B[38;5;28;01mimport\u001B[39;00m johnson_lindenstrauss_min_dim, SparseRandomProjection\n\u001B[1;32m     17\u001B[0m \u001B[38;5;28;01mfrom\u001B[39;00m \u001B[38;5;21;01mtqdm\u001B[39;00m \u001B[38;5;28;01mimport\u001B[39;00m tqdm\n\u001B[0;32m---> 19\u001B[0m \u001B[38;5;28;01mfrom\u001B[39;00m \u001B[38;5;21;01mio_\u001B[39;00m \u001B[38;5;28;01mimport\u001B[39;00m get_dataset_dir, get_data_fp, store_sparse_matrix, make_dir, load_sparse_matrix, get_collection_dir, \\\n\u001B[1;32m     20\u001B[0m     store_json, load_jsonand, load_json\n\u001B[1;32m     22\u001B[0m allows\n\u001B[1;32m     23\u001B[0m \u001B[38;5;28;01mfrom\u001B[39;00m \u001B[38;5;21;01mio_\u001B[39;00m \u001B[38;5;28;01mimport\u001B[39;00m log\n",
      "\u001B[0;31mImportError\u001B[0m: cannot import name 'load_jsonand' from 'io_' (/home/sebaq/Documents/GitHub/IR_project/io_.py)"
     ]
    }
   ],
   "source": [
    "from model.dataset import RCV1Downloader\n",
    "\n",
    "downloader = RCV1Downloader()\n",
    "downloader"
   ],
   "metadata": {
    "collapsed": false,
    "ExecuteTime": {
     "end_time": "2023-08-31T16:00:43.410065833Z",
     "start_time": "2023-08-31T16:00:40.790659345Z"
    }
   },
   "id": "initial_id"
  },
  {
   "cell_type": "markdown",
   "source": [
    "### Download"
   ],
   "metadata": {
    "collapsed": false
   },
   "id": "314e525e41fad80f"
  },
  {
   "cell_type": "markdown",
   "source": [
    "Download the dataset."
   ],
   "metadata": {
    "collapsed": false
   },
   "id": "4fea00d0e726cb1a"
  },
  {
   "cell_type": "code",
   "execution_count": null,
   "outputs": [],
   "source": [
    "%%time\n",
    "\n",
    "downloader.download()"
   ],
   "metadata": {
    "collapsed": false,
    "ExecuteTime": {
     "end_time": "2023-08-31T16:00:43.415060410Z",
     "start_time": "2023-08-31T16:00:43.414493846Z"
    }
   },
   "id": "2a248e270f782453"
  },
  {
   "cell_type": "markdown",
   "source": [
    "## 2. Data Loading"
   ],
   "metadata": {
    "collapsed": false
   },
   "id": "fc1f72e2b1d8e8c5"
  },
  {
   "cell_type": "markdown",
   "source": [
    "### Loading collection configurations"
   ],
   "metadata": {
    "collapsed": false
   },
   "id": "801ce68938282d60"
  },
  {
   "cell_type": "markdown",
   "source": [
    "Use dataset configuration specified in the *.settings.py* file."
   ],
   "metadata": {
    "collapsed": false
   },
   "id": "d090df67eeb9e5ba"
  },
  {
   "cell_type": "code",
   "execution_count": 7,
   "outputs": [
    {
     "data": {
      "text/plain": "tiny [Docs: 50000; Terms: 15000; Approximation error: 0.3; N Clusters: 150]"
     },
     "execution_count": 7,
     "metadata": {},
     "output_type": "execute_result"
    }
   ],
   "source": [
    "from settings import DATACONFIG\n",
    "\n",
    "config = DATACONFIG[\"tiny\"]\n",
    "config"
   ],
   "metadata": {
    "collapsed": false,
    "ExecuteTime": {
     "end_time": "2023-08-31T16:02:36.890669148Z",
     "start_time": "2023-08-31T16:02:36.679544118Z"
    }
   },
   "id": "19e18659e55e4567"
  },
  {
   "cell_type": "markdown",
   "source": [
    "### Loader instance"
   ],
   "metadata": {
    "collapsed": false
   },
   "id": "99055d49a6dea3d1"
  },
  {
   "cell_type": "markdown",
   "source": [
    "Create an instance of dataloader."
   ],
   "metadata": {
    "collapsed": false
   },
   "id": "f63a6d1f4cf9189f"
  },
  {
   "cell_type": "code",
   "execution_count": 8,
   "outputs": [
    {
     "data": {
      "text/plain": "RCV1Loader [File: /home/sebaq/Documents/GitHub/IR_project/dataset/data.npz]"
     },
     "execution_count": 8,
     "metadata": {},
     "output_type": "execute_result"
    }
   ],
   "source": [
    "from model.dataset import RCV1Loader\n",
    "\n",
    "loader = RCV1Loader()\n",
    "loader"
   ],
   "metadata": {
    "collapsed": false,
    "ExecuteTime": {
     "end_time": "2023-08-31T16:02:38.949512717Z",
     "start_time": "2023-08-31T16:02:38.856482049Z"
    }
   },
   "id": "c5222b8cad65e23d"
  },
  {
   "cell_type": "markdown",
   "source": [
    "### Load"
   ],
   "metadata": {
    "collapsed": false
   },
   "id": "ee3c01fe780f32c3"
  },
  {
   "cell_type": "markdown",
   "source": [
    "We load data sorting:\n",
    " - documents (rows) by decreasing number of distinct terms.\n",
    " - terms (columns) by decreasing frequency.\n",
    "\n",
    "We only keep the first documents and terms specified by the configuration file."
   ],
   "metadata": {
    "collapsed": false
   },
   "id": "a6db182700c031d4"
  },
  {
   "cell_type": "code",
   "execution_count": 9,
   "outputs": [
    {
     "name": "stdout",
     "output_type": "stream",
     "text": [
      "INFO: Loading matrix. \n",
      "I/O: Loading /home/sebaq/Documents/GitHub/IR_project/dataset/data.npz. \n",
      "INFO: Removing non informative terms. \n",
      "INFO: Sorting documents by terms count. \n",
      "INFO: Sorting terms by their frequency. \n"
     ]
    }
   ],
   "source": [
    "collection = loader.load(n_docs=config.docs, n_terms=config.terms)"
   ],
   "metadata": {
    "collapsed": false,
    "ExecuteTime": {
     "end_time": "2023-08-31T16:02:45.647725308Z",
     "start_time": "2023-08-31T16:02:40.728066084Z"
    }
   },
   "id": "39a7711f76e2002"
  },
  {
   "cell_type": "code",
   "execution_count": 10,
   "outputs": [
    {
     "data": {
      "text/plain": "DataCollection [Docs: 50000; Terms: 14980; Nonzero: 1314210]"
     },
     "execution_count": 10,
     "metadata": {},
     "output_type": "execute_result"
    }
   ],
   "source": [
    "collection"
   ],
   "metadata": {
    "collapsed": false,
    "ExecuteTime": {
     "end_time": "2023-08-31T16:02:45.699685811Z",
     "start_time": "2023-08-31T16:02:45.647950303Z"
    }
   },
   "id": "451d9889b80efa53"
  },
  {
   "cell_type": "markdown",
   "source": [
    "## 3. Computing *d*-gap"
   ],
   "metadata": {
    "collapsed": false
   },
   "id": "5a54b8b28e629bfc"
  },
  {
   "cell_type": "markdown",
   "source": [
    "### *d*-gap instance"
   ],
   "metadata": {
    "collapsed": false
   },
   "id": "b4d8c4b76220fc1a"
  },
  {
   "cell_type": "markdown",
   "source": [
    "Create and instance of DGapComputation for the collection."
   ],
   "metadata": {
    "collapsed": false
   },
   "id": "c989b5b03ae82def"
  },
  {
   "cell_type": "code",
   "execution_count": 28,
   "outputs": [
    {
     "data": {
      "text/plain": "DGapComputation[Docs: 50000; Terms: 14980; Computed: False]"
     },
     "execution_count": 28,
     "metadata": {},
     "output_type": "execute_result"
    }
   ],
   "source": [
    "from model.dataset import DGapComputation\n",
    "\n",
    "dgap = DGapComputation(collection=collection, data_name=config.name)\n",
    "dgap"
   ],
   "metadata": {
    "collapsed": false,
    "ExecuteTime": {
     "end_time": "2023-08-31T16:04:48.712299188Z",
     "start_time": "2023-08-31T16:04:48.594395893Z"
    }
   },
   "id": "fd668eae7d693548"
  },
  {
   "cell_type": "markdown",
   "source": [
    "### Compute *d*-gap statistics"
   ],
   "metadata": {
    "collapsed": false
   },
   "id": "4c54982378f890ef"
  },
  {
   "cell_type": "markdown",
   "source": [
    "We compute *d*-gap in the given collection."
   ],
   "metadata": {
    "collapsed": false
   },
   "id": "c7e9de5657be12f8"
  },
  {
   "cell_type": "code",
   "execution_count": 29,
   "outputs": [
    {
     "name": "stdout",
     "output_type": "stream",
     "text": [
      "INFO: Try to retrieve gaps info from disk\n",
      "I/O: Loading /home/sebaq/Documents/GitHub/IR_project/dataset/tiny/d-gap_stats.json \n",
      "CPU times: user 8.79 ms, sys: 54 µs, total: 8.84 ms\n",
      "Wall time: 8.5 ms\n"
     ]
    }
   ],
   "source": [
    "%%time\n",
    "\n",
    "dgap.compute_gaps_stats()"
   ],
   "metadata": {
    "collapsed": false,
    "ExecuteTime": {
     "end_time": "2023-08-31T16:04:49.803781434Z",
     "start_time": "2023-08-31T16:04:49.728555578Z"
    }
   },
   "id": "5025083ec9c698c1"
  },
  {
   "cell_type": "code",
   "execution_count": 30,
   "outputs": [],
   "source": [
    "gaps_stats = dgap.gaps_stats"
   ],
   "metadata": {
    "collapsed": false,
    "ExecuteTime": {
     "end_time": "2023-08-31T16:05:05.135356130Z",
     "start_time": "2023-08-31T16:05:05.034648889Z"
    }
   },
   "id": "37c9dcec60117596"
  },
  {
   "cell_type": "markdown",
   "source": [
    "### Total *d*-gap per term plot"
   ],
   "metadata": {
    "collapsed": false
   },
   "id": "f637968f779dd92d"
  },
  {
   "cell_type": "code",
   "execution_count": 31,
   "outputs": [
    {
     "name": "stdout",
     "output_type": "stream",
     "text": [
      "<class 'numpy.ndarray'>\n"
     ]
    },
    {
     "data": {
      "text/plain": "<Figure size 640x480 with 1 Axes>",
      "image/png": "[encoded data removed]"
     },
     "metadata": {},
     "output_type": "display_data"
    }
   ],
   "source": [
    "dgap.plot_tot_d_gap()"
   ],
   "metadata": {
    "collapsed": false,
    "ExecuteTime": {
     "end_time": "2023-08-31T16:05:06.017494635Z",
     "start_time": "2023-08-31T16:05:05.610397414Z"
    }
   },
   "id": "3f24cfd195a1b945"
  },
  {
   "cell_type": "markdown",
   "source": [
    "### Average *d*-gap per term plot"
   ],
   "metadata": {
    "collapsed": false
   },
   "id": "dd630f2f31551b1e"
  },
  {
   "cell_type": "code",
   "execution_count": 32,
   "outputs": [
    {
     "name": "stdout",
     "output_type": "stream",
     "text": [
      "<class 'numpy.ndarray'>\n"
     ]
    },
    {
     "data": {
      "text/plain": "<Figure size 640x480 with 1 Axes>",
      "image/png": "[encoded data removed]"
     },
     "metadata": {},
     "output_type": "display_data"
    }
   ],
   "source": [
    "dgap.plot_avg_d_gap()"
   ],
   "metadata": {
    "collapsed": false,
    "ExecuteTime": {
     "end_time": "2023-08-31T16:05:06.790279771Z",
     "start_time": "2023-08-31T16:05:06.449914182Z"
    }
   },
   "id": "4825d28b170e2682"
  },
  {
   "cell_type": "markdown",
   "source": [
    "### Maximum *d*-gap per term plot"
   ],
   "metadata": {
    "collapsed": false
   },
   "id": "12a94903afb7dc9e"
  },
  {
   "cell_type": "code",
   "execution_count": 34,
   "outputs": [
    {
     "name": "stdout",
     "output_type": "stream",
     "text": [
      "<class 'numpy.ndarray'>\n"
     ]
    },
    {
     "data": {
      "text/plain": "<Figure size 640x480 with 1 Axes>",
      "image/png": "[encoded data removed]"
     },
     "metadata": {},
     "output_type": "display_data"
    }
   ],
   "source": [
    "dgap.plot_max_d_gap()"
   ],
   "metadata": {
    "collapsed": false,
    "ExecuteTime": {
     "end_time": "2023-08-31T16:05:11.637372468Z",
     "start_time": "2023-08-31T16:05:11.301906698Z"
    }
   },
   "id": "5bde6bba4894417f"
  },
  {
   "cell_type": "markdown",
   "source": [
    "### Overall statistics"
   ],
   "metadata": {
    "collapsed": false
   },
   "id": "ade1fcb21f018176"
  },
  {
   "cell_type": "code",
   "execution_count": 24,
   "outputs": [
    {
     "name": "stdout",
     "output_type": "stream",
     "text": [
      "Total d-gap: 37907112\n",
      "Average d-gap: 63.77\n",
      "Maximum d-gap: 88\n"
     ]
    }
   ],
   "source": [
    "print(f\"Total d-gap: {gaps_stats['tot_d_gap']}\")\n",
    "print(f\"Average d-gap: {gaps_stats['avg_d_gap']}\")\n",
    "print(f\"Maximum d-gap: {gaps_stats['max_d_gap']}\")"
   ],
   "metadata": {
    "collapsed": false,
    "ExecuteTime": {
     "end_time": "2023-08-31T16:04:33.457203689Z",
     "start_time": "2023-08-31T16:04:33.384846317Z"
    }
   },
   "id": "4ebc74a16c50989d"
  },
  {
   "cell_type": "markdown",
   "source": [
    "### Save statistics"
   ],
   "metadata": {
    "collapsed": false
   },
   "id": "cf99f4647fd60a13"
  },
  {
   "cell_type": "markdown",
   "source": [
    "We save statistics with in the directory with the specific configuration name: it will be no more necessary a second computation for further analysis."
   ],
   "metadata": {
    "collapsed": false
   },
   "id": "6e336f3903947fec"
  },
  {
   "cell_type": "code",
   "execution_count": 25,
   "outputs": [
    {
     "name": "stdout",
     "output_type": "stream",
     "text": [
      "INFO: Saving gaps information \n",
      "I/O: Created directory /home/sebaq/Documents/GitHub/IR_project/dataset/tiny\n",
      "I/O: Saving /home/sebaq/Documents/GitHub/IR_project/dataset/tiny/d-gap_stats.json \n"
     ]
    }
   ],
   "source": [
    "dgap.save_stats()"
   ],
   "metadata": {
    "collapsed": false,
    "ExecuteTime": {
     "end_time": "2023-08-31T16:04:35.178597502Z",
     "start_time": "2023-08-31T16:04:35.097776781Z"
    }
   },
   "id": "5c6ea0c4b08c7300"
  },
  {
   "cell_type": "markdown",
   "source": [
    "## 4. Dimensionality reduction"
   ],
   "metadata": {
    "collapsed": false
   },
   "id": "a1b90d72779c1d1b"
  },
  {
   "cell_type": "markdown",
   "source": [
    "Clustering and TSP are expensive in a high dimensional and sparse vector space. We employ the [Johnson-Lindenstrauss lemma](https://scikit-learn.org/stable/modules/random_projection.html#the-johnson-lindenstrauss-lemma) to embed data points in a lower dense dimensional space through a random projection. Target dimension depends on an approximation factor specified in Dataset configuration."
   ],
   "metadata": {
    "collapsed": false
   },
   "id": "3d7ded8dfbde7e32"
  },
  {
   "cell_type": "markdown",
   "source": [
    "### Approximation factor"
   ],
   "metadata": {
    "collapsed": false
   },
   "id": "50a03bcf2e4912"
  },
  {
   "cell_type": "markdown",
   "source": [
    "The approximation factor is in range [0, 1]"
   ],
   "metadata": {
    "collapsed": false
   },
   "id": "eff033934aaf098a"
  },
  {
   "cell_type": "code",
   "execution_count": 15,
   "outputs": [
    {
     "data": {
      "text/plain": "0.3"
     },
     "execution_count": 15,
     "metadata": {},
     "output_type": "execute_result"
    }
   ],
   "source": [
    "eps = config.eps\n",
    "eps"
   ],
   "metadata": {
    "collapsed": false,
    "ExecuteTime": {
     "end_time": "2023-08-31T15:15:49.069515676Z",
     "start_time": "2023-08-31T15:15:49.013650128Z"
    }
   },
   "id": "ab54da4356c1557e"
  },
  {
   "cell_type": "code",
   "execution_count": 16,
   "outputs": [
    {
     "data": {
      "text/plain": "(50000, 1202)"
     },
     "execution_count": 16,
     "metadata": {},
     "output_type": "execute_result"
    }
   ],
   "source": [
    "embedded = collection.embed(eps=eps)\n",
    "embedded.shape"
   ],
   "metadata": {
    "collapsed": false,
    "ExecuteTime": {
     "end_time": "2023-08-31T15:15:50.414877997Z",
     "start_time": "2023-08-31T15:15:49.056660527Z"
    }
   },
   "id": "13800aa420e8a1d"
  },
  {
   "cell_type": "code",
   "execution_count": 17,
   "outputs": [
    {
     "data": {
      "text/plain": "array([[ 0.01592837, -0.00976462, -0.02283739, ..., -0.00617229,\n         0.01100428, -0.02905892],\n       [-0.01607342, -0.0111482 , -0.02615699, ...,  0.        ,\n         0.00571539, -0.0322051 ],\n       [ 0.01112747, -0.00482762, -0.02314787, ...,  0.0017706 ,\n         0.0031541 , -0.01486856],\n       ...,\n       [ 0.        ,  0.        ,  0.        , ...,  0.        ,\n         0.        ,  0.        ],\n       [ 0.        ,  0.        ,  0.        , ...,  0.        ,\n         0.        ,  0.        ],\n       [ 0.        ,  0.        ,  0.        , ...,  0.        ,\n         0.        ,  0.        ]])"
     },
     "execution_count": 17,
     "metadata": {},
     "output_type": "execute_result"
    }
   ],
   "source": [
    "embedded"
   ],
   "metadata": {
    "collapsed": false,
    "ExecuteTime": {
     "end_time": "2023-08-31T15:15:50.501452871Z",
     "start_time": "2023-08-31T15:15:50.416864454Z"
    }
   },
   "id": "9f91bdb3e5f61faf"
  },
  {
   "cell_type": "markdown",
   "source": [
    "## 5. Clustering"
   ],
   "metadata": {
    "collapsed": false
   },
   "id": "a151098759397620"
  },
  {
   "cell_type": "markdown",
   "source": [
    "### Compute number of clusters"
   ],
   "metadata": {
    "collapsed": false
   },
   "id": "7d2e3b6feeed17a9"
  },
  {
   "cell_type": "markdown",
   "source": [
    "We compute the number of cluster to find using a function specified in the configuration."
   ],
   "metadata": {
    "collapsed": false
   },
   "id": "d4c89065f08ec094"
  },
  {
   "cell_type": "code",
   "execution_count": 18,
   "outputs": [
    {
     "data": {
      "text/plain": "150"
     },
     "execution_count": 18,
     "metadata": {},
     "output_type": "execute_result"
    }
   ],
   "source": [
    "n_cluster = config.n_cluster\n",
    "n_cluster"
   ],
   "metadata": {
    "collapsed": false,
    "ExecuteTime": {
     "end_time": "2023-08-31T15:15:50.502469288Z",
     "start_time": "2023-08-31T15:15:50.450975887Z"
    }
   },
   "id": "f74aabc3e6e41f58"
  },
  {
   "cell_type": "markdown",
   "source": [
    "### Create K-Means instance"
   ],
   "metadata": {
    "collapsed": false
   },
   "id": "40abac39414bdae6"
  },
  {
   "cell_type": "code",
   "execution_count": 19,
   "outputs": [
    {
     "name": "stdout",
     "output_type": "stream",
     "text": [
      "INFO: Try to retrieve labels info from disk\n",
      "I/O: Loading /home/sebaq/Documents/GitHub/IR_project/dataset/tiny/labeling.json \n"
     ]
    }
   ],
   "source": [
    "from model.clustering import KMeansClustering\n",
    "\n",
    "kmeans = KMeansClustering(mat=embedded, data_name=config.name, k=n_cluster)"
   ],
   "metadata": {
    "collapsed": false,
    "ExecuteTime": {
     "end_time": "2023-08-31T15:15:50.761234472Z",
     "start_time": "2023-08-31T15:15:50.481791722Z"
    }
   },
   "id": "1cd9bac9fd1d080b"
  },
  {
   "cell_type": "code",
   "execution_count": 20,
   "outputs": [
    {
     "data": {
      "text/plain": "KMeansClustering[Items: 50000; k: 150;  Labeling computed: True]"
     },
     "execution_count": 20,
     "metadata": {},
     "output_type": "execute_result"
    }
   ],
   "source": [
    "kmeans"
   ],
   "metadata": {
    "collapsed": false,
    "ExecuteTime": {
     "end_time": "2023-08-31T15:15:50.813650058Z",
     "start_time": "2023-08-31T15:15:50.762520898Z"
    }
   },
   "id": "3eccf9f209fbfd83"
  },
  {
   "cell_type": "markdown",
   "source": [
    "### Training model and retrieve labeling"
   ],
   "metadata": {
    "collapsed": false
   },
   "id": "773a0881048d3220"
  },
  {
   "cell_type": "code",
   "execution_count": 21,
   "outputs": [
    {
     "name": "stdout",
     "output_type": "stream",
     "text": [
      "CPU times: user 8 µs, sys: 2 µs, total: 10 µs\n",
      "Wall time: 14.5 µs\n"
     ]
    }
   ],
   "source": [
    "%%time\n",
    "\n",
    "labels = kmeans.labels"
   ],
   "metadata": {
    "collapsed": false,
    "ExecuteTime": {
     "end_time": "2023-08-31T15:15:50.841612071Z",
     "start_time": "2023-08-31T15:15:50.802778916Z"
    }
   },
   "id": "b1c49945a21bde03"
  },
  {
   "cell_type": "code",
   "execution_count": 22,
   "outputs": [
    {
     "data": {
      "text/plain": "array([91, 91, 91, ..., 69, 69, 69])"
     },
     "execution_count": 22,
     "metadata": {},
     "output_type": "execute_result"
    }
   ],
   "source": [
    "labels"
   ],
   "metadata": {
    "collapsed": false,
    "ExecuteTime": {
     "end_time": "2023-08-31T15:15:50.992749111Z",
     "start_time": "2023-08-31T15:15:50.837099630Z"
    }
   },
   "id": "961db9d569348025"
  },
  {
   "cell_type": "markdown",
   "source": [
    "### Save labeling"
   ],
   "metadata": {
    "collapsed": false
   },
   "id": "a00ef790e6def807"
  },
  {
   "cell_type": "markdown",
   "source": [
    "We save labelings on disk for the specific collection for no need to compute again."
   ],
   "metadata": {
    "collapsed": false
   },
   "id": "447057cfdd4b8e31"
  },
  {
   "cell_type": "code",
   "execution_count": 23,
   "outputs": [
    {
     "name": "stdout",
     "output_type": "stream",
     "text": [
      "I/O: Overwriting /home/sebaq/Documents/GitHub/IR_project/dataset/tiny/labeling.json \n"
     ]
    }
   ],
   "source": [
    "kmeans.save_labels()"
   ],
   "metadata": {
    "collapsed": false,
    "ExecuteTime": {
     "end_time": "2023-08-31T15:15:50.993614846Z",
     "start_time": "2023-08-31T15:15:50.865825321Z"
    }
   },
   "id": "c35baeac9d3a5592"
  },
  {
   "cell_type": "markdown",
   "source": [
    "## 6. Cluster split"
   ],
   "metadata": {
    "collapsed": false
   },
   "id": "79a26eb9438114db"
  },
  {
   "cell_type": "markdown",
   "source": [
    "### Get CollectionCluster instance"
   ],
   "metadata": {
    "collapsed": false
   },
   "id": "45e097f4ffc1ab8e"
  },
  {
   "cell_type": "markdown",
   "source": [
    "We split data in cluster using the labeling."
   ],
   "metadata": {
    "collapsed": false
   },
   "id": "450ed8d0d65df14c"
  },
  {
   "cell_type": "code",
   "execution_count": 24,
   "outputs": [
    {
     "name": "stdout",
     "output_type": "stream",
     "text": [
      "INFO: Try to retrieve medoids info from disk\n",
      "I/O: Loading /home/sebaq/Documents/GitHub/IR_project/dataset/tiny/medoids.npy. \n"
     ]
    }
   ],
   "source": [
    "from model.clustering import CollectionClusters\n",
    "\n",
    "# collection_clusters = CollectionClusters(mat=collection.data, labels=kmeans.labels, data_name=config.name)\n",
    "collection_clusters = kmeans.clusters"
   ],
   "metadata": {
    "collapsed": false,
    "ExecuteTime": {
     "end_time": "2023-08-31T15:15:51.288117524Z",
     "start_time": "2023-08-31T15:15:50.952695800Z"
    }
   },
   "id": "1e921e3f48852cab"
  },
  {
   "cell_type": "code",
   "execution_count": 25,
   "outputs": [
    {
     "data": {
      "text/plain": "ClusterDataSplit [Data: 50000, Clusters: 150, Mean-per-Cluster: 333.333; Medoids computed: True]"
     },
     "execution_count": 25,
     "metadata": {},
     "output_type": "execute_result"
    }
   ],
   "source": [
    "collection_clusters"
   ],
   "metadata": {
    "collapsed": false,
    "ExecuteTime": {
     "end_time": "2023-08-31T15:15:51.345529810Z",
     "start_time": "2023-08-31T15:15:51.258497070Z"
    }
   },
   "id": "d8e0981f62624b34"
  },
  {
   "cell_type": "markdown",
   "source": [
    "### Compute medoids"
   ],
   "metadata": {
    "collapsed": false
   },
   "id": "a31846f8eb6d0899"
  },
  {
   "cell_type": "code",
   "execution_count": 26,
   "outputs": [],
   "source": [
    "medoids = collection_clusters.medoids"
   ],
   "metadata": {
    "collapsed": false,
    "ExecuteTime": {
     "end_time": "2023-08-31T15:15:51.431747595Z",
     "start_time": "2023-08-31T15:15:51.280722410Z"
    }
   },
   "id": "45d306c8cf45c8bf"
  },
  {
   "cell_type": "code",
   "execution_count": 27,
   "outputs": [
    {
     "data": {
      "text/plain": "array([[ 0.00000000e+00,  0.00000000e+00,  0.00000000e+00, ...,\n         0.00000000e+00,  0.00000000e+00,  0.00000000e+00],\n       [-1.65579394e-03,  5.79263463e-02,  4.86947937e-04, ...,\n        -6.21756792e-04, -1.26874703e-04,  7.30596220e-05],\n       [ 3.31141948e-03, -7.29662856e-04,  7.95110007e-04, ...,\n        -5.79422843e-04,  3.67344510e-04, -3.16213334e-03],\n       ...,\n       [ 0.00000000e+00,  7.13129251e-03,  3.71318208e-03, ...,\n         0.00000000e+00,  4.61268439e-03,  0.00000000e+00],\n       [-1.95489364e-03, -7.47501509e-04, -5.93931430e-04, ...,\n        -2.74614131e-04,  4.55944311e-04,  4.36976906e-03],\n       [ 1.58938245e-03, -3.39167619e-03,  4.02028592e-04, ...,\n        -7.01530323e-04, -1.77175524e-03,  7.06800952e-04]])"
     },
     "execution_count": 27,
     "metadata": {},
     "output_type": "execute_result"
    }
   ],
   "source": [
    "medoids"
   ],
   "metadata": {
    "collapsed": false,
    "ExecuteTime": {
     "end_time": "2023-08-31T15:15:51.450347563Z",
     "start_time": "2023-08-31T15:15:51.309705687Z"
    }
   },
   "id": "11ad79483b32e7b4"
  },
  {
   "cell_type": "code",
   "execution_count": 28,
   "outputs": [
    {
     "data": {
      "text/plain": "(150, 1202)"
     },
     "execution_count": 28,
     "metadata": {},
     "output_type": "execute_result"
    }
   ],
   "source": [
    "medoids.shape"
   ],
   "metadata": {
    "collapsed": false,
    "ExecuteTime": {
     "end_time": "2023-08-31T15:15:51.452685029Z",
     "start_time": "2023-08-31T15:15:51.355511813Z"
    }
   },
   "id": "bb03c43f54a7330"
  },
  {
   "cell_type": "markdown",
   "source": [
    "### Save medoids"
   ],
   "metadata": {
    "collapsed": false
   },
   "id": "a4fb5cc865ce8807"
  },
  {
   "cell_type": "markdown",
   "source": [
    "Save medoids on disk for the specific collection for no need to compute again."
   ],
   "metadata": {
    "collapsed": false
   },
   "id": "504eb925b2b1d4ad"
  },
  {
   "cell_type": "code",
   "execution_count": 29,
   "outputs": [
    {
     "name": "stdout",
     "output_type": "stream",
     "text": [
      "INFO: Saving medoids \n",
      "I/O: Directory /home/sebaq/Documents/GitHub/IR_project/dataset/tiny already exists \n",
      "I/O: Overwriting /home/sebaq/Documents/GitHub/IR_project/dataset/tiny/medoids.npy. \n"
     ]
    }
   ],
   "source": [
    "collection_clusters.save_medoids()"
   ],
   "metadata": {
    "collapsed": false,
    "ExecuteTime": {
     "end_time": "2023-08-31T15:15:51.453508647Z",
     "start_time": "2023-08-31T15:15:51.396663053Z"
    }
   },
   "id": "2fd22cea20383fa7"
  },
  {
   "cell_type": "markdown",
   "source": [
    "### 8. TSP"
   ],
   "metadata": {
    "collapsed": false
   },
   "id": "2a5d3832949053cf"
  },
  {
   "cell_type": "code",
   "execution_count": 57,
   "outputs": [
    {
     "name": "stdout",
     "output_type": "stream",
     "text": [
      "I/O: Loading /home/sebaq/Documents/GitHub/IR_project/dataset/tiny/order.json \n"
     ]
    }
   ],
   "source": [
    "from model.docid_reassignment import DocIdReordering\n",
    "\n",
    "reordering = DocIdReordering(collection_clusters=collection_clusters, data_name=config.name)"
   ],
   "metadata": {
    "collapsed": false,
    "ExecuteTime": {
     "end_time": "2023-08-31T15:20:22.098551395Z",
     "start_time": "2023-08-31T15:20:21.874687682Z"
    }
   },
   "id": "9d6127a890e6b4fd"
  },
  {
   "cell_type": "code",
   "execution_count": 58,
   "outputs": [],
   "source": [
    "reordering.solve()"
   ],
   "metadata": {
    "collapsed": false,
    "ExecuteTime": {
     "end_time": "2023-08-31T15:20:22.638347364Z",
     "start_time": "2023-08-31T15:20:22.596970893Z"
    }
   },
   "id": "588b205f755da9e"
  },
  {
   "cell_type": "code",
   "execution_count": 59,
   "outputs": [
    {
     "data": {
      "text/plain": "{0: array([1, 0]),\n 1: array([143, 145, 182, 120, 129, 131, 123,  52, 177, 179, 168, 171, 174,\n        181, 170, 166, 165, 169, 125, 140, 121, 176, 172, 167, 180, 175,\n        157, 124, 128, 130,  92, 117, 141,  57, 142, 162, 146, 155, 147,\n        153, 148, 159, 160, 150, 152, 161, 158, 156, 163, 149, 154, 164,\n        151, 138,  16, 178, 116, 133, 134,  27, 104,  46,  47,  65, 115,\n         63, 105, 139,  80,  61, 136,  39,  26, 122,  37, 112, 113, 144,\n         24, 108,  84,   0, 102,  32,  93,  19,  38,  62,  68,  90, 100,\n         67,  83, 137,  44,  45,  15,  70,  13,  22,  91, 173,  66,  74,\n        114,  23,  55,  11,  95,  96,  43,  73,  18,  86,  28,  72,   4,\n         64,   2,  36,   8,  53,  78,   1,  20, 111,  33,  40,  89,  76,\n         94,  98,  49,  87,  99,  42,  71,  85,  56,  10,  58,   3, 132,\n         29, 135,  48,  81,  34,  31,  51,  82,  50,   9,  79,  30,  54,\n        107,  97,  69, 127,  60,  25,  59,  14, 118,  17,   5, 110,   6,\n         77, 106, 126, 101,  12, 103,  35,  21, 109,   7,  88,  41,  75,\n        119]),\n 2: array([360, 539, 533, 271, 520, 527, 115, 509, 325, 487, 304, 500, 517,\n        208, 532, 536, 326, 159, 511, 516, 200, 316, 308, 499, 211, 538,\n        531, 359, 296, 514, 530, 525, 466, 355, 519, 443, 483, 382, 236,\n        507, 482, 502, 479, 320, 225, 385, 505, 508, 506, 465, 450, 340,\n        245,  73, 174, 512, 503, 198, 338, 537,  18, 336, 191, 541, 300,\n        459, 495, 475, 209, 430, 524, 521, 513, 283, 305, 119, 523, 485,\n        529, 498, 423, 184, 228, 131, 276, 285, 491, 265, 156, 377, 415,\n        278, 389, 248,  57, 372, 392, 287, 489, 291, 315, 542, 436,  29,\n        165, 249, 470, 260, 461, 478, 309,  75, 510, 246, 350, 386, 496,\n        168, 253, 331, 318, 274, 497, 293, 281, 398, 388, 390, 399, 391,\n         22, 279, 409, 306, 418, 480, 213, 469, 477, 451,  52,  53, 379,\n        464, 352, 368, 145, 241,  49,  42, 259, 349, 444, 346, 473, 405,\n        327, 358, 339, 344, 362, 416, 481, 244, 321, 292, 435, 231, 180,\n        284, 121, 463, 394, 190, 203, 364,  62, 456,  80, 272, 141, 166,\n        160, 217, 337, 206, 361, 522, 130, 170, 376, 319,  33,  12, 273,\n          1, 220, 365,  16, 354, 138, 357, 183, 147, 402,  15, 106, 412,\n        118,  56,  97, 101, 334, 102, 393, 109, 366,  26, 238, 267,   5,\n          8, 171, 146,  11, 134, 207, 275, 540, 494, 103,  99, 197, 472,\n        182,  83,  94, 232, 353, 410, 163, 252,  37,  71, 126, 457, 270,\n        263,  39, 363, 290, 343,  88, 157, 371, 441,  74, 176, 504, 151,\n        429, 112,  28,  34,  76, 447,  91, 397, 240, 280,  68, 230, 458,\n        330,  98, 493,  87, 189, 431, 403,   3, 288, 297, 490, 129, 515,\n        132, 408, 439, 425,  85, 411, 137, 407,  58, 369,  14,   9, 140,\n        449, 471, 492,  17, 107,  89, 136, 432, 216, 528, 148, 395, 128,\n        193, 367, 286, 486, 120,  46, 446, 149, 143, 401, 426, 311,  44,\n        108, 333,   0,  51,  43,  84, 440, 255,  21,   2, 467, 460,   6,\n        534, 185, 152, 105,  23, 299,  64, 175,  40, 124, 387,  78, 474,\n        329, 110, 142,  19,  81, 227, 164, 301, 484, 144,  27, 229, 468,\n        427, 342, 266, 210, 196, 226,  82,   4, 177, 251, 257,  32,   7,\n         45, 214, 123, 233, 375, 488, 462, 205,  10, 172, 186,  30, 258,\n        298, 100, 454, 162, 114, 501, 113, 254, 195,  63, 433, 348,  79,\n         38,  24,  77, 526, 518, 476,  48, 438,  72, 442, 434, 139, 420,\n        173, 125, 312,  55,  69, 417,  36,  90, 428, 370, 384, 374, 396,\n         70, 127, 332,  59,  61, 194, 133, 437, 356, 455, 453, 158, 212,\n        448, 221, 104,  13, 187, 313,  25, 424, 445, 199, 235,  96, 179,\n        413, 400, 323,  20, 242, 150, 116,  41, 218, 237, 289, 422, 239,\n        222, 452, 378, 310, 178,  66,  65, 324, 347, 268, 256, 269, 380,\n        335, 341, 314, 351, 188, 122,  86,  93, 223, 317, 307,  31,  95,\n        328, 345, 135, 421, 167, 155,  47, 419, 111, 406, 117,  54, 201,\n        277, 169, 322, 202, 303, 404, 302, 381, 261, 294, 247, 243, 295,\n        192,  60, 204, 161, 414, 181, 153, 219,  67, 373, 215, 383,  35,\n        282, 234, 264, 224,  92, 535, 262, 250, 154,  50]),\n 3: array([639, 644, 287, 589, 620, 632, 645, 598, 628, 618, 616, 612, 445,\n        638, 541, 354, 557, 637, 640, 623, 410, 642, 448, 601,  49, 181,\n        596, 429, 254, 188, 324, 528, 562, 509, 356, 535, 344, 504, 314,\n        282, 449, 570, 339, 388, 635, 568, 621, 370, 435, 577, 464, 608,\n        463, 480,  91, 501, 510, 547, 452, 591, 320, 451, 505, 641, 381,\n         78, 525, 514, 438, 574, 208, 497, 625, 458, 456, 613, 572, 605,\n        414, 543, 606, 526, 437, 237, 609,  98, 393, 206, 345, 552, 360,\n        389, 540, 582,  59, 455, 358,  86, 532, 353,  96, 440, 367,  97,\n         94, 269, 643, 538, 581, 229, 583, 168, 566, 359, 481, 117, 559,\n        403, 564, 555, 332, 461, 420, 649, 285, 648, 477, 363, 247, 634,\n        252, 619, 248, 512, 580, 498, 404,  89, 243, 629, 387,  46, 335,\n        578, 513, 588,  61, 142, 524, 417, 442, 351, 173, 418, 116, 259,\n        486,  16, 415, 633, 167, 240, 496, 529, 119, 296,  41,  43, 536,\n        615, 227, 231, 507, 424, 422, 242, 617, 268, 261, 553, 545, 170,\n        165, 565, 280, 212, 140,  45, 460,  38, 224, 275, 503, 599, 278,\n        647,  44, 106, 121,  80, 602,  33, 221, 563, 265,  48, 592, 144,\n        466, 385, 266, 626,  37, 234, 551, 408, 228, 614, 263, 362, 133,\n         73, 217, 262, 521, 499, 584, 109, 114, 225, 226, 118, 244, 134,\n        467, 364, 304, 384,   8,  10, 307,  76, 426, 465, 597, 341, 443,\n        256, 219,  82, 554, 158, 203, 567, 135, 325,  77, 457, 462, 171,\n        204, 475, 112, 610, 179, 394, 586, 200, 468, 328, 196,  22, 423,\n        630, 101, 195,  70, 138, 189, 239,  14, 246, 163,   9,  92, 579,\n        495, 154, 175, 230,  36, 253, 558, 352,   2,  18,  74,  87, 214,\n        210,  23, 402, 561, 317, 294, 322, 321, 319, 318, 297, 316, 315,\n        313, 312, 310, 309, 305, 295, 303, 301, 300, 587, 211,  63, 550,\n        153, 571, 355, 186, 485, 126,  17, 245, 271, 374, 406, 539, 207,\n        386, 527, 255, 166, 258, 376, 603,  32, 108, 421, 148, 516,  81,\n        425, 622, 412,  28, 593, 405, 111, 137, 232, 636, 624, 631, 544,\n         35, 484, 398,  24, 260,   4, 115,  42, 375, 372, 281, 291, 409,\n        279, 348, 125, 472, 187,  54, 105, 369, 569, 174,  55,  53, 205,\n         75, 604, 222, 251, 382, 476, 508, 283,  85, 590, 575, 515, 250,\n        542, 474, 439, 430, 441,  50, 349, 132,  58, 150, 122,  15, 323,\n        156, 346, 169, 479, 130, 522, 284, 292, 264, 184,  67,  52, 434,\n        432, 241, 267,  57, 530,   5, 413,  83, 191, 556, 519,  20,   6,\n        492, 493, 197, 249, 235, 190, 560, 277, 611, 365,  68, 276, 293,\n        183, 397,   7, 113, 469, 223, 146,  27, 180, 342, 102,  26, 198,\n        378, 416, 157, 209, 110, 338, 220, 103, 373, 366, 127, 326,  30,\n        120,  19,  64,  34, 238, 411, 299, 433,  71,  60, 502, 100,  11,\n        298, 399, 159,  66, 483, 489, 172, 149, 145, 444, 272, 306,  69,\n        213, 274, 487, 330, 340, 379, 390, 383, 392, 436, 286, 185, 585,\n        520,  79, 290,  13, 431, 308,  72, 446, 491, 141, 576, 368, 453,\n        288,  31, 336,  47, 193, 160, 517, 490, 192, 391, 236, 347, 473,\n         88, 147,  21, 327,  51, 573, 218, 270, 488, 407,  40, 257, 357,\n        136, 594, 506, 361, 128, 537, 548, 523, 139,  90, 646, 178,   0,\n        627,  12, 216, 459, 333, 123,  62, 428, 380,   1, 161, 155, 350,\n        371, 273, 334, 331, 107, 329, 302, 152, 482, 400, 177, 151, 343,\n        607, 143, 164,  25, 201, 233, 471, 419,  56, 518, 478, 202,  95,\n         93,  29, 470,   3, 129, 395, 511,  39, 289, 199, 176, 600,  99,\n        450, 401,  65, 595, 531,  84, 534, 311, 447, 104, 194, 162, 337,\n        377, 533, 427, 182, 494, 131, 124, 549, 215, 500, 396, 454, 546]),\n 4: array([23, 25, 30, 29, 35, 22, 26, 27, 28, 32, 24, 36, 33, 34, 31, 21, 20,\n         9, 18, 17, 16, 15, 13, 11, 14, 12, 10,  1,  8,  4,  2,  7,  5,  3,\n         0,  6, 19]),\n 5: array([1794, 1695, 1787, ..., 1571,  804, 1455]),\n 6: array([179, 211, 202, 213, 203, 136, 130, 177, 110, 214, 108, 132, 107,\n        205, 106,  88, 194, 201, 141,  33,  96, 131, 116, 167, 190, 171,\n        128,  73,  83, 212, 182, 118,  72,  64, 115, 196, 191, 122, 121,\n        138, 113, 111, 117,  32,  56, 193, 157,  26,  35, 163, 120,  39,\n         31,  29,  82,  91, 162, 164,  86,  36, 104,  85, 195, 208, 197,\n         84,  47, 155, 204,  76,  16, 103, 126, 154, 143,  65, 150,  10,\n          0,  60,  67,   9, 175,  95,   1, 142,  43, 189,  37,  81,  49,\n        147, 101,  40,  48, 105,  46,  34,  42,  89,  27,  97,  59,  70,\n         66,  94,  78, 176,  50,   7, 207, 134, 168,   6,  28, 140, 133,\n        139,  99, 198,  61,  71,  54,  80,  69,  57,   8,  77,  68, 102,\n        123, 166, 181, 109,  74, 100, 112,  98, 152,  17,  90,  63,  92,\n         14,  58, 172,  13, 119,  93, 135,  87, 125,  23,  44, 156,  55,\n          5,   3,  53, 206, 183, 188, 145, 159, 129,  25,  24, 151,  12,\n          4,  51, 144, 148, 146,   2,  11, 158,  21, 180,  62,  38,  18,\n        160,  15, 184, 185, 173,  20, 165, 199,  45,  30, 127, 114, 169,\n        187, 178, 124, 170,  52,  79,  75, 192,  41, 210, 161, 153, 215,\n        216, 174,  22, 137,  19, 149, 209, 186, 200]),\n 7: array([403, 355, 302, 384, 387, 382, 232, 354, 395, 392, 280, 398, 393,\n        281, 336, 144, 329, 273, 122, 233, 306, 283,  38, 344, 300, 390,\n        262, 402, 347,  95, 174, 346, 292, 363, 341, 391, 368, 371,  84,\n        370, 289, 253, 312, 259,  45, 401, 307, 381, 385, 351, 374, 400,\n        266, 239, 234, 227, 271, 365, 378,  34, 193, 137, 170, 128, 362,\n         76,  42, 251,  82, 113, 208, 375,  61, 114, 241, 224, 285, 250,\n         60, 383, 134, 260, 328, 117, 268, 293, 261, 145,  28, 248, 190,\n        270, 111,  77, 216,  43, 335, 221, 229, 165,  21, 318, 297, 147,\n        225, 185, 126, 367,  11,   9,  29, 210, 397,  72, 188, 112, 108,\n        151,  88,  39, 340, 380, 377, 101,  63,  37,  41, 314,  25, 247,\n         85,  31, 223,  83,  40, 330, 213,  26,  53,  68, 157, 104,  73,\n         66,  36,  19, 206,  65, 100, 240, 143, 152,   7,  70,  22,  59,\n         69,  64, 228, 255,   6, 282,  52, 142, 296,   8,   3, 172,   4,\n         47, 373, 118, 164,  49,   0,  96, 386, 212,  79,  17, 349, 131,\n        236, 202, 231, 360, 242, 267, 178, 106,  56, 159, 275,  91,  97,\n         89,  54, 337, 350, 204, 311, 153, 138, 243,  71,  50, 199,  62,\n        245,  58, 238,  78, 169,  15,  67, 357, 277,  12, 125, 319, 396,\n        135, 109, 309, 130, 230,  14, 264, 176, 110, 141,  46,  20, 313,\n        364, 290, 155, 299,  16,  27,  23,  57, 123, 305, 356, 343,  24,\n         32,  35, 339, 399,  33, 258, 200, 148, 146, 394, 132, 129, 121,\n        124, 149, 303, 192,  18, 162, 127, 254, 332, 331, 294, 361, 116,\n        214, 321, 154, 158,  92, 161, 342, 105, 244, 317, 323, 345,  13,\n        102, 136, 327,  51, 369, 352, 284, 359,   1, 217, 316,  55, 246,\n        220, 150, 324, 120, 279, 257, 173, 166, 276,   5, 304, 197, 191,\n        187, 196,  44,  10,  81, 194, 315,   2, 348, 222, 189, 219, 288,\n        265, 115, 366,  87, 320, 295, 235, 177,  93, 119,  75, 338, 274,\n        256, 376, 379, 372, 139,  74, 133, 156,  99, 226, 334, 181, 198,\n        301, 209, 201, 103,  80, 140, 107,  94,  86, 263, 237, 211, 249,\n         30, 184, 252, 175, 167, 168, 269,  98, 333, 291, 287, 358, 286,\n        325, 195, 203, 205, 389, 207, 160, 179, 186,  90, 180, 182, 183,\n        215, 353, 163,  48, 388, 218, 278, 322, 298, 308, 310, 326, 171,\n        272]),\n 8: array([111, 107,  95,  91,  85,  20,  83,  69,  58, 103,  99,  73, 108,\n         57,  34,  22,  79,  70,  82, 105,  36,  52,  55,  80,  17,  14,\n         18,  48,  28,  10,  90,  93,  96, 109,  38,  63,  59,  46,  56,\n         47,  25,  74,  32,  13,  72, 104, 106,  76,  65,  21,  26,  40,\n         33,  71,  30,   5,  84,  66,  37,  88,  54,  19,  31,  24,  78,\n          8,  35,  12,  67,  68,  39,  29,  42,  44,   7, 102,   2,   1,\n         16,  15,  98,  64,   3,  89,   6,  86,   0,  23,  11,  87,  43,\n         75,   9,  94, 100,  77,  50,  51,  45,  81,  41, 101,   4,  49,\n         62,  61,  27,  53,  97,  60, 110,  92]),\n 9: array([518, 461, 480, 482, 538, 502, 410, 449, 496, 490, 503, 431, 392,\n        388, 443, 517, 541, 366, 441, 378, 380, 169, 269, 435, 199, 520,\n        446, 470, 526, 174, 417, 347, 323, 358, 384, 365, 198, 428, 510,\n        438, 530, 162, 278, 404, 539, 448, 459, 191,  61, 184, 522, 379,\n        270, 513, 424, 447, 521, 398, 547, 107, 370, 504, 357,  78, 515,\n        486, 217, 457, 171, 149, 211,  81, 501, 489, 481, 331, 516, 265,\n        506, 315, 233, 402, 179, 312, 407, 271, 218, 317,  83, 425, 130,\n        426, 247, 231, 363, 330, 499, 277, 348, 544,  31, 412, 468, 543,\n        318, 333, 223, 343, 364, 432, 514, 215,  12, 416, 439, 268, 311,\n        172, 491,  79, 214, 523, 540, 532, 423, 452, 117, 207, 151, 349,\n        458, 140, 285, 395,  97, 236, 238,  82, 393, 220, 131,  42, 475,\n        478, 400, 111, 301,  36, 246, 421, 397, 135, 137,  65, 505,  54,\n        381,  30,  69, 414, 259, 335, 382, 254, 529, 166, 190, 287,   3,\n        445, 159, 250,   7,  89, 346,  46, 200, 255, 389, 383, 450, 288,\n        345, 310, 102,  10, 213,  15, 121, 185, 201, 272,   1, 535, 377,\n         90,  28,  71, 436, 257, 116,  47, 479, 262, 133, 394, 533, 177,\n        203, 351, 319, 372, 444, 273, 244, 113,  75, 266, 235, 248,  98,\n        488, 150, 471, 464, 127, 204, 230, 126,  18, 105, 497, 119, 495,\n        472, 477, 260, 387,  14, 129, 296, 338, 146, 291, 182, 245, 212,\n        242, 175, 226, 413, 303, 434, 369, 178,  74, 118, 154, 307, 115,\n         63, 197,  88,  37, 430,  99, 195, 528, 192, 139,  20, 309, 292,\n         67, 332, 264,  64,  57, 399, 391, 442, 106, 422, 466,  96,  86,\n        160,  80, 132, 298, 234, 353,  22,  23,  45, 455,  43, 537, 143,\n        297, 289,  27,  11,  26, 222,  87, 304,  76, 155,  19, 390, 148,\n        145,  73,  35,  21, 418, 325, 483, 205,   2, 300, 173, 487,  16,\n         95,  58, 373, 138, 409, 415, 313, 109,  59, 136,   9, 122, 361,\n         77, 339, 463, 359, 147, 206, 103, 437,  55, 290, 239, 354, 158,\n        276,   6, 196, 110,  49, 485,  48,   4, 460,  32, 253, 453,   5,\n        261, 100, 362,  44, 279, 456, 243,  13, 101, 224, 286,  17, 467,\n        219, 227, 328,  84, 546, 454, 228, 420,   8, 342, 492, 295, 509,\n        283, 114,  85, 306, 209, 508,  41, 256, 275, 411,  25, 327, 216,\n         34, 427,   0, 232, 181, 408, 534,  91, 282, 473, 524, 157, 512,\n         29,  33,  56, 350, 519,  92,  51, 152,  52,  53, 280, 401, 375,\n        124, 125, 316, 164, 360,  94, 134, 128, 167, 112, 208, 474, 165,\n        322, 433, 258, 465, 376, 545, 451,  93,  66, 251, 163, 308, 108,\n        320, 367, 186, 337, 374, 484, 153,  68, 344, 142, 334, 341, 193,\n        536, 263, 386, 120, 314, 123, 525, 494, 500,  38,  39,  40, 202,\n        187, 498, 326, 188, 293, 324, 104, 368, 210, 405, 237, 249, 241,\n         24, 299, 156, 267,  72,  70, 221, 507, 542, 252, 141, 462, 161,\n        240, 476, 170,  60, 281, 176, 429,  62, 340, 183, 329, 305, 284,\n        229, 302, 385, 371, 144, 194, 403, 321, 419, 336, 396, 406, 355,\n        493, 189, 225, 531, 294, 440, 356, 180,  50, 469, 527, 274, 168,\n        352, 511]),\n 10: array([33, 18, 21, 39, 24, 10, 37, 22, 16, 13, 36, 27, 32, 40, 26,  5, 15,\n         8,  3, 28, 17,  0,  2, 30, 20, 19, 23, 29, 43,  4,  9, 25, 14,  1,\n        41, 42,  6, 12, 35, 44, 34, 11, 31,  7, 38]),\n 11: array([129, 122, 113, 127, 106, 124,  83,  86, 102,  44,  60,  33,  85,\n         81, 114,  98,  16,  45, 126,  15, 125,  58,  55,  32,  51,  24,\n         65,  74, 100,  48,  12,  46,  96,  20,   9,  26,  70,  93, 123,\n         27,  42,  23,  17, 115,   4,   3,   2,  19,  30,   7,  10,  25,\n         13,  18, 107,  59,  82,  89,  54, 128,  21, 112,  14,  94,   6,\n          8,  92,  91,  77,  47, 105, 111,  90,  36,  39,  72,  99,  67,\n        120,   5,   1,  84,  87,  37,  61,  68,  57, 117,  71,  73,  11,\n        118, 110, 109,  79, 121,  29, 116,  28, 101,  38,  49,  41, 103,\n         88,  22,  35,  53,  95,  75,  31,  34,   0,  56,  50, 104,  76,\n        119,  43,  78,  69,  80,  97,  40,  52,  66, 108,  62,  63,  64]),\n 12: array([132, 230, 223, 181, 198, 217, 141, 204, 271,  22,  72, 116, 113,\n         74, 242, 233, 177, 170, 281,  56, 176,  57,  16, 184,  28, 164,\n        278,  32, 286,  79,  95, 275,  20,  19, 279, 212, 126, 274, 280,\n          8, 179, 150, 277,  30, 228, 253, 240,  39, 120,  85, 131,  63,\n        162, 284, 167, 234,  48, 282,  12, 151, 250, 207,   3,  38, 214,\n        251,  66, 148, 243,  61, 261, 236,  58, 268,  99, 269,  23, 121,\n        201,   5, 249, 276, 193, 173,  69,  29,  83, 285, 225, 272, 134,\n        283, 257,  37, 260, 165, 102,  96,   4, 146,   1, 273,   2, 109,\n        175, 229, 188,  80, 252, 189, 219,  25,  84, 220,  64, 206, 143,\n         21,  14,  55, 130, 124,  70, 211, 100, 123,  43,  89, 256, 139,\n         40, 119, 213,  13, 154,  92,  91, 215,  94,  87,   9, 103, 136,\n         68, 114,  50,  62, 128, 117, 208, 216, 218,  24,  77,  35, 115,\n         15, 108, 106,  11, 163, 166, 149, 267,  10, 185,  54, 202, 157,\n        161, 183, 254, 158,  76,  97, 246, 156, 221,  90, 239, 224,  33,\n         67, 153,  31,  44, 135, 137,  59,  82, 174, 190,  36, 105, 142,\n        168, 222, 140, 160,  34,  41, 180,  78, 159,  53,  51,  42, 227,\n         65,  17, 111,  93, 203, 118, 194, 187, 237, 270, 110, 247,  98,\n         49,  45, 235,  86, 265, 264, 138, 125, 192,  46, 172, 182,   0,\n        259,  88, 258,  26, 266,  60,  47,   6, 231, 197, 112, 263,  18,\n        186, 241, 129, 127,  75, 171, 155,  81, 232, 255, 205, 196, 144,\n        145,  73,  71, 169, 262, 122, 200,   7, 147, 191, 178, 244, 245,\n        101,  52, 238, 226, 133, 199,  27, 107, 248, 195, 104, 209, 152,\n        210]),\n 13: array([11, 12,  5, 17,  0,  7,  8,  9, 15,  1,  2, 18, 14,  4, 16, 10,  3,\n         6, 13]),\n 14: array([20, 15, 16, 25, 17, 14, 27, 23, 24, 18, 21, 28, 29,  8,  7, 22, 11,\n         6,  5, 10, 12, 19, 26,  4,  9, 13,  0,  1,  3,  2]),\n 15: array([643, 572, 646, 645, 639, 598, 631, 642, 495, 618, 348, 641, 577,\n        542, 502, 464, 422, 556, 560, 417, 620, 513, 589, 611, 283, 647,\n        633, 291, 136, 433, 323, 546, 629, 364, 403, 547, 395, 624, 579,\n        606, 311, 351, 290, 447, 456, 550, 448, 333, 490, 269, 602, 575,\n        358, 644, 454, 241, 334, 459, 309, 511, 356, 436, 591, 427, 301,\n        376, 112, 551, 610, 260, 259, 485, 121, 562, 271, 392, 481, 125,\n        559, 330, 331, 113, 197, 471, 533, 109, 174, 354, 408,  91, 280,\n        537, 570,  26, 557, 372, 498, 277, 558, 107,  45, 432, 370,  46,\n        135, 381, 578, 286, 509, 275,  41, 328, 482,  27, 100, 541, 350,\n        366,  84, 501, 383, 576, 173, 413, 425, 335, 434, 479, 518, 297,\n        187, 353, 449, 238, 429, 384, 214, 415, 636,   5, 154, 161, 365,\n        245, 567, 261,  77, 520, 554, 230, 474, 255, 532, 423, 142,   8,\n         49, 505, 587, 127, 343, 146, 247, 171, 295, 110, 104, 584, 410,\n        224, 180,  73,  50, 468,  34, 491, 396, 569, 140, 342, 571, 141,\n        292, 198, 586, 595, 439, 418,  25, 320, 338, 262, 526, 256, 159,\n        503,  23, 296, 361,  92,  53, 316, 166, 580, 389, 371, 637, 279,\n        638, 496, 593, 195, 289, 445,  88,  79, 379, 549, 623, 148, 399,\n        363, 175, 626, 325, 196, 612, 375, 246, 327, 522, 455, 552, 306,\n        244, 162,  93, 538, 312,  17, 420, 590, 101, 442, 489, 466, 211,\n        405, 592, 145, 515, 640, 563, 508, 304, 310, 523, 615, 308, 465,\n        232, 568, 369, 169, 608, 139,  43, 252,  81, 416, 528, 237, 499,\n        617,  48, 130, 506, 477, 189, 190, 458, 223, 324, 362, 192, 208,\n        234, 126, 467, 492, 210, 599, 543, 188, 472, 143,   4,   9, 116,\n        199, 212, 461, 185,   3,  71,  54, 176, 530, 183,  44, 209,  18,\n         31, 268, 368, 524, 561, 451, 178, 276, 360, 536,  69, 628, 213,\n         68, 566, 278, 227, 540, 165, 314, 634,   6, 240, 315, 604,  85,\n         80, 605, 357, 539, 346, 163, 293, 622, 426,  14,  15,  87, 519,\n         75, 249, 157, 149,  90,  89,  51, 400, 600,  12, 574,  11,  13,\n        305, 254, 393, 517, 168,   2, 206, 263,  65,  20,  76, 409, 504,\n        317,  67, 231, 270, 345, 184,  72, 603,  95, 441, 632, 627, 394,\n          0,  94, 243, 340, 553, 272, 258,   7, 625, 404, 473, 336, 514,\n        480, 588, 521, 510, 478, 282, 219, 597, 235, 450, 452, 205, 114,\n        500, 630, 488,  59,  40, 122, 179, 120, 407, 218,  37, 170,  38,\n        118, 119, 534,  19, 341,  96,  66, 117, 544, 462, 621, 380, 131,\n         62,  74, 134, 601, 332, 390, 158, 191, 193,  35,  39, 242, 529,\n        594, 115,  21, 565, 182, 250,  97, 377, 204, 535, 300,  28, 111,\n        397, 103, 102,   1, 411, 152, 251, 281, 313, 494, 470, 487, 288,\n        453, 177,  86, 128, 151, 581, 207, 129, 419,  57,  55, 229, 201,\n        609, 194, 124, 228,  36, 329, 507, 531, 138, 387, 440, 339,  98,\n        299, 285,  99, 108, 545, 153, 406, 105, 106, 203, 156, 349,  56,\n         58, 226, 493, 585, 274, 607, 460,  64, 616, 123, 401, 443,  82,\n        412, 318, 319, 619,  63,  61,  60, 217, 564, 294, 164, 133, 167,\n        172, 382, 424,  29, 414, 216, 220, 321, 469,  22, 463, 144, 264,\n        352,  30, 267, 613, 337, 497, 181, 457, 221, 398,  16,  10, 150,\n        402, 132, 326, 431, 516, 527, 391, 160,  78, 421,  47, 303, 200,\n        446, 222, 378, 475, 284, 583, 287, 233, 438, 322, 512, 307, 253,\n        359, 266, 430, 367, 137,  42, 236, 273,  52, 373, 614, 388, 386,\n        302, 435, 347, 215, 239, 265,  24, 555, 298, 548, 374, 225, 573,\n        147,  33,  32,  70, 444, 486, 525, 635, 344,  83, 483, 257, 202,\n        248, 155, 355, 484, 582, 476, 385, 437, 596, 428, 186]),\n 16: array([12, 15,  9, 10, 13,  8,  5,  7,  4,  6, 11,  0,  1, 22,  2,  3, 18,\n        19, 21, 17, 20, 16, 14]),\n 17: array([190, 192, 166,  90,  77, 156, 174, 186, 193, 118, 145, 181, 115,\n        148, 183,  94, 135, 131,  66, 180,  64, 150,   2, 187, 189, 165,\n        146,  86,  61, 175, 140,  57,  25,  73,  97, 147,  70,  82,  37,\n         30, 191,  99,  55, 112, 179, 178, 164, 182, 194, 158,  69,  93,\n         84,  43,  98, 144,  75, 119, 161,  42, 162, 151,  26,  91,  60,\n        138, 117, 116, 107,  58,  59,  83,  41, 184,  39, 171,  96, 167,\n        100,  85, 104, 188, 170, 177,  17, 137,  80, 139,  72,  40,  88,\n        157, 127,  35, 136,  31,  78, 134, 124, 176,  11, 141, 109,  76,\n          1, 122, 143,  52,  22, 142,  13,  33,  89,   8,  81, 128,  74,\n          0,  48,  63,  51, 125,   3, 169, 121, 114,  24, 113,  44,  68,\n        153,  49,  56,  71,  38, 110, 168,  46, 106, 159, 173,   6, 123,\n         92, 155, 132, 126,  47,  12,  28,  50, 149,  65,   5, 103, 163,\n        101,  14, 111,  29,  54,  79,   4,  67,  32,  36,  16, 108,  10,\n         45, 105,  21, 185, 133, 154,   9,  19,  20,  95, 160,  15, 172,\n         62, 120,   7, 152,  87,  18,  23,  27,  53, 130, 129, 102,  34]),\n 18: array([3205, 3180, 3206, ..., 2721, 2826, 1856]),\n 19: array([16, 14,  2, 11, 10, 15,  0,  5,  3,  1,  6,  7,  4, 12, 13,  9,  8]),\n 20: array([368, 379, 362, 300, 366, 358, 309, 377, 351, 333, 312, 352, 324,\n        286, 256, 363, 288, 314, 327, 336, 347, 242, 298, 209, 386, 252,\n        182, 281, 218, 350, 367, 373, 322, 285, 246, 283, 274,  80, 180,\n         46, 365, 264, 166, 210,  60, 181, 136, 378, 269, 353, 275, 223,\n        361, 203, 375,  98, 229, 278, 141, 154, 187,  75, 243, 355, 177,\n        296, 125, 179,  91,  38, 228, 306, 342, 294, 307, 167, 106, 235,\n        273,  63, 360,  99, 216, 284, 204, 212,  87, 132, 152,  73,  77,\n         79,  78, 325, 251, 255, 230, 316,  42,  90, 162, 330,  19, 345,\n        318, 193, 220,  30, 349, 237, 153, 173, 359, 168, 159, 165, 343,\n         43, 329,   1, 382, 201, 236, 303, 208,   0, 115,  15, 319,  86,\n        279, 172, 199,  37, 138, 178,  66, 311, 116, 238,  89, 233, 221,\n        176,  95, 151, 266, 111, 195,  59, 121, 124, 134,  58, 198,  51,\n        211, 222, 214, 205, 103, 239, 245, 331, 148, 341,  94, 335, 376,\n        213, 128, 200, 163, 248, 332, 259, 139, 287,  13, 225,  47, 262,\n         36, 340, 304,   5, 101, 308,  76,  88, 232, 170, 265, 385, 276,\n        323, 348, 344, 112, 171,  93, 224, 131, 289, 120, 189,  72, 149,\n        206, 104, 185,  67, 380, 184, 292, 135, 150, 118, 346,   9, 290,\n        260,  29,   8, 272, 310, 240, 231, 140, 126, 161,  64, 354, 277,\n         54,  70, 263, 321, 227, 130, 369, 320,  22, 241, 100, 102, 197,\n        137, 142,  96,  28,  21, 219, 186, 372, 384,  14, 109, 268,  97,\n         24,  12,  11,  82, 305, 244, 299, 215, 157,  68,  56,  53,  57,\n         55, 317,  35,  25,  41,  48,  65,   4,   2,  50,  32,  69, 108,\n        374, 291, 207, 328, 196,   3, 119, 217,  10, 164, 257,  34,  44,\n         83, 234, 183, 144, 254, 113,  74,  39, 110, 114,  81, 371,  62,\n        175, 192, 357, 253,  23, 295, 267, 191,   7,  16, 202, 117, 297,\n        247, 334, 326, 105,  49, 190, 146, 143,  26, 337,  45,  17,  52,\n        282, 356,  27,  92,   6, 280, 169, 250,  71, 122, 370, 160, 302,\n        261, 381, 313, 226, 127, 301, 315, 145, 339,  84,  61, 123, 271,\n         85,  31, 293, 258, 383, 338, 107, 133,  33, 270,  40, 156, 155,\n        158, 364, 147,  18,  20, 194, 188, 174, 249, 129]),\n 21: array([ 7, 13, 12,  1,  0, 10, 17, 14,  8,  5,  4, 16,  2, 20,  3, 19,  9,\n         6, 18, 15, 11]),\n 22: array([10, 45, 14, 43, 25, 29, 18, 16, 48, 11, 55, 53, 52, 47, 58, 50, 38,\n        54, 31,  2, 41,  4, 49, 44, 40, 51,  8, 42, 46, 13,  1, 30, 20, 35,\n         9,  6, 28, 24, 37, 34,  7, 17, 27, 33,  5, 21, 19,  3, 36, 32, 26,\n        15, 22, 39, 12, 23,  0, 56, 57]),\n 23: array([169, 213, 196, 194, 211, 137, 164,  84, 204, 207, 170, 176,  77,\n        189,  82, 212,  20, 132, 174, 200, 165, 147, 171, 198, 173, 172,\n        175, 123,  60, 210, 161, 154, 150,  18, 201,  98, 149, 160,  81,\n        159,  50,  99, 109,  15, 142, 188, 111, 187, 166,  24, 128,  53,\n        120,  16, 205,  46, 206,  67, 143, 191,  83,  91, 122,  56, 145,\n        181, 107,  48,  85, 168, 186,  27,  93, 151,  54, 156, 133, 197,\n         71, 102, 155, 199, 157, 167, 185, 100, 115,  42,  35, 118,  12,\n        116, 179,  55, 192, 114,  57, 119, 105,  72, 131, 112, 126,   1,\n         45,  22,  40,  39, 138,  43,  41, 134,  31,   8,   9,  11, 140,\n          4,  32,   3,  47,  34,  88,  80,  75,  21,  87, 208,  64,  95,\n        202,  44,  90,  89,  63, 129,  28,  14,   0, 146,  30,  52,  23,\n         58,  86, 135,  10,  97,  78, 177,   7,   5,  25, 141,  92, 130,\n         49, 144, 108, 184,  62,  66, 180,   6, 158, 193, 148, 152, 163,\n        113,  94, 162, 117,  68,  17, 178,  26, 183,  33,  61,  37, 209,\n         74,   2, 125,  51,  29, 190, 153,  59, 127,  70,  69,  79, 136,\n        104, 124,  73, 101,  96, 103,  76, 110, 214,  65, 203, 182, 106,\n        121, 139,  19,  13, 195,  36,  38]),\n 24: array([ 6,  4, 18, 17, 16, 15, 19, 20, 14,  7, 13, 12, 10,  9,  8, 11,  2,\n         1,  5,  3,  0]),\n 25: array([16, 15, 14,  4,  9, 10, 13,  1,  2, 11,  3,  5,  8, 12,  6,  0,  7,\n        21, 17, 20, 18, 19]),\n 26: array([661, 670, 722, 703, 711, 724, 705, 717, 714, 716, 664, 715, 712,\n        707, 719, 522, 721, 675, 720, 407, 692, 493, 698, 697, 453, 702,\n        676, 505, 550, 683, 677, 651, 205, 278, 700, 667, 111, 455, 611,\n        710, 614, 483, 560, 621, 535, 501, 314, 547, 671, 595, 681, 640,\n        641, 463, 486, 498, 529, 708, 434, 633, 311, 574, 723, 204, 275,\n        572, 709, 363,  66, 586, 552, 224, 490, 119, 252, 457, 673, 610,\n        565, 652, 378, 663, 478, 253, 462, 612, 635, 666, 686, 597, 226,\n        600, 540, 706, 220, 340, 658, 406, 553, 590, 649, 259, 696, 646,\n        171, 192, 320, 627, 244,  64, 319, 682,  50, 454, 357, 155, 231,\n        305, 242,  25, 691, 660, 672, 145, 374, 256, 371, 126, 656, 491,\n        571, 451, 167, 492, 404,  37, 281, 250, 690, 601, 240, 333, 648,\n        379, 594, 430, 472, 694, 551, 638, 580, 642, 366, 674, 695, 622,\n        235, 298, 523, 588, 148, 650, 194, 684, 152, 215, 583, 154, 193,\n         76, 228,  43, 408,  32, 598, 380, 286, 107,  57, 373, 348, 623,\n        534, 557, 630, 222,   7,   1, 467, 123, 476, 113, 449, 159, 185,\n        133, 422, 301, 607, 153,  61, 383, 542, 172, 564, 494, 515, 514,\n        125, 394, 471,  62, 103, 164, 577, 273, 292, 536, 578, 427, 128,\n        424, 212, 344,  29, 322, 385, 452, 156, 191, 548,  51, 718, 129,\n        699, 290, 420, 464, 388,  97, 713, 613, 381, 619, 149, 221, 606,\n         96, 310, 556, 617, 336, 232, 393, 561, 361, 499,  84,  52, 701,\n        575, 158, 441,  39, 279,  94, 161, 539, 117, 428, 338, 438, 109,\n        180, 662,  85, 525, 251, 426, 274, 615, 474, 484, 693,   5, 168,\n        127, 475, 135, 546, 293, 247, 114, 704, 105, 176,  88,  53, 303,\n        169, 435, 387, 409, 645, 210, 473, 602, 558, 295,  99, 283, 377,\n         80, 636, 112,  79, 214, 447, 521, 639, 216, 669, 369, 181, 569,\n        549, 355,  93,  36, 496,  68,  11,  90, 500, 347,  58, 241, 416,\n          2, 480, 446,   0, 616, 477, 324, 587, 400, 269, 162,  70, 634,\n        465, 687, 276, 533, 203, 628,   6, 579, 625, 518, 217, 249, 254,\n        599, 131, 140, 448, 555,  40, 139, 258, 146, 512, 459, 479, 419,\n        262, 368, 657,  16,  63, 502, 201,  77, 150,  75, 147, 537, 511,\n        488, 563, 497,  26, 526, 188, 668, 567, 166, 392,  23, 130, 541,\n         47, 243,  14, 316, 481, 143, 461,  31, 665, 323, 271, 596, 163,\n        445, 230, 609, 397, 410, 593, 566, 605, 562,  34, 433, 444, 233,\n        267, 591, 604, 516, 236, 270, 264,  71,  69, 506, 576, 362, 196,\n        255, 375, 223, 545, 239, 342,  35,   8, 195, 353, 359, 335, 503,\n        299, 289, 495, 124,  72,  44, 685, 282, 528,  33,  28, 136,  65,\n        246, 138, 307,  98, 688, 402, 225, 272, 643, 321, 384, 116,   3,\n        345, 581, 208, 202, 412,  22, 568,  18, 554,  12, 436, 308, 339,\n        302, 132, 524,  24, 386, 655, 142,  30, 450, 382, 395, 527,  27,\n         49, 260, 632,  10, 637, 285, 141, 530,  55, 227,  82, 287, 401,\n        213,  59,  86, 209, 177, 266,  41, 144, 517, 315, 403, 170, 532,\n        118, 421, 603, 589, 460, 197,  87, 325, 510, 313, 654, 218, 584,\n        104, 358, 508, 265, 187,  54, 174, 389, 417, 199, 509, 470, 582,\n        440,  81, 280, 544, 263, 108, 248, 294,  78, 332, 437, 405, 519,\n        415, 300, 631, 489, 257, 160, 618, 331,  21, 411, 341, 413, 485,\n         67, 237, 106, 414, 592, 121, 365, 543, 376, 182, 482, 356, 573,\n         38,  95, 644, 328, 626, 367, 198,  74, 296, 189, 439, 647, 229,\n        620, 346, 513, 157, 284,  56, 458, 317, 360,  13, 469, 431,  48,\n        351, 102, 538, 429, 334,  73, 456,  15, 268, 190, 418, 689, 110,\n         89, 443, 306, 337, 487, 468,  20, 120, 624, 207, 327,   9, 211,\n        531, 183, 122,  46, 442, 653,  17,  45, 219, 520, 186, 134, 364,\n        326, 629, 115, 352, 291, 399, 175, 678, 343, 137, 396, 391, 390,\n        504, 330, 370,  91, 423, 425, 178, 234, 507, 372, 354,   4,  92,\n        100, 238,  19, 206,  83, 277, 466, 559, 570, 288, 312, 101, 318,\n        350, 679, 200, 184, 245, 585, 173, 398,  60, 165, 151, 329, 349,\n        309,  42, 680, 432, 608, 659, 297, 179, 261, 304]),\n 27: array([17, 18, 23, 24, 10, 38, 27, 11,  7,  9, 16,  1,  6,  4, 37,  0, 13,\n        29,  3,  8, 34,  5, 31, 28, 20, 47, 46, 25, 12, 41,  2, 19, 21, 22,\n        15, 30, 32, 14, 35, 43, 48, 26, 39, 40, 33, 45, 44, 36, 42, 49]),\n 28: array([3038, 3040, 2922, ..., 2018, 2395, 2917]),\n 29: array([309, 453, 360, 357, 230, 398, 315, 327, 379, 418,  93, 443, 439,\n        437, 330, 307, 263, 239, 340, 393, 345, 353, 228, 365,  46, 258,\n        125,  89,  91, 183, 180, 338, 271, 255, 289, 252, 248, 283, 104,\n         97, 383, 171, 288, 385, 182, 141, 142,  76, 328, 159, 195,  50,\n        231, 234, 151,  86, 298,  81, 140, 139, 323, 229, 149, 150,  71,\n        305, 101,  94, 257,  69, 168, 206, 163, 346,  26, 280, 300, 384,\n        344, 130, 240,  43,  45, 342, 254,  28,  31,  32,  30,  13, 299,\n        450,  77,  95, 100, 369, 189, 137, 433, 136, 210,  44, 313,  25,\n        388, 153, 428, 329, 162, 157, 135, 331, 303, 285, 129, 176, 219,\n        317,  48,  49, 214, 314, 244,  70,  63, 116, 227, 262, 232, 339,\n        413, 268,  68,  72,  67,  65, 293, 296, 238, 253, 177, 337, 277,\n         20, 207,  78, 246, 208, 205,  51, 237,   1, 127, 146,  55, 190,\n        374,  56,  58, 175, 308, 126,  47, 381, 294, 297,  29, 319, 442,\n        181,  75, 203, 343, 166,   3,  61, 259, 260,  84,  74, 131, 152,\n         60,  59, 156,  24,  99, 380, 336, 358,  39, 241, 202,  90, 454,\n        133, 279, 350, 196, 197, 366, 111, 165, 204, 392, 250,  11, 194,\n        445,  23, 368, 193, 249,  85,  82, 243, 242, 334, 186, 272, 426,\n         14,  15, 431, 396, 187, 333, 452,  80, 112, 302,  83, 286, 427,\n        145, 416, 224, 225, 103, 211, 209, 420,  98, 134,  34, 267, 347,\n         79, 119, 154,   4, 107, 451, 236, 173, 191, 301, 264, 320, 278,\n          6, 110, 108, 410, 247,  17,  16,  88, 132, 102, 172, 422, 115,\n        290, 359, 122, 120,  18,  19,  37,  38, 235, 404,  22,   5, 251,\n        218, 395, 200,   8,   7, 364, 179, 121, 123,  52,  33,  27, 170,\n         92,  54, 212, 147,  41,  40, 174, 158, 188, 430, 341, 106, 109,\n        274,  64,  66, 223, 220, 217, 118, 382, 356,  87, 411, 306, 287,\n        113, 324, 322, 291, 438, 292, 412, 160,  96, 201, 266,  73,  53,\n         57, 169, 371, 143, 216, 215, 178, 273, 275, 148, 185, 432, 155,\n        440, 226, 105, 419, 361, 312, 304, 270, 221, 394, 325,  10,   9,\n        321, 326, 375, 318, 354, 378, 449,   2, 425, 435, 316, 372,  12,\n        269, 370, 184,  62,   0, 311, 144, 256,  36, 245, 335, 222, 373,\n         42,  35, 114, 310, 284, 233, 128, 117, 164, 161, 138, 441, 332,\n        399, 192, 282, 281,  21, 415, 367, 276, 124, 265, 295, 213, 429,\n        446, 352, 167, 444, 447, 355, 351, 403, 434, 199, 198, 436, 363,\n        261, 348, 377, 362, 408, 423, 421, 417, 414, 424, 409, 376, 349,\n        389, 397, 400, 402, 405, 406, 407, 401, 391, 386, 390, 448, 387]),\n 30: array([46, 52, 47, 48, 25, 32, 39, 13, 51,  3, 27, 31, 42, 35, 14, 36, 26,\n        38, 50, 41, 29, 16, 37, 40, 34, 30, 28, 44, 17, 21, 43, 22,  6, 23,\n         1, 18, 19, 12, 20, 15,  4,  7, 11,  9, 49,  8,  2, 10, 33,  5,  0,\n        24, 45]),\n 31: array([ 6,  7,  8,  9, 10, 11,  1,  4,  0,  2,  3,  5]),\n 32: array([37, 59, 52, 50, 57, 53, 12, 67, 14,  8, 22, 30, 35, 16, 64, 54, 40,\n        27, 15, 61, 20, 43, 19, 13, 68, 63, 44, 31, 21, 47,  3,  1, 26, 18,\n        45, 28,  6, 32, 36, 49, 33, 46, 56, 29, 58, 42, 62, 23,  0, 38, 25,\n         7, 60, 55,  9, 11, 39, 65, 10, 24,  2, 66, 17, 48,  4, 34, 41, 69,\n        51,  5]),\n 33: array([162, 171, 174, 156, 140, 168, 147, 122, 114,  94,  92, 164, 151,\n         86,  74, 173, 124,  90, 154,  58, 161, 105,  87, 119, 158, 104,\n        172, 146, 112, 116, 149, 142, 137, 107, 127,  37, 120, 121,  77,\n        152,  64,  76,  59,  60, 165,  25,  54,  50, 103,  32,   5, 160,\n         93,  61, 134,  99, 150,  78,  12,  46, 111,  85, 157, 126,  52,\n         73,  72,  68, 128, 170, 133, 167,  57,  42,  63,  36,  80,  23,\n        131,  51,   8,  47,  49,  91, 113,  79,  81,  70,  62,  14, 138,\n        135,  13, 159,  48, 153,  98,  11,  34,  95, 169,  88,  41,   0,\n          9,  67,  71,  56,   2, 117, 144,  33,  96, 109, 100,  20, 141,\n        132,  21, 139, 136,  19, 102,  17, 110,  45,  28,  82,  35,  18,\n         69,   1,  26,  31,  53,  15,  75,  55,  66,  43, 155, 145,  40,\n          4, 101,  30,  16, 129,   6,   7,  65, 130,  29,  39, 123,  83,\n         44,   3,  10,  24, 108,  27, 166,  97,  22, 106, 115, 125, 143,\n         84, 118,  38,  89, 148, 163]),\n 34: array([132,  77, 147, 138, 151,  27, 118,  84,   4,  12,   7,  32,  97,\n         11, 152,  62, 104,  36, 126, 115, 120,  59,  33,   3, 100,  14,\n         13,   2,  18,  94,   9,  48,  38, 107,  86,  65,  21,  22, 116,\n          5,  10,  31,  26,  60,  83, 130,  19, 155,  25, 123,  37,  28,\n        114,  95,  69,  53,  24, 144, 117, 148,  20,   8, 139,  73, 149,\n         99,  42, 102,  98,  70,  92, 135,  54, 133, 145,  56, 141,  51,\n         75, 101, 105, 134, 121, 119,  61, 146,  63, 142, 163,  91,  47,\n        112,  55,  68,  39,  80,  41, 111,  88,  16,  85,  17,  44,  67,\n         93, 113,  74, 122, 153,  81,  66,  40,  64, 150, 127, 143,  23,\n          0, 137, 109,  71,  49,  72,  78,  79, 157,  76,  58,   6,  96,\n         34,  82,  45, 128,   1,  35,  89,  52,  15, 131, 103,  50,  29,\n         46,  30,  43, 140,  57, 125,  87, 108,  90, 124, 106, 136, 161,\n        162, 159, 160, 129, 158, 154, 156, 110]),\n 35: array([307, 277, 335, 305, 303, 319, 284, 306, 232, 279, 330, 320, 221,\n        283, 285, 323, 276, 273, 275, 299, 193, 191, 241, 234, 261, 237,\n        258, 208, 263, 300, 264, 318, 287, 331, 333, 226, 311, 235, 236,\n        332, 227, 214, 189, 316, 266, 239,  49, 336, 271, 244, 183, 199,\n        255, 327, 249, 280, 151, 338, 325, 228, 337, 256, 231, 315, 209,\n        145, 152, 222, 182, 340, 339, 111, 326, 167, 296, 341, 304, 106,\n        149, 317, 295, 324, 157,  88, 131, 125, 220,  56, 212, 248, 268,\n         94, 265,  55, 207, 257, 142, 202, 243, 195, 105, 178,   3, 314,\n        166, 139, 301, 104, 290, 158, 173, 113,  79, 135, 200, 174, 298,\n        245, 143, 160, 240, 117, 246,  46,  60, 114,  39,  97,  90, 130,\n        127,  75, 308, 146, 112, 253, 163, 140, 247,  14, 225, 148, 238,\n        229, 230,  44,  81, 154,  50, 292, 329,  71, 161, 185, 213,  80,\n         51, 217,  82, 260, 223,  11, 216,  96, 291,  74,  78,  43, 121,\n        328,  47, 165, 116,  67, 224, 267, 150, 251, 269, 187,  53, 122,\n         91, 123, 197, 282, 196, 192,  15,  18, 103, 218, 137,  66, 186,\n         19,  13, 184,  33,  25, 147, 108,  37, 233, 132, 289, 180, 138,\n         58,  30, 107, 272,  17, 110,  84,  64, 286, 133,  65,  92, 126,\n         57,  68, 294, 262, 124,  29,  69, 219,  85, 134, 297, 128,  62,\n        322, 215, 203,  89,  10, 205, 242,  87, 155, 181, 313, 169,  93,\n         16, 204, 109, 171,  21, 288,  54,  38, 159,  22, 144,  36, 188,\n        141,  98,  35, 136,   0,  73,   2,  52,   1,  70,  86, 190,   7,\n        302,  59,   5, 100, 321,  76, 175,  26,  77,   8, 129,  31,   9,\n         83,  42,  28,   6, 101, 120,  72, 115, 281, 210,  27, 156, 179,\n        177, 176,  24,  61,  32, 206, 168, 164, 334,  99, 170,  23, 194,\n        118, 252,  48, 102,  45, 172, 278,  41,  95, 201, 153, 211,  34,\n        310, 162,  20,   4,  40, 250, 312, 293,  12, 254,  63, 270, 119,\n        198, 274, 259, 309]),\n 36: array([25, 13, 29, 40, 10,  9, 50, 49, 16, 17, 52, 14,  4,  3,  2,  6, 23,\n        20,  0, 15, 12, 45, 28, 26,  1, 34,  8, 47, 51, 19, 37, 31, 32,  5,\n        30,  7, 36, 18, 48, 11, 43, 27, 53, 24, 22, 21, 44, 46, 38, 41, 33,\n        35, 42, 39]),\n 37: array([4459, 4507, 4202, ..., 2937, 3504, 3843]),\n 38: array([ 98,  99,  90,  89,  91,  45,  74,  96,  84,  40,  69,  63,  72,\n         97,  86,  10,  70,  95,  52,  87,  38,  68,  46,  50,  93,  81,\n         73,  17,  37,  28,  25,  20,  94,  77,  48,  92, 100,  58,  55,\n         82,  34,  88,  78,  36,  35,  18,  32,   3,  66,  27,  41,  14,\n         79,  65,  61,  19,   4,   0,  12,   7,   6,   5,  76,  33,  42,\n         21,   1,  30,   9,   2,  13,  16,   8,  15,  62,  71,  11,  22,\n         47,  31,  60,  54,  39,  59,  23,  57,  29,  85,  80,  75,  83,\n         24,  26,  43,  67,  64,  51,  53,  56,  49,  44]),\n 39: array([366, 351, 357, 325, 264, 370, 363, 280, 364, 310, 361, 322, 319,\n        380, 360, 298, 356, 253, 109, 343, 346, 182, 375, 372, 244, 369,\n        304, 293, 169, 376, 144, 308, 216, 378, 313, 300, 283, 202, 309,\n        353, 381, 145, 189, 278, 317, 368, 242, 312, 190,  91, 155, 204,\n        345, 320, 339, 112, 335, 340,  67, 114,   8, 297, 354,  73, 349,\n        314, 279, 371, 277,  56, 254, 323,  34, 267, 374, 247, 186, 251,\n        249, 294, 129, 365,  53,  82, 260, 158, 215, 269, 233, 228, 199,\n        137,   4, 255, 197,  12, 285, 338, 288, 188, 211,  20, 231, 238,\n        163,  57, 321, 261, 213, 164, 122, 110,  44, 111, 355, 223, 359,\n        344, 373, 207,  78, 336, 175, 173,  98, 180,  15, 133, 224,  46,\n        287,  87, 208, 350, 324, 258, 240, 222, 286, 367, 141, 289, 154,\n        178, 165, 301, 214,   1, 305,  89, 119, 179, 157, 195, 185, 227,\n        252,  29, 187, 276,  52,  86, 220, 230,  54, 333, 194, 331, 117,\n         23, 315, 262, 105, 140, 181, 250, 200,  45, 143,  10,  85,  97,\n        246, 107, 377, 139, 135, 334,  25,  40,  14, 241, 100,  69, 128,\n        174, 256,  79, 176, 153,  88, 237,  37,  95,  13, 225, 209, 332,\n         41,  75, 192, 168,  39, 311, 219, 148,  74, 327, 347,  83, 341,\n        291,  99, 152, 102,  47,  58,  49, 115,   2, 171, 161,  55, 149,\n         60, 318, 136, 131, 193, 239, 303,  68, 123, 138, 142, 266, 120,\n        302,  72, 125, 235, 358, 132, 103, 201, 150,  96,  24, 177,  80,\n         31, 275, 326, 146, 159,  66, 328,   3, 151,   9,   6, 270, 257,\n         27, 248,  11, 130, 124,  90, 234, 221, 108, 379, 337, 299, 217,\n          7, 101, 296, 281, 198, 282, 229, 170,  63,  92, 191,  77, 272,\n        156, 316, 113,  36,  50,  62, 226, 273, 342, 183, 352,  26, 362,\n         93, 210,  70, 147, 243,  42, 206, 172,  18, 218,  35,  19, 292,\n        116,  71, 121,  94,  16, 167,  59, 236, 265,  76, 330, 203, 127,\n        160, 284,   0, 268,  65, 271, 295, 259,  61, 162, 348, 196,  30,\n         21,  32, 274,  51,  81, 104, 106,  28, 205, 134,  33, 184, 382,\n         84, 329,  43,  22, 118, 212, 232,  64, 166, 263,  17, 126, 306,\n         38, 307,   5,  48, 290, 245]),\n 40: array([104, 109,  40,  61,   7, 106,  34,  42,  33,  12,  30,  66,  99,\n         64,  28, 110,  31,  90,  85,  86,  70, 107,  71,  52,   3,   8,\n         77,  17,  19,   4,  26,  37,  79,  87,  10,  97,   9,  82,  39,\n         43,  16,  18,  14,   2, 101, 103, 100,  91,  93,  95,  83, 105,\n         54,  21,  13,  22,  24,  38,  23,  29,  32,  72,  80,  53,  73,\n         36,  46,  44,  65,  58,  75,  35,  69,  96,   1,  78,  15,  57,\n         48,  62,  59,  88,  63,  60,  81,  11,  84,  55,  45,  25,  98,\n         20,  49,  89,  68,  50,   0, 102,  47,  27,  51,  41,  94, 108,\n         67,  92,  74,  76,   6,   5,  56]),\n 41: array([10, 13, 16, 17, 11, 14, 12, 15,  5,  4,  1,  7,  6,  2,  9,  3,  8,\n         0]),\n 42: array([100,  96,  82, 109,  93,  92,  97,  34,  99,  95,  66,  59,  73,\n         85,  86,   5, 108,  84,  57,  65,  20,  75,  72,  28,  12,  91,\n         30,  94,  62,  83,  77,  36,  90,  89,  79,  74,  80,  19,  67,\n         61,  35,  25,  38,  14,   3,   9,  27,  88,  76,  54,  40,  49,\n         50,  51,  52,  56,  47,  46,  44,  53,  41,  39,   1,  78,   6,\n         60,  31,  45,  37,  10,  64,  69,  70,   2,  29,  33,  17,  71,\n          8,   7, 102,  98,  63,  58,  48,  43,  42,  32,  11,  18,  15,\n         24,  55, 107,  81, 111, 101, 103, 104, 105, 106, 110,   4,  68,\n          0,  13,  21,  26,  16,  23,  22,  87]),\n 43: array([223, 218, 162, 192, 222, 219, 195, 206, 220, 194, 181, 204, 123,\n        213, 214, 170, 225, 209, 208,  32, 159, 154, 231, 211, 215, 178,\n        182, 184, 196, 202, 157,  98, 193, 212, 221, 156, 207, 167,  96,\n        177,  66, 144, 201, 230, 197, 164, 155, 172, 130, 226,  49, 173,\n        168, 174,  64,  68, 199, 112, 145, 105, 183, 198,  73,  85, 149,\n        229, 228, 128,  59, 100, 134, 127, 169, 114,  95,  50, 141, 103,\n        136, 166,  86,  22, 153,  75,  12,  76, 175,  14,  56, 232,  36,\n         97, 152, 186, 135,  18, 151,  60, 148,  29,  74,   9, 176,  35,\n        233,  53,  13, 126, 113, 109, 133,  93,  69,  84,  34, 200, 108,\n        150, 179, 129,  51, 131, 116,  72, 180,  88, 187,  65,  92,   3,\n        125, 139,  89, 203,  90,  91,  26, 104,  20, 188,  37,  94, 160,\n         67, 132,   2,  57,  31,  15,  78,  54, 118,  55,  42,  52,  63,\n         70,  27,  83, 216, 138,  81, 185,  77,  48, 161,  17, 158, 163,\n        137, 165,  79, 143, 111, 122,  46, 146, 106, 171,  24, 224,  71,\n         40, 115,   0, 190, 205, 210,   1,  23,  62, 102,  87,  28,  33,\n         25, 189,  44, 217,  58,   4, 121,   8,   5, 124,  30,  21,   6,\n         38, 147,   7,  16,  41, 140,  39, 107, 101,  99,  47,  80, 227,\n         61, 117,  45,  11, 119,  10, 110, 191,  19,  43,  82, 142, 120]),\n 44: array([339, 294, 336, 289, 343, 195, 274, 269, 320, 161,  76,  52, 270,\n        293,  50, 249, 273, 174,  78, 170, 123, 261,  10,  45,  33, 131,\n        124, 148, 315, 122, 337, 168, 160, 256,  19,  85, 243, 175, 179,\n        130,  30,  99, 302, 127, 114,   5, 119, 129, 126, 291,  22, 266,\n        194, 142, 245,  12,  11, 253, 213, 275, 279, 278, 165,  18,  90,\n        155,   8, 265, 198, 257, 204,  59, 191, 214,  92, 264, 272,  26,\n         41, 203, 182, 244, 217, 139, 227, 262,  47, 234,  77, 121, 235,\n          6, 196, 104,  38, 158, 295,  15, 268, 136,  84, 135, 178,  28,\n        202,  53,   9,  67,   7, 190,  51,   4, 205, 199, 140,  75,   1,\n        109, 100, 177, 209,  24, 207,  16,  17, 144,  14,  72,  44, 103,\n        222,  62, 208, 118,  65,  32, 154,  43, 307,  20, 197, 183, 169,\n        251, 327, 116, 200, 331, 341, 187, 215, 340, 106,  27, 248, 221,\n        159, 150, 229, 137,  21, 250, 260,  82,  69, 186,  34, 226, 224,\n        324, 128,  46, 185, 258,   2, 304,  29, 225,  60,  48, 120,  23,\n        167,  79, 112, 184,  68, 153,   3,  93,  63,  58, 151,   0,  42,\n        237,  64,  96, 138,  25,  57, 162,  80, 115,  36, 232, 219, 231,\n        211, 233, 220, 223, 216, 113, 117, 145, 228,  56, 173,  98, 189,\n        125,  91, 143, 342, 156, 246, 171,  73, 193, 206,  31, 141,  54,\n        111, 212,  13,  70, 313,  87, 311, 322, 325, 335, 326,  83, 330,\n        328, 334, 329, 332, 247, 110, 323,  94, 283, 301,  81, 287, 321,\n        316, 318, 309, 317,  40, 108, 286, 300, 299, 281, 305, 303, 312,\n        306,  37, 338, 107, 290, 163, 166, 164,  39, 263, 288, 284, 296,\n        292, 298, 333,  61, 314, 240, 201, 319,  49, 133,  66, 241,  86,\n        102, 105, 308, 230, 297, 176,  74,  97,  88, 267, 252,  95, 152,\n        132, 280, 282,  35, 146, 181, 149, 192,  71, 147, 218, 157,  55,\n        271, 188, 259, 180, 236, 101,  89, 276, 277, 134, 238, 285, 172,\n        210, 242, 310, 254, 255, 239]),\n 45: array([566, 542, 548, 525, 523, 438, 478, 457, 435, 356,  73, 561, 329,\n        308, 448, 365, 385, 336, 569, 372, 350, 319, 143, 422, 480, 437,\n        245, 345, 262, 439, 481, 351, 402, 371, 258, 332, 346, 407, 408,\n        309, 303, 436, 400, 537, 360, 571, 491,  57, 473, 496, 359, 463,\n        295, 253, 482, 211, 384, 524, 340, 170, 490, 169, 203, 267, 383,\n        543, 377, 334, 544,  88, 404, 341, 304, 229, 434, 249, 227, 164,\n        373, 288, 553, 323, 568, 338, 163, 431, 218, 412,  65, 563,  45,\n        139, 339, 291, 363, 310, 558, 182, 214, 420, 447, 499, 387, 314,\n        370, 375, 307, 386, 401, 124, 278, 255, 259, 200,  39, 144, 390,\n        106, 442, 113, 266, 494, 517, 427, 417, 423, 354, 318, 301, 251,\n         21, 208, 311, 317, 271, 221, 424,  75, 570,  31, 263,  60, 104,\n        132, 343, 452, 243, 299,  74, 353, 300, 337, 330, 153, 175, 465,\n        565, 358,   5, 257, 109, 122, 551, 320, 173, 150, 327, 226,   3,\n        185, 133, 199, 269, 421, 287, 555, 283, 103, 380, 247,  28,  29,\n        192, 536, 410, 388, 117, 178, 567, 297, 275, 123, 270, 277,  84,\n         50,  47, 184, 432,   0,  34,  12, 399, 540, 518, 142, 234,  43,\n        539, 293, 564,  18, 527,  68, 280, 335, 483,   2, 273, 446, 176,\n        120, 485, 464, 148, 492, 509, 505, 486, 378, 501, 489, 484, 510,\n        433, 493, 419, 462, 458, 460, 476, 472, 461, 453, 474, 151,  20,\n        468, 459,  44, 167, 156, 366, 213, 210, 498, 152,  62,  63, 233,\n        137,  58,  24, 244, 198,   9, 102,  59,  46, 195, 511, 367,   6,\n        292, 325, 554, 196, 154, 205, 369,  81, 535, 552,  42, 215, 357,\n         94, 225, 355, 443, 239, 197,  36, 241, 207,  86, 394, 108,  15,\n        315, 545,  19, 312, 456, 515, 547, 250, 449, 324, 179, 286,  53,\n        190, 177,  30, 520, 411,  90, 240,   4,  48,  49,  41, 161, 206,\n         37, 477, 115, 127,  79, 140,  70, 274, 413, 403,  99, 220, 362,\n         14, 557, 130, 223,  17, 521, 265, 361,  52, 118, 556,   7, 268,\n        105, 528,  13,  95,  71, 289, 526, 513, 168, 261,  23,  22, 212,\n        236, 191, 209, 276, 416, 285,  61, 149, 497,  10, 264, 101, 376,\n         66, 147,  64, 531, 279, 193, 126, 349, 495,  67, 112, 246,  16,\n         38, 425, 155, 138, 347, 180, 174, 471, 231, 216, 157,  11, 160,\n        238, 187, 224, 426, 429, 342, 368, 290, 141, 145, 450, 475, 533,\n         93,  25,  27, 529, 172, 116, 391, 379, 441, 119, 171, 455, 188,\n        228, 550, 136,  78,  72, 418, 222, 389, 162,  51,  54, 538, 114,\n        470, 189,  83,  40, 235, 183, 260, 503,  97,  85, 194, 284,  69,\n        397, 348, 549, 242, 396, 326,  56, 281, 186, 392, 219,  26, 294,\n        237, 135, 272,   1,  96, 252, 298, 146,  91,  92, 454, 100, 479,\n        111, 296,  89, 131, 430, 534,   8, 181, 166, 305,  82, 110, 129,\n        451, 322,  80, 107,  87, 333, 352, 469, 256, 381, 508, 165, 467,\n        519, 512, 306, 128, 248, 398, 204, 466, 506,  35, 158, 393, 414,\n        487, 500,  55,  32,  33,  98, 444, 316, 374, 134, 504, 502, 488,\n        395, 522, 445, 440, 282, 562, 230, 532, 507, 541, 428, 514, 516,\n        321, 530, 559, 382, 202, 159, 364, 217, 406, 232, 546, 201, 125,\n        409,  77, 313, 302, 415, 121, 328, 405,  76, 254, 344, 331, 560]),\n 46: array([441, 435, 365, 423, 408, 434, 345, 351, 348, 180, 262, 369, 272,\n        419, 354, 313, 310, 428, 398, 407, 352, 200, 368, 325, 432, 239,\n        320, 417, 424, 339, 347, 236, 414, 388, 282, 437, 192, 361, 412,\n        319, 233, 378, 410, 379, 315, 393, 263, 257, 405, 269, 162, 296,\n        430, 231, 174, 136, 225, 395, 331, 409, 318, 383, 251, 309, 297,\n        182, 184, 402,  60, 300, 171, 294, 362, 230, 426, 212, 316, 295,\n        281, 350, 132, 103, 148, 215,  74, 213, 429, 411, 167, 439, 138,\n        115, 170, 335, 193,  41, 330,  53, 202, 105,  16, 326, 139, 290,\n        308, 270, 399, 422, 240, 418,  54, 337, 387, 169, 323,  82, 287,\n        291, 366, 401, 416, 376, 248,  92,  33, 370, 175, 129, 386, 147,\n        133, 367, 128, 130, 150, 306, 406,  97,  19, 181, 183, 400, 112,\n        106, 250,  28, 201, 154, 227, 159, 346, 242, 333, 293, 199, 279,\n        433, 155,  93, 372, 135, 338, 222, 117, 118, 349,  26, 124,  56,\n        425, 356, 273, 221,  44, 403, 189,  50, 163, 359, 220, 224,  34,\n         14, 284, 142,  73, 107, 111,  81,  80, 334,   1, 375, 380, 102,\n         58, 420, 355,  98,   4, 307, 214, 358, 110, 109,  36, 292, 364,\n        126,  57, 321, 104, 186,  61,   0, 274, 302, 389, 207,  20,  66,\n        176,  47, 216, 144,  52, 131, 194,  90,  13, 121,  79,   8,  65,\n        275, 436, 271, 357, 204, 178, 208, 241, 254, 185, 404, 312,  94,\n         86,  51, 228, 195,  30, 173,   9, 305,  17, 415, 373, 158, 280,\n          5,   6, 166,  39, 255, 267, 152,  59, 341, 137,  35,  40,  21,\n         45,  37, 168, 322, 245, 127, 219,   3, 253, 427, 344, 197,  75,\n        143, 161,  77, 317, 218, 223,  78,  22,   2, 114, 385,  31,  32,\n        157, 256, 206, 145, 172, 116, 190, 304, 371,   7, 247, 244, 101,\n        205,  64,  62,  95, 249,  91, 153, 211,  25,  12, 235,  69, 289,\n         46, 303, 122,  27, 229, 413, 252,  42, 237, 125,  83, 108,  15,\n         29, 340, 298, 140,  43, 160, 217,  48, 119, 177, 353, 265,  89,\n        301, 266,  96, 260,  11,  10,  68,  67, 327,  71,  72, 198, 191,\n        277, 288, 234,  24, 381, 438, 311, 134, 232,  23,  49,  87,  88,\n        396,  55, 123, 120, 360, 196,  76, 324, 377, 276, 391, 392, 141,\n         63, 285, 390, 243, 283,  99,  84,  85, 164, 329, 209, 100,  70,\n        188, 187, 151, 165, 278,  38, 246, 268, 238, 332, 259, 314, 156,\n        113, 397, 286,  18, 203, 258, 226, 210, 328, 342, 384, 374, 261,\n        179, 421, 440, 149, 146, 431, 336, 299, 363, 343, 394, 382, 264]),\n 47: array([34, 33, 32, 27, 22, 21, 20, 26, 28, 23, 29, 24, 31, 30, 35, 25, 10,\n         1,  9,  8,  2, 19, 14, 11, 16, 18, 17, 13, 15, 12,  0,  7,  4,  6,\n         3,  5]),\n 48: array([ 57,  43, 104,  30, 105,  69,  71,  63,  22,  78,  45,  67,  65,\n         47,  25,  52,  38,  48, 106,  44,  37, 102,  55,  86,  21,  66,\n         35,  49,  72,  93,  75,  20,  94,  68,  58,  97,   7,  36,  24,\n         56,  51,  31,  16,  42,  76,  92,  87,   4,   9,  23,  98,  77,\n         13,   1,  26,  32,  59,  50,   0,   6,  54,  10,  27,  70,  11,\n         14,  29,   3,  60,  96,  15,  33,   5,  41,  17,  40,  28,  61,\n         83,  62,  39,  12, 101,   8, 103,  80,  99,  19,  81,  89,  34,\n         18,  74,  64,   2,  79,  84,  53,  95,  73,  85,  91,  82,  46,\n         90,  88, 100]),\n 49: array([755, 752, 753, 757, 758, 754, 679, 688, 532, 640, 654, 733, 756,\n        722, 759, 744, 749, 623, 614, 378, 578, 668, 720, 337, 480, 509,\n        695, 396, 353, 628, 667, 566, 576, 443, 619, 716, 694, 575, 527,\n        638, 706, 692, 329, 708, 466, 711, 212, 710, 624, 417, 243, 622,\n        334, 399, 586, 726, 449, 447, 652, 715, 284, 707, 309, 746, 687,\n        507, 346, 709, 483, 599, 646, 742, 671, 347, 577, 584, 732, 634,\n        365, 510, 580, 644, 675, 304, 515, 257, 525, 452, 673, 454, 665,\n        683, 582, 712, 629, 421, 446, 729, 395, 314, 474, 473, 519, 363,\n         84, 505, 558, 594, 641, 661, 456, 189, 186, 279, 273, 445, 589,\n        336, 482, 574, 472, 633, 275, 324, 587, 103, 728,  94, 252, 486,\n        684, 659, 678, 626, 265, 475, 229, 607, 497, 498, 714, 492,   9,\n        176, 398, 642, 604, 234, 375, 717, 191, 560, 506, 555, 549, 261,\n        278, 142, 266, 141, 320,  81, 373, 455, 704, 248, 104, 439, 130,\n        159, 368, 267, 401, 144,  23, 487, 658, 689, 420, 310, 616, 356,\n        387,  46, 565, 677, 686,  44, 153, 703, 696, 700, 697,  78, 637,\n         48, 333, 215, 219, 427, 415, 151, 260, 158, 730, 321,  19, 240,\n         98, 202, 357, 590,  18, 410, 491, 385, 247, 656, 411, 490, 413,\n        249, 134, 131, 285,  96,  37, 529, 517,  22, 533, 518, 358,   5,\n        394, 620, 190, 630, 682, 383, 597, 177, 178, 382,  21, 502, 137,\n        546, 397, 350, 460, 289, 162, 407, 384,  75, 185, 305, 535,  82,\n        371,  88, 360, 479, 523, 389, 348, 100, 545, 106, 731, 345,  83,\n        259,  59,  77, 651, 520,  12, 591, 221,  99, 564, 408, 464, 437,\n        504, 206, 204, 286, 585, 224, 670, 288, 197, 194, 514, 135, 116,\n        270,  38, 595, 414, 457, 369, 617, 739,   8, 245, 748, 123, 119,\n        400, 121, 262, 603, 362, 298, 444, 254, 432,  34, 669, 167, 283,\n        402,  31, 341,  50, 377, 361, 255, 448, 213, 568, 256, 747,  53,\n        317,  56, 152, 208, 571, 724, 391, 611, 750, 232, 237, 351, 218,\n        182, 335, 203, 643, 160, 154,   6, 170, 209, 613, 500,  10, 451,\n        295, 412, 367,  51, 434, 719, 409, 183,   0, 136, 129, 579, 307,\n        175, 342, 251, 299,  65, 217, 561, 745, 223,  67, 735, 331,  69,\n        340,  62,  72,  45, 530, 253, 581,  11, 164, 680,  32, 606, 108,\n        220, 435, 332, 343, 425,  47,  54, 605, 133, 132, 292, 593, 302,\n        201, 355, 403, 588, 601, 725, 140,  43,  97, 458, 430, 258, 539,\n        618, 269,  49,  30, 112,  33,  58, 359, 193,  26, 422, 406,  52,\n        645, 528, 424, 610, 433, 552, 179, 118, 364, 569,  74, 294, 120,\n        148, 743, 125,  41,  42, 513, 538, 734,  24, 339, 318, 625, 701,\n        312, 236, 418, 559, 562, 370,  91, 326, 227, 105, 226, 127, 526,\n        268, 115, 736, 290, 481, 150, 344, 573, 426, 147,  27, 681,  25,\n        297, 635, 225, 325, 380, 128, 244,  55, 556, 214, 705, 386, 655,\n        672, 390, 374,  64, 296, 199, 239,  40, 547, 419, 596, 271, 315,\n        666, 522, 180, 109, 557, 693, 550, 173, 512,  36,  20, 308, 169,\n        101,  66, 146, 156, 274,   1, 238, 685, 690, 114, 718, 211, 149,\n        161, 494, 429, 166,   2, 461, 453, 541, 478,  16, 612, 488, 349,\n         92, 163, 615, 631, 737, 495, 548, 187, 592,  61, 553, 328, 113,\n        570, 338, 139, 122, 428, 291,  35, 468, 441,   4, 583, 155, 534,\n        450, 516, 330,  17,  15, 230, 222, 303, 741, 662, 664, 393, 311,\n        210, 738, 713, 698, 511, 499,  90, 465, 503, 636, 231,  28, 608,\n        281,  57, 352, 293,  29, 537, 436, 195, 663, 379, 501, 508, 609,\n        462,  87, 489, 650,  79, 524, 354, 184,  68, 493, 168, 531, 471,\n        727, 280, 172, 751,  13,  14,  85, 660,  93, 124,  63, 440, 438,\n        469, 632, 721, 485, 521, 171, 442, 542, 647, 327, 188, 233,  39,\n        459, 117, 242, 484,   3, 196, 627, 316, 205, 463, 392,  60, 110,\n        740, 306,  73, 405, 272,   7,  70,  71,  76, 264,  80, 598, 181,\n        476, 282, 388, 653, 372, 250, 241,  89, 323, 174, 138, 366, 676,\n        263, 313, 246, 143,  95, 600, 228, 563, 157, 192, 702, 126, 198,\n        145,  86, 554, 649, 301, 423, 376, 648, 102, 496, 200, 699, 300,\n        674, 723, 431, 543, 381, 602, 544, 287, 235, 416, 165, 404, 639,\n        277, 207, 216, 319, 470, 467, 276, 657, 551, 477, 107, 540, 691,\n        111, 322, 572, 536, 621, 567]),\n 50: array([11,  9,  8,  3, 12,  5,  1,  7, 10,  4,  6,  2, 13, 14,  0]),\n 51: array([323, 403, 429, 440, 423, 285, 441, 358, 224, 427, 384, 428, 447,\n        383, 355, 287, 420, 158, 404, 417, 382, 442, 127, 366, 432, 371,\n        394, 203, 377, 145, 263, 433, 329, 204, 318, 388, 357, 379, 416,\n        359, 435, 247, 110, 343, 430, 301, 235, 244, 327, 242, 103, 434,\n        419, 194, 211, 296, 444,  44, 156, 157, 220, 131, 271, 234, 368,\n        339, 309, 266, 443, 205, 119, 356, 349, 248, 314, 389, 319, 251,\n        436, 195, 219, 292, 324, 360, 245,  31,  30, 152, 116, 213, 279,\n         87,  90, 369, 154, 201, 226, 117, 386, 262,  92, 347, 338, 288,\n        328,  73, 415,  93, 149, 249, 246, 165, 223, 340, 300, 137, 373,\n         41, 237, 306,  13,  11, 115, 370,  36, 374, 212,  49, 341, 253,\n        267,  82,  79, 126,  72,  54, 178,  97,  78, 412, 408,  69,  56,\n        190, 180,  27, 303, 398, 326, 209, 290,  10,  86, 113, 169, 128,\n        192, 276, 134, 196, 381, 197, 120, 308, 351,  50,  47, 437,   9,\n        218, 132, 151, 142, 183, 222, 141, 256, 365, 191, 281, 299,  77,\n        422, 397, 405, 214, 138, 274,  22,  98,  65, 221, 316, 354, 206,\n        133, 146, 182, 350, 376, 239, 413,  66,  70, 399,  12, 147, 310,\n          8,  34,  35,  91, 273, 177,  76, 344,  74, 121,  37, 284,   7,\n        109, 250, 112,  75, 425, 193, 289, 258,  62,  23, 104, 315, 176,\n        179, 208,  94, 392,   5, 153, 202,  89,  85, 410,  45, 345, 216,\n        322,  57, 282, 227,  26, 385,  38, 311, 125, 168, 320,  81, 297,\n        135, 172, 261, 108, 162,  60,  83, 390, 367, 337,  52, 259,  71,\n        136,   6, 166, 171, 348,  96,  14, 407, 240, 139,  99, 278,   1,\n         32,   2,  39,  68, 164, 335,   3, 150, 254, 101,  80, 161, 362,\n          0, 200, 114,  55, 233, 380, 391, 167, 241, 130, 122, 118, 111,\n        100, 185,  46,  51, 184, 402, 375, 361, 229,  29, 283,  28, 325,\n        260, 286, 418, 426, 372,  20, 302, 106, 174,  88,  25,  53, 225,\n         59, 232,  48, 170, 277, 280, 255, 294, 252,  67, 312, 123, 363,\n        160,   4, 159, 395, 330, 105, 144, 181, 334, 129, 421, 342, 228,\n        336, 238, 445, 102,  95, 448, 321, 140,  61,  58, 124, 199, 198,\n        411,  63, 409, 231, 173, 155,  21, 393, 243,  64,  17, 414,  24,\n        163,  43,  42, 401, 186, 364, 270,  16,  15, 175,  18,  19,  40,\n        352, 353, 107, 291, 148,  84, 143, 257,  33, 272, 217, 210, 187,\n        188, 189, 378, 207, 215, 236, 331, 332, 230, 333, 268, 293, 396,\n        275, 438, 305, 307, 298, 387, 295, 265, 431, 313, 304, 406, 264,\n        346, 317, 439, 446, 424, 269, 400]),\n 52: array([ 3, 16,  6, 13,  0,  9, 10, 11, 12,  8,  5,  2,  7,  1,  4, 15, 14]),\n 53: array([87, 89, 81, 88, 86, 80,  8, 17, 62,  7, 65, 84, 60, 26, 77, 72, 76,\n        27, 69,  9, 31, 85, 29, 82, 45, 75, 90, 37, 14,  5, 73, 42, 28, 61,\n        78, 38, 83, 35, 15, 53, 12, 25, 56, 46, 55, 70, 50, 43, 49, 66,  4,\n        67, 41, 71, 33, 10, 13, 11, 57, 79, 52, 30, 39, 23, 74,  0,  6, 48,\n        40, 51, 63,  3, 59, 18, 21, 54, 68, 58, 32,  1, 44, 24,  2, 34, 36,\n        22, 64, 19, 47, 20, 16]),\n 54: array([1157, 1159, 1160, ...,  953,  744,  701]),\n 55: array([32, 30, 33, 11, 12,  9,  6, 29, 28, 31, 22, 20, 19, 26, 23, 13,  8,\n        14,  7,  5, 21, 10, 18, 25, 24,  4, 16, 15, 17,  0,  3, 27, 34,  2,\n         1]),\n 56: array([1104, 1099, 1107, ...,  840,  909,  862]),\n 57: array([482, 477, 589, 524, 561, 564, 566, 462, 386, 494, 348, 571, 576,\n        518, 315, 376, 573, 484, 503, 323, 581, 574, 559, 584, 586, 502,\n        545, 483, 579, 519, 270, 208, 557, 417, 560, 370, 540, 472, 263,\n        253, 456, 307, 459, 527, 552, 339, 507, 567, 382, 568, 535, 350,\n        565, 550, 569, 489, 377, 304, 587, 588, 590, 556, 538, 577, 541,\n        506, 539, 591, 241, 529, 570, 226, 544, 501, 572, 490, 553, 257,\n        379, 582, 497, 505, 523, 428, 580, 508, 378, 387, 509, 254, 318,\n        488, 583, 424, 419, 298, 281, 476, 407, 558, 403, 261, 443, 578,\n        514, 555, 542, 522, 516, 480, 549, 432, 500, 575, 525, 562, 536,\n        385, 464, 511, 252, 373, 585, 465, 446, 330, 493, 457, 492, 537,\n        517, 498, 532, 203, 404, 499, 440, 487, 408, 402, 216, 452, 530,\n        264, 134, 213, 320, 262, 224, 521, 547, 159, 369, 393, 150, 295,\n        371, 510, 520, 438, 526, 397, 306, 149, 431, 187, 495, 458, 481,\n        332, 356, 455, 534, 475, 258, 423, 244, 401, 491, 300, 448, 422,\n        353,  61, 238, 405, 250, 389, 290, 176, 190, 415, 296, 291, 469,\n        249, 546, 144, 381, 420, 173, 225,  66, 444, 471, 478, 292, 285,\n        162, 416, 496, 390, 335,  74, 211, 140, 436, 513, 375, 293, 191,\n        202, 109, 246, 280, 435, 327, 286, 138, 169, 425, 155, 301, 372,\n        188,  75, 328, 460, 289, 282, 151, 172, 313, 548, 141, 156, 551,\n        365, 269, 326,  82, 442, 147, 118, 400, 287, 305, 515,  52, 453,\n        245,  28, 445, 125,  73, 399, 418, 322, 447, 248, 470, 288, 467,\n        198, 215, 413,  42, 120, 104, 179, 114, 276, 214, 234, 430, 267,\n        391, 359, 340, 427, 533, 181, 284, 163, 283, 362, 321, 127, 239,\n        388, 563, 345, 128,   3, 139, 434, 110,  91,  87, 406, 199, 272,\n         38, 126, 468, 309, 158, 479, 414,  94,  43, 531,  23,  22, 275,\n        279, 186,  92, 102, 106, 360, 255,  59, 463, 119,   7, 205,  90,\n        178, 485, 142, 229,  21, 396, 334,   9, 398, 303, 341, 171,  83,\n        429,  12, 153,  69, 116, 504, 311, 325,  17, 212, 130,  41, 368,\n        473, 343, 474,  62, 247, 133, 166, 145,  72, 395, 271, 426, 346,\n        177, 152,  55, 314, 333,  47, 394, 175,  27, 192, 454, 451, 121,\n        466, 200, 217, 143,  29, 366,   4,  77, 235, 302,  24, 273,  67,\n        228, 354, 256, 174, 243, 297, 196,   1,  85, 486,  58, 182, 384,\n          8, 242,  60,  70,  44, 347, 148, 433,  33, 274, 324, 123, 194,\n         79,  64, 210, 449,  46, 437,  10,  78,  68, 331,  84, 112,  31,\n         80, 512, 338, 232,  88, 233,  36, 222, 383, 227,  40, 294,  57,\n        231, 308, 357, 312, 154, 101,  45, 195, 236, 124, 265,  35, 441,\n        342, 218,  39, 168,  76, 107,   2, 450,  63, 184, 230, 240,   6,\n        193, 412, 299, 344,  97, 355,  96, 277,  93, 543, 131,  65,  99,\n        170, 103, 204, 361,  16,  14,  54,  13,  26, 411, 117,  30, 137,\n        410,  98,  50, 185, 316,  95, 220, 409,  89,  19, 115,   5,  15,\n        268, 266, 221, 100,  48, 157, 206, 528, 209, 201, 329, 380, 223,\n        278, 189,  32, 259, 136,  53, 180,  81, 111,  25,  37, 392, 161,\n        374, 105, 165,  34, 132, 337, 160, 237, 129, 146, 439,  71,  56,\n        554, 349, 363,  11, 167, 219, 135,  49, 351, 364, 461, 251,  18,\n        310, 319,  20, 358,  86, 122,  51, 197, 207, 108, 352,   0, 317,\n        367, 421, 260, 336, 113, 183, 164]),\n 58: array([12, 18, 14, 16, 10, 11,  5,  7, 17,  8,  0,  2, 20,  1,  9, 19,  6,\n         3,  4, 13, 15]),\n 59: array([197, 189, 180, 174, 145, 137, 143, 139, 146, 192, 135, 188, 140,\n        127, 164, 167, 144, 138, 183, 136, 191, 157, 131, 168, 166, 193,\n         83, 172, 150, 194, 171, 175, 190,  42, 155, 159, 154, 182, 165,\n        132, 153, 161, 178, 148, 128,  99, 181, 160, 151,  93,   7, 130,\n        110, 125, 186, 111,  74, 149, 129, 104, 123,   5, 187, 133, 120,\n         78,  95, 185,  98,  75,   1, 119, 147, 184, 142,  49, 152, 121,\n         67, 122, 100, 177,  96,  17, 124, 134,   0, 103,   8, 126, 173,\n         29,  24,   6,  54, 195,  61, 116, 109,  68, 107,  10,  80, 196,\n         76,  11,  97, 117,  46,  47,  12, 101,  60, 105, 114,  94,  66,\n         45,  48,  35,  31,  88,  37, 112,  13,  79, 118,  20,  32,  30,\n        141,  14,  33,  64,  34,  36,  16,  15,  69,  22,  21,  23, 156,\n        106, 102, 115,  50, 113,   2,  27,  28,   3,  53,  63,  57,  92,\n        169,  73,  39,   9, 108,  38,  91,  89,  82,  43,  59,  71,  52,\n         62,  58,  65,  56,  90,  40,  87,  44,  72,  41, 163,  70,  25,\n         55,   4,  19,  26, 170,  18, 158,  84,  86,  81,  77,  85,  51,\n        162, 176, 179]),\n 60: array([124, 129, 126,  78, 137, 138,  93, 101,  25,  28,  24, 128, 115,\n        116, 106,  99,  42,  41,  40, 121, 144, 123,  56, 108,  69,  70,\n         71, 132, 134,  94, 102, 133,  20, 130,   9,  46,  47, 139, 141,\n        135, 117,  54,  61,  11,  10,  96,  13,  85,  45,  50,  30,  72,\n         82,  77,  51,  90,  16,  17,  52,  31,  32,  33, 125,  86,  14,\n         55, 122,  88,   2,   3, 143, 142,  76,   4,  15,  21,  22,  57,\n         87, 109, 110,  63,  59, 113,  29, 127, 104,  91,  95,  35,  79,\n         97, 136,  89,  19,  18,  62,  84,  23,  74,  60, 111,  64,  26,\n         65,  39,  38,  12,  73, 103,  66,   5,  53,  34,  36,   0,  92,\n         81,  43, 131, 112,  27,  98,   8,  68,  37,  58,  44, 118,  83,\n         75,   1, 119, 107, 105, 140,  49,  48, 145,  67,  80, 114, 100,\n          7,   6, 120]),\n 61: array([ 8, 17,  9,  3,  5, 10,  7,  2, 13, 12, 27, 26, 25, 21,  1, 14, 23,\n        22, 20, 29, 18, 16, 15, 28, 24, 19,  4,  0, 11,  6]),\n 62: array([154, 173, 153, 146, 105, 178,  52, 174,  87, 169, 177, 115, 170,\n        119, 160,  56,  65,  16, 103, 157,  55, 123, 159, 134, 171, 175,\n         38,  10,   2,  30,  88, 111,  24,  66,  69,   9,  42,  71,  19,\n        176,  48,  95, 152,  64,  20,  60,  61, 133, 161, 165,  74,  27,\n        130, 104,  58, 132,  91,  96, 125,   5,  35,  90,  93,  29,  33,\n         94,  23,  15,  14, 116,  44,  13,  78,  80,  39,  59, 158, 149,\n        156, 150,   6,  72,  49,  28, 106,  32,  43,   4, 108,  53,  97,\n         86,  73,  76, 120, 102,  25, 118,  63,  99,  50,   3,  51,  68,\n         98,  67,  34,  41,   0,  47, 145,  31, 151,   1, 140,  75,  40,\n         22, 155, 148, 124, 129, 168,  83, 167,  36,  26, 121,  18,  92,\n         82,   7,   8,  57, 172, 131, 101,  12,  84,  62,  45, 143,  54,\n        135, 141, 136, 137, 139, 110,  77,  89, 117, 162, 138, 122,  46,\n        164,  11, 147, 144, 142, 163,  37,  85, 128, 109, 107, 126,  70,\n        100,  81, 113, 112,  79,  17,  21, 127, 114, 166]),\n 63: array([ 8, 12, 15, 14,  2,  7, 13, 10, 11,  4,  5,  3,  9,  0,  1,  6, 16]),\n 64: array([234, 240, 238, 239, 138, 126, 127, 137, 114, 164,  43, 153, 161,\n        188, 160, 237,  61,  66, 190, 194, 129, 141, 128, 140, 135, 124,\n        139, 132, 123, 144,  58, 147, 148, 143, 145, 146, 150, 149, 134,\n        236, 170, 225,  37,  36,  33,  34,  32,  35, 212, 131, 142, 136,\n        133,  64,  28, 166,  71,  76,  26,  31,  27,  30,  29,  65,  75,\n         60,  18,  19,  20,  21,  51,  22,  24,  23, 230, 171,  67, 174,\n         85, 175,  44, 187, 118, 178, 116, 156, 182, 218,  59,  62, 117,\n        130, 121, 115, 112, 233, 120, 122, 119, 113, 111,  73,  72,  74,\n        103, 104, 110,  68, 223, 163,  42, 183,   9,  10, 172,  13,  12,\n         25, 154, 108, 152, 209,  14,  17,  16,  15, 235,  11,  82,  81,\n        100,  69, 203, 179, 229,  78, 193,   0,   1,   2, 157,  77,   3,\n          5,   4,   6,   7,   8,  39, 102, 101,  83, 228, 107, 106, 105,\n        109,  57,  53,  55,  56,  45, 205,  46,  54,  50,  48,  70,  38,\n         40,  52,  49,  91,  95,  94, 226,  41,  98,  97,  99,  92,  90,\n         96,  93, 155,  63, 184, 208,  88,  87,  89,  86, 221, 216, 199,\n         79, 125, 192, 189, 176, 219, 222, 204, 195, 181, 207, 206, 198,\n        201, 217, 210, 196, 200, 214, 202, 215, 186, 197, 220, 151,  80,\n        213, 177,  47, 224, 191,  84, 185, 211, 168, 169, 159, 162, 165,\n        180, 167, 232, 227, 231, 173, 158]),\n 65: array([34, 10,  5, 32, 42, 27, 49, 23, 39, 35, 37, 44, 38, 25, 13, 47, 24,\n         6, 48, 50, 41, 20, 36, 31,  1,  0, 28, 17,  7, 12, 26, 22, 33, 21,\n         9, 19, 11,  2,  4,  3, 40, 18, 29, 30, 43, 45, 14, 46, 16, 15,  8]),\n 66: array([11,  2, 13,  4,  6,  8, 12,  9,  7,  3, 10,  0,  5,  1]),\n 67: array([ 6,  1,  7,  0,  3,  8,  2, 13, 11, 12,  9, 10,  4,  5]),\n 68: array([ 9, 10, 11, 12,  0,  2,  3,  4,  5,  6,  7,  8,  1]),\n 69: array([8619, 8618, 8598, ..., 7476, 6309, 7951]),\n 70: array([35, 38, 33, 36, 44, 37, 41, 39, 43, 18, 15, 34, 40, 16, 12,  6, 29,\n        50,  4, 17,  0,  1,  3, 23,  2, 14, 30, 32, 31, 11, 19, 28,  9, 24,\n         7, 10, 20,  8, 48, 27, 25,  5, 45, 21, 26, 22, 49, 13, 42, 46, 47]),\n 71: array([ 0,  1,  2,  3,  4,  5,  6,  7,  8,  9, 10]),\n 72: array([ 1,  3,  9, 10,  8,  2,  7,  4,  5,  6, 11,  0]),\n 73: array([6, 4, 0, 5, 2, 1, 3, 7]),\n 74: array([66, 65, 63, 35, 59, 41, 61, 10, 31, 37, 42, 22, 20, 48, 30, 29, 16,\n        24, 64, 14, 57, 13, 17,  1, 19, 62, 34,  5, 36,  4,  0, 27, 46, 60,\n        58, 23, 15, 11, 12, 40, 45, 32, 39, 56, 18, 33, 49, 51, 55, 43, 50,\n         7,  3, 53, 54, 28,  8, 25, 44,  9,  2,  6, 67, 38, 21, 47, 52, 26]),\n 75: array([ 0,  8, 16, 11, 19,  2,  7, 12,  5, 13, 15, 18,  1,  6, 17, 20, 14,\n         3,  9,  4, 10]),\n 76: array([ 92, 102,  42, 134,  43,  98,  94, 103,  99,  63, 118, 119, 115,\n        113, 123,  36, 112,  68,  71,  79,  69,  83,  81,  46, 106,  45,\n         95,  90,  39, 114,  44,  96,  28, 124,  51, 136,  54,  50,  31,\n         32,  35,  34,  33,  30,  53,  47,  48,   4,  40, 105,   6,  11,\n          1,  27,  23,  22,  21,  16,  19,  17,  18,  24,   3,   2,  74,\n         78,  26, 107,  64,  70,  60,  55,  76, 110,  89, 109, 138,  57,\n         67, 135, 131,  49,  14,   0,   5, 137, 100,  20,   7,  12,  13,\n          9,  38, 121,  52, 104, 111,  59,  82,  84,  75,  91,  73,  80,\n         93,  66,  61,  56,  72,  77,  58, 120, 122, 129,  97,  88,  85,\n        139, 126, 125,  29, 128,  37, 117, 127, 116, 130,  86,  65, 101,\n         87, 133, 132,  41, 108,  62,   8,  10,  25,  15]),\n 77: array([137,  31,  61,   2,  62,  36,  53, 133, 132, 138,   6,  42, 131,\n         41,  10,  65, 112,  25,  21,  20,  15, 101, 124, 126, 120,   9,\n        102, 103, 106, 110, 111,   0,  77,  39,  47,  72,  48,  46,  30,\n         16,  60,   4,  55,  70,   5, 114,  43, 125,   8,   1,  80,  97,\n        119,  44,  56,  11,  13, 116, 117,  40, 128,  17,  89, 109, 122,\n        104,  99,  68, 113, 123,  37,  12, 108,  32,  35,  81,   3, 107,\n         18, 135,  38,  79,   7,  24,  19,  51,  67,  95,  45,  82,  76,\n         93,  63,  26,  28, 127,  29,  34,  23,  85,  90,  49,  52,  73,\n         75,  22, 105,  96,  92,  69, 129,  27,  57, 100,  33,  87,  94,\n         71,  84,  14, 121, 136,  88,  98,  58,  50,  64,  74, 115,  78,\n         83,  66,  59,  91,  54,  86, 134, 118, 130]),\n 78: array([759, 682, 778, 627, 696, 739, 583, 451, 762, 660, 745, 638, 704,\n        740, 768, 748, 505, 570, 755, 561, 458, 684, 604, 609, 462, 541,\n        713, 508, 712, 670, 730, 731, 615, 766, 770, 728, 790, 685, 648,\n        543, 435, 229, 504, 723, 121, 562, 331, 390, 534, 404, 503, 185,\n        427, 481, 342, 734, 448, 737, 729, 732, 719, 738, 726, 467, 450,\n        308, 495, 310, 464, 472, 517, 159, 547, 194, 439, 721, 582, 537,\n        463, 417, 710, 232, 343, 680, 452, 683, 706, 727, 649, 601, 200,\n        423, 752, 750, 764, 771, 760, 743, 746, 758, 564, 352, 636, 482,\n        307, 186, 292, 702, 459, 445, 415, 394, 720, 336, 424, 578, 502,\n        705, 747, 757, 756, 744, 334, 741, 767, 742, 769, 724, 408, 398,\n        722, 718, 409, 630, 471, 693, 701, 689, 414, 379, 354, 519, 523,\n        274, 608, 293, 559, 153, 278, 497, 575, 551, 226, 456, 499, 513,\n        552, 154,  53, 152, 374, 447, 217, 227, 569, 164, 228, 145, 676,\n        365, 250, 146, 257, 708, 507, 715, 716, 590, 690,   6, 224, 714,\n        198, 607, 512, 285, 148, 546, 498, 271, 312, 372, 536, 611,  44,\n        573, 639, 671,  26, 476, 195,  92, 437, 366, 364, 383, 388, 356,\n        389, 355, 531, 339, 673, 385, 700, 694, 429, 353, 218, 486, 280,\n        677,  36, 545, 695, 675, 299, 761, 754, 763, 765, 751, 290, 378,\n        662, 674, 500, 156, 679,  34, 646, 304,  47, 587, 177, 603, 341,\n        373, 697, 703, 333, 105, 303, 428, 749, 753, 591, 433, 542, 348,\n        532, 709, 493, 174, 397, 401, 440, 242, 641, 237, 298, 594, 205,\n        208, 288, 735, 645, 403, 320, 399, 411, 405, 306, 526, 369, 699,\n        491, 277, 143, 256, 191, 644, 580, 117, 118, 577, 558, 430, 711,\n        474, 131, 625, 346, 190, 457,  80, 386, 555, 633,  86, 510,   7,\n         58, 120, 183,  41, 284, 629, 576, 221, 215, 204, 347,  55, 533,\n        665, 667, 659, 442, 593, 654, 656, 102, 371, 138,   1, 436, 664,\n        717, 707, 207, 657, 666, 669, 653, 316, 518, 655, 111,  61, 133,\n        263, 483, 360, 158, 478, 178, 574, 455, 540, 281,  35, 432,  32,\n        134,  38, 302, 238,  29, 155, 506, 475,  64, 579,  76, 330,  33,\n         60, 114,  51,  22,  20, 110, 324, 107, 568,  70, 124, 125, 295,\n        214,  88, 297,  56, 367, 613, 619, 188, 327, 548, 108,  52, 317,\n        584, 605, 241, 129, 515, 598, 686, 419, 376,  59,   9, 115, 672,\n        361, 678, 160, 725, 282,  79,  50, 494,  48, 162, 736, 344, 514,\n         97, 628, 406, 692,  54, 650,  57, 687, 264, 635, 315,  46, 210,\n        461, 246, 560, 266, 201, 525,  68,  75, 100,  89, 192, 479, 233,\n        141,  21,  23,  94, 219, 362,   8, 322, 286, 640, 167,  90, 351,\n        230,  74, 488, 211,  77,  72,  71,  91,  99, 416,  85,  84,  43,\n        391, 368, 381, 468, 477,  42,  37, 101, 112, 175, 651,   4, 384,\n        400, 469, 571, 412, 240, 599, 454, 291, 496, 698,  15, 600,  73,\n        422,   0,  18, 395, 634,  67,  83, 328, 251, 273, 128, 621, 624,\n          2,  17,  19, 632, 268, 444, 618, 176, 245, 402, 113, 203, 612,\n        487, 130,  81, 595, 484,  82, 446, 527, 622, 524, 179, 617, 407,\n        168, 392, 253, 126, 184, 626, 335, 631, 431, 535, 610,  49, 140,\n        370,   5, 529, 329, 643, 485,  28, 289, 509, 305,  45, 382, 262,\n         12,  87,  24, 565, 287, 592, 294, 688, 275, 489, 220, 202, 225,\n        425, 149, 265,  14,  13, 566, 586, 358,  95, 326, 180,  31, 213,\n        193, 196, 597, 323, 554, 267, 563,   3, 236, 596,  25,  27, 553,\n        234, 350, 557, 473, 163, 206, 136, 161, 157,  66, 465, 252, 170,\n        231, 772, 104, 516,  30, 172, 258,  16, 116, 189, 691, 223, 588,\n        466, 380, 642, 787, 784, 338, 788, 785, 781, 345, 276, 786, 782,\n        789, 774, 783, 775, 776, 171, 780, 773, 777, 779, 733, 283, 480,\n        538, 520, 530, 539, 528, 550, 521, 313, 357, 235,  98, 144, 261,\n         40, 637, 249, 393,  96, 522, 181, 199, 340, 396, 668, 301, 248,\n        165, 269, 296, 127, 501, 244, 375, 243, 123, 122, 260, 103, 413,\n        311,  63,  62,  10,  11, 460,  65, 106, 109, 420, 616, 197, 272,\n        137,  39, 470, 387, 254, 222, 614, 453, 441, 438, 239, 279, 300,\n        490, 209, 187, 119, 169, 623, 212, 166, 549, 309, 321, 142, 589,\n        259, 585, 443, 434, 544, 270, 332, 173, 147, 606,  69, 255, 182,\n        247, 426, 319, 556,  78, 661, 150,  93, 314, 418, 377, 135, 318,\n        139, 511, 492, 349, 132, 681, 581, 449, 151, 325, 602, 567, 359,\n        337, 363, 410, 421, 216, 658, 663, 572, 652, 647, 620]),\n 79: array([12, 15,  8,  3,  4,  5, 19, 24,  1,  6, 16, 17,  0, 13, 18, 20, 25,\n        22, 10, 11, 29, 21, 14, 31,  2, 28,  9, 26, 27, 23,  7, 30]),\n 80: array([11, 10,  1, 15,  0, 13,  2, 18,  8,  3,  4,  7, 16,  5, 19, 14,  9,\n        12, 17,  6, 20]),\n 81: array([109, 107,  84, 103,  59,  10,  13,  92, 101, 106,  54,  89,  76,\n         74,  62,  98,  57,   6,  61,  88,  91,  26,  81,  69,  42,  96,\n         20,  33,   5,  79,  99,  40,  39, 104,   9,  78,  44,  53,  65,\n         22, 108,  55,  41,   1,  94,  23, 100,  16,  18,  52,  38,  37,\n         63,  80,  93,  34,  32,  83,  17,  48,  31,  95,  71,  15,  43,\n         29,   4,  46,  11,  66,  21,  25,  50,  30,  87,  73,  97,  67,\n         28,   3,  72,  36,  86,  70,  82,  12,  45,  75,  60,  85,   8,\n          7,  77,  14,  27,  19,  68,  56,  47, 102,   2,  51,  49,  58,\n         24,  64,  35,  90,   0, 105]),\n 82: array([16, 18,  9, 31, 30, 27,  8, 28, 25, 26,  5, 15, 17, 20,  4, 29, 13,\n        10, 19, 11,  7,  1, 12, 14,  2,  6, 21, 22,  0,  3, 32, 23, 24]),\n 83: array([199, 246, 269, 273, 234, 270, 211, 260, 250, 238,  84, 258, 229,\n        245, 254, 136, 236, 226, 268, 105, 106, 193, 210, 177, 142,  28,\n         36, 115, 192,  31, 181,  71, 240,  47, 180, 146,  88, 183, 206,\n         12, 121,  62,   4, 154,  75,   5, 186,  14, 219,  86,  66, 213,\n        235,  16, 195, 191, 223, 167, 243,   2,  23,  29, 143, 157,  10,\n        112, 178,   3,  37,   1,  11, 207, 200, 182,  19, 113,  32, 276,\n         48,  22, 265, 198, 122,  20, 166, 102,   9,  50,  45, 252, 233,\n         57, 161,  33, 137, 197, 170, 111, 255,  85,   6,   7,  35, 249,\n         13, 130, 128,  42, 188, 141, 150,  43, 203, 251, 209, 120,  67,\n        100,   8,  26,  54, 227, 109, 152,  76, 139,  53,  52,  81, 171,\n         69, 165,  82,  41, 202,  98,  89,  30, 222, 118, 253, 266, 163,\n         39, 164,  79,  80,  63,  97, 126,  21,  17,  25, 184, 159, 194,\n         59,  15, 117,  27, 110,  38, 147,  18, 214, 228,  96, 125,  87,\n        230,  46, 257,  93,  56, 216,  78, 169,  55,  99,  34, 138,  40,\n        262, 114, 103, 101,  74,  24, 217,  61, 132, 158, 135, 242, 145,\n        144, 127, 237, 261,  60, 272,  68,  65, 244,  64, 224,  73, 133,\n          0, 185,  90,  91, 175,  51, 151,  94,  44, 212,  72, 108, 131,\n         70, 160, 124, 241, 267, 129,  77, 204, 231, 119, 187, 271,  49,\n        149, 263, 156, 104, 201, 218, 172, 248, 134, 208, 215, 123,  83,\n        239, 274, 189, 225, 196, 162,  58, 153, 176, 116, 168, 148, 275,\n         92, 190, 259, 174,  95, 221, 205, 155, 247, 256, 107, 140, 173,\n        179, 264, 232, 220]),\n 84: array([58, 63, 47, 53, 44, 48, 55,  7, 46, 41, 57, 51, 56, 16, 31, 35,  6,\n        10,  9, 37, 11, 22,  8, 36,  0, 28, 17, 54, 24, 43, 29, 26, 39, 32,\n        25, 20, 19, 12, 42, 23, 38, 33, 60, 40,  3,  1,  2,  4, 15, 52,  5,\n        14, 13, 49, 61, 18, 59, 30, 50, 27, 34, 62, 21, 45]),\n 85: array([17,  5,  8,  0,  4,  6,  7, 16, 14, 11, 15,  3,  1,  9, 13, 12, 10,\n         2]),\n 86: array([23, 39, 36, 24, 42, 29, 41, 33, 27, 43, 31, 44, 35, 30, 15, 46, 16,\n        19, 20, 38, 17, 34, 37, 40, 26, 25, 32, 28, 45, 22, 14, 21, 18, 13,\n        12,  6,  9,  7, 10, 11,  8,  4,  2,  1,  3,  5,  0]),\n 87: array([ 1,  2,  6,  0,  9, 17, 12, 13, 14, 15, 16, 18, 10, 11,  8,  7,  5,\n         3,  4]),\n 88: array([474, 472, 473, 460, 467, 470, 434, 446, 442, 459, 468, 456, 438,\n        458, 443, 380, 461, 328, 409, 457, 370, 428, 375, 386, 464, 452,\n        416, 313, 400, 422, 449, 451, 321, 417, 363, 408, 202, 266, 398,\n        357, 414, 237, 291,  49, 462, 298, 276, 319, 191, 407, 341, 405,\n        466, 384, 382, 418, 209, 397, 330, 424, 360, 404, 247, 163, 402,\n        236, 399, 395, 303, 116,  53, 352, 290, 383, 469, 329, 185, 199,\n        431, 269, 184, 187, 425, 198, 372, 114, 378, 355, 454, 162, 169,\n        125, 437, 391, 138, 441, 392, 455,  94, 272, 153, 420,  87, 225,\n        263, 401, 128,  99, 371,  21,  45, 436, 348, 285, 155, 377, 365,\n        166,  76,  85, 255, 369, 448, 433, 427, 142, 193, 413, 463, 381,\n        148, 115, 376, 294, 103, 157, 351, 293, 192, 176, 423, 331, 362,\n         98, 196, 388, 210, 109, 119, 173, 282, 374, 440, 220, 334, 122,\n        275, 283,  91, 262, 108, 121, 312, 412, 317, 356, 342, 111, 203,\n        318, 288, 350, 223,  57, 118, 139, 268, 182, 226,  92, 387, 305,\n        219, 216, 394, 253,  63, 354,  69, 286, 320, 411, 300,  60, 439,\n        102,  79, 306,  34,  52, 151, 231, 257, 171, 141,  37, 364,  16,\n         14,  42, 168, 359, 224,  66, 292, 215, 208, 346, 289, 432, 445,\n        450, 430, 133,  97, 230, 314, 107,  65, 256, 222, 393, 112, 299,\n        358, 228, 232,  39,  58, 336, 261, 186,  56, 175,  73,  32, 135,\n        188, 453, 101, 295,  82,  75, 403, 326, 337, 264, 270, 113, 345,\n        379,  59, 385, 200, 130, 279, 178,  31,  22,   0,  48, 322,  93,\n        410,  20, 273, 243, 201, 214, 197,  62,  64, 421, 304,  15,  84,\n         41, 239, 156, 368,  95, 164, 338, 444, 265, 278, 347,  72, 297,\n         71, 281, 221, 308, 284,  35,  27, 335, 126, 390, 158, 149, 260,\n         89, 104, 124, 233, 105, 307, 137, 447,  36,  38, 343, 180, 213,\n        131,  67,  46, 234,  18, 373,   4,  23,  30,  74,  12,  24, 471,\n        238, 271,  29,  70, 316,  96, 251,  44, 140, 280, 396, 310, 367,\n        145, 204,   5, 100, 212,   6, 250,  78,  28, 170, 161, 339, 324,\n        315,   3, 353, 117, 323, 229, 190,   2, 248, 258,   1, 136,  54,\n         80, 277, 254, 159, 147, 267, 332, 218, 240,  10, 174,  61, 245,\n        242, 143,  33, 426,  83, 134, 211, 181,  88,  26, 217, 274,  77,\n        179, 132, 301,  55, 309, 146, 361,  19, 333,   8, 123, 165, 129,\n        415,   9, 406, 150, 172,  81, 241, 366, 194,  50, 120, 302, 349,\n        152, 389,  11, 127, 206, 235, 167, 246,  68, 419,  40, 144,  47,\n        296, 429,  17, 154, 259,  25, 344,  51, 227, 207,  90, 327, 287,\n        106, 160, 177,  86,   7,  13, 205, 249, 110, 325, 435, 252, 340,\n         43, 244, 183, 311, 189, 465, 195]),\n 89: array([14,  7, 69, 60, 21, 70, 54, 73, 63, 53, 68, 41, 11, 64, 43, 51, 36,\n        49, 42, 58, 23, 33, 28, 44, 55, 29, 16, 25, 61,  0, 35, 31, 67, 40,\n         3, 52,  5, 62, 72, 26, 32, 18, 10, 57,  1, 46, 48,  4, 39, 13, 66,\n         2, 24,  9,  6,  8, 71, 47, 65, 22, 37, 45, 15, 38, 34, 27, 19, 20,\n        59, 56, 12, 17, 30, 50]),\n 90: array([ 6, 11,  8, 10,  7,  9,  5,  2,  3,  0,  4,  1]),\n 91: array([610, 569, 404, 647, 600, 565, 292, 559, 639, 316, 571, 648, 550,\n        607, 448, 566, 608, 454, 488, 220, 258, 535, 646, 271, 420, 538,\n        521, 592, 233, 596, 333, 570, 476, 453, 223, 381, 575, 451, 388,\n        612, 611, 540, 534, 568, 255, 252, 327, 369, 643, 254,  41, 108,\n        149, 263, 304, 412, 579, 328, 491, 509, 598, 311, 334, 351, 244,\n        507, 354, 171, 542, 413, 478, 434, 297, 586, 279, 582, 246, 248,\n        295, 287, 597, 609, 431, 424, 353, 116,  31, 526, 201, 367, 114,\n        546, 196, 485, 465, 529, 561, 617, 468, 193,  64, 259, 261, 624,\n        268, 256, 514, 155, 153, 504, 166, 165, 383, 370, 128, 505, 249,\n        300, 250, 301, 490, 497, 207, 315, 148,  77, 150, 380, 245, 340,\n        318,  91,  94,  63,  73, 314, 305, 319, 172, 587, 481, 480, 377,\n        455, 599, 583, 584, 185, 462,  80,  43, 101,  13, 371, 239, 414,\n        418, 235, 555,  55,  19, 219, 460, 452, 530, 441, 393, 361, 447,\n        552, 567, 591, 189, 355, 275, 291, 174, 359, 182, 183, 202, 181,\n        362, 464, 242, 290, 409, 227, 286, 348, 564, 492, 554,  56, 473,\n        176, 430,  71, 229, 228, 331, 531, 493, 129, 499, 466, 109, 440,\n         69, 640, 278, 134, 130, 142, 273, 623,  52,  32, 173,  78,  61,\n        629,  84, 277, 217, 628, 443, 143, 498, 208, 106, 606,  23, 303,\n        111, 260, 115,  58, 635,   4, 160, 213, 578,  35, 236, 237, 216,\n        330, 378, 603, 518, 110, 342, 265,  30,  82, 407, 152, 132, 177,\n        147, 289, 560,   2, 368,  12, 195, 544, 347, 536, 525,  33, 589,\n        276, 293, 479, 519, 630, 613,   3, 461, 137, 553, 146, 523, 634,\n        477, 356, 469, 415,  29, 429, 423, 532,  59, 103, 588, 537, 187,\n         74, 548, 425,  48,  22, 100, 364, 192,  34, 501, 299, 140, 288,\n        337, 186, 406, 191,  72,  16, 339, 352, 145, 144, 308, 349, 312,\n          7,  89,  42, 405, 520, 574,  79, 214,  27, 243, 335, 426,  95,\n         40,  44,   6, 270, 633, 590, 322,  87,  88,  24,  62, 257,   9,\n         97,  57, 205, 113, 178, 175, 494,   0, 528, 524, 645, 386, 184,\n        541, 313, 179,  45, 489,  25, 510, 234, 558,  50, 151, 272, 269,\n          5,  65,  10, 294, 320, 649,   1, 168, 253,  20, 394, 384, 274,\n        374,  70, 442,  21, 156, 309, 372, 457, 358, 446, 302, 444, 159,\n        396, 508, 638, 346, 154, 365, 200, 345, 572, 513, 512, 199, 262,\n        141, 264, 157, 636, 118, 194, 221,  39, 124,  47, 122, 456, 467,\n        395, 621, 470, 437, 411, 522, 622,  14, 169, 285,  15, 280, 164,\n        231, 225, 161, 307, 284,  99, 419, 619,  17, 336, 500, 594, 551,\n        296, 549, 438, 463, 163, 601, 445, 547, 432, 421, 218, 204, 416,\n          8, 435, 506, 267, 158,  68, 324, 387,  11, 593, 127, 131, 139,\n        417, 310, 107,  93, 325, 215, 449, 102, 631, 642, 401, 398, 190,\n        641, 112, 224,  28, 557, 516, 433,  85,  86,  83, 397, 472,  18,\n        329, 382, 226, 123, 298,  53,  51, 391, 117, 577, 281, 135, 120,\n         26, 126, 188, 266, 625, 133, 511, 403, 422, 360, 180,  60, 197,\n         49, 170, 203, 167,  46, 357, 211, 399,  92, 105, 366, 210, 408,\n        486, 230, 376, 379, 125, 283,  76,  75,  81, 503, 487,  67, 119,\n        162, 543, 241, 517, 338, 458, 626, 121, 206, 306, 618,  36, 450,\n         54, 539, 428, 439, 344, 573, 247, 238, 385, 576, 136, 138,  66,\n        637, 389, 326, 563, 198,  90,  96, 375, 240, 402, 222, 459,  98,\n        104, 410, 471, 556, 390, 392, 212, 323, 545, 585, 620, 604, 363,\n        484, 496, 317, 251, 482, 562, 533, 282,  37, 343, 595,  38, 644,\n        350, 321, 527, 475, 436, 400, 209, 502, 341, 232, 602, 616, 650,\n        474, 373, 515, 427, 495, 580, 605, 483, 332, 632, 581, 627, 615,\n        614]),\n 92: array([873, 865, 872, 630, 655, 642, 829, 828, 867, 825, 559, 785, 775,\n        837, 839, 238, 544, 836, 470, 507, 531, 807, 683, 548, 733, 707,\n        561, 765, 762, 832, 819, 722, 625, 449, 667, 704, 750, 482, 833,\n        534, 784, 606, 369, 863, 787, 525, 834, 580, 650, 792, 790, 321,\n        657, 503, 438, 804, 510, 734, 432, 676, 567, 488, 688, 740, 527,\n        603, 673, 754, 528, 607, 881, 774, 399, 687, 659, 728, 180, 635,\n        611, 703, 801, 826, 558, 208, 286, 485, 586, 106, 664, 247, 450,\n        440, 701, 204, 158, 410, 593, 817, 374, 348, 451, 359, 380, 563,\n        768, 647, 628, 700, 207, 806, 800, 626, 780, 256, 633, 330, 269,\n        357,  63, 220, 437, 475, 306, 592, 692, 356, 403,  92, 157, 227,\n        616, 620, 575, 226, 666, 702, 752, 749, 652, 838, 732, 613, 686,\n        461, 648, 318, 705, 861, 362, 822, 522, 570, 194, 293, 211, 868,\n        538, 782, 730, 671, 830, 491, 103, 262, 511, 566, 632, 737, 297,\n        471, 213, 812, 831, 791, 505, 342, 820, 334, 327, 846, 609, 426,\n        682, 193, 585, 761, 708, 312, 411, 349, 618, 205, 345, 781, 148,\n        386, 521, 309, 587, 755, 851, 841, 493, 402, 623, 368, 681, 135,\n        389, 323, 605, 388, 589, 452, 499, 201, 636, 727, 113, 445, 808,\n        729, 285, 670, 524, 725,  83,  25, 714, 105, 409, 424, 723, 856,\n        434, 763, 568, 331, 564, 435, 805, 373, 178, 743, 138, 102, 131,\n        284,  62,  27,  88, 645, 758, 746, 344, 414, 270, 661, 590, 127,\n        119, 114, 383, 298,  40, 741, 116, 484, 536, 793, 292, 398, 436,\n        245, 224, 406, 141, 326, 393, 260, 307, 162, 187, 494, 176, 230,\n        715, 177, 117, 469, 442, 277, 458, 237, 150, 130, 599, 385, 735,\n        533, 529, 351, 191, 264,  71, 798, 340, 124, 110, 742, 811, 518,\n         59, 624, 390, 281, 460, 556, 160, 489, 709, 111, 857, 118, 314,\n        427, 608, 689, 501, 721, 455,  61, 619, 149, 218,  55, 520, 101,\n        391, 532, 542, 446, 246, 509, 325, 336, 514,  79, 235, 139, 814,\n         30, 560, 555, 417,  74, 465, 302, 453, 678, 275, 637, 679, 183,\n         68, 745, 495, 629, 152, 266, 123, 254,  69, 748, 271,  54, 788,\n        360, 229, 236,  53, 539, 459, 263, 132, 796, 361, 818, 299,  85,\n         87, 549, 242, 377, 223, 550, 107, 574, 376,  75, 850, 706, 104,\n        699, 840, 496,  43, 199, 816,  73, 477, 764, 770, 392, 557, 216,\n        457, 515, 313, 598, 215, 583, 221, 643, 203, 184, 319, 492, 315,\n        300, 769, 500, 695,  96, 137, 280, 120,  13, 551,  39, 289,  99,\n        401, 186, 231,   9,  41,  18, 366, 698,  76, 255, 537, 329, 430,\n        413, 333, 272, 773, 394, 512, 576, 759, 125, 419, 354, 546, 490,\n        337, 142,  48, 672, 189, 753,  89, 112, 379, 597, 252,  44, 172,\n        335, 171, 339, 267, 200,  98, 876, 290, 170, 675, 674, 462, 562,\n         95, 478, 874, 582, 250, 640,  78,   8,  42, 233, 467, 842, 381,\n        163,  82, 466, 239, 571, 578,  67, 786,  60, 136, 416, 144, 713,\n        395, 717, 291, 565, 513, 212, 541, 878,  22, 405,  11, 433, 879,\n          5,  52, 584, 660, 880, 877, 375, 553, 577, 418, 429, 760, 355,\n        179, 128, 169,  29, 371, 253, 303, 346,  86, 249, 552,  21,  14,\n         80, 523, 662, 370, 320, 153, 519, 712, 428, 161, 166, 288, 738,\n        767, 797, 181, 190, 151, 810, 175,  12, 771, 317, 145, 472, 273,\n        595,  20, 610, 658, 864,   0,  50, 875,  17,  28,   2, 481,  51,\n        711, 322,  47, 259, 108,  70,  66, 517,  23, 696, 156,   7,  97,\n        210, 338,  38,  84, 122,  91, 261, 719, 115, 140, 751, 147, 343,\n        680, 143, 257,   3, 407, 638, 747, 196, 483, 691,   4, 802, 508,\n        146, 869, 126, 685, 258, 860, 225, 310, 363, 134, 276, 358, 859,\n        821, 304, 726, 631, 845, 476, 545, 133,  32, 129, 665, 778, 547,\n        651, 654, 600, 464, 296, 265,  35,  34, 813, 206, 474, 516, 279,\n        350, 724, 382, 341, 572, 387, 198,  56, 852, 601, 639, 121, 739,\n        305, 241, 579,  58, 718, 295, 844, 415, 248, 649, 855, 197, 202,\n        364, 644, 697, 308, 422, 731,  90, 799, 526,  77, 243,  26,  24,\n         94, 195, 217, 324,  15, 278, 596, 301, 653, 756, 612, 862, 443,\n        447,  49, 240, 602,   1, 168, 870, 397, 641, 214, 444, 282, 164,\n        504, 502,  19, 167,  33, 396, 776,  65,  72, 352, 456, 378,   6,\n         46, 591, 353, 766,  10, 287, 209, 744, 154, 849, 847, 843, 479,\n        690, 684, 244, 473,  37, 188, 155, 219,  64,  36, 109, 622,  16,\n         81, 174, 486, 182, 423, 408, 316, 803, 581, 535, 268, 165, 222,\n        569, 283, 621,  31, 617, 159, 228, 274, 487, 232, 367, 173, 185,\n        431, 404, 372, 669, 251, 634, 328, 614, 347, 663, 192, 848, 656,\n        615, 694, 100, 794, 757, 854, 497, 448,  45, 294, 554, 530, 871,\n        441, 627, 400, 506, 420, 332, 412, 668,  93, 365, 480,  57, 384,\n        866, 789, 463, 588, 425, 783, 710, 604, 646, 677, 468, 716, 594,\n        772, 779, 736, 858, 540, 543, 573, 311, 693, 720, 823, 815, 827,\n        809, 454, 234, 795, 777, 421, 824, 853, 498, 439, 835]),\n 93: array([20, 60, 73, 22, 35, 55, 92,  9,  8, 74, 10, 27, 94, 90, 41, 28, 32,\n        93, 81, 61, 24, 66, 52, 49, 46, 87, 40, 53, 29, 64, 45,  1, 12, 62,\n        48, 80, 16,  0, 21, 89, 14, 91, 36, 47, 37, 75, 72,  2, 78,  3, 70,\n        15,  5, 71, 58, 31, 57, 50, 17, 18, 83, 19, 54, 88, 69, 86, 26, 82,\n        77, 63, 34, 30, 84, 39, 23, 56, 13,  4, 68, 59, 67, 65,  6, 43,  7,\n        79, 42, 25, 85, 44, 76, 51, 11, 33, 38]),\n 94: array([43, 42, 13,  3,  1, 27, 44, 12, 46, 50, 34, 15, 23, 36, 25, 28,  4,\n         6, 39,  7, 41,  2,  0, 33, 21, 40, 35, 24, 48, 19, 20, 18,  5, 31,\n         9, 47, 26, 32, 14, 29, 45, 10, 16, 30,  8, 37, 38, 11, 17, 49, 22]),\n 95: array([ 98,  97,   4,   2,  69,   3, 100, 101,   1, 103,  93,  24,  16,\n         18,  23,  29,  34,  33,  32,  31,  30,  26,  67,  25,  89,  48,\n         49,  53,  88,  75,  94,  39,  20,  13,  17,  12,  22,   9,   7,\n         10,  60,  15,  11,  14,   8,  19,  21,  41,  45,  40,  47,  65,\n         99,  95,  38,  74,  57, 102,  73,  84,  68,  70,  90,  76,  37,\n         79,  80,  77,  62,  71,  61,  56,  55,  78,  72,  64,  59,  96,\n         86,  46,  83,  81,  91,  66,  44,  42,  87,  85,  63,  54,  58,\n         52,  50,  35,  28,  92,  27,  82,  36,   5,  51,   0,  43,   6]),\n 96: array([ 8,  9, 10, 11, 12, 13, 14, 15,  4,  0,  1,  2,  3,  5,  6,  7]),\n 97: array([138,  20,  71,  96,  56, 103, 114, 147,  69,  83,  61,   0,  92,\n        149,  93,  58,  60,  82, 141, 105,  53,  32,  34,  35,  62,  38,\n          7,  52,  89,  66,  18,  29, 160,  30,   6,  44,  33, 118,  36,\n         98,  72, 134, 159, 109, 133,  85,  43, 128,  40, 101, 110, 115,\n         68,  22, 132, 137, 143,  14,  16,  25,  77,  39,   2,   1,  31,\n         90,  78,   8,  23,  64, 127,  13, 156,  48,  27,  12, 104,  37,\n          9,  49, 157,  65,  54, 135,  94, 158, 154, 144,  74,  28,  45,\n         75,  50,  73,  21,  63, 111,  42,  10,  81,   3, 113,  59,  80,\n        123, 120, 119, 153, 112,  11,  15,  47, 129,   4,  17,   5, 100,\n         84,  51, 107, 108, 131, 139, 106,  26,  99, 121, 125, 124, 148,\n         67,  70,  97, 152, 150, 151, 155,  95,  79, 117, 140, 142, 136,\n         86,  87, 130,  24,  41,  19,  88,  46, 145, 126,  76, 116,  91,\n         55, 122, 102, 146,  57]),\n 98: array([1078, 1076,  982, ...,  943,  910,  796]),\n 99: array([329, 330, 322, 331, 326, 196, 219, 313, 305, 205, 275, 140, 204,\n        229, 298, 283, 302, 292, 286, 260, 324, 180, 312, 254, 193, 165,\n        168, 311, 297, 300,  30, 282, 272, 178, 316, 121, 271, 107,  82,\n         62, 225, 299, 315,  99, 122, 304, 273, 269, 318, 280, 160, 296,\n        171, 314, 123, 182, 186, 187, 308, 208, 210,  77, 231, 189, 317,\n        259, 243, 109,  16, 327, 213, 194, 268, 328, 161,  38,  31, 105,\n        294, 135, 325, 245, 147,  65, 288, 319,  97, 191, 236,  44, 106,\n        100, 274, 257, 222, 289, 293, 215, 277, 126,  89,  80, 221, 206,\n        220, 167, 190, 104, 276, 144, 200, 203, 174, 301, 149, 199, 234,\n        285, 270, 150, 101, 119, 151, 228, 321,  56, 244,  68, 118,  87,\n        185, 217,  32, 249, 214, 156,  57,  92, 238,  60, 295, 281,  75,\n        192, 188, 218,  50,  37,  93, 154, 291,  91, 240, 117, 127, 163,\n         21, 164, 307,  88, 290, 303,  48, 320, 237, 195,   7, 152, 223,\n         83, 323, 232,   8,  47, 162,  63,  35, 129,  55, 306, 251, 136,\n        125, 157,  58,  40, 120,  11, 145, 124,  53,  72, 247,  12, 230,\n        262, 256, 179, 248, 278,  81, 198,  59,  52, 226, 239, 263, 130,\n        153,  42,  74, 252,  10, 170, 258, 250,  69, 209,  67,  79, 133,\n        241,  71, 159, 102, 172, 110,   6, 255, 143, 211, 134, 287,   5,\n         46, 137, 111, 116, 227, 175,  94, 128, 115,   9, 310,  73, 202,\n         36, 184, 142, 108,  78,  39, 264,  85,   3,   2, 265, 309, 242,\n        246, 173,  66,   0, 169,   4, 176, 146, 103,  51,  15,  43,  34,\n         28, 114,  98,  96, 155,  49,  22, 177, 279,  27,  18, 181, 224,\n        138,  95, 253, 261,  64,  41, 166, 266, 201,  13, 158, 139, 141,\n         90, 284, 131,  23,  70, 212,  25,  54, 233, 235, 148, 216,  45,\n         29,  33,   1, 112,  26,  20, 197, 183, 113,  19,  24, 132,  14,\n         17,  86,  76, 267, 207,  84,  61]),\n 100: array([471, 434, 448, 296, 438, 268, 470, 472, 237, 467, 468, 216, 197,\n        418, 465, 380, 443, 402, 279, 439, 189, 344, 419, 370, 473, 301,\n         94, 441, 255, 400, 447, 372, 186,  14, 294, 345, 389, 260, 373,\n        168, 325, 119, 188, 162, 202,  72, 113, 176, 416, 449, 410, 401,\n        450, 221, 161,  61, 313,  79, 177, 244, 392, 212, 320, 408, 172,\n        133, 451, 403, 170, 360, 316, 426, 297, 277, 412, 333, 375,  24,\n        387, 178, 390, 208,  93, 157, 337, 241, 274,  67, 399, 440, 319,\n        330, 124, 144, 466, 125,  64, 201, 299, 252, 175, 183, 147, 204,\n        397, 286,  16, 154, 253, 432, 114, 454,  33, 152, 182, 174, 211,\n        356, 460, 391, 196,  92, 234, 335, 263, 437, 224, 283,  80, 394,\n         66, 314, 388,  86,  35,  36, 126, 232, 231, 219, 142,  17, 363,\n        293, 100,  81, 371,  31, 160, 383, 305,  53, 421, 361, 339, 398,\n         58, 342, 148, 198, 376, 240, 429, 139, 123, 120, 282, 251, 336,\n        229, 382, 366, 230, 411, 328,  89, 266, 374, 150,  20, 141, 295,\n        291,  60, 173,  77, 195,  74, 469, 430, 351, 386, 427, 158, 254,\n        420, 243, 340, 151, 327, 205, 318, 112, 145,  48, 445,  40, 407,\n        278, 262,  97, 350, 187, 247,  62, 424, 352, 257, 265,  44,  43,\n        122,   3, 281, 413,  12,  85, 369, 288,  91,  69,  59, 367, 423,\n        414,  15, 404, 181, 264,  78,  52, 309, 298, 246, 164,  19,  13,\n         42, 312, 109, 210, 385,   0,   4,  25, 365, 433, 228,  90, 245,\n        395, 442, 213, 464,  82, 321,  63, 127, 223, 346,  98, 329, 287,\n        110,  55, 192,  95, 153,  71,  22, 272, 118, 415,  39, 185,  27,\n        209, 103,  34, 428, 146, 140,  49, 425,  28, 317,  99, 136, 135,\n        117, 215, 236,  41, 111, 143, 362, 396, 104,  21,  57, 364, 422,\n        269,   8,  76,  65, 107, 132, 227, 131, 191, 190, 347, 273, 338,\n        354, 207, 239, 349,  50, 311, 280,  46, 270, 116, 171, 128, 271,\n        199, 435, 285,  30, 290, 384, 368, 101, 222,  47,   9,  32,  83,\n        134, 129,  84, 431,  87, 180, 138, 169, 200, 353, 179,   5,  75,\n          2, 248, 250, 307, 406, 284, 341, 159, 233, 217,  96, 378,  11,\n         37, 155, 303,  68, 258, 331, 249, 106, 315, 184, 259,  88, 417,\n        137, 348,   1, 381, 379, 194, 308, 102, 130, 214,  56, 121, 105,\n         26, 203, 267, 300, 261, 235, 275, 405,  38, 242,  29, 453,  10,\n        377,  51, 462,  18,   6, 163,  73, 167,  45, 458, 108, 409, 218,\n        358, 225,   7, 355, 115, 357, 149, 393, 302, 446, 226, 289, 452,\n        220, 461, 165, 156, 238,  23, 444, 322, 323,  54, 324, 332, 166,\n        359, 276, 455, 256,  70, 206, 343, 310, 292, 334, 436, 304, 306,\n        193, 474, 457, 456, 326, 459, 463]),\n 101: array([132, 142, 118,  84,  94, 145, 144, 143,  71,  95, 140, 130,  35,\n         26,  67,  66, 125, 138, 122, 102,  32, 115, 133,  74, 128,  92,\n        134, 120,  59,  65,  42,  41,  49, 107,  61,  22, 105,  40,  69,\n         29,   0,  86,  77, 113, 117,  72, 114,  47,  88, 110, 124,   8,\n        136, 135,  39,  16, 108,  50,   2, 129,  45, 127,   1,  37,  68,\n         75,   5,  20,  19,  18,  48,   6,   3,  55,  11,  15,  17,  38,\n         52,  73,  58,  53,  10,  60,  80,  27,  25, 119, 101,  89, 111,\n        137,  82,  14,  23, 126,  64,  63,  36,  62,  97,   7, 104,   4,\n         44,  24,  21, 141,  33,  34, 116,  78,  85,  79,  96,  43, 109,\n         12,  83,  98,  13, 139,   9, 123,  57, 103, 131, 146, 100,  93,\n         87,  76,  70,  90,  56, 106,  30,  54, 112,  46,  99,  28,  31,\n         91,  51, 121,  81]),\n 102: array([114, 158, 152, 179, 139, 178, 142, 175, 180, 119, 157, 198, 199,\n        130, 195, 149, 121, 101, 108, 150, 201, 123,   7, 134, 185, 127,\n        153, 200,  92,  43,  39, 188, 138, 116,  84, 186, 118, 125, 137,\n         93,  62,  90, 148, 176, 196, 115,  96,  83,  56, 111, 209, 164,\n        208,  86,  58, 194, 205,  98,  71,  80,  78, 102,  94,  54, 144,\n         55, 165,  16, 106, 182, 103,  70,  97, 207,  91, 181,   0,  73,\n        162, 174, 126,  12,  30, 166, 206,  40, 177, 190, 109,  75, 120,\n        191, 122,  47,  24, 167, 189, 192, 112,  87,  69, 202, 173, 151,\n         15, 197,  19,  17, 203,  20, 204, 129, 140,   6,  48,  45, 172,\n         66, 135,  88,  41,  76, 143,  18, 146, 136, 187, 124,  82,   9,\n         49, 133,   5, 161,  99, 184,  85, 171,  74, 145,  21, 154, 159,\n         23, 183,  59, 193,  42,  22,  36,  64, 107, 155,  60, 160, 170,\n         57,  50,  38, 141,  13,  81,  61,  51, 128,  27,  68,   1,  46,\n         95, 131,  52,  10,  25, 169, 132,  77, 168,  11,  29, 117, 163,\n         67,  32, 100,  89,   8, 113,  65,  34,  31,  44,  72,  79,  28,\n         14,  33,   3, 147,  63,  26,  37, 105,   2, 156, 110, 104,  35,\n         53,   4]),\n 103: array([236, 230, 242, 216, 154,  93, 194, 158,  92,  86, 151, 167, 106,\n        221, 127, 252, 220, 209, 234, 237,  80, 210, 128, 160, 149,  52,\n        219, 141, 123,  89,  69, 140, 240, 133, 204, 132, 129, 103,  21,\n         28, 165, 231, 137, 113,  97, 117, 138, 134, 198, 218, 118, 142,\n        229,  78,  72, 143, 162, 182,  62, 122, 183, 109, 239, 196, 102,\n        250,  71, 189, 121, 199, 224,  33,  87,  67,  54,  65,  91,  88,\n         75, 175, 208, 115, 215, 112, 147, 200,  81, 181,   9, 247,  38,\n        145,  39, 101, 124, 130,  90,  17, 150,  59,  83,  30, 227, 166,\n        114,   1, 179,  12,  11,  51,  26, 146,  49,  44, 120, 100, 211,\n        206,  66,  29,  15, 155,  41, 108, 119, 152,  56, 172, 144, 190,\n        161,  79,  32, 178, 249,  84, 168,  77, 225, 241,   5, 174, 202,\n        116, 226, 148,  45,  95,  63, 135, 232, 193,  48,  68, 136,  43,\n        222,  42,  37, 197,  19, 173,   6,  10,  57,  64,  31,  23, 126,\n         25, 214, 180,  20, 213, 192,  58,  27, 139,  76,  35,  94,  98,\n         24, 107, 186,  85, 157, 223, 111,  16,  18,  60,  50, 195, 110,\n         47, 217,  82,   2, 205,   0, 248,  34, 177, 243, 203, 125,  55,\n          7,  46,  70,  36, 171, 212, 184, 164, 104, 228, 238,   8,  61,\n         99,   4, 246,  96, 159,   3,  13, 251,  73,  22, 187, 169, 185,\n        188, 233, 131,  14, 153, 170,  40,  74, 244,  53, 201, 191, 105,\n        176, 156, 163, 207, 235, 245]),\n 104: array([ 5, 10,  6,  9, 13, 16, 11,  3,  4, 17, 18,  8, 14, 12,  7,  2,  0,\n         1, 15]),\n 105: array([16, 13,  9,  6, 12, 18, 15, 14,  8,  5, 11,  2, 17,  1,  4, 10,  0,\n         7,  3]),\n 106: array([ 3, 19, 10, 14, 43, 12, 72,  8, 49, 13,  2, 18, 27,  7, 16,  0, 15,\n        17, 22,  5, 24,  6, 21, 69, 67, 65, 56, 68,  9,  4, 62, 70, 25, 55,\n        60, 50, 64, 71, 66, 35, 34, 37, 36,  1, 23, 11, 31, 52, 32, 28, 33,\n        29, 30, 51, 53, 54, 61, 58, 59, 63, 57, 41, 39, 48, 40, 44, 45, 42,\n        47, 38, 46, 20, 26]),\n 107: array([447, 458, 459, 224, 348, 464, 354, 466, 448, 445, 304, 433, 467,\n        362, 436, 320, 427, 417, 377, 365, 333, 418, 465, 322, 215, 301,\n        387, 164, 228, 463, 410, 210, 366, 453, 356, 331, 312, 194, 261,\n        358, 219, 430, 332, 380, 154, 330, 143,  80, 375, 293, 299, 282,\n        279, 401, 151, 450, 384,  19, 189, 227, 309, 274, 230, 201, 319,\n         64,  65, 307, 346, 325,  53, 286, 130, 379, 360, 275, 284,  47,\n        216, 255,  46, 324, 193, 265, 425, 198, 438, 455,  54, 336, 441,\n        226, 395, 403, 378, 180, 383, 113, 242,  18,  17,  63, 429, 372,\n        347,  62,  29,  68,   6,  89, 202, 250, 439, 133, 241, 344,  67,\n         93, 402,  98, 132, 355, 277, 460, 424, 359, 172,  78, 394, 371,\n        134, 246, 175, 139,  24,  27, 367,  36, 126, 339, 443, 114, 337,\n         34, 398, 442,  49, 149, 142, 420, 127,  66, 444, 169, 220, 212,\n         73, 397, 411, 373, 404, 163, 305, 306, 176, 101, 310, 340,  43,\n        174, 107, 111, 368,  88, 446, 302, 217, 150, 256, 121, 272, 303,\n        145, 221, 288, 285, 247, 110,   2, 326, 296, 207, 232, 407,  41,\n         40, 289, 122, 131, 374, 225,   1, 251, 462, 239,  20,  91,  61,\n        391,  25,  85, 323, 390, 386,  94, 235,  33,  32, 400, 100, 421,\n        370, 136, 278, 195,   0,  69,  99,  48,  96,  22,   3, 205, 119,\n        231, 144, 167, 318, 106, 434,  52, 376, 316,  35, 352, 349, 218,\n         58, 197, 252, 328, 405,  92,  10,  87,   7, 209, 166, 423, 156,\n         82, 157, 257, 419, 118, 283, 253, 300, 291, 268,  75, 191, 399,\n        364, 188, 457,  71, 138, 185, 196,  74, 245, 240, 260, 327, 369,\n        137, 292, 314, 389, 125, 184,  26,  30,   8,   9, 158, 357,   4,\n          5, 249, 297, 269, 129,  55,  38,  39, 116,  56,  77,  23, 177,\n        213,  37, 329, 414,  11,  76, 192,  86, 267, 173, 234, 317, 204,\n         81, 287, 311, 183,  83, 416,  28, 199, 146, 385,  59, 254, 280,\n        223, 412, 182, 335, 222, 388, 294, 109,  97, 115,  42,  44,  84,\n        353, 428, 276, 262, 190,  15, 178,  16, 452, 266,  50, 214, 211,\n        363, 160, 408, 171, 203, 159, 361, 342, 123, 422, 435, 451, 334,\n        382, 295,  13,  14, 128, 148, 200, 229, 168,  57, 155, 263, 108,\n        313, 290, 415, 244,  70, 273, 341, 258, 350, 270, 238, 105, 237,\n        102,  95, 281, 161, 243, 162, 170, 208, 248,  21, 271,  90, 431,\n        338, 187, 141, 381,  60, 181,  51, 343,  72, 124, 117, 321,  31,\n         12,  79,  45, 206, 104, 396, 165, 392, 152, 345, 393, 186, 461,\n        179, 454, 153, 135, 440, 409, 351, 112, 413, 259, 308, 264, 140,\n        147, 236, 315, 298, 103, 120, 449, 233, 437, 406, 426, 456, 432]),\n 108: array([29, 46, 31, 38, 39, 43, 42, 23, 27, 30, 51, 40, 33, 62, 68, 73, 69,\n        11, 63, 72, 74, 67, 71, 76, 65, 64, 75, 37, 44,  5, 24,  7, 16, 18,\n        70,  3,  4, 19, 66, 28, 14, 15,  9, 49, 12, 60, 22,  1,  8, 21, 10,\n        13,  6, 26, 45,  0, 48, 52, 61, 17, 59, 41,  2, 50, 53, 35, 58, 34,\n        25, 54, 36, 20, 55, 56, 57, 47, 32]),\n 109: array([26, 16, 21, 25, 13, 20,  7, 10, 12,  0,  9,  5, 22, 31,  3, 23, 24,\n        14, 32, 15, 19,  8, 18, 29, 27,  2,  4, 30,  6, 17,  1, 11, 33, 34,\n        28]),\n 110: array([14, 19,  0, 18,  2,  1, 17, 16, 12, 15, 13,  6,  3,  4,  5, 10,  9,\n         8,  7, 11, 20, 21]),\n 111: array([72, 63, 33, 21, 68, 73, 39, 56, 49, 66, 69, 53, 60, 48, 50, 19, 71,\n        52, 74, 67,  0, 27, 47, 46, 34, 41, 51, 76, 38, 43, 58, 26, 42,  6,\n        29, 57,  9, 24, 62, 17, 14, 15, 20, 36,  4, 16, 12, 18, 10, 25, 23,\n        13,  8,  7, 30, 40,  3, 11,  2, 65, 28,  1, 55, 59, 44,  5, 75, 64,\n        37, 31, 32, 22, 54, 61, 35, 70, 45]),\n 112: array([62, 76, 75, 57, 52, 65, 86, 44,  7,  8, 58, 47, 59, 40, 25, 46, 71,\n        34, 28, 27, 41, 32, 51,  2, 29, 80, 54,  0, 13, 68,  3, 39, 16, 11,\n        17, 14, 83, 84, 22, 72, 45, 70, 19, 18, 31, 66, 23, 38, 89, 10, 64,\n        15, 50, 36, 73, 88,  5, 74,  9, 42, 24, 12, 35, 48, 79, 90, 67, 92,\n        61, 78,  6, 85, 56, 21, 87, 60, 37, 63, 69, 55,  4, 26, 30, 82, 81,\n        49, 91, 77,  1, 43, 33, 53, 20, 93]),\n 113: array([268, 185, 242, 104, 189, 257, 229, 188, 240, 138, 132, 264, 248,\n        166, 124, 199, 210,  45, 159,  64,  95,  82, 252, 227, 220,  77,\n        236, 146, 198, 177,  83,  94, 108, 161, 106, 140,  73, 118, 219,\n        228,  44, 235, 195, 153,  39, 109,  65, 217, 232, 129, 203, 255,\n         80, 127,  57, 259,  43, 102,   3,  17, 222,  52, 126, 174,  68,\n        180, 172,  32, 115,   8,  74,  89, 234, 112, 144,  16,  42, 101,\n         61,  10, 231,  36, 183, 212,  62, 226,  38, 218, 182,  41,  12,\n         13, 253,   1, 197, 134, 247, 131,  75, 245,  33,  99,  35,  14,\n         30,  93, 154, 143, 216, 141, 250, 117,  97,   0, 267,  90, 135,\n          2, 114,  85, 152,  53,  81, 244,  55, 181,  60,  86,  96,  46,\n        200, 128,  59, 171, 157, 237, 202, 186,  20,  63,  87, 162, 266,\n         66,  69,  37,  21, 225, 256, 142,  78,  19,  18,  48,  25, 103,\n        119, 201, 121,  11, 107, 125,  22, 168,  24,  34, 178,  79, 122,\n        136,  26, 192,  98, 194, 160, 211, 196, 163, 156,  56, 149,  27,\n        111, 110, 167, 170,  58, 243, 133, 165, 151,  51, 176,   5, 169,\n        148,  23, 139,  29, 116, 215, 260,  84, 179,  49, 105,  28, 246,\n         54,  67,   9,  71,   7, 100,  31, 147, 155, 204, 206, 213,   6,\n        120, 184, 221,  91, 205, 230,  47, 263, 190, 251, 191,  76, 123,\n        214, 158, 173, 208, 113, 150,  72, 209,  92, 241,  70, 130, 137,\n         15, 207, 224,  88,   4, 145,  40, 265, 249, 233, 175, 262, 239,\n         50, 164, 258, 223, 187, 254, 261, 193, 238]),\n 114: array([157, 184, 173, 204, 202, 182, 208, 209, 210, 191, 177, 201, 190,\n        195, 198, 194, 147, 206, 185, 175, 189, 196, 132, 145, 187, 183,\n        203, 192,  90, 139, 159, 119, 138, 179,  45, 176, 105, 130,  60,\n         64,  73,  71,  53,  55, 120, 178, 140, 171,  96, 164,  42, 101,\n         15,  82, 180,   6, 146,  36,  85,  81, 117, 111, 169, 199,  59,\n         19,  91,  86, 152, 115, 103, 141,  18, 114, 118, 109, 167,  25,\n         20, 165,  98,  93,  79, 166,  99, 100, 136, 126,  34,  37,  44,\n        104, 162,  27,  12,  23, 205,  58,  14, 197,  35,  21, 207,   2,\n         28,  13,  97,  92, 200,  43,   3, 133, 107, 108,  80, 113,  26,\n         17, 155,  89,  69,  61,  63,  65,  66,  47,  11,  62, 149, 151,\n        150, 148, 154,  49,  68,  24, 174,  83,  78,  52, 143,  76,   7,\n         30, 112, 129,   9,  74, 124,  70, 170,  33,   5,  29,  67,  38,\n         50, 160, 163, 161, 158,  31,   8,  77,  46,  54,  57, 128, 137,\n         16, 168,  10, 127, 116, 188,  88,  56,  32,  51, 156,   4,  48,\n        123, 186,  22, 181,   1,   0,  95,  39,  94,  84,  41, 106,  87,\n        193, 110, 125, 144, 134, 135, 102, 153, 122, 121, 131, 172,  40,\n        142,  75,  72]),\n 115: array([66, 64, 50, 68, 10, 62,  8, 55, 67, 33, 39, 16, 17, 32, 13, 14, 23,\n         3,  4, 34, 57, 26, 47, 31,  7,  6, 38,  5, 41, 24, 25, 29,  1,  2,\n        45, 20, 61, 19, 40, 60, 18, 35, 36, 59, 44, 43, 54, 11, 12,  9,  0,\n        46, 63, 37, 21, 42, 22, 48, 15, 30, 27, 28, 65, 51, 56, 49, 52, 58,\n        53]),\n 116: array([1131, 1137, 1133, ..., 1044, 1112, 1068]),\n 117: array([12, 11, 13,  6, 10,  7,  9,  5,  8,  0,  3,  4,  2,  1]),\n 118: array([20, 40,  2, 18, 15,  7,  8, 25, 33, 11,  9, 10,  4, 21, 19, 13, 23,\n         5, 31, 37,  6, 17, 35, 36,  3, 29,  0, 28, 12, 22, 16,  1, 26, 39,\n        34, 30, 14, 24, 38, 32, 27]),\n 119: array([92, 73, 61, 72, 81, 11, 46, 27,  8, 93, 76, 83, 85, 62, 41, 60, 33,\n         7, 29,  3, 26, 24, 37, 16, 13,  9, 35, 65, 25, 12, 56, 30, 45, 40,\n         4, 14,  5,  0, 84, 51, 82, 21, 17, 18,  6, 15, 69, 43, 19, 87, 44,\n        86, 53, 28, 42, 36, 10, 66, 68,  2,  1, 58, 67, 49, 64, 57, 59, 39,\n        77, 88, 38, 22, 23, 31, 34, 48, 32, 90, 54, 89, 80, 20, 55, 47, 50,\n        70, 91, 63, 52, 74, 78, 79, 71, 75]),\n 120: array([271, 272, 277, 284, 282, 270, 280, 279, 276, 273, 195, 108, 283,\n        118, 174, 215, 219, 212, 223, 249, 233, 238, 243, 153,  99, 162,\n        140, 224, 263, 259, 254, 119, 275, 171, 242, 154, 264, 255, 260,\n        151,  54, 122, 106, 258,  69,   5,   3, 196, 262, 226,   4, 198,\n          7,   6, 229,  77, 114,  10,   2, 216, 253,  57,  32,  89,  11,\n        268, 269, 159,  42, 142, 281, 274, 278, 129,  78, 186,  70, 201,\n        149,  95, 237, 158,  79, 222,  49, 166, 214,   1, 109, 211, 247,\n        232, 102, 204,  46, 248, 218,  44, 220, 208, 177, 104, 123,  19,\n        181, 250, 240, 235, 178, 125, 132,  30, 167,  31, 170, 209, 210,\n         73, 236, 227, 213, 203, 135,  47, 228,  14, 180, 191, 165, 244,\n        145,  45, 152, 126,  51,  83,  15, 169,  86,  90, 234, 241, 245,\n        188,  74,  48, 230, 133, 193, 179, 185,   9,  81, 225, 217,  88,\n        265, 261, 256, 206,  17,  98, 121,  13, 110, 251, 190, 197,  41,\n         80, 172, 115, 100,  16,  67,  85,  82, 207, 103, 200, 127, 146,\n         71, 205, 252,  87, 112,  52, 138,  60, 192, 139,  84,  26, 130,\n        161, 187,  61, 147,  53,  21, 157, 266, 267, 257, 156,  40, 194,\n        105, 182,  43, 143, 120,  25,  35, 137, 160, 184, 155,   0,  34,\n        116, 113,  23,  22,  36, 141,  12,  38,  72,  93, 144,   8,  75,\n        111, 189,  92, 173,  66,  55,  63,  29, 101,  20, 175, 221,  65,\n        128,  39,  27,  18,  24, 163, 134,  91, 136,  28,  37,  68,  50,\n         33, 150, 176,  62, 199, 168, 246, 239, 231,  59, 202, 124,  58,\n         56,  76, 107, 183,  94, 117, 164, 148,  97,  96, 131,  64]),\n 121: array([ 7, 13, 71, 73, 74, 72, 14,  1, 17, 18, 11, 19,  4, 21, 20, 68, 62,\n        64, 37, 65, 61, 59, 66, 70, 45, 69, 60, 63, 12, 15, 10,  3,  8,  2,\n        24, 23, 48, 51, 50, 53, 49, 41, 44, 67,  9, 55, 52, 58, 46, 42, 38,\n        39, 54, 34, 33, 36, 43, 57, 56, 40, 35, 22, 32, 31, 30, 25, 26,  0,\n         5,  6, 16, 29, 47, 27, 28]),\n 122: array([223, 229,  80, 228, 150, 178, 151, 125, 224, 143, 207, 172, 222,\n        227, 210, 160, 153,  33, 190,  64,  34,  61,  19, 130, 145, 121,\n        131, 187, 205,  12, 140,  86, 157,  21, 148, 141, 163, 212,  68,\n        117, 152,  14,  11, 213, 206,  47, 188,  94, 164,  36, 209, 221,\n        194,  23, 192, 132,  93, 171,  54,  32,  55, 189, 135,  56, 185,\n         29,  71, 181,  17,   6,  22,   3,  13,  76,   5,   7,   0, 176,\n        162, 156,  15, 225,  42,  59, 147, 154,   1, 182,   9, 139,  39,\n         31,  73, 142, 102,   8, 165, 159,  41, 155,  18,  20, 226,  10,\n         25,  16,  62,   4,  38, 111,  70,  58,  37,   2,  72,  52,  75,\n        136,  82, 116, 109,  97,  95, 169,  84, 120, 179, 124, 123,  48,\n        186, 103,  26, 144, 108, 137,  50,  57,  74, 129, 201, 126, 128,\n         81, 184,  96,  35, 191,  46,  83,  53, 180,  63,  79,  87, 174,\n        149, 173,  89, 138, 170, 146, 100,  24,  90, 106, 167, 127,  67,\n        134, 166, 161,  51, 177,  49,  78,  88,  40,  77,  44,  45, 114,\n        158, 104, 133,  92,  66,  43,  30,  28,  27, 105, 119, 112, 115,\n        208, 110,  85,  65, 203, 197, 183,  69, 202, 204, 195, 200, 196,\n        198,  99, 215, 218, 199, 107, 101, 113, 217, 216, 220, 219, 193,\n         98, 211, 118,  60,  91, 122, 168, 175, 214]),\n 123: array([11,  5,  7,  1,  9, 10,  0,  6,  8,  2,  4,  3]),\n 124: array([23, 17, 19, 15, 22, 20, 14, 13,  2,  5,  6, 18,  4, 21,  0,  1,  3,\n        16, 10,  9,  8,  7, 12, 11]),\n 125: array([176,  96, 165, 164, 166, 172, 144, 140, 118, 169, 156, 175, 104,\n        112, 148, 132, 143, 179, 178, 174, 103, 107, 137, 154, 123, 151,\n        120, 105,  92,  43,  41, 124, 134, 136, 168, 155, 100, 146,  87,\n         17,  47,  65,  70,  48, 135,  49, 163,  32, 141,  35, 158,  54,\n         64, 167, 177,  33, 129, 133,  53,  46,  81,  66,  40,  89, 138,\n        171,  90, 130,  37,  80,  24,  23,  58,  29,  38,  68,  62,  30,\n        150,  56,  79,  83,  11,  34,  71,  39,  73,  69,  25, 127,  57,\n        128,  59,  16, 162, 109, 114,  52,  95,  61, 106,  22,  12,  98,\n         10,  15, 142,   0, 161,  28, 122,  19,   2,  75,   8,  42,  67,\n         20,   9,  26,  36,  55,  63, 111,   4,  18,  86,   7, 101,  76,\n        131,   5,  77,   6,  84, 152, 157,  50,   1, 160,  99,  45, 102,\n         88,  91, 139,  94, 113,  31, 126,  82,  85,  72, 117, 115,  74,\n         51, 147, 159, 149,  13,  93, 145,   3,  44,  14, 119, 173,  21,\n         60, 116, 110, 170, 108,  97,  27, 125, 121,  78, 153]),\n 126: array([205, 213, 211, 192, 196, 185, 209, 200,  64, 208, 140, 158, 206,\n         72, 207,  52,  73, 193, 203, 194,  71, 201, 212, 199, 139, 136,\n         46,  91, 156,  49, 101, 217,  89, 168, 145,  23, 218, 107, 179,\n        198,  97, 216, 149,  40, 173,  77,  19, 219, 223, 222,  36,   8,\n        150, 195, 172,  57, 148,  83, 117, 197, 166,  28,  98, 105,   0,\n         31,  84,  48, 169, 113,  29,  99,  43,  45,  75, 190, 106,  44,\n         51, 189,  42,  74, 170, 134,  33, 181, 171, 178, 118,  41,  95,\n        147, 111, 119,  25, 104, 120,  14,   7,  15, 184, 121, 110,  65,\n        102, 167,   5, 100,  18, 202, 115,  24,   6, 103, 122, 135, 204,\n        220, 221, 214, 109,  20,   1,  66, 142, 141,  47,   2,   4, 128,\n         67, 215,  92,  32,  21,  69, 210,  27,  50,  16,  93, 176,  80,\n        165, 127, 174,  90,  88,  60,  94,   3,  79,  62, 177,  58, 182,\n         13,  12,  63, 188,   9, 183, 162, 187, 180,  81, 155, 191, 130,\n        154, 126,  55, 161, 138, 160,  85,  96,  22,  86, 131,  54,  56,\n        125,  87, 152,  10,  82, 112, 116,  68, 146, 175, 129, 133, 186,\n        114,  30,  70,  53, 157, 124, 108, 153, 132,  76, 151,  78, 123,\n         35,  34,  17, 137,  39, 144,  38,  26, 164, 163,  37, 143,  11,\n        159,  59,  61]),\n 127: array([273, 180, 250, 261, 233, 253, 242, 185, 158, 181,  69, 262, 252,\n        251, 247, 243, 248, 153, 159, 175,  17, 170, 275,  72,  45, 120,\n        137,  88,  24, 265, 254, 219, 187, 167, 269, 271, 267, 272, 184,\n        192,  79, 100,  65, 133, 200, 140,   8, 249,  82, 146, 182,  39,\n          7, 244, 109, 107, 108, 111, 127, 259, 121,  52, 212,  93,  97,\n        103,  96,  90,  89, 101, 131, 186,  83,  91, 169, 238, 204, 232,\n        237,  44, 235,  26,  54, 106, 147,  95,  35,  85, 110, 216,  25,\n         62,  73,  94,  66, 218, 141,  58,   5, 231,  74, 222, 213, 150,\n        198,  70,  56, 113, 144,  98, 112, 201, 122, 206, 102, 194,  27,\n         75, 151, 119,  13,  64, 240,  60, 149, 160, 210,  34,  78,  21,\n          2, 190, 197,  81,  92, 161, 188, 154, 225, 217,   3,  23,  80,\n          1, 199,  41, 156,  61, 263,  48, 123, 205, 174, 173, 228, 104,\n        126, 202, 148, 117, 172,  84,  43,  59,  18, 270,   6, 183,  46,\n         51,  29, 264, 221,  20, 177,  19,  28,  63, 191, 115, 214, 105,\n          4, 239,  10,  15, 257,  86, 215, 207, 276, 132,  32,  40,  30,\n        230, 136,  53, 227, 162, 241, 209,  22, 164,   0, 236,  11,  76,\n         12, 226, 268, 245, 195, 163, 229, 130, 168,  16,  49,  57,  77,\n         71, 220, 260, 134, 179, 139,  42, 125, 223, 135, 129, 128,  14,\n        189, 116,  50, 178,   9, 208, 266, 193, 224,  47, 152, 211, 138,\n         33, 234,  31, 196, 246, 124,  36,  68, 118, 255, 114, 155, 176,\n        165, 157,  87, 143, 203,  67,  55,  99,  38, 274, 142, 277, 256,\n         37, 258, 166, 145, 171]),\n 128: array([15, 19,  8, 29, 24, 28, 23, 20, 11, 27, 13, 30,  0, 14, 16, 22, 18,\n         2,  3,  9,  7,  1,  5, 21,  4, 10, 26, 25, 17, 12,  6]),\n 129: array([ 0,  4, 12,  9,  2, 11, 10,  1,  5,  3,  8,  7,  6]),\n 130: array([25, 26, 24, 23, 22, 21, 20, 19, 18, 17, 14, 13,  2, 15, 11,  0,  9,\n         6,  7,  5, 16, 10,  8,  1,  4, 12,  3]),\n 131: array([110,  97, 115,  22,  78, 124,   6,  72,  23,  60,  27,  86,  53,\n         43, 116,  95, 113,  32,  44, 127,  61, 107, 103,  85,  50,  82,\n        118,  13,  37,  81,  75,  66,  76,  21,   9,  49,  62,   0, 126,\n         74,  41,  52,   4,  16,  45,  69,  89,  12,  34,  35, 102,  24,\n         29,  87,  11,  91,  30,  39,  57,  79,  88,   8,  68, 105,  55,\n         25,  33,  10,  26,   1,  14,  18,  38,  20,  31,  73,  51,  58,\n         15, 101,  63,  28,  67,   3,  36, 100,  70,  47,  48, 106, 114,\n         83,  98,  59,  71,  65,  54,  80, 122,  64,  90,  40,   2,   7,\n          5,  17,  56,  94, 117,  46, 119,  19,  93, 112,  84, 104,  42,\n        109, 121,  77, 108,  99, 120,  92, 125,  96, 111, 123]),\n 132: array([863, 866, 855, 856, 849, 844, 834, 691, 709, 692, 661, 865, 835,\n        821, 713, 841, 484, 721, 801, 773, 700, 828, 599, 783, 682, 694,\n        778, 547, 726, 459, 579, 597, 195, 611, 847, 738, 804, 862, 843,\n        614, 722, 612, 673, 759, 704, 784, 669, 609, 496, 660, 641, 168,\n        259, 859, 170, 708, 802, 701, 463, 615, 840, 288, 471, 560, 555,\n        237, 786, 754, 685, 864, 812, 443, 592, 838, 533, 363, 839, 768,\n        428, 343, 253, 757, 468, 109, 710, 594, 697, 674, 286, 489, 820,\n        829, 472,  93, 467, 659, 539, 744, 623, 376, 676, 618, 456, 850,\n        337, 595, 503, 593, 382, 158, 161, 758, 753, 734, 577, 826, 823,\n        603, 559, 798, 837, 488, 672, 229, 570, 643, 647, 225, 256, 648,\n        319, 714, 424, 163, 153, 383, 223, 247, 832, 165, 183, 180, 349,\n        699, 543,  92, 845, 536,  88,  84, 235, 231, 788,  72,  74, 513,\n        492, 509, 357, 809, 582, 303, 258, 280, 466, 171, 604, 140, 818,\n        176, 836, 861, 810,  51, 404, 629,  16, 541, 585, 652, 265, 651,\n        320, 317, 328,  89, 331, 403, 602, 630, 576, 284, 175, 789, 811,\n        221, 295, 687, 534, 535, 479, 249, 369, 347, 121, 114, 557, 598,\n        360, 715, 813, 587,  86, 251, 401, 842, 635, 718, 601, 166, 762,\n        113, 310, 549, 730, 830, 397, 494, 537, 398, 106, 495, 137, 575,\n        248, 261, 588, 407, 437, 391, 486, 273, 282, 431,  97, 707, 522,\n        131, 129, 514, 189, 825, 796, 565, 412, 228, 285, 415, 569,  99,\n         95, 769, 350, 589, 638, 214, 561, 367, 325, 144, 138, 475, 348,\n        150, 525, 529, 556,  69, 421, 746,   0,  64, 476, 774, 307,  85,\n        727, 591, 654, 300, 123,  94,  12, 857, 409, 414, 420, 448, 765,\n        413, 329, 584, 690, 346, 724, 552, 703, 297, 184, 748, 162, 149,\n        622, 132, 206, 791, 657, 345,  90, 111, 200,  46, 684, 853, 530,\n        196, 434, 147, 500, 507, 655,  54, 767, 191, 194, 302, 735, 192,\n        747, 805,  79,  81,  80, 233, 516, 130, 822,  50,  28,  75, 725,\n        178, 177, 436, 338, 771, 553, 422, 344, 776, 207, 702,   6, 449,\n        216, 135,  24, 272, 477, 164, 816, 645, 460, 263, 128, 278, 339,\n        545, 154, 291, 210, 308, 374, 712, 254, 562, 695, 606, 574,  13,\n         10, 444, 485, 190, 405, 548,  66,   4, 260, 493, 255,  70,  37,\n        134, 429, 447,  20, 122,   5, 772, 632, 620,  35, 213,  22, 775,\n        203, 626,  91, 279, 277, 276, 275,  21,  33,  47, 340, 116, 102,\n         62, 187,  67,  38, 244, 705,  55, 336, 185, 322, 677, 441, 212,\n        741, 568, 133,  25, 101, 264, 665, 119,  65, 716, 217, 766, 222,\n        292, 293, 678, 416, 464, 756, 427, 364, 572, 104, 120, 373, 490,\n        141,  61, 613, 474, 797,  26, 723, 146, 159, 155, 236, 257, 458,\n        393,  71,   2, 688, 693, 193,  36, 238, 515, 639,  68, 208, 656,\n        148, 201,  58, 631,  11, 379, 554, 800, 371, 461, 815, 182,  82,\n        368, 362, 763, 384, 270,  14, 241, 242, 100,  23, 662, 732, 470,\n         60, 523,   9,   8, 607, 326, 402, 240, 740, 125, 567, 127, 526,\n        226, 499, 400, 330,  56,   7, 378, 542, 312, 321, 197, 795, 301,\n        564, 621, 126, 760,  29,  27, 274, 365, 728, 186, 179, 430, 151,\n        610, 680, 683, 455, 745, 289, 605, 117, 181, 232, 136, 808, 608,\n        706, 351, 590, 719, 425, 729, 432, 205, 711, 157, 160, 156, 417,\n        510, 354, 790, 107, 446, 395, 633, 624, 199, 387, 764, 667,  98,\n        145, 215, 316,  41,  44, 511,  31, 323, 491, 625, 142, 649, 262,\n        174, 644, 266, 858, 435, 423, 807, 851, 736, 115, 779, 198, 358,\n        440, 426, 218, 519, 250, 532, 478, 281, 318, 389,  39, 188, 332,\n        359, 720, 108, 315, 370, 386,  30, 739,   1, 169, 831, 298, 311,\n        521,  83, 540, 411, 290,   3, 204, 103, 408, 581, 518,  53, 793,\n        439, 538,  59, 390, 112, 787, 152,  87, 211, 566,  48,  45,  96,\n        305, 173, 246, 309, 252, 480, 314, 234, 366, 751, 531, 755, 139,\n         34,  32, 481, 502, 852, 372, 224, 506, 634, 296, 792, 385, 399,\n        230,  77, 512,  19,  49, 283, 583, 294,  57, 110, 642, 640,  63,\n        670, 268, 271, 571,  73,  78, 392, 517, 806, 375, 799,  76, 406,\n        742, 782, 596, 505, 327, 777, 287, 528, 743, 341, 546, 650, 143,\n        124, 380, 664, 334, 628,  17, 361, 658, 304, 269, 202, 396, 453,\n        619, 381,  18, 750, 717, 781, 438, 469, 653, 313, 442, 498, 600,\n        333, 524, 848, 671, 681, 452, 770, 646, 342, 544, 663, 666, 679,\n        118, 785, 105, 487, 558, 563, 267, 527, 457, 520, 245, 573, 356,\n        335, 860, 846, 501, 219, 445, 220, 410, 299, 209, 504, 794, 394,\n        854, 780, 824,  40, 462, 167, 733, 377, 551, 814, 353, 419, 483,\n        819, 580, 482, 355, 306, 454, 172, 578, 627, 636, 616, 352, 497,\n         43,  42, 418,  15, 433, 243, 227, 508, 817, 465,  52, 696, 451,\n        324, 803, 450, 239, 388, 617, 668, 833, 473, 827, 550, 689, 686,\n        731, 586, 761, 698, 752, 737, 749, 675, 637]),\n 133: array([19, 27, 33, 30, 29, 28, 26, 25, 34, 31, 32, 18, 22, 23, 21, 20, 24,\n        17, 16,  8,  9,  5,  7,  6,  4,  3, 10, 15, 11, 14, 13, 12,  2,  1,\n         0, 35, 36]),\n 134: array([11,  3,  6,  8, 12, 10,  4,  5,  7,  1, 13,  9,  2,  0]),\n 135: array([ 8, 10,  2,  6,  5,  3,  9,  1,  7,  0, 11, 12,  4, 13]),\n 136: array([ 6, 20, 19, 14, 15, 17, 13, 10, 11, 16, 12, 18,  7,  8,  9,  0,  4,\n         5,  3,  1,  2]),\n 137: array([11,  2, 17,  6,  8, 14,  9, 16,  7, 15, 10,  1, 12,  5,  4,  0, 13,\n         3]),\n 138: array([57, 39, 51, 42, 54, 56, 52, 53, 49, 38, 45, 40, 47, 43, 41, 46, 50,\n        44, 37, 48, 36, 35, 17, 18, 16, 34, 22, 26, 31, 27, 33, 32, 24, 29,\n        28, 25, 23, 19, 21, 30, 20, 58, 15, 68, 69, 70, 71, 72, 73, 75, 74,\n        14, 13, 12, 55, 63,  4,  5,  7,  9, 10, 11,  8,  6,  1,  2,  3,  0,\n        66, 65, 64, 61, 60, 59, 67, 62]),\n 139: array([45, 21, 44, 12, 43, 35, 36,  2,  9,  1, 38, 33, 28, 47, 15,  3, 41,\n        10,  0,  6, 22,  7, 25, 30, 16, 42, 46,  4, 13, 14, 24, 23, 17, 20,\n        40, 32, 19, 34, 29, 11, 27, 39, 26, 48, 50, 37, 49, 31,  5, 18,  8]),\n 140: array([155, 158, 159, 173, 168, 108, 160, 165,  71, 178, 164, 136, 166,\n        147, 132,  16,  11, 137, 179, 127,   3, 105, 161, 181, 112, 170,\n        139, 174,  34, 176, 113,  87, 163, 101,  93, 122, 111, 123, 120,\n        145,  94, 140,  49, 162, 130, 144,  77, 180, 169,  99, 175, 167,\n         28, 124, 146,  91,  64, 141, 157, 100,  56,  76,  60, 104,  79,\n        109,  90, 152,  50,  14, 131,  61,  63, 156,  39, 134,  68,  27,\n        148, 103, 117,  40,  96, 135, 107, 119,  53,  66,  58, 138,  47,\n        129,  21, 154,  62,  43,  20,   5, 149,  38, 126,  44, 125, 142,\n        116,  83, 110,  15, 106,  97,   0,  10,  92,  73,  12, 133,  86,\n         95,  55,  37, 114, 115, 172,  80,  81, 121,   4,   8,   7, 171,\n         48,  41,  84, 177,   2,  33,  51,  32,  52,  26,  89,  31,  88,\n        118,  13,  69,  57,  59,  65,  70,  42,  25,  75, 143,  54,  30,\n        128, 151,  18,   1,  98, 150,  23,  22,  74,  78,   9,  46,  72,\n         19,  36, 153,  17,  85,   6,  45,  82, 102,  35,  24,  29,  67]),\n 141: array([226, 230, 224, 234, 208, 227, 193, 216, 214, 231, 120, 107, 147,\n         82, 168,  97, 173, 187, 129,  69,  66, 136, 164,  40, 218,  99,\n         34, 105, 229,  74,  25,  73,  43, 177, 220,  77, 119,  88,  47,\n         21,  33,  50, 135,  51, 178,   0,  26, 174, 195, 165,  87,  13,\n         45,  23, 151, 137, 212, 183,  31, 211, 157, 202, 207,  52,  81,\n        233, 145,  91,  63,   8,   9,  55,  27,  90,  80,  24, 128, 189,\n         61,  18, 122, 118, 126, 121, 127, 116, 124, 117, 170,  20,   5,\n         28,  17,  76,  10, 221, 161,  39,   7, 111,  14,   3,   2,   4,\n         57,  19,  44,  22, 110, 115, 114, 113, 108, 109,  58,  83, 125,\n        172,   1, 213,  36,  96, 203, 215,  98,  53,   6,  35, 100,  56,\n        162,  72,  41,  42,  60, 210, 188,  94, 155, 225, 200,  29, 228,\n         68, 154,  16,  32, 144, 104, 101, 123,  93,  12, 199,  59, 223,\n         70,  38,  15,  54,  64,  62, 169,  46,  48, 209,  78,  11, 102,\n        217,  49, 103, 219, 201, 152,  37,  30, 149,  86, 206,  89, 191,\n        204, 197, 198, 192,  71, 153,  75, 196, 185, 181, 190,  65, 106,\n         79, 163, 180,  85,  92, 179,  95, 112, 140, 205, 176, 142, 148,\n        222, 182, 175, 132, 130, 194,  67, 134, 156, 159, 232, 166, 158,\n        143, 184, 167, 146, 160, 150, 171, 131, 141, 133, 138,  84, 186,\n        139]),\n 142: array([15, 17, 16, 11, 18, 12,  4, 10,  9, 13,  8,  5,  6,  7,  3,  1, 14,\n         0,  2]),\n 143: array([154, 153, 101, 149, 147, 126, 145, 100, 108, 117, 116, 118,  67,\n         80, 121,  99, 132,  98,  39, 111,  35, 141, 134,  87,  25,  24,\n        139, 150, 136,  43,  64, 135,  83,  60,  96, 143, 146, 152, 114,\n         38,  92, 113,  74, 123,  79,  41,  84, 148,  82, 129,  63, 105,\n        124, 106, 109,  32, 138,  89, 130,  62, 127,  44,  42,  22,  91,\n        107,  40,  37,  73,  81,  52, 137, 128,  29,  16, 115, 140, 112,\n        155,  27,  78,  77,  36,  48, 122, 120, 125, 142, 104,  12, 119,\n         76, 103,  86,  59,  93,  57,  10,  70,  45,  55,  69,  66, 102,\n        131,  28,  72,  18,  90,   3,  33,   6,  46,  61,  20,   2,  19,\n         54,  26,  75, 133,   4,   9,  49,  31,  13, 151,  50,  68,  95,\n         58,  15,  21, 144,   8,  94,  30,  53,  51,  11,   7, 110,  97,\n         47,  23,  17,  56,   1,  65,  71,  34,   5,   0,  88,  14,  85]),\n 144: array([264, 228, 173, 263, 242, 186, 243, 211, 189, 256, 109, 210, 250,\n        104, 217, 102, 177, 202, 187, 172, 233, 252, 237, 255, 135, 262,\n        218, 234, 118, 152, 136, 260, 148, 158, 174,  84, 244, 196, 120,\n        108, 112, 139,  24, 221, 195, 193, 235, 240, 150, 238, 126, 214,\n         88, 190,  97, 149, 122, 192, 261, 246, 170,  71, 132, 169, 128,\n        188, 117, 181, 222, 165, 137,  25, 239, 114, 111, 224,   3,  22,\n        182,  86,  55,  54, 123,   2, 227,  21,  95,  87, 167, 208, 236,\n         96, 215,  56,  80, 212,  94,  38,  74, 265,  98,  57, 113, 140,\n        230,  46,  49,  11, 251, 144, 175,  69, 141,  89, 249,  61, 194,\n        225, 259, 180, 201, 183,  40,  92, 231, 223, 205, 220, 145, 146,\n        161, 245, 131, 203,  26,  43, 138,  31, 125, 241,  39, 184,  83,\n         62, 216, 110, 206, 198,  15,  37,  18,  99,  14, 143, 129, 153,\n        191,  73,  13,  47,  29, 159, 127,  67,   7,  28,  81,  27, 107,\n        178, 147,  72, 209, 130,   8,   4, 154,  51,  52,  50,  59,  45,\n         66,  65, 257, 124,  20, 247,  30, 163,  68, 119, 162,  35, 219,\n         19, 266, 226, 100,  58,   5, 103, 248,  75, 258, 134, 166,  53,\n        160, 164,  85, 168,  70,  48, 133,  23,  36, 157,  79,  93,  17,\n        197,  41, 229, 213, 232,   0, 267, 176, 115, 200,  78,  60, 156,\n        199, 101,  12,  82,   1, 121,  64, 106, 155, 142, 204,  90,  91,\n        171,  34, 253, 105,   9, 179,  33,  10,   6, 116,  44,  42,  16,\n        151, 254,  76, 207,  77,  63, 185,  32]),\n 145: array([16, 14, 13, 17, 15, 21, 18, 12,  4, 22,  8, 20,  7,  9,  6,  0,  2,\n         1, 19, 11,  3, 10,  5]),\n 146: array([ 2,  5,  8,  7,  1, 12,  3, 10,  9, 13, 14,  4,  6, 11,  0]),\n 147: array([53, 45, 56, 35, 49, 32, 38, 20, 15, 37, 42,  3, 12,  8, 36, 33,  5,\n        24, 51, 44, 28, 31,  2, 21, 27, 39, 34, 26, 30, 25, 10, 19, 23,  4,\n        13,  6, 29,  7,  9, 40,  1, 58, 11, 18, 16, 22, 47, 48, 17, 46, 14,\n        41, 54, 55, 50,  0, 57, 52, 43]),\n 148: array([870, 804, 811, 678, 726, 622, 869, 856, 783, 455, 615, 872, 771,\n        776, 570, 854, 670, 750, 826, 584, 614, 723, 760, 831, 861, 785,\n        611, 858, 803, 740, 862, 737, 809, 839, 389, 661, 813, 621, 720,\n        875, 529, 846, 849, 788, 555, 834, 798, 818, 824, 799, 478, 415,\n        765, 860, 493, 859, 349, 624, 636, 630, 569, 752, 539, 436, 638,\n        619, 347, 827, 444, 651, 562, 542, 836, 421, 868, 346, 407, 422,\n        537, 814, 668, 775, 631, 722, 628, 837, 215, 663, 441, 853, 674,\n        320, 357, 763, 585, 525, 626, 314, 586, 526, 828, 845, 761, 755,\n        591, 659, 768, 579, 432, 653, 607, 107, 660, 705, 620, 634, 601,\n        817, 712, 481, 519, 832, 874,  86, 802, 577, 794, 667, 751, 484,\n        442, 789, 797, 815, 692, 281, 328, 524, 480, 446, 356, 128, 599,\n        848, 336, 413, 520, 548, 462,  45, 457, 485, 696, 847, 317, 800,\n        557, 564, 833, 452, 758, 366, 136, 274, 627, 724, 554, 717, 746,\n        510, 578, 518, 263, 559, 871, 209, 138, 604, 374, 675, 635, 873,\n        490, 465, 321, 536, 111, 448, 657, 842,  92, 395, 568, 240, 238,\n        189, 731, 165, 285, 174, 810, 486,  84, 662, 505, 399, 664,   2,\n        392, 185, 739, 179, 190, 764, 365, 450, 805, 502, 449, 252, 172,\n         67, 273, 632, 470, 534, 208, 565, 113, 616, 491, 489, 718, 231,\n         12, 118, 535, 589, 580, 245, 682, 440, 738, 397, 541, 254,  72,\n        177, 369, 382, 193, 428, 159,  57, 777, 553,   7, 280, 384, 147,\n         16, 753, 850, 386, 558, 291, 791, 383, 423, 434, 180, 544, 200,\n        835, 822, 219, 210, 593, 609, 689, 504, 590, 178,  18, 211, 552,\n        707, 140, 246, 610, 288, 329,  98,  74, 781, 191, 549, 757, 411,\n        224,  25, 310, 325, 156, 205, 133, 184, 608, 119,  19,  20,  94,\n        101, 844, 867, 795, 410, 855, 316, 162, 261, 769, 645, 779, 315,\n         80,  79, 445, 603, 339, 513, 463, 264, 646, 333, 287, 473, 207,\n        301, 528, 279, 438, 293, 286, 464,  85, 268, 406,  54, 149, 348,\n        283, 249,  41, 292, 582,  76, 819, 330, 571, 216, 475, 496, 166,\n        114, 250, 466, 431, 377, 729, 306, 108, 253, 121, 342, 370, 375,\n        143, 716, 157, 467, 547, 187, 673, 650, 388, 294, 447, 196,  49,\n         51, 517, 396, 151, 153, 305, 500, 183, 581, 194, 459, 693, 228,\n        361, 269, 587, 232, 390, 109, 671, 160, 272,  50, 472, 337, 345,\n        204,  62, 403, 843, 772, 163, 137, 597, 572, 170, 574, 308, 435,\n        474, 531, 830, 676, 299, 711, 598, 787, 749, 364, 373, 202, 144,\n         71,  14, 704, 767,  38, 743,  95,  39, 583, 127, 412,  36, 773,\n        223, 225, 606, 592, 499, 617, 533, 167, 124, 257, 244, 747,  69,\n        350, 206, 573, 171, 150, 226, 132, 303, 477, 694, 625, 146, 363,\n        469, 275, 105, 605, 698, 376, 516, 175, 762,   1, 218, 247, 282,\n        416, 116, 173, 398, 647, 227, 142,  27, 295,  70, 100,  52, 344,\n        451, 110, 213,  56, 304, 456, 494, 141, 391, 148, 495, 430, 217,\n         82, 358, 169,   6,  29,  28, 255, 546, 266, 596, 385, 296, 468,\n         11, 379, 199, 260, 437, 700, 155,  61,  78, 394, 265, 393, 134,\n        551,  93,  42, 267, 780,  58, 242,  55, 808, 351, 182, 233, 125,\n         65,  64, 214,  26, 681, 338, 487, 623, 613, 400,  73, 259, 276,\n        360, 300, 866, 405, 378, 713,  34, 770,  53, 420, 341, 460, 235,\n        258, 820, 188, 318, 488, 618, 139, 429, 290, 433, 181,  15, 126,\n        784, 522, 229, 497,   9, 782,  60, 243,  77,  68, 401, 201, 198,\n        774,  31, 532, 332,   8, 327, 594, 417, 192, 439, 367,  17, 237,\n        454, 104, 479, 677,  91,  30,  35, 120, 221, 123, 362, 241,  46,\n         97, 106, 277,  33, 443,  44, 312, 588, 695, 575, 576, 168, 309,\n        164, 154, 197,  81, 812, 851, 709,  21, 807, 506, 343, 684, 649,\n        523, 566, 161, 372, 658, 340, 476,  37, 404, 284,  96, 414, 427,\n        371, 380, 527, 195,  87, 503, 471, 289,  48, 271,  47, 230, 115,\n        766,  99, 728, 852, 732, 319, 560,  24,  23, 220, 699, 857, 251,\n        409,   0, 129, 545, 112, 158, 792, 672, 152, 825, 298,  89, 352,\n         10, 222, 354, 806, 307, 507, 540, 530, 482, 117, 102, 633, 302,\n          3,  43, 453, 103, 131, 387, 511, 322, 710, 278, 602,   4, 563,\n        418,   5, 313,  32,  40, 793, 130, 326,  22,  13, 735, 556, 865,\n        863, 135, 509, 652, 425,  63, 355, 335, 595,  75,  83, 629, 642,\n        665, 655, 706, 685,  66, 359, 644, 408, 311, 323, 270, 501, 639,\n        829, 368, 402, 458, 331, 786, 514, 515, 550, 297, 790, 521, 334,\n        640, 512, 492, 567, 801, 324, 796, 686, 262, 508, 734, 714, 715,\n        756, 748, 745, 725, 744, 741, 727, 419, 248, 353, 424, 561, 759,\n        236, 381, 176, 821, 708, 703, 702, 687, 688, 690, 256,  88,  90,\n        426, 656, 212,  59, 600, 145, 483, 864, 612, 778, 543, 498, 234,\n        679, 840, 461, 538, 701, 239, 186, 666, 838, 680, 203, 721, 641,\n        643, 654, 754, 823, 697, 122, 730, 719, 742, 736, 733, 691, 683,\n        669, 648, 637, 816, 841]),\n 149: array([234, 216, 199,  71, 209, 226, 225, 201, 217,  75, 191,  92, 231,\n        131, 113,  93,  89, 240, 152, 163,  40, 139,  43, 145, 215,  52,\n        105,  69, 123, 146, 237, 147, 184, 220,  53, 142,  30,  22,  21,\n        128, 135,  31,  36,  72,  44, 150, 236, 121,  85,  50, 233, 118,\n         83, 159, 235,  28, 134, 181,  24,  11,  54, 108,  64, 101,  14,\n        164, 115,  56,  82,  15,  41, 117, 166, 171, 224,  49, 154,  58,\n         39, 206,  60,  90,  67, 178,  96, 161,  51,  19,  91, 211, 190,\n         73, 158, 221,   4,  55,  10, 157, 203,   6,   3,  59,  74, 200,\n         70,   1,   0, 183, 169,  84,  95, 196, 133,  66, 120, 208,  98,\n        198,  79, 227, 239,  27, 212,   7, 162, 232,  34,  38, 176, 177,\n        106,  26,  20,  46,  80, 136,  87,  35, 122, 228, 124, 222, 218,\n         88,  62,  23,  68,  17,  18, 188, 173, 207,  94, 182, 186, 187,\n        174, 172, 170, 168, 165,   2, 109,  42, 110, 126, 104,  45, 100,\n        175, 204, 229, 132, 141, 149, 156, 155,  47,  76, 111, 210, 185,\n          9,   8,  37, 151, 205, 119,   5,  29,  65, 179, 130, 148,  13,\n        167, 129, 197, 238,  16, 193,  78,  33, 125, 143,  12,  77,  57,\n        180, 103, 137, 127, 194,  32, 160,  25, 116, 202, 219, 189,  48,\n        153, 223,  81,  61,  63, 144,  86, 114, 140,  99, 107, 112, 214,\n        230, 102,  97, 138, 192, 195, 213])}"
     },
     "execution_count": 59,
     "metadata": {},
     "output_type": "execute_result"
    }
   ],
   "source": [
    "reordering.clusters_sol"
   ],
   "metadata": {
    "collapsed": false,
    "ExecuteTime": {
     "end_time": "2023-08-31T15:20:23.652880542Z",
     "start_time": "2023-08-31T15:20:23.483311623Z"
    }
   },
   "id": "c6093467077b7f9b"
  },
  {
   "cell_type": "code",
   "execution_count": 60,
   "outputs": [
    {
     "name": "stdout",
     "output_type": "stream",
     "text": [
      "INFO: Saving order \n",
      "I/O: Directory /home/sebaq/Documents/GitHub/IR_project/dataset/tiny already exists \n",
      "I/O: Overwriting /home/sebaq/Documents/GitHub/IR_project/dataset/tiny/order.json \n"
     ]
    }
   ],
   "source": [
    "reordering.save_order()"
   ],
   "metadata": {
    "collapsed": false,
    "ExecuteTime": {
     "end_time": "2023-08-31T15:20:24.577715590Z",
     "start_time": "2023-08-31T15:20:24.492507951Z"
    }
   },
   "id": "699b490d7ef813b"
  },
  {
   "cell_type": "code",
   "execution_count": 61,
   "outputs": [
    {
     "name": "stdout",
     "output_type": "stream",
     "text": [
      "INFO: Try to retrieve medoids info from disk\n",
      "I/O: Loading /home/sebaq/Documents/GitHub/IR_project/dataset/tiny/medoids.npy. \n"
     ]
    }
   ],
   "source": [
    "original_cluster = CollectionClusters(mat=collection.data, labels=labels, data_name=config.name)"
   ],
   "metadata": {
    "collapsed": false,
    "ExecuteTime": {
     "end_time": "2023-08-31T15:20:25.364675716Z",
     "start_time": "2023-08-31T15:20:25.239287399Z"
    }
   },
   "id": "b008999c1bfd2d7e"
  },
  {
   "cell_type": "code",
   "execution_count": 62,
   "outputs": [],
   "source": [
    "from model.docid_reassignment import DocIdReassignment\n",
    "\n",
    "reass = DocIdReassignment(cluster=original_cluster, medoid_order=reordering.medoids_sol, clusters_order=reordering.clusters_sol)"
   ],
   "metadata": {
    "collapsed": false,
    "ExecuteTime": {
     "end_time": "2023-08-31T15:20:26.030197966Z",
     "start_time": "2023-08-31T15:20:25.968343090Z"
    }
   },
   "id": "aaeb1a81441d2a84"
  },
  {
   "cell_type": "code",
   "execution_count": 66,
   "outputs": [
    {
     "ename": "TypeError",
     "evalue": "only integer scalar arrays can be converted to a scalar index",
     "output_type": "error",
     "traceback": [
      "\u001B[0;31m---------------------------------------------------------------------------\u001B[0m",
      "\u001B[0;31mTypeError\u001B[0m                                 Traceback (most recent call last)",
      "Cell \u001B[0;32mIn[66], line 1\u001B[0m\n\u001B[0;32m----> 1\u001B[0m ordered \u001B[38;5;241m=\u001B[39m \u001B[43mreass\u001B[49m\u001B[38;5;241;43m.\u001B[39;49m\u001B[43mreordered\u001B[49m\u001B[43m(\u001B[49m\u001B[43m)\u001B[49m\n",
      "File \u001B[0;32m~/Documents/GitHub/IR_project/model/docid_reassignment.py:136\u001B[0m, in \u001B[0;36mDocIdReassignment.reordered\u001B[0;34m(self)\u001B[0m\n\u001B[1;32m    129\u001B[0m n_cluster \u001B[38;5;241m=\u001B[39m \u001B[38;5;28mself\u001B[39m\u001B[38;5;241m.\u001B[39m_cluster\u001B[38;5;241m.\u001B[39mn_cluster\n\u001B[1;32m    131\u001B[0m clusters_reordered \u001B[38;5;241m=\u001B[39m [\n\u001B[1;32m    132\u001B[0m     \u001B[38;5;28mself\u001B[39m\u001B[38;5;241m.\u001B[39m_cluster[i\u001B[38;5;241m+\u001B[39m\u001B[38;5;241m1\u001B[39m][\u001B[38;5;28mself\u001B[39m\u001B[38;5;241m.\u001B[39m_clusters_order[i\u001B[38;5;241m+\u001B[39m\u001B[38;5;241m1\u001B[39m]]\n\u001B[1;32m    133\u001B[0m     \u001B[38;5;28;01mfor\u001B[39;00m i \u001B[38;5;129;01min\u001B[39;00m \u001B[38;5;28mrange\u001B[39m(n_cluster)\n\u001B[1;32m    134\u001B[0m ]\n\u001B[0;32m--> 136\u001B[0m medoids_reordered \u001B[38;5;241m=\u001B[39m \u001B[43mclusters_reordered\u001B[49m\u001B[43m[\u001B[49m\u001B[38;5;28;43mself\u001B[39;49m\u001B[38;5;241;43m.\u001B[39;49m\u001B[43m_medoid_order\u001B[49m\u001B[43m]\u001B[49m\n\u001B[1;32m    138\u001B[0m \u001B[38;5;28;01mreturn\u001B[39;00m medoids_reordered\n",
      "\u001B[0;31mTypeError\u001B[0m: only integer scalar arrays can be converted to a scalar index"
     ]
    }
   ],
   "source": [
    "ordered = reass.reordered()"
   ],
   "metadata": {
    "collapsed": false,
    "ExecuteTime": {
     "end_time": "2023-08-31T15:21:37.091101266Z",
     "start_time": "2023-08-31T15:21:36.757178859Z"
    }
   },
   "id": "b9d8103684743125"
  },
  {
   "cell_type": "code",
   "execution_count": 73,
   "outputs": [],
   "source": [
    "n_cluster = original_cluster.n_cluster\n",
    "\n",
    "clusters_reordered = [\n",
    "    original_cluster[i][reordering.clusters_sol[i]]\n",
    "    for i in range(n_cluster)\n",
    "]"
   ],
   "metadata": {
    "collapsed": false,
    "ExecuteTime": {
     "end_time": "2023-08-31T15:24:10.861123040Z",
     "start_time": "2023-08-31T15:24:10.772246185Z"
    }
   },
   "id": "dece26d8a238fffe"
  },
  {
   "cell_type": "code",
   "execution_count": 86,
   "outputs": [],
   "source": [
    "medoids_reordered =  [clusters_reordered[i] for i in reordering.medoids_sol]"
   ],
   "metadata": {
    "collapsed": false,
    "ExecuteTime": {
     "end_time": "2023-08-31T15:26:52.047956905Z",
     "start_time": "2023-08-31T15:26:51.946923919Z"
    }
   },
   "id": "852e8ef2cc1228ec"
  },
  {
   "cell_type": "code",
   "execution_count": 91,
   "outputs": [],
   "source": [
    "from scipy.sparse import vstack\n",
    "\n",
    "mat = vstack(medoids_reordered)"
   ],
   "metadata": {
    "collapsed": false,
    "ExecuteTime": {
     "end_time": "2023-08-31T15:32:03.628983235Z",
     "start_time": "2023-08-31T15:32:03.505634763Z"
    }
   },
   "id": "39f3a3d5149b06c"
  },
  {
   "cell_type": "code",
   "execution_count": 92,
   "outputs": [
    {
     "data": {
      "text/plain": "<50000x14980 sparse matrix of type '<class 'numpy.float64'>'\n\twith 1314210 stored elements in Compressed Sparse Row format>"
     },
     "execution_count": 92,
     "metadata": {},
     "output_type": "execute_result"
    }
   ],
   "source": [
    "mat"
   ],
   "metadata": {
    "collapsed": false,
    "ExecuteTime": {
     "end_time": "2023-08-31T15:32:05.114043891Z",
     "start_time": "2023-08-31T15:32:05.019101760Z"
    }
   },
   "id": "9dc53ad9226226a3"
  },
  {
   "cell_type": "code",
   "execution_count": 94,
   "outputs": [],
   "source": [
    "from model.dataset import DataCollection\n",
    "\n",
    "new_one = DataCollection(mat=mat)"
   ],
   "metadata": {
    "collapsed": false,
    "ExecuteTime": {
     "end_time": "2023-08-31T15:32:45.875549845Z",
     "start_time": "2023-08-31T15:32:45.786857212Z"
    }
   },
   "id": "e8945bdfa2eb439e"
  },
  {
   "cell_type": "code",
   "execution_count": 95,
   "outputs": [
    {
     "name": "stdout",
     "output_type": "stream",
     "text": [
      "INFO: Try to retrieve gaps info from disk\n",
      "INFO: Information is not available, need to be computed\n"
     ]
    }
   ],
   "source": [
    "new_gap = DGapComputation(collection=new_one, data_name='aaa')"
   ],
   "metadata": {
    "collapsed": false,
    "ExecuteTime": {
     "end_time": "2023-08-31T15:33:30.861710187Z",
     "start_time": "2023-08-31T15:33:30.742814587Z"
    }
   },
   "id": "1160c29eb20b0dd1"
  },
  {
   "cell_type": "code",
   "execution_count": 96,
   "outputs": [
    {
     "name": "stdout",
     "output_type": "stream",
     "text": [
      "INFO: Computing gaps per term\n"
     ]
    },
    {
     "name": "stderr",
     "output_type": "stream",
     "text": [
      "100%|██████████| 50000/50000 [00:03<00:00, 14886.09it/s]\n"
     ]
    },
    {
     "data": {
      "text/plain": "{'tot_d_gap_pterm': array([167968, 164248, 162480, ...,     88,     88,     88]),\n 'avg_d_gap_pterm': array([12.442, 13.282, 13.339, ..., 88.   , 88.   , 88.   ]),\n 'max_d_gap_pterm': array([48, 48, 48, ..., 88, 88, 88]),\n 'tot_d_gap': 34127640,\n 'avg_d_gap': 62.727,\n 'max_d_gap': 88}"
     },
     "execution_count": 96,
     "metadata": {},
     "output_type": "execute_result"
    }
   ],
   "source": [
    "new_gap.gaps_stats"
   ],
   "metadata": {
    "collapsed": false,
    "ExecuteTime": {
     "end_time": "2023-08-31T15:33:41.549157264Z",
     "start_time": "2023-08-31T15:33:38.104685988Z"
    }
   },
   "id": "5e848d9938492b16"
  },
  {
   "cell_type": "code",
   "execution_count": null,
   "outputs": [],
   "source": [],
   "metadata": {
    "collapsed": false
   },
   "id": "37290227d82b65a0"
  }
 ],
 "metadata": {
  "kernelspec": {
   "display_name": "Python 3",
   "language": "python",
   "name": "python3"
  },
  "language_info": {
   "codemirror_mode": {
    "name": "ipython",
    "version": 2
   },
   "file_extension": ".py",
   "mimetype": "text/x-python",
   "name": "python",
   "nbconvert_exporter": "python",
   "pygments_lexer": "ipython2",
   "version": "2.7.6"
  }
 },
 "nbformat": 4,
 "nbformat_minor": 5
}
